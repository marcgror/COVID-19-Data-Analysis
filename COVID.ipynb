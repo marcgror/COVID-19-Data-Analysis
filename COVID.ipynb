{
 "cells": [
  {
   "cell_type": "markdown",
   "metadata": {},
   "source": [
    "Versión renderizada e interactiva: https://nbviewer.jupyter.org/github/marcgror/COVID-19-Data-Analysis/blob/master/COVID.ipynb"
   ]
  },
  {
   "cell_type": "markdown",
   "metadata": {},
   "source": [
    "# Análisis de los datos del COVID-19 en España\n",
    "2020 será siempre recordado como el año de la pandemia de COVID-19. España ha sido y es uno de los países más afectados, tanto en la primera ola en marzo como en la siguiente en setiembre.\n",
    "\n",
    "Para analizar la situación, a nivel nacional, autonómico y provincial, se usarán los datos proporcionados por el Ministerio de Sanidad."
   ]
  },
  {
   "cell_type": "code",
   "execution_count": 26,
   "metadata": {},
   "outputs": [],
   "source": [
    "# Import required packages\n",
    "import pandas as pd\n",
    "import numpy as np \n",
    "import matplotlib.pyplot as plt\n",
    "import seaborn as sns\n",
    "import plotly.graph_objects as go\n",
    "import plotly.express as px\n",
    "from plotly.subplots import make_subplots\n",
    "from ipywidgets import widgets\n",
    "import matplotlib.dates as mdates\n",
    "import chart_studio.plotly as py\n",
    "import chart_studio.tools as tls\n",
    "sns.set_style(style=\"darkgrid\")\n",
    "from datawrapper import Datawrapper"
   ]
  },
  {
   "cell_type": "code",
   "execution_count": 27,
   "metadata": {},
   "outputs": [],
   "source": [
    "from funciones import create_interactive_plot"
   ]
  },
  {
   "cell_type": "code",
   "execution_count": 28,
   "metadata": {},
   "outputs": [],
   "source": [
    "# Load each data file from the repository\n",
    "ccaa = pd.read_csv('ccaa.csv', parse_dates=True)\n",
    "#provincias = pd.read_csv('https://raw.githubusercontent.com/montera34/escovid19data/master/data/output/covid19-provincias-spain_consolidated.csv')\n",
    "spain = pd.read_csv('spain.csv', parse_dates=True)"
   ]
  },
  {
   "cell_type": "markdown",
   "metadata": {},
   "source": [
    "# España "
   ]
  },
  {
   "cell_type": "markdown",
   "metadata": {},
   "source": [
    "## Métodos de diagnóstico del COVID-19\n",
    "En España, el COVID se está detectando principalmente usando las pruebas de PCR y test de anticuerpos, a parte de otras pruebas como el test de antígenos.\n",
    "\n",
    "La prueba PCR (Polimerasa Chain Reaction) es una prueba de diagnóstico utilizada para detectar fragmentos del material genético de un patógeno. En este caso en concreto, el patógeno se corresponde con el virus SARS-CoV-2. La idea es sencilla: se toma una muestra respiratoria de la persona sospechosa de infección, y se analiza en un laboratorio de microbiología con un PCR en busca de una molécula de ARN del virus. El positivo vendría cuando la prueba detecta ese ARN del virus, mientras será negativo en caso contrario.\n",
    "\n",
    "Actualmente se dispone tanto de datos de contagiados diagnosticados con PCR como de diagnosticados con otros tipos de prueba, como puede ser el test de anticuerpos o de antígenos.\n",
    "\n",
    "El siguiente gráfico muestra la contribución en porcentaje de cada tipo de prueba. Como es obvio, más de un 90 % de las detecciones de contagiados son gracias a PCR."
   ]
  },
  {
   "cell_type": "code",
   "execution_count": 29,
   "metadata": {},
   "outputs": [
    {
     "output_type": "execute_result",
     "data": {
      "text/plain": [
       "<IPython.lib.display.IFrame at 0x208d99c0cc8>"
      ],
      "text/html": "\n        <iframe\n            width=\"500px\"\n            height=\"525px\"\n            src=\"https://plotly.com/~marcgror/44.embed\"\n            frameborder=\"0\"\n            allowfullscreen\n        ></iframe>\n        "
     },
     "metadata": {},
     "execution_count": 29
    }
   ],
   "source": [
    "labels = ['PCR', 'Test AC', 'Otras', 'Desconocida']\n",
    "values = list(spain[['num_casos_prueba_pcr', 'num_casos_prueba_test_ac', 'num_casos_prueba_otras', 'num_casos_prueba_desconocida']].sum())\n",
    "fig = go.Figure(data=[go.Pie(labels=labels, values=values, hole=0.3)], layout=dict(title='Contribución de cada método de detección', width=500))\n",
    "py.iplot(fig, filename='Test Pie Chart')"
   ]
  },
  {
   "cell_type": "markdown",
   "metadata": {},
   "source": [
    "## Evolución de los contagios\n",
    "En la siguiente tabla se muestran los casos diarios, acumulados, el incremento diario, en los últimos 7 y 14 días, la media de casos en los últimos 7 y 14 días, la incidéncia acumulada en los últimos 7 y 14 días y la acumulada para los últimos 10 días a nivel nacional:"
   ]
  },
  {
   "cell_type": "code",
   "execution_count": 30,
   "metadata": {},
   "outputs": [
    {
     "output_type": "execute_result",
     "data": {
      "text/plain": [
       "<IPython.lib.display.IFrame at 0x208dac5d988>"
      ],
      "text/html": "\n        <iframe\n            width=\"1200px\"\n            height=\"500px\"\n            src=\"https://plotly.com/~marcgror/50.embed\"\n            frameborder=\"0\"\n            allowfullscreen\n        ></iframe>\n        "
     },
     "metadata": {},
     "execution_count": 30
    }
   ],
   "source": [
    "fig = go.Figure(data=[go.Table(\n",
    "    columnwidth=[100, 90, 90, 180, 100, 120, 140, 140, 100, 100, 100],\n",
    "    header=dict(values=list(['Fecha', 'Casos nuevos', 'Casos totales', 'Incremento de casos', 'Casos 7 días', 'Casos 14 días', 'Media casos 7 días', 'Media casos 14 días', 'IA 7 días', 'IA 14 días', 'IA total']),\n",
    "                fill_color='rgb(124,124,124)',\n",
    "                align='center', font=dict(color='white')),\n",
    "    cells=dict(values=spain[['fecha', 'num_casos', 'cases_accumulated', 'cases_inc', 'cases_7_days', 'cases_14_days', 'avg_cases_7_days', 'avg_cases_14_days', 'ia_100000_week', 'ia_100000_2week', 'ia_accumulated']].tail(10).transpose().values.tolist(),\n",
    "               fill_color='rgb(179, 179, 179)',\n",
    "               align='center', height=25))\n",
    "])\n",
    "fig.update_layout(width=1200, height=500, title='Datos de contagios para los últimos 10 días')\n",
    "py.iplot(fig, filename='Infected table')"
   ]
  },
  {
   "cell_type": "markdown",
   "metadata": {},
   "source": [
    "La curva de contagiados en España desde el inicio de la pandémia se muestra a continuación:"
   ]
  },
  {
   "cell_type": "code",
   "execution_count": 31,
   "metadata": {
    "tags": []
   },
   "outputs": [
    {
     "output_type": "execute_result",
     "data": {
      "text/plain": [
       "<IPython.lib.display.IFrame at 0x208da4e0908>"
      ],
      "text/html": "\n        <iframe\n            width=\"1200px\"\n            height=\"525px\"\n            src=\"https://plotly.com/~marcgror/52.embed\"\n            frameborder=\"0\"\n            allowfullscreen\n        ></iframe>\n        "
     },
     "metadata": {},
     "execution_count": 31
    }
   ],
   "source": [
    "fig = go.Figure()\n",
    "#fig.add_trace(go.Bar(x=spain['fecha'], y=spain['num_casos_prueba_pcr'], name= 'Nuevos PCR'))\n",
    "fig.add_trace(go.Bar(x=spain['fecha'], y=spain['num_casos'], name='Nuevos casos'))\n",
    "fig.add_trace(go.Scatter(x=spain['fecha'], y=spain['avg_cases_7_days'], name='Media de 7 días'))\n",
    "fig.update_layout(legend=dict(orientation='h', bgcolor='LightSteelBlue'), width=1200, title='Casos diarios desde el inicio de la pandémia')\n",
    "fig.add_vrect(x0='2020-03-14', x1='2020-06-21', y1=100, line_width=0, fillcolor='grey', opacity=0.2)\n",
    "fig.add_annotation(text='Primer Estado Alarma', hovertext='Periodo de declaración del primer Estado de Alarma de la pandémia', x='2020-04-24', y=19000, showarrow=False)\n",
    "fig.add_vline(x='2020-10-25', line_dash='dash', line_color='red')\n",
    "fig.add_annotation(text='', hovertext='Declaración del segundo Estado de Alarma Nacional de la pandemia', x='2020-10-25', y=19000, showarrow=True)\n",
    "py.iplot(fig, filename='Daily infected')"
   ]
  },
  {
   "cell_type": "markdown",
   "metadata": {},
   "source": [
    "Las dos olas se pueden diferenciar claramente. Los efectos del confinamiento, desescalada y fin del Estado de Alarma son también evidentes, ya que el número de contagios diarios decae a mínimos practicamente hasta principios de julio, fruto del parón social y laboral del país. Es entonces cuando empiezan a aumentar los nuevos positivos, seguramente porque la \"Nueva Normalidad\" lleva vigente 1-2 semanas en toda España, y por lo tanto la población empieza poco a poco a interactuar de nuevo. El hecho de que esta vuelta a la socialización y al trabajo se diera en verano seguramente no ayuda tampoco."
   ]
  },
  {
   "cell_type": "markdown",
   "metadata": {},
   "source": [
    "Si nos fijamos en los positivos acumulados, las tendencias son prácticamente las mismas, como es lógico:"
   ]
  },
  {
   "cell_type": "code",
   "execution_count": 32,
   "metadata": {},
   "outputs": [
    {
     "output_type": "execute_result",
     "data": {
      "text/plain": [
       "<IPython.lib.display.IFrame at 0x208da986188>"
      ],
      "text/html": "\n        <iframe\n            width=\"1200px\"\n            height=\"525px\"\n            src=\"https://plotly.com/~marcgror/62.embed\"\n            frameborder=\"0\"\n            allowfullscreen\n        ></iframe>\n        "
     },
     "metadata": {},
     "execution_count": 32
    }
   ],
   "source": [
    "fig = go.Figure(data=[go.Bar(x=spain['fecha'], y=spain['cases_accumulated'])], layout=go.Layout(title=go.layout.Title(text='Casos PCR acumulados desde el inicio de la pandémia')))\n",
    "fig.add_vrect(x0='2020-03-14', x1='2020-06-21', y1=1400000, line_width=0, fillcolor='grey', opacity=0.2)\n",
    "fig.add_annotation(text='Primer Estado Alarma', hovertext='Periodo de declaración del primer Estado de Alarma de la pandémia', x='2020-04-24', y=1200000, showarrow=False)\n",
    "fig.update_layout(width=1200)\n",
    "py.iplot(fig, filename='Infected accumulated')"
   ]
  },
  {
   "cell_type": "markdown",
   "metadata": {},
   "source": [
    "Otros indicadores útiles para valorar el estado actual de la pandemia son el número de positivos hospitalizados, en la UCI y recuperados. Como se puede observar, en el peor momento de la primera ola (finales de marzo-mayo) es cuando se produjo el mayor número de personas hospitalizadas o en la UCI, mientras que los recuperados iban aumentando a medida que pasaba las semanas. Durante el inicio del verano los ingresados disminuyen, fruto del descenso de los contagios debido al confinamiento y la desescalada. Una vez llega Agosto, se empiezan a notar los efectos de la \"nueva normalidad\", y los hospitalizados e ingresados en UCI por COVID empiezan a aumentar de nuevo.\n",
    "\n",
    "Durante todo este tiempo, las cifras de recuperados no hacen más que aumentar, debido seguramente al gran número de personas infectadas con anterioridad."
   ]
  },
  {
   "cell_type": "markdown",
   "metadata": {},
   "source": [
    "### Incidéncia acumulada\n",
    "La incidéncia acumulada (IA) es una forma de medir el impacto de la pandémia en cada territorio teniendo en cuenta su población. Por lo tanto, permite comparar valores entre distintas regiones/paises y establecer valores máximos que, una vez superados, exijan aplicar medidas de restricción de movilidad.\n",
    "\n",
    "La evolución de la IA en 7 y 14 días durante toda la pandémia se muestra a continuación:"
   ]
  },
  {
   "cell_type": "code",
   "execution_count": 33,
   "metadata": {},
   "outputs": [
    {
     "output_type": "execute_result",
     "data": {
      "text/plain": [
       "<IPython.lib.display.IFrame at 0x208dab8efc8>"
      ],
      "text/html": "\n        <iframe\n            width=\"1200px\"\n            height=\"525px\"\n            src=\"https://plotly.com/~marcgror/54.embed\"\n            frameborder=\"0\"\n            allowfullscreen\n        ></iframe>\n        "
     },
     "metadata": {},
     "execution_count": 33
    }
   ],
   "source": [
    "fig = go.Figure(data=[go.Scatter(x=spain['fecha'], y=spain['ia_100000_2week'], mode='lines', name='IA 14 días')], layout=go.Layout(title=go.layout.Title(text='Incidencia acumulada')))\n",
    "fig.add_trace(go.Scatter(x=spain['fecha'], y=spain['ia_100000_week'], mode='lines', name='IA 7 días'))\n",
    "fig.add_vrect(x0='2020-03-14', x1='2020-06-21', y1=580, line_width=0, fillcolor='grey', opacity=0.2)\n",
    "fig.add_annotation(text='Primer Estado Alarma', hovertext='Periodo de declaración del primer Estado de Alarma de la pandémia', x='2020-04-24', y=530, showarrow=False)\n",
    "fig.update_layout(width=1200, legend=dict(orientation='h', bgcolor='LightSteelBlue'))\n",
    "py.iplot(fig, filename='IA 7 vs IA 14')"
   ]
  },
  {
   "cell_type": "markdown",
   "metadata": {},
   "source": [
    "Se observa una tendéncia similar a la curva de contágios."
   ]
  },
  {
   "cell_type": "markdown",
   "metadata": {},
   "source": [
    "## Fallecidos"
   ]
  },
  {
   "cell_type": "code",
   "execution_count": 34,
   "metadata": {},
   "outputs": [
    {
     "output_type": "execute_result",
     "data": {
      "text/plain": [
       "<IPython.lib.display.IFrame at 0x208dac41948>"
      ],
      "text/html": "\n        <iframe\n            width=\"1500px\"\n            height=\"500px\"\n            src=\"https://plotly.com/~marcgror/337.embed\"\n            frameborder=\"0\"\n            allowfullscreen\n        ></iframe>\n        "
     },
     "metadata": {},
     "execution_count": 34
    }
   ],
   "source": [
    "fig = go.Figure(data=[go.Table(\n",
    "    columnwidth=[100, 180, 180, 250, 180, 180, 200, 200, 200, 250],\n",
    "    header=dict(values=list(['Fecha', 'Nuevos fallecidos', 'Fallecidos totales', 'Incremento de fallecidos (%)', 'Última semana', 'Últimos 14 días', 'Media fallecidos 3 días', 'Media fallecidos 7 días', 'Por 100000 habitantes', 'Por 1M hab. en la última semana']),\n",
    "                fill_color='rgb(124,124,124)',\n",
    "                align='center', font=dict(color='white')),\n",
    "    cells=dict(values=spain[['fecha', 'deceased', 'deceased_accumulated', 'deceased_inc', 'deaths_7_days', 'deaths_14_days', 'avg_deaths_3_days', 'avg_deaths_7_days', 'deceased_per_100000', 'deaths_7_days_1M']].tail(10).transpose().values.tolist(),\n",
    "               fill_color='rgb(179, 179, 179)',\n",
    "               align='center', height=25))\n",
    "])\n",
    "fig.update_layout(width=1500, height=500, title='Datos de fallecidos para los últimos 10 días')\n",
    "py.iplot(fig, filename='deceased table')"
   ]
  },
  {
   "cell_type": "markdown",
   "metadata": {},
   "source": [
    "El siguiente paso es el número de fallecidos. A continuación se muestra la evolución del número de fallecidos diario diagnosticados con COVID desde el inicio de la pandémia:"
   ]
  },
  {
   "cell_type": "code",
   "execution_count": 35,
   "metadata": {},
   "outputs": [
    {
     "output_type": "execute_result",
     "data": {
      "text/plain": [
       "<IPython.lib.display.IFrame at 0x208dab96f08>"
      ],
      "text/html": "\n        <iframe\n            width=\"1200px\"\n            height=\"525px\"\n            src=\"https://plotly.com/~marcgror/65.embed\"\n            frameborder=\"0\"\n            allowfullscreen\n        ></iframe>\n        "
     },
     "metadata": {},
     "execution_count": 35
    }
   ],
   "source": [
    "fig = go.Figure(data=[go.Bar(x=spain['fecha'], y=spain['deceased'], name='Fallecidos diarios')], layout=go.Layout(title=go.layout.Title(text='Fallecimientos diarios desde el inicio de la pandémia')))\n",
    "fig.add_trace(go.Scatter(x=spain['fecha'], y=spain['avg_deaths_7_days'], name='Media de 7 días'))\n",
    "fig.update_yaxes(range=[0,1000])\n",
    "fig.add_vrect(x0='2020-03-14', x1='2020-06-21', y1=1000, line_width=0, fillcolor='grey', opacity=0.2)\n",
    "fig.add_annotation(text='Primer Estado Alarma', hovertext='Periodo de declaración del primer Estado de Alarma de la pandémia', x='2020-04-24', y=900, showarrow=False)\n",
    "fig.update_layout(width=1200, legend=dict(orientation='h', bgcolor='LightSteelBlue'))\n",
    "py.iplot(fig, filename='Daily deaths')"
   ]
  },
  {
   "cell_type": "markdown",
   "metadata": {},
   "source": [
    "Durante la primera ola, se alcanzaron cifras diarias de más de 1000 muertos diarios positivos por COVID. Gracias al confinamiento, estas cifras fueron dismuyendo lentamente durante mayo y junio, llegando a su mínimo durante el verano. Una vez los contagios e infectados vuelven a incrementarse a finales de agosto, los fallecidos empiezan a aumentar también."
   ]
  },
  {
   "cell_type": "code",
   "execution_count": 36,
   "metadata": {},
   "outputs": [
    {
     "output_type": "execute_result",
     "data": {
      "text/plain": [
       "<IPython.lib.display.IFrame at 0x208dac2c188>"
      ],
      "text/html": "\n        <iframe\n            width=\"1200px\"\n            height=\"525px\"\n            src=\"https://plotly.com/~marcgror/67.embed\"\n            frameborder=\"0\"\n            allowfullscreen\n        ></iframe>\n        "
     },
     "metadata": {},
     "execution_count": 36
    }
   ],
   "source": [
    "fig = go.Figure(data=[go.Bar(x=spain['fecha'], y=spain['deceased_accumulated'])], layout=go.Layout(title=go.layout.Title(text='Fallecimientos acumulados desde el inicio de la pandémia')))\n",
    "fig.add_vrect(x0='2020-03-14', x1='2020-06-21', y1=40000, line_width=0, fillcolor='grey', opacity=0.2)\n",
    "fig.add_annotation(text='Primer Estado Alarma', hovertext='Periodo de declaración del primer Estado de Alarma de la pandémia', x='2020-04-24', y=35000, showarrow=False)\n",
    "fig.update_layout(width=1200)\n",
    "py.iplot(fig, filename='Accumulated deaths')"
   ]
  },
  {
   "cell_type": "markdown",
   "metadata": {},
   "source": [
    "En el acumulado, se puede observar un estancamiento en el número de fallecidos durante el verano, pero a partir de los últimos días de agosto se observa de nuevo una tendencia al aumento."
   ]
  },
  {
   "source": [
    "## Ingresados y en UCI"
   ],
   "cell_type": "markdown",
   "metadata": {}
  },
  {
   "cell_type": "code",
   "execution_count": 37,
   "metadata": {},
   "outputs": [
    {
     "output_type": "execute_result",
     "data": {
      "text/plain": [
       "<IPython.lib.display.IFrame at 0x208da1ec908>"
      ],
      "text/html": "\n        <iframe\n            width=\"1200px\"\n            height=\"525px\"\n            src=\"https://plotly.com/~marcgror/469.embed\"\n            frameborder=\"0\"\n            allowfullscreen\n        ></iframe>\n        "
     },
     "metadata": {},
     "execution_count": 37
    }
   ],
   "source": [
    "fig = go.Figure(data=[go.Bar(x=spain['fecha'], y=spain['hospitalizated'], name='Hospitalizados diarios')], layout=go.Layout(title=go.layout.Title(text='Hospitalizados diarios desde el inicio de la pandémia')))\n",
    "fig.add_trace(go.Scatter(x=spain['fecha'], y=spain['avg_hospitalizated_7_days'], name='Media de 7 días'))\n",
    "#fig.update_yaxes(range=[0,1000])\n",
    "fig.add_vrect(x0='2020-03-14', x1='2020-06-21', y1=1000, line_width=0, fillcolor='grey', opacity=0.2)\n",
    "fig.add_annotation(text='Primer Estado Alarma', hovertext='Periodo de declaración del primer Estado de Alarma de la pandémia', x='2020-04-24', y=3900, showarrow=False)\n",
    "fig.update_layout(width=1200, legend=dict(orientation='h', bgcolor='LightSteelBlue'))\n",
    "py.iplot(fig, filename='Daily hospitalizated')"
   ]
  },
  {
   "cell_type": "code",
   "execution_count": 38,
   "metadata": {},
   "outputs": [
    {
     "output_type": "execute_result",
     "data": {
      "text/plain": [
       "<IPython.lib.display.IFrame at 0x208da9a3788>"
      ],
      "text/html": "\n        <iframe\n            width=\"1200px\"\n            height=\"525px\"\n            src=\"https://plotly.com/~marcgror/472.embed\"\n            frameborder=\"0\"\n            allowfullscreen\n        ></iframe>\n        "
     },
     "metadata": {},
     "execution_count": 38
    }
   ],
   "source": [
    "fig = go.Figure(data=[go.Bar(x=spain['fecha'], y=spain['UCI'], name='Ingresados en UCI diarios')], layout=go.Layout(title=go.layout.Title(text='Ingresados en UCI diarios desde el inicio de la pandémia')))\n",
    "fig.add_trace(go.Scatter(x=spain['fecha'], y=spain['avg_UCI_7_days'], name='Media de 7 días'))\n",
    "#fig.update_yaxes(range=[0,1000])\n",
    "fig.add_vrect(x0='2020-03-14', x1='2020-06-21', y1=1000, line_width=0, fillcolor='grey', opacity=0.2)\n",
    "fig.add_annotation(text='Primer Estado Alarma', hovertext='Periodo de declaración del primer Estado de Alarma de la pandémia', x='2020-04-24', y=390, showarrow=False)\n",
    "fig.update_layout(width=1200, legend=dict(orientation='h', bgcolor='LightSteelBlue'))\n",
    "py.iplot(fig, filename='Daily UCI')"
   ]
  },
  {
   "cell_type": "markdown",
   "metadata": {},
   "source": [
    "# CCAA"
   ]
  },
  {
   "source": [
    "## Métodos de diagnóstico del COVID-19"
   ],
   "cell_type": "markdown",
   "metadata": {}
  },
  {
   "cell_type": "code",
   "execution_count": 39,
   "metadata": {},
   "outputs": [
    {
     "output_type": "execute_result",
     "data": {
      "text/plain": [
       "<IPython.lib.display.IFrame at 0x208daad1508>"
      ],
      "text/html": "\n        <iframe\n            width=\"1200px\"\n            height=\"525px\"\n            src=\"https://plotly.com/~marcgror/318.embed\"\n            frameborder=\"0\"\n            allowfullscreen\n        ></iframe>\n        "
     },
     "metadata": {},
     "execution_count": 39
    }
   ],
   "source": [
    "x = ccaa['ccaa'].unique().tolist()\n",
    "fig = go.Figure(layout=go.Layout(title=go.layout.Title(text='Distribución de los diferentes métodos de diagnóstico para cada CCAA')))\n",
    "fig.add_trace(go.Bar(y=x, x=ccaa['cases_accumulated_PCR_percentage'].tail(20), name='PCR', orientation='h'))\n",
    "fig.add_trace(go.Bar(y=x, x=ccaa['cases_accumulated_AC_percentage'].tail(20), name='AC', orientation='h'))\n",
    "fig.add_trace(go.Bar(y=x, x=ccaa['cases_accumulated_otras_percentage'].tail(20), name='Otras', orientation='h'))\n",
    "fig.add_trace(go.Bar(y=x, x=ccaa['cases_accumulated_desconocida_percentage'].tail(20), name='Desconocido', orientation='h'))\n",
    "fig.update_layout(width=1200, barmode='stack', legend=dict(orientation='h', bgcolor='LightSteelBlue'))\n",
    "py.iplot(fig, filename='Test CCAA bar Chart')"
   ]
  },
  {
   "cell_type": "markdown",
   "metadata": {},
   "source": [
    "A partir de los datos separados por Comunidades Autónomas es posible seguir la evolución de la pandemia en estas."
   ]
  },
  {
   "cell_type": "markdown",
   "metadata": {},
   "source": [
    "## Evolución de los contagios y fallecidos\n",
    "Empecemos con una tabla resumen: en ella se muestran los casos acumulados diagnosticados por PCR, el número de nuevos casos (diarios, en 7 y en 14 días) y la IA por 100000 habitantes para cada comunidad autónoma, ordenado por IA:"
   ]
  },
  {
   "cell_type": "code",
   "execution_count": 40,
   "metadata": {},
   "outputs": [
    {
     "output_type": "execute_result",
     "data": {
      "text/plain": [
       "<IPython.lib.display.IFrame at 0x208d9987248>"
      ],
      "text/html": "\n        <iframe\n            width=\"950px\"\n            height=\"750px\"\n            src=\"https://plotly.com/~marcgror/322.embed\"\n            frameborder=\"0\"\n            allowfullscreen\n        ></iframe>\n        "
     },
     "metadata": {},
     "execution_count": 40
    }
   ],
   "source": [
    "fig = go.Figure(data=[go.Table(\n",
    "    columnwidth=[60, 100, 70, 70, 70, 70, 50, 50],\n",
    "    header=dict(values=list(['Fecha', 'CCAA', 'Casos totales', 'Casos diarios', 'Casos 7 días', 'Casos 14 días', 'IA 7 días', 'IA 14 días']),\n",
    "                fill_color='rgb(124,124,124)',\n",
    "                align='center', font=dict(color='white')),\n",
    "    cells=dict(values=ccaa[['fecha', 'ccaa','cases_accumulated', 'num_casos', 'cases_7_days', 'cases_14_days', 'ia_100000_week', 'ia_100000_2week']].tail(20).sort_values(by='ia_100000_2week', ascending=False).transpose().values.tolist(),\n",
    "               fill_color='rgb(179, 179, 179)',\n",
    "               align='center', height=25))\n",
    "])\n",
    "fig.update_layout(width=950, height=750, title='Datos del último día')\n",
    "py.iplot(fig, filename='CCAA infected table')"
   ]
  },
  {
   "cell_type": "markdown",
   "metadata": {},
   "source": [
    "En la siguiente tabla se muestran los fallecimientos acumulados, diarios, incrementos respecto al día anterior, en la última semana y por cada 100000 habitantes, ordenados por este último:"
   ]
  },
  {
   "cell_type": "code",
   "execution_count": 41,
   "metadata": {},
   "outputs": [
    {
     "output_type": "execute_result",
     "data": {
      "text/plain": [
       "<IPython.lib.display.IFrame at 0x208dae65708>"
      ],
      "text/html": "\n        <iframe\n            width=\"1200px\"\n            height=\"800px\"\n            src=\"https://plotly.com/~marcgror/330.embed\"\n            frameborder=\"0\"\n            allowfullscreen\n        ></iframe>\n        "
     },
     "metadata": {},
     "execution_count": 41
    }
   ],
   "source": [
    "fig = go.Figure(data=[go.Table(\n",
    "    columnwidth=[50, 90, 70, 70, 70, 70, 120],\n",
    "    header=dict(values=list(['Fecha', 'CCAA', 'Fallecidos totales', 'Fallecidos diarios', 'Incremento', 'Fallecidos 7 días', 'Fallecidos por 100000 habitantes ']),\n",
    "                fill_color='rgb(124,124,124)',\n",
    "                align='center', font=dict(color='white')),\n",
    "    cells=dict(values=ccaa[['fecha', 'ccaa', 'deceased_accumulated', 'deceased', 'deceased_inc', 'deaths_7_days', 'deceased_per_100000']].tail(20).sort_values(by='deceased_per_100000', ascending=False).transpose().values.tolist(),\n",
    "               fill_color='rgb(179, 179, 179)',\n",
    "               align='center', height=25))\n",
    "])\n",
    "fig.update_layout(width=1200, height=800, title='Datos de fallecidos del último día')\n",
    "py.iplot(fig, filename='CCAA deaths table')"
   ]
  },
  {
   "source": [
    "## Incidéncia acumulada"
   ],
   "cell_type": "markdown",
   "metadata": {}
  },
  {
   "cell_type": "code",
   "execution_count": 42,
   "metadata": {},
   "outputs": [
    {
     "output_type": "execute_result",
     "data": {
      "text/plain": [
       "<IPython.lib.display.IFrame at 0x208d73c64c8>"
      ],
      "text/html": "\n        <iframe\n            width=\"1600px\"\n            height=\"1200px\"\n            src=\"https://plotly.com/~marcgror/326.embed\"\n            frameborder=\"0\"\n            allowfullscreen\n        ></iframe>\n        "
     },
     "metadata": {},
     "execution_count": 42
    }
   ],
   "source": [
    "fig = make_subplots(rows=rows, cols=cols, vertical_spacing=0.05, subplot_titles=ccaa['ccaa'].unique())\n",
    "i, j = 1, 1\n",
    "for ca in ccaa['ccaa'].unique():\n",
    "    fig.add_trace(go.Scatter(x=ccaa.loc[ccaa['ccaa']==ca]['fecha'], y=ccaa.loc[ccaa['ccaa']==ca]['ia_100000_week'], fill='tonexty', name=ca, line_color='darkcyan'), row=i, col=j)\n",
    "    j+=1\n",
    "    if j>cols:\n",
    "        i+=1\n",
    "        j=1\n",
    "fig.update_layout(showlegend=False, width=1600, height=1200, title='Incidencia acumulada en una semana para cada CA')\n",
    "py.iplot(fig, filename='CCAA ia week plot')"
   ]
  },
  {
   "cell_type": "code",
   "execution_count": 43,
   "metadata": {},
   "outputs": [
    {
     "output_type": "execute_result",
     "data": {
      "text/plain": [
       "<IPython.lib.display.IFrame at 0x208daa9fc08>"
      ],
      "text/html": "\n        <iframe\n            width=\"1600px\"\n            height=\"1200px\"\n            src=\"https://plotly.com/~marcgror/328.embed\"\n            frameborder=\"0\"\n            allowfullscreen\n        ></iframe>\n        "
     },
     "metadata": {},
     "execution_count": 43
    }
   ],
   "source": [
    "fig = make_subplots(rows=rows, cols=cols, vertical_spacing=0.05, subplot_titles=ccaa['ccaa'].unique())\n",
    "i, j = 1, 1\n",
    "for ca in ccaa['ccaa'].unique():\n",
    "    fig.add_trace(go.Scatter(x=ccaa.loc[ccaa['ccaa']==ca]['fecha'], y=ccaa.loc[ccaa['ccaa']==ca]['ia_100000_2week'], fill='tonexty', name=ca, line_color='darkcyan'), row=i, col=j)\n",
    "    j+=1\n",
    "    if j>cols:\n",
    "        i+=1\n",
    "        j=1\n",
    "fig.update_layout(showlegend=False, width=1600, height=1200, title='Incidencia acumulada en dos semanas para cada CA')\n",
    "fig.add_hline(y=150, line_color='red', row='all', col='all')\n",
    "py.iplot(fig, filename='CCAA ia 2 week plot')"
   ]
  },
  {
   "source": [
    "## Curvas casos y fallecidos CCAA"
   ],
   "cell_type": "markdown",
   "metadata": {}
  },
  {
   "cell_type": "code",
   "execution_count": 49,
   "metadata": {},
   "outputs": [
    {
     "output_type": "execute_result",
     "data": {
      "text/plain": [
       "<IPython.lib.display.IFrame at 0x208d9aa73c8>"
      ],
      "text/html": "\n        <iframe\n            width=\"1600px\"\n            height=\"1200px\"\n            src=\"https://plotly.com/~marcgror/500.embed\"\n            frameborder=\"0\"\n            allowfullscreen\n        ></iframe>\n        "
     },
     "metadata": {},
     "execution_count": 49
    }
   ],
   "source": [
    "rows=5\n",
    "cols=4\n",
    "fig = make_subplots(rows=rows, cols=cols, vertical_spacing=0.05, subplot_titles=ccaa['ccaa'].unique())\n",
    "i, j = 1, 1\n",
    "for ca in ccaa['ccaa'].unique():\n",
    "    fig.add_trace(go.Scatter(x=ccaa.loc[ccaa['ccaa']==ca]['fecha'], y=ccaa.loc[ccaa['ccaa']==ca]['num_casos'], fill='tonexty', name='Casos', line_color='darkcyan'), row=i, col=j)\n",
    "    fig.add_trace(go.Scatter(x=ccaa.loc[ccaa['ccaa']==ca]['fecha'], y=ccaa.loc[ccaa['ccaa']==ca]['deceased'],  fill='tonexty', name='Fallecidos', line_color='darkcyan'), row=i, col=j)\n",
    "    j+=1\n",
    "    if j>cols:\n",
    "        i+=1\n",
    "        j=1\n",
    "fig.update_layout(showlegend=False, width=1600, height=1200, title='# casos diarios para cada CA')\n",
    "fig.update_layout(\n",
    "    updatemenus=[\n",
    "        dict(\n",
    "            active=0,\n",
    "            type='buttons',\n",
    "            bgcolor='LightSteelBlue',\n",
    "            buttons=list([\n",
    "                dict(label=\"Casos\",\n",
    "                     method=\"update\",\n",
    "                     args=[{\"visible\": [True, False]},\n",
    "                           {\"title\": \"# casos diarios para cada CA\"}]),\n",
    "                dict(label=\"Fallecidos\",\n",
    "                     method=\"update\",\n",
    "                     args=[{\"visible\": [False, True]},\n",
    "                           {\"title\": \"# de fallecidos diarios para cada CA\"}]),\n",
    "            ]),\n",
    "            direction=\"left\",\n",
    "            pad={\"r\": 10, \"t\": 10},\n",
    "            showactive=True,\n",
    "            x=0.4,\n",
    "            xanchor=\"left\",\n",
    "            y=1.1,\n",
    "            yanchor=\"top\"\n",
    "        )\n",
    "    ])\n",
    "py.iplot(fig, filename='CCAA daily dropdown  plot')"
   ]
  },
  {
   "source": [
    "## Curvas casos y fallecidos acumulados CCAA"
   ],
   "cell_type": "markdown",
   "metadata": {}
  },
  {
   "cell_type": "code",
   "execution_count": 48,
   "metadata": {},
   "outputs": [
    {
     "output_type": "execute_result",
     "data": {
      "text/plain": [
       "<IPython.lib.display.IFrame at 0x208d9022fc8>"
      ],
      "text/html": "\n        <iframe\n            width=\"1600px\"\n            height=\"1200px\"\n            src=\"https://plotly.com/~marcgror/496.embed\"\n            frameborder=\"0\"\n            allowfullscreen\n        ></iframe>\n        "
     },
     "metadata": {},
     "execution_count": 48
    }
   ],
   "source": [
    "rows=5\n",
    "cols=4\n",
    "fig = make_subplots(rows=rows, cols=cols, vertical_spacing=0.05, subplot_titles=ccaa['ccaa'].unique())\n",
    "i, j = 1, 1\n",
    "for ca in ccaa['ccaa'].unique():\n",
    "    fig.add_trace(go.Scatter(x=ccaa.loc[ccaa['ccaa']==ca]['fecha'], y=ccaa.loc[ccaa['ccaa']==ca]['cases_accumulated'], fill='tonexty', name='Casos', line_color='darkcyan'), row=i, col=j)\n",
    "    fig.add_trace(go.Scatter(x=ccaa.loc[ccaa['ccaa']==ca]['fecha'], y=ccaa.loc[ccaa['ccaa']==ca]['deceased_accumulated'],  fill='tonexty', name='Fallecidos', line_color='darkcyan'), row=i, col=j)\n",
    "    j+=1\n",
    "    if j>cols:\n",
    "        i+=1\n",
    "        j=1\n",
    "fig.update_layout(\n",
    "    updatemenus=[\n",
    "        dict(\n",
    "            active=0,\n",
    "            type='buttons',\n",
    "            bgcolor='LightSteelBlue',\n",
    "            buttons=list([\n",
    "                dict(label=\"Casos\",\n",
    "                     method=\"update\",\n",
    "                     args=[{\"visible\": [True, False]},\n",
    "                           {\"title\": \"# casos acumulado para cada CA\"}]),\n",
    "                dict(label=\"Fallecidos\",\n",
    "                     method=\"update\",\n",
    "                     args=[{\"visible\": [False, True]},\n",
    "                           {\"title\": \"# de fallecidos acumulado para cada CA\"}]),\n",
    "            ]),\n",
    "            direction=\"left\",\n",
    "            pad={\"r\": 10, \"t\": 10},\n",
    "            showactive=True,\n",
    "            x=0.4,\n",
    "            xanchor=\"left\",\n",
    "            y=1.1,\n",
    "            yanchor=\"top\"\n",
    "        )\n",
    "    ])\n",
    "fig.update_layout(showlegend=False, width=1600, height=1200, title='# casos acumulado para cada CA')\n",
    "py.iplot(fig, filename='CCAA accumulated dropdown  plot')"
   ]
  },
  {
   "source": [
    "## Evolución de hospitalizados y en UCI"
   ],
   "cell_type": "markdown",
   "metadata": {}
  },
  {
   "cell_type": "code",
   "execution_count": 50,
   "metadata": {},
   "outputs": [
    {
     "output_type": "execute_result",
     "data": {
      "text/plain": [
       "<IPython.lib.display.IFrame at 0x208da1e4408>"
      ],
      "text/html": "\n        <iframe\n            width=\"1600px\"\n            height=\"1200px\"\n            src=\"https://plotly.com/~marcgror/563.embed\"\n            frameborder=\"0\"\n            allowfullscreen\n        ></iframe>\n        "
     },
     "metadata": {},
     "execution_count": 50
    }
   ],
   "source": [
    "rows=5\n",
    "cols=4\n",
    "fig = make_subplots(rows=rows, cols=cols, vertical_spacing=0.05, subplot_titles=ccaa['ccaa'].unique())\n",
    "i, j = 1, 1\n",
    "for ca in ccaa['ccaa'].unique():\n",
    "    fig.add_trace(go.Scatter(x=ccaa.loc[ccaa['ccaa']==ca]['fecha'], y=ccaa.loc[ccaa['ccaa']==ca]['hospitalizated'], fill='tonexty', name='Hospitalizados', line_color='darkcyan'), row=i, col=j)\n",
    "    fig.add_trace(go.Scatter(x=ccaa.loc[ccaa['ccaa']==ca]['fecha'], y=ccaa.loc[ccaa['ccaa']==ca]['UCI'], visible=False, fill='tonexty', name='UCI', line_color='darkcyan'), row=i, col=j)\n",
    "    j+=1\n",
    "    if j>cols:\n",
    "        i+=1\n",
    "        j=1\n",
    "fig.update_layout(showlegend=False, width=1600, height=1200, title='# de hospitalizados diarios para cada CA')\n",
    "fig.update_layout(\n",
    "    updatemenus=[\n",
    "        dict(\n",
    "            active=0,\n",
    "            type='buttons',\n",
    "            bgcolor='LightSteelBlue',\n",
    "            buttons=list([\n",
    "                dict(label=\"Hospitalizados\",\n",
    "                     method=\"update\",\n",
    "                     args=[{\"visible\": [True, False]},\n",
    "                           {\"title\": \"# de hospitalizados diarios para cada CA\"}]),\n",
    "                dict(label=\"UCI\",\n",
    "                     method=\"update\",\n",
    "                     args=[{\"visible\": [False, True]},\n",
    "                           {\"title\": \"# de ingresados en UCI diario para cada CA\"}]),\n",
    "            ]),\n",
    "            direction=\"left\",\n",
    "            pad={\"r\": 10, \"t\": 10},\n",
    "            showactive=True,\n",
    "            x=0.4,\n",
    "            xanchor=\"left\",\n",
    "            y=1.1,\n",
    "            yanchor=\"top\"\n",
    "        )\n",
    "    ])\n",
    "py.iplot(fig, filename='CCAA daily hospi-UCI dropdown  plot')"
   ]
  },
  {
   "cell_type": "code",
   "execution_count": null,
   "metadata": {},
   "outputs": [],
   "source": []
  }
 ],
 "metadata": {
  "kernelspec": {
   "name": "python3",
   "display_name": "Python 3.7.7 64-bit ('myenv': conda)",
   "metadata": {
    "interpreter": {
     "hash": "2e41e2b0d926c068e8e8a3af06b6cf59e3a2b767722c567e11d8eb30916e6037"
    }
   }
  },
  "language_info": {
   "codemirror_mode": {
    "name": "ipython",
    "version": 3
   },
   "file_extension": ".py",
   "mimetype": "text/x-python",
   "name": "python",
   "nbconvert_exporter": "python",
   "pygments_lexer": "ipython3",
   "version": "3.7.7-final"
  }
 },
 "nbformat": 4,
 "nbformat_minor": 2
}