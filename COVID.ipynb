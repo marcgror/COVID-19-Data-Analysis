{
 "metadata": {
  "language_info": {
   "codemirror_mode": {
    "name": "ipython",
    "version": 3
   },
   "file_extension": ".py",
   "mimetype": "text/x-python",
   "name": "python",
   "nbconvert_exporter": "python",
   "pygments_lexer": "ipython3",
   "version": "3.7.9-final"
  },
  "orig_nbformat": 2,
  "kernelspec": {
   "name": "python38264bitmyenvconda7bdd62f05e9b44c6a00d03f76214cfbd",
   "display_name": "Python 3.8.2 64-bit ('myenv': conda)"
  }
 },
 "nbformat": 4,
 "nbformat_minor": 2,
 "cells": [
  {
   "source": [
    "Versión renderizada e interactiva: https://nbviewer.jupyter.org/github/marcgror/COVID-19-Data-Analysis/blob/master/COVID.ipynb"
   ],
   "cell_type": "markdown",
   "metadata": {}
  },
  {
   "source": [
    "# Análisis de los datos del COVID-19 en España\n",
    "2020 será siempre recordado como el año de la pandemia de COVID-19. España ha sido y es uno de los países más afectados, tanto en la primera ola en marzo como en la siguiente en setiembre.\n",
    "\n",
    "Para analizar la situación, a nivel nacional, autonómico y provincial, se usarán los datos proporcionados por el repositorio Escovid19data (https://github.com/montera34/escovid19data), que se encarga de recopilar los datos de cada provincia y CCAA, tratarlos y presentarlos de una manera correcta para su visualización y uso."
   ],
   "cell_type": "markdown",
   "metadata": {}
  },
  {
   "cell_type": "code",
   "execution_count": 98,
   "metadata": {},
   "outputs": [],
   "source": [
    "# Import required packages\n",
    "import pandas as pd \n",
    "import numpy as np \n",
    "import matplotlib.pyplot as plt\n",
    "import seaborn as sns\n",
    "import plotly.graph_objects as go\n",
    "import plotly.express as px\n",
    "from plotly.subplots import make_subplots\n",
    "from ipywidgets import widgets\n",
    "import matplotlib.dates as mdates\n",
    "import chart_studio.plotly as py\n",
    "import chart_studio.tools as tls\n",
    "sns.set_style(style=\"darkgrid\")"
   ]
  },
  {
   "cell_type": "code",
   "execution_count": 139,
   "metadata": {},
   "outputs": [],
   "source": [
    "# Load each data file from the repository\n",
    "ccaa = pd.read_csv('ccaa.csv', parse_dates=True)\n",
    "#provincias = pd.read_csv('https://raw.githubusercontent.com/montera34/escovid19data/master/data/output/covid19-provincias-spain_consolidated.csv')\n",
    "spain = pd.read_csv('spain.csv', parse_dates=True)"
   ]
  },
  {
   "cell_type": "markdown",
   "metadata": {},
   "source": [
    "# España "
   ]
  },
  {
   "source": [
    "## Métodos de diagnóstico del COVID-19\n",
    "En España, el COVID se está detectando principalmente usando las pruebas de PCR y test de anticuerpos, a parte de otras pruebas como el test de antígenos.\n",
    "\n",
    "La prueba PCR (Polimerasa Chain Reaction) es una prueba de diagnóstico utilizada para detectar fragmentos del material genético de un patógeno. En este caso en concreto, el patógeno se corresponde con el virus SARS-CoV-2. La idea es sencilla: se toma una muestra respiratoria de la persona sospechosa de infección, y se analiza en un laboratorio de microbiología con un PCR en busca de una molécula de ARN del virus. El positivo vendría cuando la prueba detecta ese ARN del virus, mientras será negativo en caso contrario.\n",
    "\n",
    "Actualmente se dispone tanto de datos de contagiados diagnosticados con PCR como de diagnosticados con otros tipos de prueba, como puede ser el test de anticuerpos o de antígenos.\n",
    "\n",
    "El siguiente gráfico muestra la contribución en porcentaje de cada tipo de prueba. Como es obvio, más de un 90 % de las detecciones de contagiados son gracias a PCR."
   ],
   "cell_type": "markdown",
   "metadata": {}
  },
  {
   "cell_type": "code",
   "execution_count": 168,
   "metadata": {},
   "outputs": [
    {
     "output_type": "display_data",
     "data": {
      "application/vnd.plotly.v1+json": {
       "config": {
        "plotlyServerURL": "https://plotly.com"
       },
       "data": [
        {
         "labels": [
          "PCR",
          "Test AC",
          "Otras",
          "Desconocida"
         ],
         "type": "pie",
         "values": [
          1160190,
          20958,
          70028,
          18971
         ]
        }
       ],
       "layout": {
        "template": {
         "data": {
          "bar": [
           {
            "error_x": {
             "color": "#2a3f5f"
            },
            "error_y": {
             "color": "#2a3f5f"
            },
            "marker": {
             "line": {
              "color": "#E5ECF6",
              "width": 0.5
             }
            },
            "type": "bar"
           }
          ],
          "barpolar": [
           {
            "marker": {
             "line": {
              "color": "#E5ECF6",
              "width": 0.5
             }
            },
            "type": "barpolar"
           }
          ],
          "carpet": [
           {
            "aaxis": {
             "endlinecolor": "#2a3f5f",
             "gridcolor": "white",
             "linecolor": "white",
             "minorgridcolor": "white",
             "startlinecolor": "#2a3f5f"
            },
            "baxis": {
             "endlinecolor": "#2a3f5f",
             "gridcolor": "white",
             "linecolor": "white",
             "minorgridcolor": "white",
             "startlinecolor": "#2a3f5f"
            },
            "type": "carpet"
           }
          ],
          "choropleth": [
           {
            "colorbar": {
             "outlinewidth": 0,
             "ticks": ""
            },
            "type": "choropleth"
           }
          ],
          "contour": [
           {
            "colorbar": {
             "outlinewidth": 0,
             "ticks": ""
            },
            "colorscale": [
             [
              0,
              "#0d0887"
             ],
             [
              0.1111111111111111,
              "#46039f"
             ],
             [
              0.2222222222222222,
              "#7201a8"
             ],
             [
              0.3333333333333333,
              "#9c179e"
             ],
             [
              0.4444444444444444,
              "#bd3786"
             ],
             [
              0.5555555555555556,
              "#d8576b"
             ],
             [
              0.6666666666666666,
              "#ed7953"
             ],
             [
              0.7777777777777778,
              "#fb9f3a"
             ],
             [
              0.8888888888888888,
              "#fdca26"
             ],
             [
              1,
              "#f0f921"
             ]
            ],
            "type": "contour"
           }
          ],
          "contourcarpet": [
           {
            "colorbar": {
             "outlinewidth": 0,
             "ticks": ""
            },
            "type": "contourcarpet"
           }
          ],
          "heatmap": [
           {
            "colorbar": {
             "outlinewidth": 0,
             "ticks": ""
            },
            "colorscale": [
             [
              0,
              "#0d0887"
             ],
             [
              0.1111111111111111,
              "#46039f"
             ],
             [
              0.2222222222222222,
              "#7201a8"
             ],
             [
              0.3333333333333333,
              "#9c179e"
             ],
             [
              0.4444444444444444,
              "#bd3786"
             ],
             [
              0.5555555555555556,
              "#d8576b"
             ],
             [
              0.6666666666666666,
              "#ed7953"
             ],
             [
              0.7777777777777778,
              "#fb9f3a"
             ],
             [
              0.8888888888888888,
              "#fdca26"
             ],
             [
              1,
              "#f0f921"
             ]
            ],
            "type": "heatmap"
           }
          ],
          "heatmapgl": [
           {
            "colorbar": {
             "outlinewidth": 0,
             "ticks": ""
            },
            "colorscale": [
             [
              0,
              "#0d0887"
             ],
             [
              0.1111111111111111,
              "#46039f"
             ],
             [
              0.2222222222222222,
              "#7201a8"
             ],
             [
              0.3333333333333333,
              "#9c179e"
             ],
             [
              0.4444444444444444,
              "#bd3786"
             ],
             [
              0.5555555555555556,
              "#d8576b"
             ],
             [
              0.6666666666666666,
              "#ed7953"
             ],
             [
              0.7777777777777778,
              "#fb9f3a"
             ],
             [
              0.8888888888888888,
              "#fdca26"
             ],
             [
              1,
              "#f0f921"
             ]
            ],
            "type": "heatmapgl"
           }
          ],
          "histogram": [
           {
            "marker": {
             "colorbar": {
              "outlinewidth": 0,
              "ticks": ""
             }
            },
            "type": "histogram"
           }
          ],
          "histogram2d": [
           {
            "colorbar": {
             "outlinewidth": 0,
             "ticks": ""
            },
            "colorscale": [
             [
              0,
              "#0d0887"
             ],
             [
              0.1111111111111111,
              "#46039f"
             ],
             [
              0.2222222222222222,
              "#7201a8"
             ],
             [
              0.3333333333333333,
              "#9c179e"
             ],
             [
              0.4444444444444444,
              "#bd3786"
             ],
             [
              0.5555555555555556,
              "#d8576b"
             ],
             [
              0.6666666666666666,
              "#ed7953"
             ],
             [
              0.7777777777777778,
              "#fb9f3a"
             ],
             [
              0.8888888888888888,
              "#fdca26"
             ],
             [
              1,
              "#f0f921"
             ]
            ],
            "type": "histogram2d"
           }
          ],
          "histogram2dcontour": [
           {
            "colorbar": {
             "outlinewidth": 0,
             "ticks": ""
            },
            "colorscale": [
             [
              0,
              "#0d0887"
             ],
             [
              0.1111111111111111,
              "#46039f"
             ],
             [
              0.2222222222222222,
              "#7201a8"
             ],
             [
              0.3333333333333333,
              "#9c179e"
             ],
             [
              0.4444444444444444,
              "#bd3786"
             ],
             [
              0.5555555555555556,
              "#d8576b"
             ],
             [
              0.6666666666666666,
              "#ed7953"
             ],
             [
              0.7777777777777778,
              "#fb9f3a"
             ],
             [
              0.8888888888888888,
              "#fdca26"
             ],
             [
              1,
              "#f0f921"
             ]
            ],
            "type": "histogram2dcontour"
           }
          ],
          "mesh3d": [
           {
            "colorbar": {
             "outlinewidth": 0,
             "ticks": ""
            },
            "type": "mesh3d"
           }
          ],
          "parcoords": [
           {
            "line": {
             "colorbar": {
              "outlinewidth": 0,
              "ticks": ""
             }
            },
            "type": "parcoords"
           }
          ],
          "pie": [
           {
            "automargin": true,
            "type": "pie"
           }
          ],
          "scatter": [
           {
            "marker": {
             "colorbar": {
              "outlinewidth": 0,
              "ticks": ""
             }
            },
            "type": "scatter"
           }
          ],
          "scatter3d": [
           {
            "line": {
             "colorbar": {
              "outlinewidth": 0,
              "ticks": ""
             }
            },
            "marker": {
             "colorbar": {
              "outlinewidth": 0,
              "ticks": ""
             }
            },
            "type": "scatter3d"
           }
          ],
          "scattercarpet": [
           {
            "marker": {
             "colorbar": {
              "outlinewidth": 0,
              "ticks": ""
             }
            },
            "type": "scattercarpet"
           }
          ],
          "scattergeo": [
           {
            "marker": {
             "colorbar": {
              "outlinewidth": 0,
              "ticks": ""
             }
            },
            "type": "scattergeo"
           }
          ],
          "scattergl": [
           {
            "marker": {
             "colorbar": {
              "outlinewidth": 0,
              "ticks": ""
             }
            },
            "type": "scattergl"
           }
          ],
          "scattermapbox": [
           {
            "marker": {
             "colorbar": {
              "outlinewidth": 0,
              "ticks": ""
             }
            },
            "type": "scattermapbox"
           }
          ],
          "scatterpolar": [
           {
            "marker": {
             "colorbar": {
              "outlinewidth": 0,
              "ticks": ""
             }
            },
            "type": "scatterpolar"
           }
          ],
          "scatterpolargl": [
           {
            "marker": {
             "colorbar": {
              "outlinewidth": 0,
              "ticks": ""
             }
            },
            "type": "scatterpolargl"
           }
          ],
          "scatterternary": [
           {
            "marker": {
             "colorbar": {
              "outlinewidth": 0,
              "ticks": ""
             }
            },
            "type": "scatterternary"
           }
          ],
          "surface": [
           {
            "colorbar": {
             "outlinewidth": 0,
             "ticks": ""
            },
            "colorscale": [
             [
              0,
              "#0d0887"
             ],
             [
              0.1111111111111111,
              "#46039f"
             ],
             [
              0.2222222222222222,
              "#7201a8"
             ],
             [
              0.3333333333333333,
              "#9c179e"
             ],
             [
              0.4444444444444444,
              "#bd3786"
             ],
             [
              0.5555555555555556,
              "#d8576b"
             ],
             [
              0.6666666666666666,
              "#ed7953"
             ],
             [
              0.7777777777777778,
              "#fb9f3a"
             ],
             [
              0.8888888888888888,
              "#fdca26"
             ],
             [
              1,
              "#f0f921"
             ]
            ],
            "type": "surface"
           }
          ],
          "table": [
           {
            "cells": {
             "fill": {
              "color": "#EBF0F8"
             },
             "line": {
              "color": "white"
             }
            },
            "header": {
             "fill": {
              "color": "#C8D4E3"
             },
             "line": {
              "color": "white"
             }
            },
            "type": "table"
           }
          ]
         },
         "layout": {
          "annotationdefaults": {
           "arrowcolor": "#2a3f5f",
           "arrowhead": 0,
           "arrowwidth": 1
          },
          "coloraxis": {
           "colorbar": {
            "outlinewidth": 0,
            "ticks": ""
           }
          },
          "colorscale": {
           "diverging": [
            [
             0,
             "#8e0152"
            ],
            [
             0.1,
             "#c51b7d"
            ],
            [
             0.2,
             "#de77ae"
            ],
            [
             0.3,
             "#f1b6da"
            ],
            [
             0.4,
             "#fde0ef"
            ],
            [
             0.5,
             "#f7f7f7"
            ],
            [
             0.6,
             "#e6f5d0"
            ],
            [
             0.7,
             "#b8e186"
            ],
            [
             0.8,
             "#7fbc41"
            ],
            [
             0.9,
             "#4d9221"
            ],
            [
             1,
             "#276419"
            ]
           ],
           "sequential": [
            [
             0,
             "#0d0887"
            ],
            [
             0.1111111111111111,
             "#46039f"
            ],
            [
             0.2222222222222222,
             "#7201a8"
            ],
            [
             0.3333333333333333,
             "#9c179e"
            ],
            [
             0.4444444444444444,
             "#bd3786"
            ],
            [
             0.5555555555555556,
             "#d8576b"
            ],
            [
             0.6666666666666666,
             "#ed7953"
            ],
            [
             0.7777777777777778,
             "#fb9f3a"
            ],
            [
             0.8888888888888888,
             "#fdca26"
            ],
            [
             1,
             "#f0f921"
            ]
           ],
           "sequentialminus": [
            [
             0,
             "#0d0887"
            ],
            [
             0.1111111111111111,
             "#46039f"
            ],
            [
             0.2222222222222222,
             "#7201a8"
            ],
            [
             0.3333333333333333,
             "#9c179e"
            ],
            [
             0.4444444444444444,
             "#bd3786"
            ],
            [
             0.5555555555555556,
             "#d8576b"
            ],
            [
             0.6666666666666666,
             "#ed7953"
            ],
            [
             0.7777777777777778,
             "#fb9f3a"
            ],
            [
             0.8888888888888888,
             "#fdca26"
            ],
            [
             1,
             "#f0f921"
            ]
           ]
          },
          "colorway": [
           "#636efa",
           "#EF553B",
           "#00cc96",
           "#ab63fa",
           "#FFA15A",
           "#19d3f3",
           "#FF6692",
           "#B6E880",
           "#FF97FF",
           "#FECB52"
          ],
          "font": {
           "color": "#2a3f5f"
          },
          "geo": {
           "bgcolor": "white",
           "lakecolor": "white",
           "landcolor": "#E5ECF6",
           "showlakes": true,
           "showland": true,
           "subunitcolor": "white"
          },
          "hoverlabel": {
           "align": "left"
          },
          "hovermode": "closest",
          "mapbox": {
           "style": "light"
          },
          "paper_bgcolor": "white",
          "plot_bgcolor": "#E5ECF6",
          "polar": {
           "angularaxis": {
            "gridcolor": "white",
            "linecolor": "white",
            "ticks": ""
           },
           "bgcolor": "#E5ECF6",
           "radialaxis": {
            "gridcolor": "white",
            "linecolor": "white",
            "ticks": ""
           }
          },
          "scene": {
           "xaxis": {
            "backgroundcolor": "#E5ECF6",
            "gridcolor": "white",
            "gridwidth": 2,
            "linecolor": "white",
            "showbackground": true,
            "ticks": "",
            "zerolinecolor": "white"
           },
           "yaxis": {
            "backgroundcolor": "#E5ECF6",
            "gridcolor": "white",
            "gridwidth": 2,
            "linecolor": "white",
            "showbackground": true,
            "ticks": "",
            "zerolinecolor": "white"
           },
           "zaxis": {
            "backgroundcolor": "#E5ECF6",
            "gridcolor": "white",
            "gridwidth": 2,
            "linecolor": "white",
            "showbackground": true,
            "ticks": "",
            "zerolinecolor": "white"
           }
          },
          "shapedefaults": {
           "line": {
            "color": "#2a3f5f"
           }
          },
          "ternary": {
           "aaxis": {
            "gridcolor": "white",
            "linecolor": "white",
            "ticks": ""
           },
           "baxis": {
            "gridcolor": "white",
            "linecolor": "white",
            "ticks": ""
           },
           "bgcolor": "#E5ECF6",
           "caxis": {
            "gridcolor": "white",
            "linecolor": "white",
            "ticks": ""
           }
          },
          "title": {
           "x": 0.05
          },
          "xaxis": {
           "automargin": true,
           "gridcolor": "white",
           "linecolor": "white",
           "ticks": "",
           "title": {
            "standoff": 15
           },
           "zerolinecolor": "white",
           "zerolinewidth": 2
          },
          "yaxis": {
           "automargin": true,
           "gridcolor": "white",
           "linecolor": "white",
           "ticks": "",
           "title": {
            "standoff": 15
           },
           "zerolinecolor": "white",
           "zerolinewidth": 2
          }
         }
        },
        "title": {
         "text": "Contribución de cada método de detección"
        }
       }
      }
     },
     "metadata": {}
    }
   ],
   "source": [
    "labels = ['PCR', 'Test AC', 'Otras', 'Desconocida']\n",
    "values = list(spain[['num_casos_prueba_pcr', 'num_casos_prueba_test_ac', 'num_casos_prueba_otras', 'num_casos_prueba_desconocida']].sum())\n",
    "fig = go.Figure(data=[go.Pie(labels=labels, values=values)], layout=dict(title='Contribución de cada método de detección'))\n",
    "fig.show()"
   ]
  },
  {
   "source": [
    "Mientras que durante el mes de octubre encontramos una distribución de pruebas similar, con los test PCR dominando por mucho y los test de anticuerpos en segundo lugar:"
   ],
   "cell_type": "markdown",
   "metadata": {}
  },
  {
   "cell_type": "code",
   "execution_count": 170,
   "metadata": {},
   "outputs": [
    {
     "output_type": "display_data",
     "data": {
      "application/vnd.plotly.v1+json": {
       "config": {
        "plotlyServerURL": "https://plotly.com"
       },
       "data": [
        {
         "name": "PCR",
         "type": "bar",
         "x": [
          "2020-01-31",
          "2020-02-01",
          "2020-02-02",
          "2020-02-03",
          "2020-02-04",
          "2020-02-05",
          "2020-02-06",
          "2020-02-07",
          "2020-02-08",
          "2020-02-09",
          "2020-02-10",
          "2020-02-11",
          "2020-02-12",
          "2020-02-13",
          "2020-02-14",
          "2020-02-15",
          "2020-02-16",
          "2020-02-17",
          "2020-02-18",
          "2020-02-19",
          "2020-02-20",
          "2020-02-21",
          "2020-02-22",
          "2020-02-23",
          "2020-02-24",
          "2020-02-25",
          "2020-02-26",
          "2020-02-27",
          "2020-02-28",
          "2020-02-29",
          "2020-03-01",
          "2020-03-02",
          "2020-03-03",
          "2020-03-04",
          "2020-03-05",
          "2020-03-06",
          "2020-03-07",
          "2020-03-08",
          "2020-03-09",
          "2020-03-10",
          "2020-03-11",
          "2020-03-12",
          "2020-03-13",
          "2020-03-14",
          "2020-03-15",
          "2020-03-16",
          "2020-03-17",
          "2020-03-18",
          "2020-03-19",
          "2020-03-20",
          "2020-03-21",
          "2020-03-22",
          "2020-03-23",
          "2020-03-24",
          "2020-03-25",
          "2020-03-26",
          "2020-03-27",
          "2020-03-28",
          "2020-03-29",
          "2020-03-30",
          "2020-03-31",
          "2020-04-01",
          "2020-04-02",
          "2020-04-03",
          "2020-04-04",
          "2020-04-05",
          "2020-04-06",
          "2020-04-07",
          "2020-04-08",
          "2020-04-09",
          "2020-04-10",
          "2020-04-11",
          "2020-04-12",
          "2020-04-13",
          "2020-04-14",
          "2020-04-15",
          "2020-04-16",
          "2020-04-17",
          "2020-04-18",
          "2020-04-19",
          "2020-04-20",
          "2020-04-21",
          "2020-04-22",
          "2020-04-23",
          "2020-04-24",
          "2020-04-25",
          "2020-04-26",
          "2020-04-27",
          "2020-04-28",
          "2020-04-29",
          "2020-04-30",
          "2020-05-01",
          "2020-05-02",
          "2020-05-03",
          "2020-05-04",
          "2020-05-05",
          "2020-05-06",
          "2020-05-07",
          "2020-05-08",
          "2020-05-09",
          "2020-05-10",
          "2020-05-11",
          "2020-05-12",
          "2020-05-13",
          "2020-05-14",
          "2020-05-15",
          "2020-05-16",
          "2020-05-17",
          "2020-05-18",
          "2020-05-19",
          "2020-05-20",
          "2020-05-21",
          "2020-05-22",
          "2020-05-23",
          "2020-05-24",
          "2020-05-25",
          "2020-05-26",
          "2020-05-27",
          "2020-05-28",
          "2020-05-29",
          "2020-05-30",
          "2020-05-31",
          "2020-06-01",
          "2020-06-02",
          "2020-06-03",
          "2020-06-04",
          "2020-06-05",
          "2020-06-06",
          "2020-06-07",
          "2020-06-08",
          "2020-06-09",
          "2020-06-10",
          "2020-06-11",
          "2020-06-12",
          "2020-06-13",
          "2020-06-14",
          "2020-06-15",
          "2020-06-16",
          "2020-06-17",
          "2020-06-18",
          "2020-06-19",
          "2020-06-20",
          "2020-06-21",
          "2020-06-22",
          "2020-06-23",
          "2020-06-24",
          "2020-06-25",
          "2020-06-26",
          "2020-06-27",
          "2020-06-28",
          "2020-06-29",
          "2020-06-30",
          "2020-07-01",
          "2020-07-02",
          "2020-07-03",
          "2020-07-04",
          "2020-07-05",
          "2020-07-06",
          "2020-07-07",
          "2020-07-08",
          "2020-07-09",
          "2020-07-10",
          "2020-07-11",
          "2020-07-12",
          "2020-07-13",
          "2020-07-14",
          "2020-07-15",
          "2020-07-16",
          "2020-07-17",
          "2020-07-18",
          "2020-07-19",
          "2020-07-20",
          "2020-07-21",
          "2020-07-22",
          "2020-07-23",
          "2020-07-24",
          "2020-07-25",
          "2020-07-26",
          "2020-07-27",
          "2020-07-28",
          "2020-07-29",
          "2020-07-30",
          "2020-07-31",
          "2020-08-01",
          "2020-08-02",
          "2020-08-03",
          "2020-08-04",
          "2020-08-05",
          "2020-08-06",
          "2020-08-07",
          "2020-08-08",
          "2020-08-09",
          "2020-08-10",
          "2020-08-11",
          "2020-08-12",
          "2020-08-13",
          "2020-08-14",
          "2020-08-15",
          "2020-08-16",
          "2020-08-17",
          "2020-08-18",
          "2020-08-19",
          "2020-08-20",
          "2020-08-21",
          "2020-08-22",
          "2020-08-23",
          "2020-08-24",
          "2020-08-25",
          "2020-08-26",
          "2020-08-27",
          "2020-08-28",
          "2020-08-29",
          "2020-08-30",
          "2020-08-31",
          "2020-09-01",
          "2020-09-02",
          "2020-09-03",
          "2020-09-04",
          "2020-09-05",
          "2020-09-06",
          "2020-09-07",
          "2020-09-08",
          "2020-09-09",
          "2020-09-10",
          "2020-09-11",
          "2020-09-12",
          "2020-09-13",
          "2020-09-14",
          "2020-09-15",
          "2020-09-16",
          "2020-09-17",
          "2020-09-18",
          "2020-09-19",
          "2020-09-20",
          "2020-09-21",
          "2020-09-22",
          "2020-09-23",
          "2020-09-24",
          "2020-09-25",
          "2020-09-26",
          "2020-09-27",
          "2020-09-28",
          "2020-09-29",
          "2020-09-30",
          "2020-10-01",
          "2020-10-02",
          "2020-10-03",
          "2020-10-04",
          "2020-10-05",
          "2020-10-06",
          "2020-10-07",
          "2020-10-08",
          "2020-10-09",
          "2020-10-10",
          "2020-10-11",
          "2020-10-12",
          "2020-10-13",
          "2020-10-14",
          "2020-10-15",
          "2020-10-16",
          "2020-10-17",
          "2020-10-18",
          "2020-10-19",
          "2020-10-20",
          "2020-10-21",
          "2020-10-22",
          "2020-10-23",
          "2020-10-24",
          "2020-10-25",
          "2020-10-26",
          "2020-10-27",
          "2020-10-28",
          "2020-10-29",
          "2020-10-30",
          "2020-10-31",
          "2020-11-01",
          "2020-11-02",
          "2020-11-03"
         ],
         "y": [
          8,
          19,
          12,
          14,
          10,
          8,
          10,
          14,
          9,
          2,
          19,
          14,
          23,
          25,
          19,
          31,
          26,
          26,
          27,
          18,
          48,
          58,
          58,
          72,
          103,
          124,
          146,
          179,
          297,
          228,
          619,
          729,
          728,
          878,
          1173,
          1495,
          1646,
          1981,
          3093,
          4255,
          4346,
          5441,
          7085,
          6726,
          7108,
          8533,
          7959,
          8049,
          7840,
          9666,
          6774,
          6099,
          7482,
          6512,
          6327,
          5742,
          5552,
          4920,
          3875,
          4693,
          4033,
          5041,
          4103,
          4152,
          3342,
          2958,
          3136,
          2889,
          3144,
          2960,
          2851,
          2597,
          1989,
          1890,
          1952,
          2069,
          1953,
          1683,
          1449,
          985,
          1256,
          1130,
          1283,
          1054,
          958,
          629,
          448,
          548,
          664,
          632,
          615,
          614,
          554,
          372,
          397,
          228,
          200,
          243,
          237,
          188,
          236,
          473,
          433,
          481,
          425,
          472,
          286,
          239,
          451,
          472,
          370,
          406,
          437,
          278,
          252,
          449,
          455,
          333,
          421,
          407,
          256,
          193,
          369,
          331,
          378,
          313,
          417,
          217,
          175,
          344,
          266,
          261,
          237,
          297,
          112,
          135,
          276,
          248,
          263,
          265,
          244,
          236,
          210,
          257,
          300,
          378,
          312,
          336,
          282,
          244,
          360,
          400,
          510,
          395,
          528,
          405,
          417,
          686,
          773,
          886,
          903,
          1102,
          849,
          826,
          1344,
          1472,
          1780,
          1646,
          1969,
          1731,
          1546,
          2257,
          2235,
          2333,
          2216,
          2467,
          2001,
          1819,
          2972,
          3098,
          3146,
          3073,
          3564,
          3545,
          2717,
          4041,
          4544,
          4508,
          4453,
          5199,
          4125,
          3905,
          5942,
          6220,
          6377,
          6180,
          7000,
          5406,
          4853,
          7015,
          8270,
          8367,
          8367,
          9559,
          6557,
          5783,
          7996,
          10002,
          9518,
          9299,
          10733,
          7085,
          6260,
          8202,
          11099,
          10262,
          10048,
          11150,
          8496,
          7303,
          9112,
          11049,
          11528,
          11414,
          11787,
          9019,
          7777,
          10176,
          12064,
          11795,
          11407,
          14040,
          8262,
          6952,
          9647,
          12002,
          11366,
          10635,
          11247,
          7283,
          5953,
          8448,
          10002,
          9209,
          9112,
          9550,
          6763,
          6298,
          9423,
          10816,
          10383,
          10649,
          11192,
          8741,
          7176,
          8769,
          11525,
          13519,
          13417,
          14040,
          11651,
          9981,
          15584,
          17352,
          17308,
          16490,
          16654,
          12916,
          10569,
          14196,
          16146,
          15232,
          14020,
          12953,
          6287,
          3318,
          1559,
          5
         ]
        },
        {
         "name": "Test AC",
         "type": "bar",
         "x": [
          "2020-01-31",
          "2020-02-01",
          "2020-02-02",
          "2020-02-03",
          "2020-02-04",
          "2020-02-05",
          "2020-02-06",
          "2020-02-07",
          "2020-02-08",
          "2020-02-09",
          "2020-02-10",
          "2020-02-11",
          "2020-02-12",
          "2020-02-13",
          "2020-02-14",
          "2020-02-15",
          "2020-02-16",
          "2020-02-17",
          "2020-02-18",
          "2020-02-19",
          "2020-02-20",
          "2020-02-21",
          "2020-02-22",
          "2020-02-23",
          "2020-02-24",
          "2020-02-25",
          "2020-02-26",
          "2020-02-27",
          "2020-02-28",
          "2020-02-29",
          "2020-03-01",
          "2020-03-02",
          "2020-03-03",
          "2020-03-04",
          "2020-03-05",
          "2020-03-06",
          "2020-03-07",
          "2020-03-08",
          "2020-03-09",
          "2020-03-10",
          "2020-03-11",
          "2020-03-12",
          "2020-03-13",
          "2020-03-14",
          "2020-03-15",
          "2020-03-16",
          "2020-03-17",
          "2020-03-18",
          "2020-03-19",
          "2020-03-20",
          "2020-03-21",
          "2020-03-22",
          "2020-03-23",
          "2020-03-24",
          "2020-03-25",
          "2020-03-26",
          "2020-03-27",
          "2020-03-28",
          "2020-03-29",
          "2020-03-30",
          "2020-03-31",
          "2020-04-01",
          "2020-04-02",
          "2020-04-03",
          "2020-04-04",
          "2020-04-05",
          "2020-04-06",
          "2020-04-07",
          "2020-04-08",
          "2020-04-09",
          "2020-04-10",
          "2020-04-11",
          "2020-04-12",
          "2020-04-13",
          "2020-04-14",
          "2020-04-15",
          "2020-04-16",
          "2020-04-17",
          "2020-04-18",
          "2020-04-19",
          "2020-04-20",
          "2020-04-21",
          "2020-04-22",
          "2020-04-23",
          "2020-04-24",
          "2020-04-25",
          "2020-04-26",
          "2020-04-27",
          "2020-04-28",
          "2020-04-29",
          "2020-04-30",
          "2020-05-01",
          "2020-05-02",
          "2020-05-03",
          "2020-05-04",
          "2020-05-05",
          "2020-05-06",
          "2020-05-07",
          "2020-05-08",
          "2020-05-09",
          "2020-05-10",
          "2020-05-11",
          "2020-05-12",
          "2020-05-13",
          "2020-05-14",
          "2020-05-15",
          "2020-05-16",
          "2020-05-17",
          "2020-05-18",
          "2020-05-19",
          "2020-05-20",
          "2020-05-21",
          "2020-05-22",
          "2020-05-23",
          "2020-05-24",
          "2020-05-25",
          "2020-05-26",
          "2020-05-27",
          "2020-05-28",
          "2020-05-29",
          "2020-05-30",
          "2020-05-31",
          "2020-06-01",
          "2020-06-02",
          "2020-06-03",
          "2020-06-04",
          "2020-06-05",
          "2020-06-06",
          "2020-06-07",
          "2020-06-08",
          "2020-06-09",
          "2020-06-10",
          "2020-06-11",
          "2020-06-12",
          "2020-06-13",
          "2020-06-14",
          "2020-06-15",
          "2020-06-16",
          "2020-06-17",
          "2020-06-18",
          "2020-06-19",
          "2020-06-20",
          "2020-06-21",
          "2020-06-22",
          "2020-06-23",
          "2020-06-24",
          "2020-06-25",
          "2020-06-26",
          "2020-06-27",
          "2020-06-28",
          "2020-06-29",
          "2020-06-30",
          "2020-07-01",
          "2020-07-02",
          "2020-07-03",
          "2020-07-04",
          "2020-07-05",
          "2020-07-06",
          "2020-07-07",
          "2020-07-08",
          "2020-07-09",
          "2020-07-10",
          "2020-07-11",
          "2020-07-12",
          "2020-07-13",
          "2020-07-14",
          "2020-07-15",
          "2020-07-16",
          "2020-07-17",
          "2020-07-18",
          "2020-07-19",
          "2020-07-20",
          "2020-07-21",
          "2020-07-22",
          "2020-07-23",
          "2020-07-24",
          "2020-07-25",
          "2020-07-26",
          "2020-07-27",
          "2020-07-28",
          "2020-07-29",
          "2020-07-30",
          "2020-07-31",
          "2020-08-01",
          "2020-08-02",
          "2020-08-03",
          "2020-08-04",
          "2020-08-05",
          "2020-08-06",
          "2020-08-07",
          "2020-08-08",
          "2020-08-09",
          "2020-08-10",
          "2020-08-11",
          "2020-08-12",
          "2020-08-13",
          "2020-08-14",
          "2020-08-15",
          "2020-08-16",
          "2020-08-17",
          "2020-08-18",
          "2020-08-19",
          "2020-08-20",
          "2020-08-21",
          "2020-08-22",
          "2020-08-23",
          "2020-08-24",
          "2020-08-25",
          "2020-08-26",
          "2020-08-27",
          "2020-08-28",
          "2020-08-29",
          "2020-08-30",
          "2020-08-31",
          "2020-09-01",
          "2020-09-02",
          "2020-09-03",
          "2020-09-04",
          "2020-09-05",
          "2020-09-06",
          "2020-09-07",
          "2020-09-08",
          "2020-09-09",
          "2020-09-10",
          "2020-09-11",
          "2020-09-12",
          "2020-09-13",
          "2020-09-14",
          "2020-09-15",
          "2020-09-16",
          "2020-09-17",
          "2020-09-18",
          "2020-09-19",
          "2020-09-20",
          "2020-09-21",
          "2020-09-22",
          "2020-09-23",
          "2020-09-24",
          "2020-09-25",
          "2020-09-26",
          "2020-09-27",
          "2020-09-28",
          "2020-09-29",
          "2020-09-30",
          "2020-10-01",
          "2020-10-02",
          "2020-10-03",
          "2020-10-04",
          "2020-10-05",
          "2020-10-06",
          "2020-10-07",
          "2020-10-08",
          "2020-10-09",
          "2020-10-10",
          "2020-10-11",
          "2020-10-12",
          "2020-10-13",
          "2020-10-14",
          "2020-10-15",
          "2020-10-16",
          "2020-10-17",
          "2020-10-18",
          "2020-10-19",
          "2020-10-20",
          "2020-10-21",
          "2020-10-22",
          "2020-10-23",
          "2020-10-24",
          "2020-10-25",
          "2020-10-26",
          "2020-10-27",
          "2020-10-28",
          "2020-10-29",
          "2020-10-30",
          "2020-10-31",
          "2020-11-01",
          "2020-11-02",
          "2020-11-03"
         ],
         "y": [
          1,
          0,
          3,
          4,
          4,
          7,
          1,
          1,
          0,
          1,
          5,
          1,
          0,
          7,
          1,
          4,
          0,
          9,
          2,
          4,
          13,
          6,
          1,
          1,
          4,
          10,
          8,
          9,
          16,
          8,
          32,
          26,
          31,
          25,
          39,
          47,
          42,
          62,
          92,
          127,
          140,
          171,
          266,
          227,
          315,
          377,
          300,
          297,
          290,
          415,
          225,
          237,
          357,
          302,
          313,
          255,
          226,
          207,
          145,
          261,
          176,
          316,
          233,
          229,
          340,
          301,
          323,
          356,
          424,
          421,
          534,
          400,
          299,
          455,
          607,
          599,
          479,
          391,
          469,
          233,
          218,
          535,
          499,
          588,
          690,
          247,
          139,
          186,
          562,
          586,
          555,
          652,
          610,
          164,
          183,
          247,
          112,
          118,
          86,
          74,
          11,
          10,
          35,
          34,
          27,
          26,
          26,
          4,
          1,
          10,
          11,
          7,
          9,
          7,
          4,
          1,
          12,
          6,
          1,
          7,
          6,
          1,
          2,
          5,
          6,
          1,
          0,
          0,
          3,
          0,
          0,
          1,
          0,
          0,
          0,
          0,
          0,
          0,
          0,
          0,
          0,
          0,
          0,
          0,
          1,
          0,
          0,
          0,
          0,
          0,
          0,
          0,
          0,
          0,
          0,
          0,
          0,
          1,
          0,
          0,
          0,
          0,
          0,
          0,
          0,
          0,
          0,
          0,
          0,
          0,
          0,
          0,
          0,
          0,
          0,
          0,
          0,
          0,
          0,
          0,
          0,
          0,
          0,
          0,
          0,
          0,
          0,
          0,
          0,
          0,
          0,
          0,
          0,
          0,
          0,
          0,
          0,
          1,
          0,
          0,
          0,
          0,
          0,
          0,
          0,
          0,
          0,
          0,
          0,
          0,
          0,
          0,
          0,
          0,
          0,
          1,
          1,
          0,
          0,
          1,
          0,
          1,
          3,
          0,
          0,
          0,
          0,
          1,
          0,
          0,
          0,
          0,
          0,
          0,
          0,
          0,
          0,
          0,
          0,
          0,
          0,
          0,
          0,
          0,
          0,
          2,
          0,
          0,
          1,
          0,
          0,
          0,
          1,
          0,
          1,
          1,
          0,
          4,
          2,
          2,
          1,
          3,
          3,
          1,
          5,
          2,
          2,
          8,
          3,
          6,
          2,
          3,
          1,
          2,
          0,
          0,
          1,
          0
         ]
        },
        {
         "name": "Otras",
         "type": "bar",
         "x": [
          "2020-01-31",
          "2020-02-01",
          "2020-02-02",
          "2020-02-03",
          "2020-02-04",
          "2020-02-05",
          "2020-02-06",
          "2020-02-07",
          "2020-02-08",
          "2020-02-09",
          "2020-02-10",
          "2020-02-11",
          "2020-02-12",
          "2020-02-13",
          "2020-02-14",
          "2020-02-15",
          "2020-02-16",
          "2020-02-17",
          "2020-02-18",
          "2020-02-19",
          "2020-02-20",
          "2020-02-21",
          "2020-02-22",
          "2020-02-23",
          "2020-02-24",
          "2020-02-25",
          "2020-02-26",
          "2020-02-27",
          "2020-02-28",
          "2020-02-29",
          "2020-03-01",
          "2020-03-02",
          "2020-03-03",
          "2020-03-04",
          "2020-03-05",
          "2020-03-06",
          "2020-03-07",
          "2020-03-08",
          "2020-03-09",
          "2020-03-10",
          "2020-03-11",
          "2020-03-12",
          "2020-03-13",
          "2020-03-14",
          "2020-03-15",
          "2020-03-16",
          "2020-03-17",
          "2020-03-18",
          "2020-03-19",
          "2020-03-20",
          "2020-03-21",
          "2020-03-22",
          "2020-03-23",
          "2020-03-24",
          "2020-03-25",
          "2020-03-26",
          "2020-03-27",
          "2020-03-28",
          "2020-03-29",
          "2020-03-30",
          "2020-03-31",
          "2020-04-01",
          "2020-04-02",
          "2020-04-03",
          "2020-04-04",
          "2020-04-05",
          "2020-04-06",
          "2020-04-07",
          "2020-04-08",
          "2020-04-09",
          "2020-04-10",
          "2020-04-11",
          "2020-04-12",
          "2020-04-13",
          "2020-04-14",
          "2020-04-15",
          "2020-04-16",
          "2020-04-17",
          "2020-04-18",
          "2020-04-19",
          "2020-04-20",
          "2020-04-21",
          "2020-04-22",
          "2020-04-23",
          "2020-04-24",
          "2020-04-25",
          "2020-04-26",
          "2020-04-27",
          "2020-04-28",
          "2020-04-29",
          "2020-04-30",
          "2020-05-01",
          "2020-05-02",
          "2020-05-03",
          "2020-05-04",
          "2020-05-05",
          "2020-05-06",
          "2020-05-07",
          "2020-05-08",
          "2020-05-09",
          "2020-05-10",
          "2020-05-11",
          "2020-05-12",
          "2020-05-13",
          "2020-05-14",
          "2020-05-15",
          "2020-05-16",
          "2020-05-17",
          "2020-05-18",
          "2020-05-19",
          "2020-05-20",
          "2020-05-21",
          "2020-05-22",
          "2020-05-23",
          "2020-05-24",
          "2020-05-25",
          "2020-05-26",
          "2020-05-27",
          "2020-05-28",
          "2020-05-29",
          "2020-05-30",
          "2020-05-31",
          "2020-06-01",
          "2020-06-02",
          "2020-06-03",
          "2020-06-04",
          "2020-06-05",
          "2020-06-06",
          "2020-06-07",
          "2020-06-08",
          "2020-06-09",
          "2020-06-10",
          "2020-06-11",
          "2020-06-12",
          "2020-06-13",
          "2020-06-14",
          "2020-06-15",
          "2020-06-16",
          "2020-06-17",
          "2020-06-18",
          "2020-06-19",
          "2020-06-20",
          "2020-06-21",
          "2020-06-22",
          "2020-06-23",
          "2020-06-24",
          "2020-06-25",
          "2020-06-26",
          "2020-06-27",
          "2020-06-28",
          "2020-06-29",
          "2020-06-30",
          "2020-07-01",
          "2020-07-02",
          "2020-07-03",
          "2020-07-04",
          "2020-07-05",
          "2020-07-06",
          "2020-07-07",
          "2020-07-08",
          "2020-07-09",
          "2020-07-10",
          "2020-07-11",
          "2020-07-12",
          "2020-07-13",
          "2020-07-14",
          "2020-07-15",
          "2020-07-16",
          "2020-07-17",
          "2020-07-18",
          "2020-07-19",
          "2020-07-20",
          "2020-07-21",
          "2020-07-22",
          "2020-07-23",
          "2020-07-24",
          "2020-07-25",
          "2020-07-26",
          "2020-07-27",
          "2020-07-28",
          "2020-07-29",
          "2020-07-30",
          "2020-07-31",
          "2020-08-01",
          "2020-08-02",
          "2020-08-03",
          "2020-08-04",
          "2020-08-05",
          "2020-08-06",
          "2020-08-07",
          "2020-08-08",
          "2020-08-09",
          "2020-08-10",
          "2020-08-11",
          "2020-08-12",
          "2020-08-13",
          "2020-08-14",
          "2020-08-15",
          "2020-08-16",
          "2020-08-17",
          "2020-08-18",
          "2020-08-19",
          "2020-08-20",
          "2020-08-21",
          "2020-08-22",
          "2020-08-23",
          "2020-08-24",
          "2020-08-25",
          "2020-08-26",
          "2020-08-27",
          "2020-08-28",
          "2020-08-29",
          "2020-08-30",
          "2020-08-31",
          "2020-09-01",
          "2020-09-02",
          "2020-09-03",
          "2020-09-04",
          "2020-09-05",
          "2020-09-06",
          "2020-09-07",
          "2020-09-08",
          "2020-09-09",
          "2020-09-10",
          "2020-09-11",
          "2020-09-12",
          "2020-09-13",
          "2020-09-14",
          "2020-09-15",
          "2020-09-16",
          "2020-09-17",
          "2020-09-18",
          "2020-09-19",
          "2020-09-20",
          "2020-09-21",
          "2020-09-22",
          "2020-09-23",
          "2020-09-24",
          "2020-09-25",
          "2020-09-26",
          "2020-09-27",
          "2020-09-28",
          "2020-09-29",
          "2020-09-30",
          "2020-10-01",
          "2020-10-02",
          "2020-10-03",
          "2020-10-04",
          "2020-10-05",
          "2020-10-06",
          "2020-10-07",
          "2020-10-08",
          "2020-10-09",
          "2020-10-10",
          "2020-10-11",
          "2020-10-12",
          "2020-10-13",
          "2020-10-14",
          "2020-10-15",
          "2020-10-16",
          "2020-10-17",
          "2020-10-18",
          "2020-10-19",
          "2020-10-20",
          "2020-10-21",
          "2020-10-22",
          "2020-10-23",
          "2020-10-24",
          "2020-10-25",
          "2020-10-26",
          "2020-10-27",
          "2020-10-28",
          "2020-10-29",
          "2020-10-30",
          "2020-10-31",
          "2020-11-01",
          "2020-11-02",
          "2020-11-03"
         ],
         "y": [
          0,
          1,
          1,
          1,
          0,
          0,
          0,
          0,
          0,
          0,
          0,
          0,
          0,
          0,
          0,
          0,
          0,
          0,
          0,
          0,
          0,
          1,
          0,
          0,
          0,
          1,
          1,
          1,
          2,
          1,
          5,
          6,
          1,
          4,
          3,
          3,
          5,
          2,
          4,
          2,
          4,
          4,
          10,
          12,
          21,
          16,
          15,
          8,
          11,
          13,
          10,
          2,
          15,
          8,
          7,
          5,
          11,
          7,
          8,
          15,
          4,
          11,
          4,
          3,
          2,
          2,
          3,
          1,
          4,
          4,
          3,
          1,
          1,
          4,
          3,
          2,
          2,
          0,
          1,
          1,
          3,
          3,
          1,
          0,
          1,
          1,
          0,
          3,
          1,
          2,
          3,
          5,
          2,
          2,
          3,
          5,
          4,
          1,
          3,
          5,
          6,
          41,
          38,
          41,
          52,
          49,
          6,
          5,
          42,
          61,
          57,
          74,
          82,
          11,
          2,
          70,
          64,
          48,
          65,
          50,
          9,
          7,
          11,
          25,
          31,
          44,
          24,
          4,
          6,
          24,
          36,
          50,
          45,
          30,
          5,
          5,
          25,
          15,
          18,
          16,
          16,
          4,
          2,
          24,
          24,
          3,
          33,
          40,
          3,
          5,
          18,
          18,
          24,
          22,
          9,
          2,
          5,
          4,
          5,
          6,
          2,
          6,
          2,
          5,
          10,
          8,
          8,
          8,
          6,
          5,
          8,
          9,
          17,
          8,
          8,
          8,
          4,
          3,
          13,
          9,
          12,
          13,
          8,
          4,
          3,
          8,
          9,
          7,
          8,
          9,
          1,
          5,
          13,
          8,
          4,
          6,
          8,
          2,
          7,
          15,
          8,
          7,
          8,
          6,
          4,
          8,
          14,
          11,
          13,
          8,
          12,
          6,
          8,
          12,
          24,
          20,
          18,
          18,
          13,
          11,
          19,
          14,
          18,
          12,
          9,
          8,
          15,
          19,
          22,
          20,
          14,
          33,
          28,
          40,
          134,
          108,
          122,
          174,
          210,
          173,
          173,
          392,
          450,
          628,
          697,
          947,
          748,
          759,
          1442,
          1435,
          1532,
          1432,
          1666,
          1249,
          1108,
          1361,
          2110,
          2029,
          2231,
          2515,
          1782,
          1862,
          3221,
          3287,
          3176,
          2992,
          3462,
          2142,
          2069,
          3593,
          3382,
          2982,
          2720,
          2660,
          986,
          793,
          382,
          3
         ]
        },
        {
         "name": "Desconocida",
         "type": "bar",
         "x": [
          "2020-01-31",
          "2020-02-01",
          "2020-02-02",
          "2020-02-03",
          "2020-02-04",
          "2020-02-05",
          "2020-02-06",
          "2020-02-07",
          "2020-02-08",
          "2020-02-09",
          "2020-02-10",
          "2020-02-11",
          "2020-02-12",
          "2020-02-13",
          "2020-02-14",
          "2020-02-15",
          "2020-02-16",
          "2020-02-17",
          "2020-02-18",
          "2020-02-19",
          "2020-02-20",
          "2020-02-21",
          "2020-02-22",
          "2020-02-23",
          "2020-02-24",
          "2020-02-25",
          "2020-02-26",
          "2020-02-27",
          "2020-02-28",
          "2020-02-29",
          "2020-03-01",
          "2020-03-02",
          "2020-03-03",
          "2020-03-04",
          "2020-03-05",
          "2020-03-06",
          "2020-03-07",
          "2020-03-08",
          "2020-03-09",
          "2020-03-10",
          "2020-03-11",
          "2020-03-12",
          "2020-03-13",
          "2020-03-14",
          "2020-03-15",
          "2020-03-16",
          "2020-03-17",
          "2020-03-18",
          "2020-03-19",
          "2020-03-20",
          "2020-03-21",
          "2020-03-22",
          "2020-03-23",
          "2020-03-24",
          "2020-03-25",
          "2020-03-26",
          "2020-03-27",
          "2020-03-28",
          "2020-03-29",
          "2020-03-30",
          "2020-03-31",
          "2020-04-01",
          "2020-04-02",
          "2020-04-03",
          "2020-04-04",
          "2020-04-05",
          "2020-04-06",
          "2020-04-07",
          "2020-04-08",
          "2020-04-09",
          "2020-04-10",
          "2020-04-11",
          "2020-04-12",
          "2020-04-13",
          "2020-04-14",
          "2020-04-15",
          "2020-04-16",
          "2020-04-17",
          "2020-04-18",
          "2020-04-19",
          "2020-04-20",
          "2020-04-21",
          "2020-04-22",
          "2020-04-23",
          "2020-04-24",
          "2020-04-25",
          "2020-04-26",
          "2020-04-27",
          "2020-04-28",
          "2020-04-29",
          "2020-04-30",
          "2020-05-01",
          "2020-05-02",
          "2020-05-03",
          "2020-05-04",
          "2020-05-05",
          "2020-05-06",
          "2020-05-07",
          "2020-05-08",
          "2020-05-09",
          "2020-05-10",
          "2020-05-11",
          "2020-05-12",
          "2020-05-13",
          "2020-05-14",
          "2020-05-15",
          "2020-05-16",
          "2020-05-17",
          "2020-05-18",
          "2020-05-19",
          "2020-05-20",
          "2020-05-21",
          "2020-05-22",
          "2020-05-23",
          "2020-05-24",
          "2020-05-25",
          "2020-05-26",
          "2020-05-27",
          "2020-05-28",
          "2020-05-29",
          "2020-05-30",
          "2020-05-31",
          "2020-06-01",
          "2020-06-02",
          "2020-06-03",
          "2020-06-04",
          "2020-06-05",
          "2020-06-06",
          "2020-06-07",
          "2020-06-08",
          "2020-06-09",
          "2020-06-10",
          "2020-06-11",
          "2020-06-12",
          "2020-06-13",
          "2020-06-14",
          "2020-06-15",
          "2020-06-16",
          "2020-06-17",
          "2020-06-18",
          "2020-06-19",
          "2020-06-20",
          "2020-06-21",
          "2020-06-22",
          "2020-06-23",
          "2020-06-24",
          "2020-06-25",
          "2020-06-26",
          "2020-06-27",
          "2020-06-28",
          "2020-06-29",
          "2020-06-30",
          "2020-07-01",
          "2020-07-02",
          "2020-07-03",
          "2020-07-04",
          "2020-07-05",
          "2020-07-06",
          "2020-07-07",
          "2020-07-08",
          "2020-07-09",
          "2020-07-10",
          "2020-07-11",
          "2020-07-12",
          "2020-07-13",
          "2020-07-14",
          "2020-07-15",
          "2020-07-16",
          "2020-07-17",
          "2020-07-18",
          "2020-07-19",
          "2020-07-20",
          "2020-07-21",
          "2020-07-22",
          "2020-07-23",
          "2020-07-24",
          "2020-07-25",
          "2020-07-26",
          "2020-07-27",
          "2020-07-28",
          "2020-07-29",
          "2020-07-30",
          "2020-07-31",
          "2020-08-01",
          "2020-08-02",
          "2020-08-03",
          "2020-08-04",
          "2020-08-05",
          "2020-08-06",
          "2020-08-07",
          "2020-08-08",
          "2020-08-09",
          "2020-08-10",
          "2020-08-11",
          "2020-08-12",
          "2020-08-13",
          "2020-08-14",
          "2020-08-15",
          "2020-08-16",
          "2020-08-17",
          "2020-08-18",
          "2020-08-19",
          "2020-08-20",
          "2020-08-21",
          "2020-08-22",
          "2020-08-23",
          "2020-08-24",
          "2020-08-25",
          "2020-08-26",
          "2020-08-27",
          "2020-08-28",
          "2020-08-29",
          "2020-08-30",
          "2020-08-31",
          "2020-09-01",
          "2020-09-02",
          "2020-09-03",
          "2020-09-04",
          "2020-09-05",
          "2020-09-06",
          "2020-09-07",
          "2020-09-08",
          "2020-09-09",
          "2020-09-10",
          "2020-09-11",
          "2020-09-12",
          "2020-09-13",
          "2020-09-14",
          "2020-09-15",
          "2020-09-16",
          "2020-09-17",
          "2020-09-18",
          "2020-09-19",
          "2020-09-20",
          "2020-09-21",
          "2020-09-22",
          "2020-09-23",
          "2020-09-24",
          "2020-09-25",
          "2020-09-26",
          "2020-09-27",
          "2020-09-28",
          "2020-09-29",
          "2020-09-30",
          "2020-10-01",
          "2020-10-02",
          "2020-10-03",
          "2020-10-04",
          "2020-10-05",
          "2020-10-06",
          "2020-10-07",
          "2020-10-08",
          "2020-10-09",
          "2020-10-10",
          "2020-10-11",
          "2020-10-12",
          "2020-10-13",
          "2020-10-14",
          "2020-10-15",
          "2020-10-16",
          "2020-10-17",
          "2020-10-18",
          "2020-10-19",
          "2020-10-20",
          "2020-10-21",
          "2020-10-22",
          "2020-10-23",
          "2020-10-24",
          "2020-10-25",
          "2020-10-26",
          "2020-10-27",
          "2020-10-28",
          "2020-10-29",
          "2020-10-30",
          "2020-10-31",
          "2020-11-01",
          "2020-11-02",
          "2020-11-03"
         ],
         "y": [
          0,
          2,
          2,
          2,
          0,
          1,
          0,
          1,
          0,
          2,
          0,
          1,
          1,
          2,
          0,
          0,
          1,
          1,
          0,
          1,
          4,
          2,
          2,
          2,
          9,
          10,
          14,
          11,
          21,
          20,
          59,
          62,
          51,
          62,
          79,
          108,
          155,
          177,
          235,
          307,
          326,
          420,
          581,
          565,
          622,
          788,
          663,
          713,
          624,
          766,
          524,
          584,
          630,
          505,
          515,
          423,
          383,
          309,
          297,
          398,
          302,
          331,
          277,
          230,
          268,
          254,
          367,
          342,
          311,
          345,
          292,
          140,
          189,
          300,
          213,
          153,
          134,
          176,
          101,
          95,
          141,
          243,
          213,
          109,
          92,
          72,
          99,
          148,
          203,
          96,
          113,
          36,
          41,
          58,
          30,
          65,
          62,
          24,
          21,
          15,
          7,
          3,
          5,
          4,
          4,
          3,
          9,
          0,
          4,
          0,
          3,
          3,
          4,
          1,
          2,
          1,
          2,
          0,
          2,
          2,
          4,
          0,
          0,
          1,
          3,
          2,
          2,
          2,
          10,
          1,
          1,
          0,
          0,
          0,
          0,
          0,
          0,
          0,
          0,
          0,
          0,
          0,
          0,
          0,
          0,
          0,
          0,
          0,
          0,
          0,
          0,
          2,
          0,
          1,
          0,
          0,
          0,
          1,
          0,
          0,
          2,
          0,
          0,
          3,
          1,
          0,
          2,
          1,
          6,
          3,
          1,
          0,
          1,
          1,
          0,
          1,
          0,
          0,
          0,
          0,
          0,
          0,
          0,
          1,
          0,
          0,
          0,
          0,
          0,
          1,
          0,
          0,
          0,
          0,
          1,
          1,
          1,
          1,
          3,
          0,
          0,
          1,
          2,
          0,
          0,
          0,
          0,
          0,
          0,
          1,
          2,
          3,
          0,
          0,
          0,
          3,
          1,
          0,
          1,
          0,
          1,
          0,
          1,
          1,
          1,
          0,
          0,
          1,
          1,
          1,
          1,
          0,
          1,
          0,
          1,
          0,
          1,
          1,
          0,
          0,
          1,
          2,
          0,
          3,
          0,
          4,
          0,
          1,
          3,
          3,
          0,
          3,
          0,
          0,
          0,
          2,
          4,
          3,
          5,
          7,
          8,
          2,
          3,
          0,
          1,
          2,
          1,
          2,
          3,
          2,
          2,
          2,
          8,
          2,
          1,
          0,
          1,
          0
         ]
        }
       ],
       "layout": {
        "barmode": "stack",
        "template": {
         "data": {
          "bar": [
           {
            "error_x": {
             "color": "#2a3f5f"
            },
            "error_y": {
             "color": "#2a3f5f"
            },
            "marker": {
             "line": {
              "color": "#E5ECF6",
              "width": 0.5
             }
            },
            "type": "bar"
           }
          ],
          "barpolar": [
           {
            "marker": {
             "line": {
              "color": "#E5ECF6",
              "width": 0.5
             }
            },
            "type": "barpolar"
           }
          ],
          "carpet": [
           {
            "aaxis": {
             "endlinecolor": "#2a3f5f",
             "gridcolor": "white",
             "linecolor": "white",
             "minorgridcolor": "white",
             "startlinecolor": "#2a3f5f"
            },
            "baxis": {
             "endlinecolor": "#2a3f5f",
             "gridcolor": "white",
             "linecolor": "white",
             "minorgridcolor": "white",
             "startlinecolor": "#2a3f5f"
            },
            "type": "carpet"
           }
          ],
          "choropleth": [
           {
            "colorbar": {
             "outlinewidth": 0,
             "ticks": ""
            },
            "type": "choropleth"
           }
          ],
          "contour": [
           {
            "colorbar": {
             "outlinewidth": 0,
             "ticks": ""
            },
            "colorscale": [
             [
              0,
              "#0d0887"
             ],
             [
              0.1111111111111111,
              "#46039f"
             ],
             [
              0.2222222222222222,
              "#7201a8"
             ],
             [
              0.3333333333333333,
              "#9c179e"
             ],
             [
              0.4444444444444444,
              "#bd3786"
             ],
             [
              0.5555555555555556,
              "#d8576b"
             ],
             [
              0.6666666666666666,
              "#ed7953"
             ],
             [
              0.7777777777777778,
              "#fb9f3a"
             ],
             [
              0.8888888888888888,
              "#fdca26"
             ],
             [
              1,
              "#f0f921"
             ]
            ],
            "type": "contour"
           }
          ],
          "contourcarpet": [
           {
            "colorbar": {
             "outlinewidth": 0,
             "ticks": ""
            },
            "type": "contourcarpet"
           }
          ],
          "heatmap": [
           {
            "colorbar": {
             "outlinewidth": 0,
             "ticks": ""
            },
            "colorscale": [
             [
              0,
              "#0d0887"
             ],
             [
              0.1111111111111111,
              "#46039f"
             ],
             [
              0.2222222222222222,
              "#7201a8"
             ],
             [
              0.3333333333333333,
              "#9c179e"
             ],
             [
              0.4444444444444444,
              "#bd3786"
             ],
             [
              0.5555555555555556,
              "#d8576b"
             ],
             [
              0.6666666666666666,
              "#ed7953"
             ],
             [
              0.7777777777777778,
              "#fb9f3a"
             ],
             [
              0.8888888888888888,
              "#fdca26"
             ],
             [
              1,
              "#f0f921"
             ]
            ],
            "type": "heatmap"
           }
          ],
          "heatmapgl": [
           {
            "colorbar": {
             "outlinewidth": 0,
             "ticks": ""
            },
            "colorscale": [
             [
              0,
              "#0d0887"
             ],
             [
              0.1111111111111111,
              "#46039f"
             ],
             [
              0.2222222222222222,
              "#7201a8"
             ],
             [
              0.3333333333333333,
              "#9c179e"
             ],
             [
              0.4444444444444444,
              "#bd3786"
             ],
             [
              0.5555555555555556,
              "#d8576b"
             ],
             [
              0.6666666666666666,
              "#ed7953"
             ],
             [
              0.7777777777777778,
              "#fb9f3a"
             ],
             [
              0.8888888888888888,
              "#fdca26"
             ],
             [
              1,
              "#f0f921"
             ]
            ],
            "type": "heatmapgl"
           }
          ],
          "histogram": [
           {
            "marker": {
             "colorbar": {
              "outlinewidth": 0,
              "ticks": ""
             }
            },
            "type": "histogram"
           }
          ],
          "histogram2d": [
           {
            "colorbar": {
             "outlinewidth": 0,
             "ticks": ""
            },
            "colorscale": [
             [
              0,
              "#0d0887"
             ],
             [
              0.1111111111111111,
              "#46039f"
             ],
             [
              0.2222222222222222,
              "#7201a8"
             ],
             [
              0.3333333333333333,
              "#9c179e"
             ],
             [
              0.4444444444444444,
              "#bd3786"
             ],
             [
              0.5555555555555556,
              "#d8576b"
             ],
             [
              0.6666666666666666,
              "#ed7953"
             ],
             [
              0.7777777777777778,
              "#fb9f3a"
             ],
             [
              0.8888888888888888,
              "#fdca26"
             ],
             [
              1,
              "#f0f921"
             ]
            ],
            "type": "histogram2d"
           }
          ],
          "histogram2dcontour": [
           {
            "colorbar": {
             "outlinewidth": 0,
             "ticks": ""
            },
            "colorscale": [
             [
              0,
              "#0d0887"
             ],
             [
              0.1111111111111111,
              "#46039f"
             ],
             [
              0.2222222222222222,
              "#7201a8"
             ],
             [
              0.3333333333333333,
              "#9c179e"
             ],
             [
              0.4444444444444444,
              "#bd3786"
             ],
             [
              0.5555555555555556,
              "#d8576b"
             ],
             [
              0.6666666666666666,
              "#ed7953"
             ],
             [
              0.7777777777777778,
              "#fb9f3a"
             ],
             [
              0.8888888888888888,
              "#fdca26"
             ],
             [
              1,
              "#f0f921"
             ]
            ],
            "type": "histogram2dcontour"
           }
          ],
          "mesh3d": [
           {
            "colorbar": {
             "outlinewidth": 0,
             "ticks": ""
            },
            "type": "mesh3d"
           }
          ],
          "parcoords": [
           {
            "line": {
             "colorbar": {
              "outlinewidth": 0,
              "ticks": ""
             }
            },
            "type": "parcoords"
           }
          ],
          "pie": [
           {
            "automargin": true,
            "type": "pie"
           }
          ],
          "scatter": [
           {
            "marker": {
             "colorbar": {
              "outlinewidth": 0,
              "ticks": ""
             }
            },
            "type": "scatter"
           }
          ],
          "scatter3d": [
           {
            "line": {
             "colorbar": {
              "outlinewidth": 0,
              "ticks": ""
             }
            },
            "marker": {
             "colorbar": {
              "outlinewidth": 0,
              "ticks": ""
             }
            },
            "type": "scatter3d"
           }
          ],
          "scattercarpet": [
           {
            "marker": {
             "colorbar": {
              "outlinewidth": 0,
              "ticks": ""
             }
            },
            "type": "scattercarpet"
           }
          ],
          "scattergeo": [
           {
            "marker": {
             "colorbar": {
              "outlinewidth": 0,
              "ticks": ""
             }
            },
            "type": "scattergeo"
           }
          ],
          "scattergl": [
           {
            "marker": {
             "colorbar": {
              "outlinewidth": 0,
              "ticks": ""
             }
            },
            "type": "scattergl"
           }
          ],
          "scattermapbox": [
           {
            "marker": {
             "colorbar": {
              "outlinewidth": 0,
              "ticks": ""
             }
            },
            "type": "scattermapbox"
           }
          ],
          "scatterpolar": [
           {
            "marker": {
             "colorbar": {
              "outlinewidth": 0,
              "ticks": ""
             }
            },
            "type": "scatterpolar"
           }
          ],
          "scatterpolargl": [
           {
            "marker": {
             "colorbar": {
              "outlinewidth": 0,
              "ticks": ""
             }
            },
            "type": "scatterpolargl"
           }
          ],
          "scatterternary": [
           {
            "marker": {
             "colorbar": {
              "outlinewidth": 0,
              "ticks": ""
             }
            },
            "type": "scatterternary"
           }
          ],
          "surface": [
           {
            "colorbar": {
             "outlinewidth": 0,
             "ticks": ""
            },
            "colorscale": [
             [
              0,
              "#0d0887"
             ],
             [
              0.1111111111111111,
              "#46039f"
             ],
             [
              0.2222222222222222,
              "#7201a8"
             ],
             [
              0.3333333333333333,
              "#9c179e"
             ],
             [
              0.4444444444444444,
              "#bd3786"
             ],
             [
              0.5555555555555556,
              "#d8576b"
             ],
             [
              0.6666666666666666,
              "#ed7953"
             ],
             [
              0.7777777777777778,
              "#fb9f3a"
             ],
             [
              0.8888888888888888,
              "#fdca26"
             ],
             [
              1,
              "#f0f921"
             ]
            ],
            "type": "surface"
           }
          ],
          "table": [
           {
            "cells": {
             "fill": {
              "color": "#EBF0F8"
             },
             "line": {
              "color": "white"
             }
            },
            "header": {
             "fill": {
              "color": "#C8D4E3"
             },
             "line": {
              "color": "white"
             }
            },
            "type": "table"
           }
          ]
         },
         "layout": {
          "annotationdefaults": {
           "arrowcolor": "#2a3f5f",
           "arrowhead": 0,
           "arrowwidth": 1
          },
          "coloraxis": {
           "colorbar": {
            "outlinewidth": 0,
            "ticks": ""
           }
          },
          "colorscale": {
           "diverging": [
            [
             0,
             "#8e0152"
            ],
            [
             0.1,
             "#c51b7d"
            ],
            [
             0.2,
             "#de77ae"
            ],
            [
             0.3,
             "#f1b6da"
            ],
            [
             0.4,
             "#fde0ef"
            ],
            [
             0.5,
             "#f7f7f7"
            ],
            [
             0.6,
             "#e6f5d0"
            ],
            [
             0.7,
             "#b8e186"
            ],
            [
             0.8,
             "#7fbc41"
            ],
            [
             0.9,
             "#4d9221"
            ],
            [
             1,
             "#276419"
            ]
           ],
           "sequential": [
            [
             0,
             "#0d0887"
            ],
            [
             0.1111111111111111,
             "#46039f"
            ],
            [
             0.2222222222222222,
             "#7201a8"
            ],
            [
             0.3333333333333333,
             "#9c179e"
            ],
            [
             0.4444444444444444,
             "#bd3786"
            ],
            [
             0.5555555555555556,
             "#d8576b"
            ],
            [
             0.6666666666666666,
             "#ed7953"
            ],
            [
             0.7777777777777778,
             "#fb9f3a"
            ],
            [
             0.8888888888888888,
             "#fdca26"
            ],
            [
             1,
             "#f0f921"
            ]
           ],
           "sequentialminus": [
            [
             0,
             "#0d0887"
            ],
            [
             0.1111111111111111,
             "#46039f"
            ],
            [
             0.2222222222222222,
             "#7201a8"
            ],
            [
             0.3333333333333333,
             "#9c179e"
            ],
            [
             0.4444444444444444,
             "#bd3786"
            ],
            [
             0.5555555555555556,
             "#d8576b"
            ],
            [
             0.6666666666666666,
             "#ed7953"
            ],
            [
             0.7777777777777778,
             "#fb9f3a"
            ],
            [
             0.8888888888888888,
             "#fdca26"
            ],
            [
             1,
             "#f0f921"
            ]
           ]
          },
          "colorway": [
           "#636efa",
           "#EF553B",
           "#00cc96",
           "#ab63fa",
           "#FFA15A",
           "#19d3f3",
           "#FF6692",
           "#B6E880",
           "#FF97FF",
           "#FECB52"
          ],
          "font": {
           "color": "#2a3f5f"
          },
          "geo": {
           "bgcolor": "white",
           "lakecolor": "white",
           "landcolor": "#E5ECF6",
           "showlakes": true,
           "showland": true,
           "subunitcolor": "white"
          },
          "hoverlabel": {
           "align": "left"
          },
          "hovermode": "closest",
          "mapbox": {
           "style": "light"
          },
          "paper_bgcolor": "white",
          "plot_bgcolor": "#E5ECF6",
          "polar": {
           "angularaxis": {
            "gridcolor": "white",
            "linecolor": "white",
            "ticks": ""
           },
           "bgcolor": "#E5ECF6",
           "radialaxis": {
            "gridcolor": "white",
            "linecolor": "white",
            "ticks": ""
           }
          },
          "scene": {
           "xaxis": {
            "backgroundcolor": "#E5ECF6",
            "gridcolor": "white",
            "gridwidth": 2,
            "linecolor": "white",
            "showbackground": true,
            "ticks": "",
            "zerolinecolor": "white"
           },
           "yaxis": {
            "backgroundcolor": "#E5ECF6",
            "gridcolor": "white",
            "gridwidth": 2,
            "linecolor": "white",
            "showbackground": true,
            "ticks": "",
            "zerolinecolor": "white"
           },
           "zaxis": {
            "backgroundcolor": "#E5ECF6",
            "gridcolor": "white",
            "gridwidth": 2,
            "linecolor": "white",
            "showbackground": true,
            "ticks": "",
            "zerolinecolor": "white"
           }
          },
          "shapedefaults": {
           "line": {
            "color": "#2a3f5f"
           }
          },
          "ternary": {
           "aaxis": {
            "gridcolor": "white",
            "linecolor": "white",
            "ticks": ""
           },
           "baxis": {
            "gridcolor": "white",
            "linecolor": "white",
            "ticks": ""
           },
           "bgcolor": "#E5ECF6",
           "caxis": {
            "gridcolor": "white",
            "linecolor": "white",
            "ticks": ""
           }
          },
          "title": {
           "x": 0.05
          },
          "xaxis": {
           "automargin": true,
           "gridcolor": "white",
           "linecolor": "white",
           "ticks": "",
           "title": {
            "standoff": 15
           },
           "zerolinecolor": "white",
           "zerolinewidth": 2
          },
          "yaxis": {
           "automargin": true,
           "gridcolor": "white",
           "linecolor": "white",
           "ticks": "",
           "title": {
            "standoff": 15
           },
           "zerolinecolor": "white",
           "zerolinewidth": 2
          }
         }
        },
        "title": {
         "text": "Contribución de cada método de detección en el último mes"
        },
        "width": 1000,
        "xaxis": {
         "categoryorder": "category ascending",
         "range": [
          "2020-10-1",
          "2020-10-31"
         ]
        }
       }
      }
     },
     "metadata": {}
    }
   ],
   "source": [
    "fig = go.Figure(layout=dict(title='Contribución de cada método de detección en el último mes'))\n",
    "fig.add_trace(go.Bar(x=spain['fecha'], y=spain['num_casos_prueba_pcr'], name='PCR'))\n",
    "fig.add_trace(go.Bar(x=spain['fecha'], y=spain['num_casos_prueba_test_ac'], name='Test AC'))\n",
    "fig.add_trace(go.Bar(x=spain['fecha'], y=spain['num_casos_prueba_otras'], name='Otras'))\n",
    "fig.add_trace(go.Bar(x=spain['fecha'], y=spain['num_casos_prueba_desconocida'], name='Desconocida'))\n",
    "fig.update_layout(barmode='stack', xaxis={'categoryorder': 'category ascending'}, width=1000)\n",
    "fig.update_xaxes(range=('2020-10-1', '2020-10-31'))\n",
    "fig.show()"
   ]
  },
  {
   "source": [
    "## Evolución de los contagios\n",
    "En la siguiente tabla se muestran los casos diarios, acumulados, el incremento diario, en los últimos 7 y 14 días, la media de casos en los últimos 7 y 14 días, la incidéncia acumulada en los últimos 7 y 14 días y la acumulada para los últimos 10 días a nivel nacional:"
   ],
   "cell_type": "markdown",
   "metadata": {}
  },
  {
   "cell_type": "code",
   "execution_count": 210,
   "metadata": {},
   "outputs": [
    {
     "output_type": "display_data",
     "data": {
      "application/vnd.plotly.v1+json": {
       "config": {
        "plotlyServerURL": "https://plotly.com"
       },
       "data": [
        {
         "cells": {
          "align": "center",
          "fill": {
           "color": "rgb(179, 179, 179)"
          },
          "height": 25,
          "values": [
           [
            "2020-10-25",
            "2020-10-26",
            "2020-10-27",
            "2020-10-28",
            "2020-10-29",
            "2020-10-30",
            "2020-10-31",
            "2020-11-01",
            "2020-11-02",
            "2020-11-03"
           ],
           [
            12644,
            17797,
            19532,
            18219,
            16749,
            15617,
            7274,
            4111,
            1943,
            8
           ],
           [
            1168897,
            1186694,
            1206226,
            1224445,
            1241194,
            1256811,
            1264085,
            1268196,
            1270139,
            1270147
           ],
           [
            -16.09,
            40.75,
            9.75,
            -6.72,
            -8.07,
            -6.76,
            -53.42,
            -43.48,
            -52.74,
            -99.59
           ],
           [
            127258,
            126244,
            125136,
            122865,
            120128,
            115626,
            107832,
            99299,
            83445,
            63921
           ],
           [
            224094,
            231758,
            237651,
            240315,
            241409,
            240462,
            234294,
            226557,
            209689,
            189057
           ],
           [
            18179.71,
            18034.86,
            17876.57,
            17552.14,
            17161.14,
            16518,
            15404.57,
            14185.57,
            11920.71,
            9131.57
           ],
           [
            16006.71,
            16554.14,
            16975.07,
            17165.36,
            17243.5,
            17175.86,
            16735.29,
            16182.64,
            14977.79,
            13504.07
           ],
           [
            268.3,
            266.16,
            263.83,
            259.04,
            253.27,
            243.78,
            227.34,
            209.35,
            175.93,
            134.77
           ],
           [
            472.46,
            488.62,
            501.04,
            506.66,
            508.97,
            506.97,
            493.97,
            477.65,
            442.09,
            398.59
           ],
           [
            2464.4,
            2501.92,
            2543.1,
            2581.52,
            2616.83,
            2649.75,
            2665.09,
            2673.76,
            2677.85,
            2677.87
           ]
          ]
         },
         "columnwidth": [
          100,
          90,
          90,
          180,
          100,
          120,
          140,
          140,
          100,
          100,
          100
         ],
         "header": {
          "align": "center",
          "fill": {
           "color": "rgb(124,124,124)"
          },
          "font": {
           "color": "white"
          },
          "values": [
           "Fecha",
           "Casos nuevos",
           "Casos totales",
           "Incremento de casos",
           "Casos 7 días",
           "Casos 14 días",
           "Media casos 7 días",
           "Media casos 14 días",
           "IA 7 días",
           "IA 14 días",
           "IA total"
          ]
         },
         "type": "table"
        }
       ],
       "layout": {
        "height": 500,
        "template": {
         "data": {
          "bar": [
           {
            "error_x": {
             "color": "#2a3f5f"
            },
            "error_y": {
             "color": "#2a3f5f"
            },
            "marker": {
             "line": {
              "color": "#E5ECF6",
              "width": 0.5
             }
            },
            "type": "bar"
           }
          ],
          "barpolar": [
           {
            "marker": {
             "line": {
              "color": "#E5ECF6",
              "width": 0.5
             }
            },
            "type": "barpolar"
           }
          ],
          "carpet": [
           {
            "aaxis": {
             "endlinecolor": "#2a3f5f",
             "gridcolor": "white",
             "linecolor": "white",
             "minorgridcolor": "white",
             "startlinecolor": "#2a3f5f"
            },
            "baxis": {
             "endlinecolor": "#2a3f5f",
             "gridcolor": "white",
             "linecolor": "white",
             "minorgridcolor": "white",
             "startlinecolor": "#2a3f5f"
            },
            "type": "carpet"
           }
          ],
          "choropleth": [
           {
            "colorbar": {
             "outlinewidth": 0,
             "ticks": ""
            },
            "type": "choropleth"
           }
          ],
          "contour": [
           {
            "colorbar": {
             "outlinewidth": 0,
             "ticks": ""
            },
            "colorscale": [
             [
              0,
              "#0d0887"
             ],
             [
              0.1111111111111111,
              "#46039f"
             ],
             [
              0.2222222222222222,
              "#7201a8"
             ],
             [
              0.3333333333333333,
              "#9c179e"
             ],
             [
              0.4444444444444444,
              "#bd3786"
             ],
             [
              0.5555555555555556,
              "#d8576b"
             ],
             [
              0.6666666666666666,
              "#ed7953"
             ],
             [
              0.7777777777777778,
              "#fb9f3a"
             ],
             [
              0.8888888888888888,
              "#fdca26"
             ],
             [
              1,
              "#f0f921"
             ]
            ],
            "type": "contour"
           }
          ],
          "contourcarpet": [
           {
            "colorbar": {
             "outlinewidth": 0,
             "ticks": ""
            },
            "type": "contourcarpet"
           }
          ],
          "heatmap": [
           {
            "colorbar": {
             "outlinewidth": 0,
             "ticks": ""
            },
            "colorscale": [
             [
              0,
              "#0d0887"
             ],
             [
              0.1111111111111111,
              "#46039f"
             ],
             [
              0.2222222222222222,
              "#7201a8"
             ],
             [
              0.3333333333333333,
              "#9c179e"
             ],
             [
              0.4444444444444444,
              "#bd3786"
             ],
             [
              0.5555555555555556,
              "#d8576b"
             ],
             [
              0.6666666666666666,
              "#ed7953"
             ],
             [
              0.7777777777777778,
              "#fb9f3a"
             ],
             [
              0.8888888888888888,
              "#fdca26"
             ],
             [
              1,
              "#f0f921"
             ]
            ],
            "type": "heatmap"
           }
          ],
          "heatmapgl": [
           {
            "colorbar": {
             "outlinewidth": 0,
             "ticks": ""
            },
            "colorscale": [
             [
              0,
              "#0d0887"
             ],
             [
              0.1111111111111111,
              "#46039f"
             ],
             [
              0.2222222222222222,
              "#7201a8"
             ],
             [
              0.3333333333333333,
              "#9c179e"
             ],
             [
              0.4444444444444444,
              "#bd3786"
             ],
             [
              0.5555555555555556,
              "#d8576b"
             ],
             [
              0.6666666666666666,
              "#ed7953"
             ],
             [
              0.7777777777777778,
              "#fb9f3a"
             ],
             [
              0.8888888888888888,
              "#fdca26"
             ],
             [
              1,
              "#f0f921"
             ]
            ],
            "type": "heatmapgl"
           }
          ],
          "histogram": [
           {
            "marker": {
             "colorbar": {
              "outlinewidth": 0,
              "ticks": ""
             }
            },
            "type": "histogram"
           }
          ],
          "histogram2d": [
           {
            "colorbar": {
             "outlinewidth": 0,
             "ticks": ""
            },
            "colorscale": [
             [
              0,
              "#0d0887"
             ],
             [
              0.1111111111111111,
              "#46039f"
             ],
             [
              0.2222222222222222,
              "#7201a8"
             ],
             [
              0.3333333333333333,
              "#9c179e"
             ],
             [
              0.4444444444444444,
              "#bd3786"
             ],
             [
              0.5555555555555556,
              "#d8576b"
             ],
             [
              0.6666666666666666,
              "#ed7953"
             ],
             [
              0.7777777777777778,
              "#fb9f3a"
             ],
             [
              0.8888888888888888,
              "#fdca26"
             ],
             [
              1,
              "#f0f921"
             ]
            ],
            "type": "histogram2d"
           }
          ],
          "histogram2dcontour": [
           {
            "colorbar": {
             "outlinewidth": 0,
             "ticks": ""
            },
            "colorscale": [
             [
              0,
              "#0d0887"
             ],
             [
              0.1111111111111111,
              "#46039f"
             ],
             [
              0.2222222222222222,
              "#7201a8"
             ],
             [
              0.3333333333333333,
              "#9c179e"
             ],
             [
              0.4444444444444444,
              "#bd3786"
             ],
             [
              0.5555555555555556,
              "#d8576b"
             ],
             [
              0.6666666666666666,
              "#ed7953"
             ],
             [
              0.7777777777777778,
              "#fb9f3a"
             ],
             [
              0.8888888888888888,
              "#fdca26"
             ],
             [
              1,
              "#f0f921"
             ]
            ],
            "type": "histogram2dcontour"
           }
          ],
          "mesh3d": [
           {
            "colorbar": {
             "outlinewidth": 0,
             "ticks": ""
            },
            "type": "mesh3d"
           }
          ],
          "parcoords": [
           {
            "line": {
             "colorbar": {
              "outlinewidth": 0,
              "ticks": ""
             }
            },
            "type": "parcoords"
           }
          ],
          "pie": [
           {
            "automargin": true,
            "type": "pie"
           }
          ],
          "scatter": [
           {
            "marker": {
             "colorbar": {
              "outlinewidth": 0,
              "ticks": ""
             }
            },
            "type": "scatter"
           }
          ],
          "scatter3d": [
           {
            "line": {
             "colorbar": {
              "outlinewidth": 0,
              "ticks": ""
             }
            },
            "marker": {
             "colorbar": {
              "outlinewidth": 0,
              "ticks": ""
             }
            },
            "type": "scatter3d"
           }
          ],
          "scattercarpet": [
           {
            "marker": {
             "colorbar": {
              "outlinewidth": 0,
              "ticks": ""
             }
            },
            "type": "scattercarpet"
           }
          ],
          "scattergeo": [
           {
            "marker": {
             "colorbar": {
              "outlinewidth": 0,
              "ticks": ""
             }
            },
            "type": "scattergeo"
           }
          ],
          "scattergl": [
           {
            "marker": {
             "colorbar": {
              "outlinewidth": 0,
              "ticks": ""
             }
            },
            "type": "scattergl"
           }
          ],
          "scattermapbox": [
           {
            "marker": {
             "colorbar": {
              "outlinewidth": 0,
              "ticks": ""
             }
            },
            "type": "scattermapbox"
           }
          ],
          "scatterpolar": [
           {
            "marker": {
             "colorbar": {
              "outlinewidth": 0,
              "ticks": ""
             }
            },
            "type": "scatterpolar"
           }
          ],
          "scatterpolargl": [
           {
            "marker": {
             "colorbar": {
              "outlinewidth": 0,
              "ticks": ""
             }
            },
            "type": "scatterpolargl"
           }
          ],
          "scatterternary": [
           {
            "marker": {
             "colorbar": {
              "outlinewidth": 0,
              "ticks": ""
             }
            },
            "type": "scatterternary"
           }
          ],
          "surface": [
           {
            "colorbar": {
             "outlinewidth": 0,
             "ticks": ""
            },
            "colorscale": [
             [
              0,
              "#0d0887"
             ],
             [
              0.1111111111111111,
              "#46039f"
             ],
             [
              0.2222222222222222,
              "#7201a8"
             ],
             [
              0.3333333333333333,
              "#9c179e"
             ],
             [
              0.4444444444444444,
              "#bd3786"
             ],
             [
              0.5555555555555556,
              "#d8576b"
             ],
             [
              0.6666666666666666,
              "#ed7953"
             ],
             [
              0.7777777777777778,
              "#fb9f3a"
             ],
             [
              0.8888888888888888,
              "#fdca26"
             ],
             [
              1,
              "#f0f921"
             ]
            ],
            "type": "surface"
           }
          ],
          "table": [
           {
            "cells": {
             "fill": {
              "color": "#EBF0F8"
             },
             "line": {
              "color": "white"
             }
            },
            "header": {
             "fill": {
              "color": "#C8D4E3"
             },
             "line": {
              "color": "white"
             }
            },
            "type": "table"
           }
          ]
         },
         "layout": {
          "annotationdefaults": {
           "arrowcolor": "#2a3f5f",
           "arrowhead": 0,
           "arrowwidth": 1
          },
          "coloraxis": {
           "colorbar": {
            "outlinewidth": 0,
            "ticks": ""
           }
          },
          "colorscale": {
           "diverging": [
            [
             0,
             "#8e0152"
            ],
            [
             0.1,
             "#c51b7d"
            ],
            [
             0.2,
             "#de77ae"
            ],
            [
             0.3,
             "#f1b6da"
            ],
            [
             0.4,
             "#fde0ef"
            ],
            [
             0.5,
             "#f7f7f7"
            ],
            [
             0.6,
             "#e6f5d0"
            ],
            [
             0.7,
             "#b8e186"
            ],
            [
             0.8,
             "#7fbc41"
            ],
            [
             0.9,
             "#4d9221"
            ],
            [
             1,
             "#276419"
            ]
           ],
           "sequential": [
            [
             0,
             "#0d0887"
            ],
            [
             0.1111111111111111,
             "#46039f"
            ],
            [
             0.2222222222222222,
             "#7201a8"
            ],
            [
             0.3333333333333333,
             "#9c179e"
            ],
            [
             0.4444444444444444,
             "#bd3786"
            ],
            [
             0.5555555555555556,
             "#d8576b"
            ],
            [
             0.6666666666666666,
             "#ed7953"
            ],
            [
             0.7777777777777778,
             "#fb9f3a"
            ],
            [
             0.8888888888888888,
             "#fdca26"
            ],
            [
             1,
             "#f0f921"
            ]
           ],
           "sequentialminus": [
            [
             0,
             "#0d0887"
            ],
            [
             0.1111111111111111,
             "#46039f"
            ],
            [
             0.2222222222222222,
             "#7201a8"
            ],
            [
             0.3333333333333333,
             "#9c179e"
            ],
            [
             0.4444444444444444,
             "#bd3786"
            ],
            [
             0.5555555555555556,
             "#d8576b"
            ],
            [
             0.6666666666666666,
             "#ed7953"
            ],
            [
             0.7777777777777778,
             "#fb9f3a"
            ],
            [
             0.8888888888888888,
             "#fdca26"
            ],
            [
             1,
             "#f0f921"
            ]
           ]
          },
          "colorway": [
           "#636efa",
           "#EF553B",
           "#00cc96",
           "#ab63fa",
           "#FFA15A",
           "#19d3f3",
           "#FF6692",
           "#B6E880",
           "#FF97FF",
           "#FECB52"
          ],
          "font": {
           "color": "#2a3f5f"
          },
          "geo": {
           "bgcolor": "white",
           "lakecolor": "white",
           "landcolor": "#E5ECF6",
           "showlakes": true,
           "showland": true,
           "subunitcolor": "white"
          },
          "hoverlabel": {
           "align": "left"
          },
          "hovermode": "closest",
          "mapbox": {
           "style": "light"
          },
          "paper_bgcolor": "white",
          "plot_bgcolor": "#E5ECF6",
          "polar": {
           "angularaxis": {
            "gridcolor": "white",
            "linecolor": "white",
            "ticks": ""
           },
           "bgcolor": "#E5ECF6",
           "radialaxis": {
            "gridcolor": "white",
            "linecolor": "white",
            "ticks": ""
           }
          },
          "scene": {
           "xaxis": {
            "backgroundcolor": "#E5ECF6",
            "gridcolor": "white",
            "gridwidth": 2,
            "linecolor": "white",
            "showbackground": true,
            "ticks": "",
            "zerolinecolor": "white"
           },
           "yaxis": {
            "backgroundcolor": "#E5ECF6",
            "gridcolor": "white",
            "gridwidth": 2,
            "linecolor": "white",
            "showbackground": true,
            "ticks": "",
            "zerolinecolor": "white"
           },
           "zaxis": {
            "backgroundcolor": "#E5ECF6",
            "gridcolor": "white",
            "gridwidth": 2,
            "linecolor": "white",
            "showbackground": true,
            "ticks": "",
            "zerolinecolor": "white"
           }
          },
          "shapedefaults": {
           "line": {
            "color": "#2a3f5f"
           }
          },
          "ternary": {
           "aaxis": {
            "gridcolor": "white",
            "linecolor": "white",
            "ticks": ""
           },
           "baxis": {
            "gridcolor": "white",
            "linecolor": "white",
            "ticks": ""
           },
           "bgcolor": "#E5ECF6",
           "caxis": {
            "gridcolor": "white",
            "linecolor": "white",
            "ticks": ""
           }
          },
          "title": {
           "x": 0.05
          },
          "xaxis": {
           "automargin": true,
           "gridcolor": "white",
           "linecolor": "white",
           "ticks": "",
           "title": {
            "standoff": 15
           },
           "zerolinecolor": "white",
           "zerolinewidth": 2
          },
          "yaxis": {
           "automargin": true,
           "gridcolor": "white",
           "linecolor": "white",
           "ticks": "",
           "title": {
            "standoff": 15
           },
           "zerolinecolor": "white",
           "zerolinewidth": 2
          }
         }
        },
        "title": {
         "text": "Datos de contagios para los últimos 10 días"
        },
        "width": 1200
       }
      }
     },
     "metadata": {}
    }
   ],
   "source": [
    "fig = go.Figure(data=[go.Table(\n",
    "    columnwidth=[100, 90, 90, 180, 100, 120, 140, 140, 100, 100, 100],\n",
    "    header=dict(values=list(['Fecha', 'Casos nuevos', 'Casos totales', 'Incremento de casos', 'Casos 7 días', 'Casos 14 días', 'Media casos 7 días', 'Media casos 14 días', 'IA 7 días', 'IA 14 días', 'IA total']),\n",
    "                fill_color='rgb(124,124,124)',\n",
    "                align='center', font=dict(color='white')),\n",
    "    cells=dict(values=spain[['fecha', 'num_casos', 'cases_accumulated', 'cases_inc', 'cases_7_days', 'cases_14_days', 'avg_cases_7_days', 'avg_cases_14_days', 'ia_100000_week', 'ia_100000_2week', 'ia_accumulated']].tail(10).transpose().values.tolist(),\n",
    "               fill_color='rgb(179, 179, 179)',\n",
    "               align='center', height=25))\n",
    "])\n",
    "fig.update_layout(width=1200, height=500, title='Datos de contagios para los últimos 10 días')\n",
    "fig.show()"
   ]
  },
  {
   "source": [
    "La curva de contagiados en España desde el inicio de la pandémia se muestra a continuación:"
   ],
   "cell_type": "markdown",
   "metadata": {}
  },
  {
   "cell_type": "code",
   "execution_count": 183,
   "metadata": {
    "tags": []
   },
   "outputs": [
    {
     "output_type": "display_data",
     "data": {
      "application/vnd.plotly.v1+json": {
       "config": {
        "plotlyServerURL": "https://plotly.com"
       },
       "data": [
        {
         "name": "Nuevos casos",
         "type": "bar",
         "x": [
          "2020-01-31",
          "2020-02-01",
          "2020-02-02",
          "2020-02-03",
          "2020-02-04",
          "2020-02-05",
          "2020-02-06",
          "2020-02-07",
          "2020-02-08",
          "2020-02-09",
          "2020-02-10",
          "2020-02-11",
          "2020-02-12",
          "2020-02-13",
          "2020-02-14",
          "2020-02-15",
          "2020-02-16",
          "2020-02-17",
          "2020-02-18",
          "2020-02-19",
          "2020-02-20",
          "2020-02-21",
          "2020-02-22",
          "2020-02-23",
          "2020-02-24",
          "2020-02-25",
          "2020-02-26",
          "2020-02-27",
          "2020-02-28",
          "2020-02-29",
          "2020-03-01",
          "2020-03-02",
          "2020-03-03",
          "2020-03-04",
          "2020-03-05",
          "2020-03-06",
          "2020-03-07",
          "2020-03-08",
          "2020-03-09",
          "2020-03-10",
          "2020-03-11",
          "2020-03-12",
          "2020-03-13",
          "2020-03-14",
          "2020-03-15",
          "2020-03-16",
          "2020-03-17",
          "2020-03-18",
          "2020-03-19",
          "2020-03-20",
          "2020-03-21",
          "2020-03-22",
          "2020-03-23",
          "2020-03-24",
          "2020-03-25",
          "2020-03-26",
          "2020-03-27",
          "2020-03-28",
          "2020-03-29",
          "2020-03-30",
          "2020-03-31",
          "2020-04-01",
          "2020-04-02",
          "2020-04-03",
          "2020-04-04",
          "2020-04-05",
          "2020-04-06",
          "2020-04-07",
          "2020-04-08",
          "2020-04-09",
          "2020-04-10",
          "2020-04-11",
          "2020-04-12",
          "2020-04-13",
          "2020-04-14",
          "2020-04-15",
          "2020-04-16",
          "2020-04-17",
          "2020-04-18",
          "2020-04-19",
          "2020-04-20",
          "2020-04-21",
          "2020-04-22",
          "2020-04-23",
          "2020-04-24",
          "2020-04-25",
          "2020-04-26",
          "2020-04-27",
          "2020-04-28",
          "2020-04-29",
          "2020-04-30",
          "2020-05-01",
          "2020-05-02",
          "2020-05-03",
          "2020-05-04",
          "2020-05-05",
          "2020-05-06",
          "2020-05-07",
          "2020-05-08",
          "2020-05-09",
          "2020-05-10",
          "2020-05-11",
          "2020-05-12",
          "2020-05-13",
          "2020-05-14",
          "2020-05-15",
          "2020-05-16",
          "2020-05-17",
          "2020-05-18",
          "2020-05-19",
          "2020-05-20",
          "2020-05-21",
          "2020-05-22",
          "2020-05-23",
          "2020-05-24",
          "2020-05-25",
          "2020-05-26",
          "2020-05-27",
          "2020-05-28",
          "2020-05-29",
          "2020-05-30",
          "2020-05-31",
          "2020-06-01",
          "2020-06-02",
          "2020-06-03",
          "2020-06-04",
          "2020-06-05",
          "2020-06-06",
          "2020-06-07",
          "2020-06-08",
          "2020-06-09",
          "2020-06-10",
          "2020-06-11",
          "2020-06-12",
          "2020-06-13",
          "2020-06-14",
          "2020-06-15",
          "2020-06-16",
          "2020-06-17",
          "2020-06-18",
          "2020-06-19",
          "2020-06-20",
          "2020-06-21",
          "2020-06-22",
          "2020-06-23",
          "2020-06-24",
          "2020-06-25",
          "2020-06-26",
          "2020-06-27",
          "2020-06-28",
          "2020-06-29",
          "2020-06-30",
          "2020-07-01",
          "2020-07-02",
          "2020-07-03",
          "2020-07-04",
          "2020-07-05",
          "2020-07-06",
          "2020-07-07",
          "2020-07-08",
          "2020-07-09",
          "2020-07-10",
          "2020-07-11",
          "2020-07-12",
          "2020-07-13",
          "2020-07-14",
          "2020-07-15",
          "2020-07-16",
          "2020-07-17",
          "2020-07-18",
          "2020-07-19",
          "2020-07-20",
          "2020-07-21",
          "2020-07-22",
          "2020-07-23",
          "2020-07-24",
          "2020-07-25",
          "2020-07-26",
          "2020-07-27",
          "2020-07-28",
          "2020-07-29",
          "2020-07-30",
          "2020-07-31",
          "2020-08-01",
          "2020-08-02",
          "2020-08-03",
          "2020-08-04",
          "2020-08-05",
          "2020-08-06",
          "2020-08-07",
          "2020-08-08",
          "2020-08-09",
          "2020-08-10",
          "2020-08-11",
          "2020-08-12",
          "2020-08-13",
          "2020-08-14",
          "2020-08-15",
          "2020-08-16",
          "2020-08-17",
          "2020-08-18",
          "2020-08-19",
          "2020-08-20",
          "2020-08-21",
          "2020-08-22",
          "2020-08-23",
          "2020-08-24",
          "2020-08-25",
          "2020-08-26",
          "2020-08-27",
          "2020-08-28",
          "2020-08-29",
          "2020-08-30",
          "2020-08-31",
          "2020-09-01",
          "2020-09-02",
          "2020-09-03",
          "2020-09-04",
          "2020-09-05",
          "2020-09-06",
          "2020-09-07",
          "2020-09-08",
          "2020-09-09",
          "2020-09-10",
          "2020-09-11",
          "2020-09-12",
          "2020-09-13",
          "2020-09-14",
          "2020-09-15",
          "2020-09-16",
          "2020-09-17",
          "2020-09-18",
          "2020-09-19",
          "2020-09-20",
          "2020-09-21",
          "2020-09-22",
          "2020-09-23",
          "2020-09-24",
          "2020-09-25",
          "2020-09-26",
          "2020-09-27",
          "2020-09-28",
          "2020-09-29",
          "2020-09-30",
          "2020-10-01",
          "2020-10-02",
          "2020-10-03",
          "2020-10-04",
          "2020-10-05",
          "2020-10-06",
          "2020-10-07",
          "2020-10-08",
          "2020-10-09",
          "2020-10-10",
          "2020-10-11",
          "2020-10-12",
          "2020-10-13",
          "2020-10-14",
          "2020-10-15",
          "2020-10-16",
          "2020-10-17",
          "2020-10-18",
          "2020-10-19",
          "2020-10-20",
          "2020-10-21",
          "2020-10-22",
          "2020-10-23",
          "2020-10-24",
          "2020-10-25",
          "2020-10-26",
          "2020-10-27",
          "2020-10-28",
          "2020-10-29",
          "2020-10-30",
          "2020-10-31",
          "2020-11-01",
          "2020-11-02",
          "2020-11-03"
         ],
         "y": [
          9,
          22,
          18,
          21,
          14,
          16,
          11,
          16,
          9,
          5,
          24,
          16,
          24,
          34,
          20,
          35,
          27,
          36,
          29,
          23,
          65,
          67,
          61,
          75,
          116,
          145,
          169,
          200,
          336,
          257,
          715,
          823,
          811,
          969,
          1294,
          1653,
          1848,
          2222,
          3424,
          4691,
          4816,
          6036,
          7942,
          7530,
          8066,
          9714,
          8937,
          9067,
          8765,
          10860,
          7533,
          6922,
          8484,
          7327,
          7162,
          6425,
          6172,
          5443,
          4325,
          5367,
          4515,
          5699,
          4617,
          4614,
          3952,
          3515,
          3829,
          3588,
          3883,
          3730,
          3680,
          3138,
          2478,
          2649,
          2775,
          2823,
          2568,
          2250,
          2020,
          1314,
          1618,
          1911,
          1996,
          1751,
          1741,
          949,
          686,
          885,
          1430,
          1316,
          1286,
          1307,
          1207,
          596,
          613,
          545,
          378,
          386,
          347,
          282,
          260,
          527,
          511,
          560,
          508,
          550,
          327,
          248,
          498,
          543,
          441,
          490,
          532,
          297,
          260,
          521,
          533,
          387,
          489,
          466,
          275,
          201,
          382,
          362,
          418,
          360,
          443,
          223,
          194,
          369,
          303,
          312,
          282,
          327,
          117,
          140,
          301,
          263,
          281,
          281,
          260,
          240,
          212,
          281,
          325,
          381,
          345,
          376,
          285,
          249,
          378,
          420,
          534,
          418,
          537,
          407,
          422,
          692,
          778,
          892,
          907,
          1108,
          851,
          834,
          1355,
          1480,
          1790,
          1655,
          1981,
          1739,
          1555,
          2266,
          2253,
          2342,
          2224,
          2476,
          2005,
          1822,
          2985,
          3107,
          3158,
          3086,
          3572,
          3550,
          2720,
          4049,
          4553,
          4515,
          4461,
          5209,
          4126,
          3910,
          5955,
          6228,
          6382,
          6187,
          7009,
          5410,
          4863,
          7030,
          8278,
          8375,
          8377,
          9565,
          6561,
          5791,
          8010,
          10013,
          9531,
          9308,
          10747,
          7094,
          6268,
          8214,
          11123,
          10286,
          10068,
          11168,
          8510,
          7315,
          9132,
          11064,
          11550,
          11427,
          11797,
          9027,
          7792,
          10197,
          12087,
          11816,
          11422,
          14073,
          8291,
          6992,
          9782,
          12110,
          11489,
          10810,
          11457,
          7456,
          6127,
          8842,
          10452,
          9840,
          9809,
          10503,
          7511,
          7058,
          10869,
          12254,
          11915,
          12084,
          12859,
          9990,
          8285,
          10133,
          13639,
          15555,
          15655,
          16564,
          13442,
          11848,
          18811,
          20640,
          20490,
          19486,
          20119,
          15068,
          12644,
          17797,
          19532,
          18219,
          16749,
          15617,
          7274,
          4111,
          1943,
          8
         ]
        }
       ],
       "layout": {
        "annotations": [
         {
          "hovertext": "Periodo de declaración del primer Estado de Alarma de la pandémia",
          "showarrow": false,
          "text": "Primer Estado Alarma",
          "x": "2020-04-24",
          "y": 19000
         }
        ],
        "legend": {
         "bgcolor": "LightSteelBlue",
         "orientation": "h"
        },
        "shapes": [
         {
          "fillcolor": "grey",
          "line": {
           "width": 0
          },
          "opacity": 0.2,
          "type": "rect",
          "x0": "2020-03-14",
          "x1": "2020-06-21",
          "xref": "x",
          "y0": 0,
          "y1": 22000,
          "yref": "y domain"
         }
        ],
        "template": {
         "data": {
          "bar": [
           {
            "error_x": {
             "color": "#2a3f5f"
            },
            "error_y": {
             "color": "#2a3f5f"
            },
            "marker": {
             "line": {
              "color": "#E5ECF6",
              "width": 0.5
             }
            },
            "type": "bar"
           }
          ],
          "barpolar": [
           {
            "marker": {
             "line": {
              "color": "#E5ECF6",
              "width": 0.5
             }
            },
            "type": "barpolar"
           }
          ],
          "carpet": [
           {
            "aaxis": {
             "endlinecolor": "#2a3f5f",
             "gridcolor": "white",
             "linecolor": "white",
             "minorgridcolor": "white",
             "startlinecolor": "#2a3f5f"
            },
            "baxis": {
             "endlinecolor": "#2a3f5f",
             "gridcolor": "white",
             "linecolor": "white",
             "minorgridcolor": "white",
             "startlinecolor": "#2a3f5f"
            },
            "type": "carpet"
           }
          ],
          "choropleth": [
           {
            "colorbar": {
             "outlinewidth": 0,
             "ticks": ""
            },
            "type": "choropleth"
           }
          ],
          "contour": [
           {
            "colorbar": {
             "outlinewidth": 0,
             "ticks": ""
            },
            "colorscale": [
             [
              0,
              "#0d0887"
             ],
             [
              0.1111111111111111,
              "#46039f"
             ],
             [
              0.2222222222222222,
              "#7201a8"
             ],
             [
              0.3333333333333333,
              "#9c179e"
             ],
             [
              0.4444444444444444,
              "#bd3786"
             ],
             [
              0.5555555555555556,
              "#d8576b"
             ],
             [
              0.6666666666666666,
              "#ed7953"
             ],
             [
              0.7777777777777778,
              "#fb9f3a"
             ],
             [
              0.8888888888888888,
              "#fdca26"
             ],
             [
              1,
              "#f0f921"
             ]
            ],
            "type": "contour"
           }
          ],
          "contourcarpet": [
           {
            "colorbar": {
             "outlinewidth": 0,
             "ticks": ""
            },
            "type": "contourcarpet"
           }
          ],
          "heatmap": [
           {
            "colorbar": {
             "outlinewidth": 0,
             "ticks": ""
            },
            "colorscale": [
             [
              0,
              "#0d0887"
             ],
             [
              0.1111111111111111,
              "#46039f"
             ],
             [
              0.2222222222222222,
              "#7201a8"
             ],
             [
              0.3333333333333333,
              "#9c179e"
             ],
             [
              0.4444444444444444,
              "#bd3786"
             ],
             [
              0.5555555555555556,
              "#d8576b"
             ],
             [
              0.6666666666666666,
              "#ed7953"
             ],
             [
              0.7777777777777778,
              "#fb9f3a"
             ],
             [
              0.8888888888888888,
              "#fdca26"
             ],
             [
              1,
              "#f0f921"
             ]
            ],
            "type": "heatmap"
           }
          ],
          "heatmapgl": [
           {
            "colorbar": {
             "outlinewidth": 0,
             "ticks": ""
            },
            "colorscale": [
             [
              0,
              "#0d0887"
             ],
             [
              0.1111111111111111,
              "#46039f"
             ],
             [
              0.2222222222222222,
              "#7201a8"
             ],
             [
              0.3333333333333333,
              "#9c179e"
             ],
             [
              0.4444444444444444,
              "#bd3786"
             ],
             [
              0.5555555555555556,
              "#d8576b"
             ],
             [
              0.6666666666666666,
              "#ed7953"
             ],
             [
              0.7777777777777778,
              "#fb9f3a"
             ],
             [
              0.8888888888888888,
              "#fdca26"
             ],
             [
              1,
              "#f0f921"
             ]
            ],
            "type": "heatmapgl"
           }
          ],
          "histogram": [
           {
            "marker": {
             "colorbar": {
              "outlinewidth": 0,
              "ticks": ""
             }
            },
            "type": "histogram"
           }
          ],
          "histogram2d": [
           {
            "colorbar": {
             "outlinewidth": 0,
             "ticks": ""
            },
            "colorscale": [
             [
              0,
              "#0d0887"
             ],
             [
              0.1111111111111111,
              "#46039f"
             ],
             [
              0.2222222222222222,
              "#7201a8"
             ],
             [
              0.3333333333333333,
              "#9c179e"
             ],
             [
              0.4444444444444444,
              "#bd3786"
             ],
             [
              0.5555555555555556,
              "#d8576b"
             ],
             [
              0.6666666666666666,
              "#ed7953"
             ],
             [
              0.7777777777777778,
              "#fb9f3a"
             ],
             [
              0.8888888888888888,
              "#fdca26"
             ],
             [
              1,
              "#f0f921"
             ]
            ],
            "type": "histogram2d"
           }
          ],
          "histogram2dcontour": [
           {
            "colorbar": {
             "outlinewidth": 0,
             "ticks": ""
            },
            "colorscale": [
             [
              0,
              "#0d0887"
             ],
             [
              0.1111111111111111,
              "#46039f"
             ],
             [
              0.2222222222222222,
              "#7201a8"
             ],
             [
              0.3333333333333333,
              "#9c179e"
             ],
             [
              0.4444444444444444,
              "#bd3786"
             ],
             [
              0.5555555555555556,
              "#d8576b"
             ],
             [
              0.6666666666666666,
              "#ed7953"
             ],
             [
              0.7777777777777778,
              "#fb9f3a"
             ],
             [
              0.8888888888888888,
              "#fdca26"
             ],
             [
              1,
              "#f0f921"
             ]
            ],
            "type": "histogram2dcontour"
           }
          ],
          "mesh3d": [
           {
            "colorbar": {
             "outlinewidth": 0,
             "ticks": ""
            },
            "type": "mesh3d"
           }
          ],
          "parcoords": [
           {
            "line": {
             "colorbar": {
              "outlinewidth": 0,
              "ticks": ""
             }
            },
            "type": "parcoords"
           }
          ],
          "pie": [
           {
            "automargin": true,
            "type": "pie"
           }
          ],
          "scatter": [
           {
            "marker": {
             "colorbar": {
              "outlinewidth": 0,
              "ticks": ""
             }
            },
            "type": "scatter"
           }
          ],
          "scatter3d": [
           {
            "line": {
             "colorbar": {
              "outlinewidth": 0,
              "ticks": ""
             }
            },
            "marker": {
             "colorbar": {
              "outlinewidth": 0,
              "ticks": ""
             }
            },
            "type": "scatter3d"
           }
          ],
          "scattercarpet": [
           {
            "marker": {
             "colorbar": {
              "outlinewidth": 0,
              "ticks": ""
             }
            },
            "type": "scattercarpet"
           }
          ],
          "scattergeo": [
           {
            "marker": {
             "colorbar": {
              "outlinewidth": 0,
              "ticks": ""
             }
            },
            "type": "scattergeo"
           }
          ],
          "scattergl": [
           {
            "marker": {
             "colorbar": {
              "outlinewidth": 0,
              "ticks": ""
             }
            },
            "type": "scattergl"
           }
          ],
          "scattermapbox": [
           {
            "marker": {
             "colorbar": {
              "outlinewidth": 0,
              "ticks": ""
             }
            },
            "type": "scattermapbox"
           }
          ],
          "scatterpolar": [
           {
            "marker": {
             "colorbar": {
              "outlinewidth": 0,
              "ticks": ""
             }
            },
            "type": "scatterpolar"
           }
          ],
          "scatterpolargl": [
           {
            "marker": {
             "colorbar": {
              "outlinewidth": 0,
              "ticks": ""
             }
            },
            "type": "scatterpolargl"
           }
          ],
          "scatterternary": [
           {
            "marker": {
             "colorbar": {
              "outlinewidth": 0,
              "ticks": ""
             }
            },
            "type": "scatterternary"
           }
          ],
          "surface": [
           {
            "colorbar": {
             "outlinewidth": 0,
             "ticks": ""
            },
            "colorscale": [
             [
              0,
              "#0d0887"
             ],
             [
              0.1111111111111111,
              "#46039f"
             ],
             [
              0.2222222222222222,
              "#7201a8"
             ],
             [
              0.3333333333333333,
              "#9c179e"
             ],
             [
              0.4444444444444444,
              "#bd3786"
             ],
             [
              0.5555555555555556,
              "#d8576b"
             ],
             [
              0.6666666666666666,
              "#ed7953"
             ],
             [
              0.7777777777777778,
              "#fb9f3a"
             ],
             [
              0.8888888888888888,
              "#fdca26"
             ],
             [
              1,
              "#f0f921"
             ]
            ],
            "type": "surface"
           }
          ],
          "table": [
           {
            "cells": {
             "fill": {
              "color": "#EBF0F8"
             },
             "line": {
              "color": "white"
             }
            },
            "header": {
             "fill": {
              "color": "#C8D4E3"
             },
             "line": {
              "color": "white"
             }
            },
            "type": "table"
           }
          ]
         },
         "layout": {
          "annotationdefaults": {
           "arrowcolor": "#2a3f5f",
           "arrowhead": 0,
           "arrowwidth": 1
          },
          "coloraxis": {
           "colorbar": {
            "outlinewidth": 0,
            "ticks": ""
           }
          },
          "colorscale": {
           "diverging": [
            [
             0,
             "#8e0152"
            ],
            [
             0.1,
             "#c51b7d"
            ],
            [
             0.2,
             "#de77ae"
            ],
            [
             0.3,
             "#f1b6da"
            ],
            [
             0.4,
             "#fde0ef"
            ],
            [
             0.5,
             "#f7f7f7"
            ],
            [
             0.6,
             "#e6f5d0"
            ],
            [
             0.7,
             "#b8e186"
            ],
            [
             0.8,
             "#7fbc41"
            ],
            [
             0.9,
             "#4d9221"
            ],
            [
             1,
             "#276419"
            ]
           ],
           "sequential": [
            [
             0,
             "#0d0887"
            ],
            [
             0.1111111111111111,
             "#46039f"
            ],
            [
             0.2222222222222222,
             "#7201a8"
            ],
            [
             0.3333333333333333,
             "#9c179e"
            ],
            [
             0.4444444444444444,
             "#bd3786"
            ],
            [
             0.5555555555555556,
             "#d8576b"
            ],
            [
             0.6666666666666666,
             "#ed7953"
            ],
            [
             0.7777777777777778,
             "#fb9f3a"
            ],
            [
             0.8888888888888888,
             "#fdca26"
            ],
            [
             1,
             "#f0f921"
            ]
           ],
           "sequentialminus": [
            [
             0,
             "#0d0887"
            ],
            [
             0.1111111111111111,
             "#46039f"
            ],
            [
             0.2222222222222222,
             "#7201a8"
            ],
            [
             0.3333333333333333,
             "#9c179e"
            ],
            [
             0.4444444444444444,
             "#bd3786"
            ],
            [
             0.5555555555555556,
             "#d8576b"
            ],
            [
             0.6666666666666666,
             "#ed7953"
            ],
            [
             0.7777777777777778,
             "#fb9f3a"
            ],
            [
             0.8888888888888888,
             "#fdca26"
            ],
            [
             1,
             "#f0f921"
            ]
           ]
          },
          "colorway": [
           "#636efa",
           "#EF553B",
           "#00cc96",
           "#ab63fa",
           "#FFA15A",
           "#19d3f3",
           "#FF6692",
           "#B6E880",
           "#FF97FF",
           "#FECB52"
          ],
          "font": {
           "color": "#2a3f5f"
          },
          "geo": {
           "bgcolor": "white",
           "lakecolor": "white",
           "landcolor": "#E5ECF6",
           "showlakes": true,
           "showland": true,
           "subunitcolor": "white"
          },
          "hoverlabel": {
           "align": "left"
          },
          "hovermode": "closest",
          "mapbox": {
           "style": "light"
          },
          "paper_bgcolor": "white",
          "plot_bgcolor": "#E5ECF6",
          "polar": {
           "angularaxis": {
            "gridcolor": "white",
            "linecolor": "white",
            "ticks": ""
           },
           "bgcolor": "#E5ECF6",
           "radialaxis": {
            "gridcolor": "white",
            "linecolor": "white",
            "ticks": ""
           }
          },
          "scene": {
           "xaxis": {
            "backgroundcolor": "#E5ECF6",
            "gridcolor": "white",
            "gridwidth": 2,
            "linecolor": "white",
            "showbackground": true,
            "ticks": "",
            "zerolinecolor": "white"
           },
           "yaxis": {
            "backgroundcolor": "#E5ECF6",
            "gridcolor": "white",
            "gridwidth": 2,
            "linecolor": "white",
            "showbackground": true,
            "ticks": "",
            "zerolinecolor": "white"
           },
           "zaxis": {
            "backgroundcolor": "#E5ECF6",
            "gridcolor": "white",
            "gridwidth": 2,
            "linecolor": "white",
            "showbackground": true,
            "ticks": "",
            "zerolinecolor": "white"
           }
          },
          "shapedefaults": {
           "line": {
            "color": "#2a3f5f"
           }
          },
          "ternary": {
           "aaxis": {
            "gridcolor": "white",
            "linecolor": "white",
            "ticks": ""
           },
           "baxis": {
            "gridcolor": "white",
            "linecolor": "white",
            "ticks": ""
           },
           "bgcolor": "#E5ECF6",
           "caxis": {
            "gridcolor": "white",
            "linecolor": "white",
            "ticks": ""
           }
          },
          "title": {
           "x": 0.05
          },
          "xaxis": {
           "automargin": true,
           "gridcolor": "white",
           "linecolor": "white",
           "ticks": "",
           "title": {
            "standoff": 15
           },
           "zerolinecolor": "white",
           "zerolinewidth": 2
          },
          "yaxis": {
           "automargin": true,
           "gridcolor": "white",
           "linecolor": "white",
           "ticks": "",
           "title": {
            "standoff": 15
           },
           "zerolinecolor": "white",
           "zerolinewidth": 2
          }
         }
        },
        "title": {
         "text": "Casos diarios desde el inicio de la pandémia"
        },
        "width": 1200
       }
      }
     },
     "metadata": {}
    }
   ],
   "source": [
    "fig = go.Figure()\n",
    "#fig.add_trace(go.Bar(x=spain['fecha'], y=spain['num_casos_prueba_pcr'], name= 'Nuevos PCR'))\n",
    "fig.add_trace(go.Bar(x=spain['fecha'], y=spain['num_casos'], name='Nuevos casos'))\n",
    "fig.update_layout(legend=dict(orientation='h', bgcolor='LightSteelBlue'), width=1200, title='Casos diarios desde el inicio de la pandémia')\n",
    "fig.add_vrect(x0='2020-03-14', x1='2020-06-21', y1=22000, line_width=0, fillcolor='grey', opacity=0.2)\n",
    "fig.add_annotation(text='Primer Estado Alarma', hovertext='Periodo de declaración del primer Estado de Alarma de la pandémia', x='2020-04-24', y=19000, showarrow=False)\n",
    "#fig.add_vrect(x0='2020-10-25', x1='2021-04-24', y1=20000, line_width=0, fillcolor='grey', opacity=0.2)\n",
    "#fig.add_annotation(text='Segundo Estado Alarma', hovertext='Periodo de declaración del segundo Estado de Alarma de la pandémia', x='2020-10-24', y='19000', showarrow=False)\n",
    "fig.show()"
   ]
  },
  {
   "source": [
    "Las dos olas se pueden diferenciar claramente. Los efectos del confinamiento, desescalada y fin del Estado de Alarma son también evidentes, ya que el número de contagios diarios decae a mínimos practicamente hasta principios de julio, fruto del parón social y laboral del país. Es entonces cuando empiezan a aumentar los nuevos positivos, seguramente porque la \"Nueva Normalidad\" lleva vigente 1-2 semanas en toda España, y por lo tanto la población empieza poco a poco a interactuar de nuevo. El hecho de que esta vuelta a la socialización y al trabajo se diera en verano seguramente no ayuda tampoco."
   ],
   "cell_type": "markdown",
   "metadata": {}
  },
  {
   "source": [
    "Si nos fijamos en los positivos acumulados, las tendencias son prácticamente las mismas, como es lógico:"
   ],
   "cell_type": "markdown",
   "metadata": {}
  },
  {
   "cell_type": "code",
   "execution_count": 184,
   "metadata": {},
   "outputs": [
    {
     "output_type": "display_data",
     "data": {
      "application/vnd.plotly.v1+json": {
       "config": {
        "plotlyServerURL": "https://plotly.com"
       },
       "data": [
        {
         "type": "bar",
         "x": [
          "2020-01-31",
          "2020-02-01",
          "2020-02-02",
          "2020-02-03",
          "2020-02-04",
          "2020-02-05",
          "2020-02-06",
          "2020-02-07",
          "2020-02-08",
          "2020-02-09",
          "2020-02-10",
          "2020-02-11",
          "2020-02-12",
          "2020-02-13",
          "2020-02-14",
          "2020-02-15",
          "2020-02-16",
          "2020-02-17",
          "2020-02-18",
          "2020-02-19",
          "2020-02-20",
          "2020-02-21",
          "2020-02-22",
          "2020-02-23",
          "2020-02-24",
          "2020-02-25",
          "2020-02-26",
          "2020-02-27",
          "2020-02-28",
          "2020-02-29",
          "2020-03-01",
          "2020-03-02",
          "2020-03-03",
          "2020-03-04",
          "2020-03-05",
          "2020-03-06",
          "2020-03-07",
          "2020-03-08",
          "2020-03-09",
          "2020-03-10",
          "2020-03-11",
          "2020-03-12",
          "2020-03-13",
          "2020-03-14",
          "2020-03-15",
          "2020-03-16",
          "2020-03-17",
          "2020-03-18",
          "2020-03-19",
          "2020-03-20",
          "2020-03-21",
          "2020-03-22",
          "2020-03-23",
          "2020-03-24",
          "2020-03-25",
          "2020-03-26",
          "2020-03-27",
          "2020-03-28",
          "2020-03-29",
          "2020-03-30",
          "2020-03-31",
          "2020-04-01",
          "2020-04-02",
          "2020-04-03",
          "2020-04-04",
          "2020-04-05",
          "2020-04-06",
          "2020-04-07",
          "2020-04-08",
          "2020-04-09",
          "2020-04-10",
          "2020-04-11",
          "2020-04-12",
          "2020-04-13",
          "2020-04-14",
          "2020-04-15",
          "2020-04-16",
          "2020-04-17",
          "2020-04-18",
          "2020-04-19",
          "2020-04-20",
          "2020-04-21",
          "2020-04-22",
          "2020-04-23",
          "2020-04-24",
          "2020-04-25",
          "2020-04-26",
          "2020-04-27",
          "2020-04-28",
          "2020-04-29",
          "2020-04-30",
          "2020-05-01",
          "2020-05-02",
          "2020-05-03",
          "2020-05-04",
          "2020-05-05",
          "2020-05-06",
          "2020-05-07",
          "2020-05-08",
          "2020-05-09",
          "2020-05-10",
          "2020-05-11",
          "2020-05-12",
          "2020-05-13",
          "2020-05-14",
          "2020-05-15",
          "2020-05-16",
          "2020-05-17",
          "2020-05-18",
          "2020-05-19",
          "2020-05-20",
          "2020-05-21",
          "2020-05-22",
          "2020-05-23",
          "2020-05-24",
          "2020-05-25",
          "2020-05-26",
          "2020-05-27",
          "2020-05-28",
          "2020-05-29",
          "2020-05-30",
          "2020-05-31",
          "2020-06-01",
          "2020-06-02",
          "2020-06-03",
          "2020-06-04",
          "2020-06-05",
          "2020-06-06",
          "2020-06-07",
          "2020-06-08",
          "2020-06-09",
          "2020-06-10",
          "2020-06-11",
          "2020-06-12",
          "2020-06-13",
          "2020-06-14",
          "2020-06-15",
          "2020-06-16",
          "2020-06-17",
          "2020-06-18",
          "2020-06-19",
          "2020-06-20",
          "2020-06-21",
          "2020-06-22",
          "2020-06-23",
          "2020-06-24",
          "2020-06-25",
          "2020-06-26",
          "2020-06-27",
          "2020-06-28",
          "2020-06-29",
          "2020-06-30",
          "2020-07-01",
          "2020-07-02",
          "2020-07-03",
          "2020-07-04",
          "2020-07-05",
          "2020-07-06",
          "2020-07-07",
          "2020-07-08",
          "2020-07-09",
          "2020-07-10",
          "2020-07-11",
          "2020-07-12",
          "2020-07-13",
          "2020-07-14",
          "2020-07-15",
          "2020-07-16",
          "2020-07-17",
          "2020-07-18",
          "2020-07-19",
          "2020-07-20",
          "2020-07-21",
          "2020-07-22",
          "2020-07-23",
          "2020-07-24",
          "2020-07-25",
          "2020-07-26",
          "2020-07-27",
          "2020-07-28",
          "2020-07-29",
          "2020-07-30",
          "2020-07-31",
          "2020-08-01",
          "2020-08-02",
          "2020-08-03",
          "2020-08-04",
          "2020-08-05",
          "2020-08-06",
          "2020-08-07",
          "2020-08-08",
          "2020-08-09",
          "2020-08-10",
          "2020-08-11",
          "2020-08-12",
          "2020-08-13",
          "2020-08-14",
          "2020-08-15",
          "2020-08-16",
          "2020-08-17",
          "2020-08-18",
          "2020-08-19",
          "2020-08-20",
          "2020-08-21",
          "2020-08-22",
          "2020-08-23",
          "2020-08-24",
          "2020-08-25",
          "2020-08-26",
          "2020-08-27",
          "2020-08-28",
          "2020-08-29",
          "2020-08-30",
          "2020-08-31",
          "2020-09-01",
          "2020-09-02",
          "2020-09-03",
          "2020-09-04",
          "2020-09-05",
          "2020-09-06",
          "2020-09-07",
          "2020-09-08",
          "2020-09-09",
          "2020-09-10",
          "2020-09-11",
          "2020-09-12",
          "2020-09-13",
          "2020-09-14",
          "2020-09-15",
          "2020-09-16",
          "2020-09-17",
          "2020-09-18",
          "2020-09-19",
          "2020-09-20",
          "2020-09-21",
          "2020-09-22",
          "2020-09-23",
          "2020-09-24",
          "2020-09-25",
          "2020-09-26",
          "2020-09-27",
          "2020-09-28",
          "2020-09-29",
          "2020-09-30",
          "2020-10-01",
          "2020-10-02",
          "2020-10-03",
          "2020-10-04",
          "2020-10-05",
          "2020-10-06",
          "2020-10-07",
          "2020-10-08",
          "2020-10-09",
          "2020-10-10",
          "2020-10-11",
          "2020-10-12",
          "2020-10-13",
          "2020-10-14",
          "2020-10-15",
          "2020-10-16",
          "2020-10-17",
          "2020-10-18",
          "2020-10-19",
          "2020-10-20",
          "2020-10-21",
          "2020-10-22",
          "2020-10-23",
          "2020-10-24",
          "2020-10-25",
          "2020-10-26",
          "2020-10-27",
          "2020-10-28",
          "2020-10-29",
          "2020-10-30",
          "2020-10-31",
          "2020-11-01",
          "2020-11-02",
          "2020-11-03"
         ],
         "y": [
          9,
          31,
          49,
          70,
          84,
          100,
          111,
          127,
          136,
          141,
          165,
          181,
          205,
          239,
          259,
          294,
          321,
          357,
          386,
          409,
          474,
          541,
          602,
          677,
          793,
          938,
          1107,
          1307,
          1643,
          1900,
          2615,
          3438,
          4249,
          5218,
          6512,
          8165,
          10013,
          12235,
          15659,
          20350,
          25166,
          31202,
          39144,
          46674,
          54740,
          64454,
          73391,
          82458,
          91223,
          102083,
          109616,
          116538,
          125022,
          132349,
          139511,
          145936,
          152108,
          157551,
          161876,
          167243,
          171758,
          177457,
          182074,
          186688,
          190640,
          194155,
          197984,
          201572,
          205455,
          209185,
          212865,
          216003,
          218481,
          221130,
          223905,
          226728,
          229296,
          231546,
          233566,
          234880,
          236498,
          238409,
          240405,
          242156,
          243897,
          244846,
          245532,
          246417,
          247847,
          249163,
          250449,
          251756,
          252963,
          253559,
          254172,
          254717,
          255095,
          255481,
          255828,
          256110,
          256370,
          256897,
          257408,
          257968,
          258476,
          259026,
          259353,
          259601,
          260099,
          260642,
          261083,
          261573,
          262105,
          262402,
          262662,
          263183,
          263716,
          264103,
          264592,
          265058,
          265333,
          265534,
          265916,
          266278,
          266696,
          267056,
          267499,
          267722,
          267916,
          268285,
          268588,
          268900,
          269182,
          269509,
          269626,
          269766,
          270067,
          270330,
          270611,
          270892,
          271152,
          271392,
          271604,
          271885,
          272210,
          272591,
          272936,
          273312,
          273597,
          273846,
          274224,
          274644,
          275178,
          275596,
          276133,
          276540,
          276962,
          277654,
          278432,
          279324,
          280231,
          281339,
          282190,
          283024,
          284379,
          285859,
          287649,
          289304,
          291285,
          293024,
          294579,
          296845,
          299098,
          301440,
          303664,
          306140,
          308145,
          309967,
          312952,
          316059,
          319217,
          322303,
          325875,
          329425,
          332145,
          336194,
          340747,
          345262,
          349723,
          354932,
          359058,
          362968,
          368923,
          375151,
          381533,
          387720,
          394729,
          400139,
          405002,
          412032,
          420310,
          428685,
          437062,
          446627,
          453188,
          458979,
          466989,
          477002,
          486533,
          495841,
          506588,
          513682,
          519950,
          528164,
          539287,
          549573,
          559641,
          570809,
          579319,
          586634,
          595766,
          606830,
          618380,
          629807,
          641604,
          650631,
          658423,
          668620,
          680707,
          692523,
          703945,
          718018,
          726309,
          733301,
          743083,
          755193,
          766682,
          777492,
          788949,
          796405,
          802532,
          811374,
          821826,
          831666,
          841475,
          851978,
          859489,
          866547,
          877416,
          889670,
          901585,
          913669,
          926528,
          936518,
          944803,
          954936,
          968575,
          984130,
          999785,
          1016349,
          1029791,
          1041639,
          1060450,
          1081090,
          1101580,
          1121066,
          1141185,
          1156253,
          1168897,
          1186694,
          1206226,
          1224445,
          1241194,
          1256811,
          1264085,
          1268196,
          1270139,
          1270147
         ]
        }
       ],
       "layout": {
        "annotations": [
         {
          "hovertext": "Periodo de declaración del primer Estado de Alarma de la pandémia",
          "showarrow": false,
          "text": "Primer Estado Alarma",
          "x": "2020-04-24",
          "y": 1200000
         }
        ],
        "shapes": [
         {
          "fillcolor": "grey",
          "line": {
           "width": 0
          },
          "opacity": 0.2,
          "type": "rect",
          "x0": "2020-03-14",
          "x1": "2020-06-21",
          "xref": "x",
          "y0": 0,
          "y1": 1400000,
          "yref": "y domain"
         }
        ],
        "template": {
         "data": {
          "bar": [
           {
            "error_x": {
             "color": "#2a3f5f"
            },
            "error_y": {
             "color": "#2a3f5f"
            },
            "marker": {
             "line": {
              "color": "#E5ECF6",
              "width": 0.5
             }
            },
            "type": "bar"
           }
          ],
          "barpolar": [
           {
            "marker": {
             "line": {
              "color": "#E5ECF6",
              "width": 0.5
             }
            },
            "type": "barpolar"
           }
          ],
          "carpet": [
           {
            "aaxis": {
             "endlinecolor": "#2a3f5f",
             "gridcolor": "white",
             "linecolor": "white",
             "minorgridcolor": "white",
             "startlinecolor": "#2a3f5f"
            },
            "baxis": {
             "endlinecolor": "#2a3f5f",
             "gridcolor": "white",
             "linecolor": "white",
             "minorgridcolor": "white",
             "startlinecolor": "#2a3f5f"
            },
            "type": "carpet"
           }
          ],
          "choropleth": [
           {
            "colorbar": {
             "outlinewidth": 0,
             "ticks": ""
            },
            "type": "choropleth"
           }
          ],
          "contour": [
           {
            "colorbar": {
             "outlinewidth": 0,
             "ticks": ""
            },
            "colorscale": [
             [
              0,
              "#0d0887"
             ],
             [
              0.1111111111111111,
              "#46039f"
             ],
             [
              0.2222222222222222,
              "#7201a8"
             ],
             [
              0.3333333333333333,
              "#9c179e"
             ],
             [
              0.4444444444444444,
              "#bd3786"
             ],
             [
              0.5555555555555556,
              "#d8576b"
             ],
             [
              0.6666666666666666,
              "#ed7953"
             ],
             [
              0.7777777777777778,
              "#fb9f3a"
             ],
             [
              0.8888888888888888,
              "#fdca26"
             ],
             [
              1,
              "#f0f921"
             ]
            ],
            "type": "contour"
           }
          ],
          "contourcarpet": [
           {
            "colorbar": {
             "outlinewidth": 0,
             "ticks": ""
            },
            "type": "contourcarpet"
           }
          ],
          "heatmap": [
           {
            "colorbar": {
             "outlinewidth": 0,
             "ticks": ""
            },
            "colorscale": [
             [
              0,
              "#0d0887"
             ],
             [
              0.1111111111111111,
              "#46039f"
             ],
             [
              0.2222222222222222,
              "#7201a8"
             ],
             [
              0.3333333333333333,
              "#9c179e"
             ],
             [
              0.4444444444444444,
              "#bd3786"
             ],
             [
              0.5555555555555556,
              "#d8576b"
             ],
             [
              0.6666666666666666,
              "#ed7953"
             ],
             [
              0.7777777777777778,
              "#fb9f3a"
             ],
             [
              0.8888888888888888,
              "#fdca26"
             ],
             [
              1,
              "#f0f921"
             ]
            ],
            "type": "heatmap"
           }
          ],
          "heatmapgl": [
           {
            "colorbar": {
             "outlinewidth": 0,
             "ticks": ""
            },
            "colorscale": [
             [
              0,
              "#0d0887"
             ],
             [
              0.1111111111111111,
              "#46039f"
             ],
             [
              0.2222222222222222,
              "#7201a8"
             ],
             [
              0.3333333333333333,
              "#9c179e"
             ],
             [
              0.4444444444444444,
              "#bd3786"
             ],
             [
              0.5555555555555556,
              "#d8576b"
             ],
             [
              0.6666666666666666,
              "#ed7953"
             ],
             [
              0.7777777777777778,
              "#fb9f3a"
             ],
             [
              0.8888888888888888,
              "#fdca26"
             ],
             [
              1,
              "#f0f921"
             ]
            ],
            "type": "heatmapgl"
           }
          ],
          "histogram": [
           {
            "marker": {
             "colorbar": {
              "outlinewidth": 0,
              "ticks": ""
             }
            },
            "type": "histogram"
           }
          ],
          "histogram2d": [
           {
            "colorbar": {
             "outlinewidth": 0,
             "ticks": ""
            },
            "colorscale": [
             [
              0,
              "#0d0887"
             ],
             [
              0.1111111111111111,
              "#46039f"
             ],
             [
              0.2222222222222222,
              "#7201a8"
             ],
             [
              0.3333333333333333,
              "#9c179e"
             ],
             [
              0.4444444444444444,
              "#bd3786"
             ],
             [
              0.5555555555555556,
              "#d8576b"
             ],
             [
              0.6666666666666666,
              "#ed7953"
             ],
             [
              0.7777777777777778,
              "#fb9f3a"
             ],
             [
              0.8888888888888888,
              "#fdca26"
             ],
             [
              1,
              "#f0f921"
             ]
            ],
            "type": "histogram2d"
           }
          ],
          "histogram2dcontour": [
           {
            "colorbar": {
             "outlinewidth": 0,
             "ticks": ""
            },
            "colorscale": [
             [
              0,
              "#0d0887"
             ],
             [
              0.1111111111111111,
              "#46039f"
             ],
             [
              0.2222222222222222,
              "#7201a8"
             ],
             [
              0.3333333333333333,
              "#9c179e"
             ],
             [
              0.4444444444444444,
              "#bd3786"
             ],
             [
              0.5555555555555556,
              "#d8576b"
             ],
             [
              0.6666666666666666,
              "#ed7953"
             ],
             [
              0.7777777777777778,
              "#fb9f3a"
             ],
             [
              0.8888888888888888,
              "#fdca26"
             ],
             [
              1,
              "#f0f921"
             ]
            ],
            "type": "histogram2dcontour"
           }
          ],
          "mesh3d": [
           {
            "colorbar": {
             "outlinewidth": 0,
             "ticks": ""
            },
            "type": "mesh3d"
           }
          ],
          "parcoords": [
           {
            "line": {
             "colorbar": {
              "outlinewidth": 0,
              "ticks": ""
             }
            },
            "type": "parcoords"
           }
          ],
          "pie": [
           {
            "automargin": true,
            "type": "pie"
           }
          ],
          "scatter": [
           {
            "marker": {
             "colorbar": {
              "outlinewidth": 0,
              "ticks": ""
             }
            },
            "type": "scatter"
           }
          ],
          "scatter3d": [
           {
            "line": {
             "colorbar": {
              "outlinewidth": 0,
              "ticks": ""
             }
            },
            "marker": {
             "colorbar": {
              "outlinewidth": 0,
              "ticks": ""
             }
            },
            "type": "scatter3d"
           }
          ],
          "scattercarpet": [
           {
            "marker": {
             "colorbar": {
              "outlinewidth": 0,
              "ticks": ""
             }
            },
            "type": "scattercarpet"
           }
          ],
          "scattergeo": [
           {
            "marker": {
             "colorbar": {
              "outlinewidth": 0,
              "ticks": ""
             }
            },
            "type": "scattergeo"
           }
          ],
          "scattergl": [
           {
            "marker": {
             "colorbar": {
              "outlinewidth": 0,
              "ticks": ""
             }
            },
            "type": "scattergl"
           }
          ],
          "scattermapbox": [
           {
            "marker": {
             "colorbar": {
              "outlinewidth": 0,
              "ticks": ""
             }
            },
            "type": "scattermapbox"
           }
          ],
          "scatterpolar": [
           {
            "marker": {
             "colorbar": {
              "outlinewidth": 0,
              "ticks": ""
             }
            },
            "type": "scatterpolar"
           }
          ],
          "scatterpolargl": [
           {
            "marker": {
             "colorbar": {
              "outlinewidth": 0,
              "ticks": ""
             }
            },
            "type": "scatterpolargl"
           }
          ],
          "scatterternary": [
           {
            "marker": {
             "colorbar": {
              "outlinewidth": 0,
              "ticks": ""
             }
            },
            "type": "scatterternary"
           }
          ],
          "surface": [
           {
            "colorbar": {
             "outlinewidth": 0,
             "ticks": ""
            },
            "colorscale": [
             [
              0,
              "#0d0887"
             ],
             [
              0.1111111111111111,
              "#46039f"
             ],
             [
              0.2222222222222222,
              "#7201a8"
             ],
             [
              0.3333333333333333,
              "#9c179e"
             ],
             [
              0.4444444444444444,
              "#bd3786"
             ],
             [
              0.5555555555555556,
              "#d8576b"
             ],
             [
              0.6666666666666666,
              "#ed7953"
             ],
             [
              0.7777777777777778,
              "#fb9f3a"
             ],
             [
              0.8888888888888888,
              "#fdca26"
             ],
             [
              1,
              "#f0f921"
             ]
            ],
            "type": "surface"
           }
          ],
          "table": [
           {
            "cells": {
             "fill": {
              "color": "#EBF0F8"
             },
             "line": {
              "color": "white"
             }
            },
            "header": {
             "fill": {
              "color": "#C8D4E3"
             },
             "line": {
              "color": "white"
             }
            },
            "type": "table"
           }
          ]
         },
         "layout": {
          "annotationdefaults": {
           "arrowcolor": "#2a3f5f",
           "arrowhead": 0,
           "arrowwidth": 1
          },
          "coloraxis": {
           "colorbar": {
            "outlinewidth": 0,
            "ticks": ""
           }
          },
          "colorscale": {
           "diverging": [
            [
             0,
             "#8e0152"
            ],
            [
             0.1,
             "#c51b7d"
            ],
            [
             0.2,
             "#de77ae"
            ],
            [
             0.3,
             "#f1b6da"
            ],
            [
             0.4,
             "#fde0ef"
            ],
            [
             0.5,
             "#f7f7f7"
            ],
            [
             0.6,
             "#e6f5d0"
            ],
            [
             0.7,
             "#b8e186"
            ],
            [
             0.8,
             "#7fbc41"
            ],
            [
             0.9,
             "#4d9221"
            ],
            [
             1,
             "#276419"
            ]
           ],
           "sequential": [
            [
             0,
             "#0d0887"
            ],
            [
             0.1111111111111111,
             "#46039f"
            ],
            [
             0.2222222222222222,
             "#7201a8"
            ],
            [
             0.3333333333333333,
             "#9c179e"
            ],
            [
             0.4444444444444444,
             "#bd3786"
            ],
            [
             0.5555555555555556,
             "#d8576b"
            ],
            [
             0.6666666666666666,
             "#ed7953"
            ],
            [
             0.7777777777777778,
             "#fb9f3a"
            ],
            [
             0.8888888888888888,
             "#fdca26"
            ],
            [
             1,
             "#f0f921"
            ]
           ],
           "sequentialminus": [
            [
             0,
             "#0d0887"
            ],
            [
             0.1111111111111111,
             "#46039f"
            ],
            [
             0.2222222222222222,
             "#7201a8"
            ],
            [
             0.3333333333333333,
             "#9c179e"
            ],
            [
             0.4444444444444444,
             "#bd3786"
            ],
            [
             0.5555555555555556,
             "#d8576b"
            ],
            [
             0.6666666666666666,
             "#ed7953"
            ],
            [
             0.7777777777777778,
             "#fb9f3a"
            ],
            [
             0.8888888888888888,
             "#fdca26"
            ],
            [
             1,
             "#f0f921"
            ]
           ]
          },
          "colorway": [
           "#636efa",
           "#EF553B",
           "#00cc96",
           "#ab63fa",
           "#FFA15A",
           "#19d3f3",
           "#FF6692",
           "#B6E880",
           "#FF97FF",
           "#FECB52"
          ],
          "font": {
           "color": "#2a3f5f"
          },
          "geo": {
           "bgcolor": "white",
           "lakecolor": "white",
           "landcolor": "#E5ECF6",
           "showlakes": true,
           "showland": true,
           "subunitcolor": "white"
          },
          "hoverlabel": {
           "align": "left"
          },
          "hovermode": "closest",
          "mapbox": {
           "style": "light"
          },
          "paper_bgcolor": "white",
          "plot_bgcolor": "#E5ECF6",
          "polar": {
           "angularaxis": {
            "gridcolor": "white",
            "linecolor": "white",
            "ticks": ""
           },
           "bgcolor": "#E5ECF6",
           "radialaxis": {
            "gridcolor": "white",
            "linecolor": "white",
            "ticks": ""
           }
          },
          "scene": {
           "xaxis": {
            "backgroundcolor": "#E5ECF6",
            "gridcolor": "white",
            "gridwidth": 2,
            "linecolor": "white",
            "showbackground": true,
            "ticks": "",
            "zerolinecolor": "white"
           },
           "yaxis": {
            "backgroundcolor": "#E5ECF6",
            "gridcolor": "white",
            "gridwidth": 2,
            "linecolor": "white",
            "showbackground": true,
            "ticks": "",
            "zerolinecolor": "white"
           },
           "zaxis": {
            "backgroundcolor": "#E5ECF6",
            "gridcolor": "white",
            "gridwidth": 2,
            "linecolor": "white",
            "showbackground": true,
            "ticks": "",
            "zerolinecolor": "white"
           }
          },
          "shapedefaults": {
           "line": {
            "color": "#2a3f5f"
           }
          },
          "ternary": {
           "aaxis": {
            "gridcolor": "white",
            "linecolor": "white",
            "ticks": ""
           },
           "baxis": {
            "gridcolor": "white",
            "linecolor": "white",
            "ticks": ""
           },
           "bgcolor": "#E5ECF6",
           "caxis": {
            "gridcolor": "white",
            "linecolor": "white",
            "ticks": ""
           }
          },
          "title": {
           "x": 0.05
          },
          "xaxis": {
           "automargin": true,
           "gridcolor": "white",
           "linecolor": "white",
           "ticks": "",
           "title": {
            "standoff": 15
           },
           "zerolinecolor": "white",
           "zerolinewidth": 2
          },
          "yaxis": {
           "automargin": true,
           "gridcolor": "white",
           "linecolor": "white",
           "ticks": "",
           "title": {
            "standoff": 15
           },
           "zerolinecolor": "white",
           "zerolinewidth": 2
          }
         }
        },
        "title": {
         "text": "Casos PCR acumulados desde el inicio de la pandémia"
        },
        "width": 1200
       }
      }
     },
     "metadata": {}
    }
   ],
   "source": [
    "fig = go.Figure(data=[go.Bar(x=spain['fecha'], y=spain['cases_accumulated'])], layout=go.Layout(title=go.layout.Title(text='Casos PCR acumulados desde el inicio de la pandémia')))\n",
    "fig.add_vrect(x0='2020-03-14', x1='2020-06-21', y1=1400000, line_width=0, fillcolor='grey', opacity=0.2)\n",
    "fig.add_annotation(text='Primer Estado Alarma', hovertext='Periodo de declaración del primer Estado de Alarma de la pandémia', x='2020-04-24', y=1200000, showarrow=False)\n",
    "fig.update_layout(width=1200)\n",
    "fig.show()"
   ]
  },
  {
   "cell_type": "code",
   "execution_count": 125,
   "metadata": {},
   "outputs": [
    {
     "output_type": "error",
     "ename": "KeyError",
     "evalue": "'hospitalized'",
     "traceback": [
      "\u001b[0;31m---------------------------------------------------------------------------\u001b[0m",
      "\u001b[0;31mKeyError\u001b[0m                                  Traceback (most recent call last)",
      "\u001b[0;32m~/miniconda3/envs/myenv/lib/python3.7/site-packages/pandas/core/indexes/base.py\u001b[0m in \u001b[0;36mget_loc\u001b[0;34m(self, key, method, tolerance)\u001b[0m\n\u001b[1;32m   2894\u001b[0m             \u001b[0;32mtry\u001b[0m\u001b[0;34m:\u001b[0m\u001b[0;34m\u001b[0m\u001b[0;34m\u001b[0m\u001b[0m\n\u001b[0;32m-> 2895\u001b[0;31m                 \u001b[0;32mreturn\u001b[0m \u001b[0mself\u001b[0m\u001b[0;34m.\u001b[0m\u001b[0m_engine\u001b[0m\u001b[0;34m.\u001b[0m\u001b[0mget_loc\u001b[0m\u001b[0;34m(\u001b[0m\u001b[0mcasted_key\u001b[0m\u001b[0;34m)\u001b[0m\u001b[0;34m\u001b[0m\u001b[0;34m\u001b[0m\u001b[0m\n\u001b[0m\u001b[1;32m   2896\u001b[0m             \u001b[0;32mexcept\u001b[0m \u001b[0mKeyError\u001b[0m \u001b[0;32mas\u001b[0m \u001b[0merr\u001b[0m\u001b[0;34m:\u001b[0m\u001b[0;34m\u001b[0m\u001b[0;34m\u001b[0m\u001b[0m\n",
      "\u001b[0;32mpandas/_libs/index.pyx\u001b[0m in \u001b[0;36mpandas._libs.index.IndexEngine.get_loc\u001b[0;34m()\u001b[0m\n",
      "\u001b[0;32mpandas/_libs/index.pyx\u001b[0m in \u001b[0;36mpandas._libs.index.IndexEngine.get_loc\u001b[0;34m()\u001b[0m\n",
      "\u001b[0;32mpandas/_libs/hashtable_class_helper.pxi\u001b[0m in \u001b[0;36mpandas._libs.hashtable.PyObjectHashTable.get_item\u001b[0;34m()\u001b[0m\n",
      "\u001b[0;32mpandas/_libs/hashtable_class_helper.pxi\u001b[0m in \u001b[0;36mpandas._libs.hashtable.PyObjectHashTable.get_item\u001b[0;34m()\u001b[0m\n",
      "\u001b[0;31mKeyError\u001b[0m: 'hospitalized'",
      "\nThe above exception was the direct cause of the following exception:\n",
      "\u001b[0;31mKeyError\u001b[0m                                  Traceback (most recent call last)",
      "\u001b[0;32m<ipython-input-125-5be853ecd449>\u001b[0m in \u001b[0;36m<module>\u001b[0;34m\u001b[0m\n\u001b[1;32m      1\u001b[0m \u001b[0mfig\u001b[0m \u001b[0;34m=\u001b[0m \u001b[0mmake_subplots\u001b[0m\u001b[0;34m(\u001b[0m\u001b[0mrows\u001b[0m\u001b[0;34m=\u001b[0m\u001b[0;36m3\u001b[0m\u001b[0;34m,\u001b[0m \u001b[0mcols\u001b[0m\u001b[0;34m=\u001b[0m\u001b[0;36m1\u001b[0m\u001b[0;34m,\u001b[0m \u001b[0mshared_xaxes\u001b[0m\u001b[0;34m=\u001b[0m\u001b[0;32mTrue\u001b[0m\u001b[0;34m)\u001b[0m\u001b[0;34m\u001b[0m\u001b[0;34m\u001b[0m\u001b[0m\n\u001b[0;32m----> 2\u001b[0;31m \u001b[0mfig\u001b[0m\u001b[0;34m.\u001b[0m\u001b[0madd_trace\u001b[0m\u001b[0;34m(\u001b[0m\u001b[0mgo\u001b[0m\u001b[0;34m.\u001b[0m\u001b[0mBar\u001b[0m\u001b[0;34m(\u001b[0m\u001b[0mx\u001b[0m\u001b[0;34m=\u001b[0m\u001b[0mspain\u001b[0m\u001b[0;34m[\u001b[0m\u001b[0;34m'fecha'\u001b[0m\u001b[0;34m]\u001b[0m\u001b[0;34m,\u001b[0m \u001b[0my\u001b[0m\u001b[0;34m=\u001b[0m\u001b[0mspain\u001b[0m\u001b[0;34m[\u001b[0m\u001b[0;34m'hospitalized'\u001b[0m\u001b[0;34m]\u001b[0m\u001b[0;34m,\u001b[0m \u001b[0mname\u001b[0m\u001b[0;34m=\u001b[0m\u001b[0;34m'Hospitalizados'\u001b[0m\u001b[0;34m)\u001b[0m\u001b[0;34m,\u001b[0m \u001b[0mrow\u001b[0m\u001b[0;34m=\u001b[0m\u001b[0;36m1\u001b[0m\u001b[0;34m,\u001b[0m \u001b[0mcol\u001b[0m\u001b[0;34m=\u001b[0m\u001b[0;36m1\u001b[0m\u001b[0;34m)\u001b[0m\u001b[0;34m\u001b[0m\u001b[0;34m\u001b[0m\u001b[0m\n\u001b[0m\u001b[1;32m      3\u001b[0m \u001b[0mfig\u001b[0m\u001b[0;34m.\u001b[0m\u001b[0madd_trace\u001b[0m\u001b[0;34m(\u001b[0m\u001b[0mgo\u001b[0m\u001b[0;34m.\u001b[0m\u001b[0mBar\u001b[0m\u001b[0;34m(\u001b[0m\u001b[0mx\u001b[0m\u001b[0;34m=\u001b[0m\u001b[0mspain\u001b[0m\u001b[0;34m[\u001b[0m\u001b[0;34m'fecha'\u001b[0m\u001b[0;34m]\u001b[0m\u001b[0;34m,\u001b[0m \u001b[0my\u001b[0m\u001b[0;34m=\u001b[0m\u001b[0mspain\u001b[0m\u001b[0;34m[\u001b[0m\u001b[0;34m'intensive_care'\u001b[0m\u001b[0;34m]\u001b[0m\u001b[0;34m,\u001b[0m \u001b[0mname\u001b[0m\u001b[0;34m=\u001b[0m\u001b[0;34m'Cuidados intensivos'\u001b[0m\u001b[0;34m)\u001b[0m\u001b[0;34m,\u001b[0m \u001b[0mrow\u001b[0m\u001b[0;34m=\u001b[0m\u001b[0;36m2\u001b[0m\u001b[0;34m,\u001b[0m \u001b[0mcol\u001b[0m\u001b[0;34m=\u001b[0m\u001b[0;36m1\u001b[0m\u001b[0;34m)\u001b[0m\u001b[0;34m\u001b[0m\u001b[0;34m\u001b[0m\u001b[0m\n\u001b[1;32m      4\u001b[0m \u001b[0mfig\u001b[0m\u001b[0;34m.\u001b[0m\u001b[0madd_trace\u001b[0m\u001b[0;34m(\u001b[0m\u001b[0mgo\u001b[0m\u001b[0;34m.\u001b[0m\u001b[0mBar\u001b[0m\u001b[0;34m(\u001b[0m\u001b[0mx\u001b[0m\u001b[0;34m=\u001b[0m\u001b[0mspain\u001b[0m\u001b[0;34m[\u001b[0m\u001b[0;34m'fecha'\u001b[0m\u001b[0;34m]\u001b[0m\u001b[0;34m,\u001b[0m \u001b[0my\u001b[0m\u001b[0;34m=\u001b[0m\u001b[0mspain\u001b[0m\u001b[0;34m[\u001b[0m\u001b[0;34m'recovered'\u001b[0m\u001b[0;34m]\u001b[0m\u001b[0;34m,\u001b[0m \u001b[0mname\u001b[0m\u001b[0;34m=\u001b[0m\u001b[0;34m'Recuperados'\u001b[0m\u001b[0;34m)\u001b[0m\u001b[0;34m,\u001b[0m \u001b[0mrow\u001b[0m\u001b[0;34m=\u001b[0m\u001b[0;36m3\u001b[0m\u001b[0;34m,\u001b[0m \u001b[0mcol\u001b[0m\u001b[0;34m=\u001b[0m\u001b[0;36m1\u001b[0m\u001b[0;34m)\u001b[0m\u001b[0;34m\u001b[0m\u001b[0;34m\u001b[0m\u001b[0m\n\u001b[1;32m      5\u001b[0m \u001b[0mfig\u001b[0m\u001b[0;34m.\u001b[0m\u001b[0mupdate_layout\u001b[0m\u001b[0;34m(\u001b[0m\u001b[0mlegend\u001b[0m\u001b[0;34m=\u001b[0m\u001b[0mdict\u001b[0m\u001b[0;34m(\u001b[0m\u001b[0morientation\u001b[0m\u001b[0;34m=\u001b[0m\u001b[0;34m'h'\u001b[0m\u001b[0;34m,\u001b[0m \u001b[0mbgcolor\u001b[0m\u001b[0;34m=\u001b[0m\u001b[0;34m'LightSteelBlue'\u001b[0m\u001b[0;34m)\u001b[0m\u001b[0;34m,\u001b[0m \u001b[0mtitle\u001b[0m\u001b[0;34m=\u001b[0m\u001b[0;34m'Hospitalizados, en UCI y recuperados'\u001b[0m\u001b[0;34m)\u001b[0m\u001b[0;34m\u001b[0m\u001b[0;34m\u001b[0m\u001b[0m\n",
      "\u001b[0;32m~/miniconda3/envs/myenv/lib/python3.7/site-packages/pandas/core/frame.py\u001b[0m in \u001b[0;36m__getitem__\u001b[0;34m(self, key)\u001b[0m\n\u001b[1;32m   2904\u001b[0m             \u001b[0;32mif\u001b[0m \u001b[0mself\u001b[0m\u001b[0;34m.\u001b[0m\u001b[0mcolumns\u001b[0m\u001b[0;34m.\u001b[0m\u001b[0mnlevels\u001b[0m \u001b[0;34m>\u001b[0m \u001b[0;36m1\u001b[0m\u001b[0;34m:\u001b[0m\u001b[0;34m\u001b[0m\u001b[0;34m\u001b[0m\u001b[0m\n\u001b[1;32m   2905\u001b[0m                 \u001b[0;32mreturn\u001b[0m \u001b[0mself\u001b[0m\u001b[0;34m.\u001b[0m\u001b[0m_getitem_multilevel\u001b[0m\u001b[0;34m(\u001b[0m\u001b[0mkey\u001b[0m\u001b[0;34m)\u001b[0m\u001b[0;34m\u001b[0m\u001b[0;34m\u001b[0m\u001b[0m\n\u001b[0;32m-> 2906\u001b[0;31m             \u001b[0mindexer\u001b[0m \u001b[0;34m=\u001b[0m \u001b[0mself\u001b[0m\u001b[0;34m.\u001b[0m\u001b[0mcolumns\u001b[0m\u001b[0;34m.\u001b[0m\u001b[0mget_loc\u001b[0m\u001b[0;34m(\u001b[0m\u001b[0mkey\u001b[0m\u001b[0;34m)\u001b[0m\u001b[0;34m\u001b[0m\u001b[0;34m\u001b[0m\u001b[0m\n\u001b[0m\u001b[1;32m   2907\u001b[0m             \u001b[0;32mif\u001b[0m \u001b[0mis_integer\u001b[0m\u001b[0;34m(\u001b[0m\u001b[0mindexer\u001b[0m\u001b[0;34m)\u001b[0m\u001b[0;34m:\u001b[0m\u001b[0;34m\u001b[0m\u001b[0;34m\u001b[0m\u001b[0m\n\u001b[1;32m   2908\u001b[0m                 \u001b[0mindexer\u001b[0m \u001b[0;34m=\u001b[0m \u001b[0;34m[\u001b[0m\u001b[0mindexer\u001b[0m\u001b[0;34m]\u001b[0m\u001b[0;34m\u001b[0m\u001b[0;34m\u001b[0m\u001b[0m\n",
      "\u001b[0;32m~/miniconda3/envs/myenv/lib/python3.7/site-packages/pandas/core/indexes/base.py\u001b[0m in \u001b[0;36mget_loc\u001b[0;34m(self, key, method, tolerance)\u001b[0m\n\u001b[1;32m   2895\u001b[0m                 \u001b[0;32mreturn\u001b[0m \u001b[0mself\u001b[0m\u001b[0;34m.\u001b[0m\u001b[0m_engine\u001b[0m\u001b[0;34m.\u001b[0m\u001b[0mget_loc\u001b[0m\u001b[0;34m(\u001b[0m\u001b[0mcasted_key\u001b[0m\u001b[0;34m)\u001b[0m\u001b[0;34m\u001b[0m\u001b[0;34m\u001b[0m\u001b[0m\n\u001b[1;32m   2896\u001b[0m             \u001b[0;32mexcept\u001b[0m \u001b[0mKeyError\u001b[0m \u001b[0;32mas\u001b[0m \u001b[0merr\u001b[0m\u001b[0;34m:\u001b[0m\u001b[0;34m\u001b[0m\u001b[0;34m\u001b[0m\u001b[0m\n\u001b[0;32m-> 2897\u001b[0;31m                 \u001b[0;32mraise\u001b[0m \u001b[0mKeyError\u001b[0m\u001b[0;34m(\u001b[0m\u001b[0mkey\u001b[0m\u001b[0;34m)\u001b[0m \u001b[0;32mfrom\u001b[0m \u001b[0merr\u001b[0m\u001b[0;34m\u001b[0m\u001b[0;34m\u001b[0m\u001b[0m\n\u001b[0m\u001b[1;32m   2898\u001b[0m \u001b[0;34m\u001b[0m\u001b[0m\n\u001b[1;32m   2899\u001b[0m         \u001b[0;32mif\u001b[0m \u001b[0mtolerance\u001b[0m \u001b[0;32mis\u001b[0m \u001b[0;32mnot\u001b[0m \u001b[0;32mNone\u001b[0m\u001b[0;34m:\u001b[0m\u001b[0;34m\u001b[0m\u001b[0;34m\u001b[0m\u001b[0m\n",
      "\u001b[0;31mKeyError\u001b[0m: 'hospitalized'"
     ]
    }
   ],
   "source": [
    "fig = make_subplots(rows=3, cols=1, shared_xaxes=True)\n",
    "fig.add_trace(go.Bar(x=spain['fecha'], y=spain['hospitalized'], name='Hospitalizados'), row=1, col=1)\n",
    "fig.add_trace(go.Bar(x=spain['fecha'], y=spain['intensive_care'], name='Cuidados intensivos'), row=2, col=1)\n",
    "fig.add_trace(go.Bar(x=spain['fecha'], y=spain['recovered'], name='Recuperados'), row=3, col=1)\n",
    "fig.update_layout(legend=dict(orientation='h', bgcolor='LightSteelBlue'), title='Hospitalizados, en UCI y recuperados')\n",
    "fig.show()"
   ]
  },
  {
   "source": [
    "Otros indicadores útiles para valorar el estado actual de la pandemia son el número de positivos hospitalizados, en la UCI y recuperados. Como se puede observar, en el peor momento de la primera ola (finales de marzo-mayo) es cuando se produjo el mayor número de personas hospitalizadas o en la UCI, mientras que los recuperados iban aumentando a medida que pasaba las semanas. Durante el inicio del verano los ingresados disminuyen, fruto del descenso de los contagios debido al confinamiento y la desescalada. Una vez llega Agosto, se empiezan a notar los efectos de la \"nueva normalidad\", y los hospitalizados e ingresados en UCI por COVID empiezan a aumentar de nuevo.\n",
    "\n",
    "Durante todo este tiempo, las cifras de recuperados no hacen más que aumentar, debido seguramente al gran número de personas infectadas con anterioridad."
   ],
   "cell_type": "markdown",
   "metadata": {}
  },
  {
   "cell_type": "code",
   "execution_count": null,
   "metadata": {},
   "outputs": [],
   "source": [
    "f, (ax1, ax2, ax3) = plt.subplots(3, 1, figsize=(10,5), sharex=True)\n",
    "sns.lineplot(x='date', y='hospitalized', data=spain, label='Hospitalizados', ax=ax1)\n",
    "ax1.axvline(x=pd.to_datetime('21-06-2020'), color='r')\n",
    "ax1.text(x=pd.to_datetime('22-06-2020'), y=10000,  rotation=90, s='F.E.A.', color='r', bbox=dict(facecolor='black', alpha=0.20))\n",
    "sns.lineplot(x='date', y='intensive_care', data=spain, label='Cuidados intensivos', ax=ax2)\n",
    "ax2.axvline(x=pd.to_datetime('21-06-2020'), color='r')\n",
    "ax2.text(x=pd.to_datetime('22-06-2020'), y=1000,  rotation=90, s='F.E.A.', color='r', bbox=dict(facecolor='black', alpha=0.20))\n",
    "sns.lineplot(x='date', y='recovered', data=spain, label='Recuperados', ax=ax3)\n",
    "ax3.axvline(x=pd.to_datetime('21-06-2020'), color='r',)\n",
    "ax3.text(x=pd.to_datetime('22-06-2020'), y=78000,  rotation=90, s='F.E.A.', color='r', bbox=dict(facecolor='black', alpha=0.20))\n",
    "f.autofmt_xdate()\n",
    "plt.legend()"
   ]
  },
  {
   "source": [
    "### Incidéncia acumulada\n",
    "La incidéncia acumulada (IA) es una forma de medir el impacto de la pandémia en cada territorio teniendo en cuenta su población. Por lo tanto, permite comparar valores entre distintas regiones/paises y establecer valores máximos que, una vez superados, exijan aplicar medidas de restricción de movilidad.\n",
    "\n",
    "La evolución de la IA en 7 y 14 días durante toda la pandémia se muestra a continuación:"
   ],
   "cell_type": "markdown",
   "metadata": {}
  },
  {
   "cell_type": "code",
   "execution_count": 189,
   "metadata": {},
   "outputs": [
    {
     "output_type": "display_data",
     "data": {
      "application/vnd.plotly.v1+json": {
       "config": {
        "plotlyServerURL": "https://plotly.com"
       },
       "data": [
        {
         "mode": "lines",
         "name": "IA 14 días",
         "type": "scatter",
         "x": [
          "2020-01-31",
          "2020-02-01",
          "2020-02-02",
          "2020-02-03",
          "2020-02-04",
          "2020-02-05",
          "2020-02-06",
          "2020-02-07",
          "2020-02-08",
          "2020-02-09",
          "2020-02-10",
          "2020-02-11",
          "2020-02-12",
          "2020-02-13",
          "2020-02-14",
          "2020-02-15",
          "2020-02-16",
          "2020-02-17",
          "2020-02-18",
          "2020-02-19",
          "2020-02-20",
          "2020-02-21",
          "2020-02-22",
          "2020-02-23",
          "2020-02-24",
          "2020-02-25",
          "2020-02-26",
          "2020-02-27",
          "2020-02-28",
          "2020-02-29",
          "2020-03-01",
          "2020-03-02",
          "2020-03-03",
          "2020-03-04",
          "2020-03-05",
          "2020-03-06",
          "2020-03-07",
          "2020-03-08",
          "2020-03-09",
          "2020-03-10",
          "2020-03-11",
          "2020-03-12",
          "2020-03-13",
          "2020-03-14",
          "2020-03-15",
          "2020-03-16",
          "2020-03-17",
          "2020-03-18",
          "2020-03-19",
          "2020-03-20",
          "2020-03-21",
          "2020-03-22",
          "2020-03-23",
          "2020-03-24",
          "2020-03-25",
          "2020-03-26",
          "2020-03-27",
          "2020-03-28",
          "2020-03-29",
          "2020-03-30",
          "2020-03-31",
          "2020-04-01",
          "2020-04-02",
          "2020-04-03",
          "2020-04-04",
          "2020-04-05",
          "2020-04-06",
          "2020-04-07",
          "2020-04-08",
          "2020-04-09",
          "2020-04-10",
          "2020-04-11",
          "2020-04-12",
          "2020-04-13",
          "2020-04-14",
          "2020-04-15",
          "2020-04-16",
          "2020-04-17",
          "2020-04-18",
          "2020-04-19",
          "2020-04-20",
          "2020-04-21",
          "2020-04-22",
          "2020-04-23",
          "2020-04-24",
          "2020-04-25",
          "2020-04-26",
          "2020-04-27",
          "2020-04-28",
          "2020-04-29",
          "2020-04-30",
          "2020-05-01",
          "2020-05-02",
          "2020-05-03",
          "2020-05-04",
          "2020-05-05",
          "2020-05-06",
          "2020-05-07",
          "2020-05-08",
          "2020-05-09",
          "2020-05-10",
          "2020-05-11",
          "2020-05-12",
          "2020-05-13",
          "2020-05-14",
          "2020-05-15",
          "2020-05-16",
          "2020-05-17",
          "2020-05-18",
          "2020-05-19",
          "2020-05-20",
          "2020-05-21",
          "2020-05-22",
          "2020-05-23",
          "2020-05-24",
          "2020-05-25",
          "2020-05-26",
          "2020-05-27",
          "2020-05-28",
          "2020-05-29",
          "2020-05-30",
          "2020-05-31",
          "2020-06-01",
          "2020-06-02",
          "2020-06-03",
          "2020-06-04",
          "2020-06-05",
          "2020-06-06",
          "2020-06-07",
          "2020-06-08",
          "2020-06-09",
          "2020-06-10",
          "2020-06-11",
          "2020-06-12",
          "2020-06-13",
          "2020-06-14",
          "2020-06-15",
          "2020-06-16",
          "2020-06-17",
          "2020-06-18",
          "2020-06-19",
          "2020-06-20",
          "2020-06-21",
          "2020-06-22",
          "2020-06-23",
          "2020-06-24",
          "2020-06-25",
          "2020-06-26",
          "2020-06-27",
          "2020-06-28",
          "2020-06-29",
          "2020-06-30",
          "2020-07-01",
          "2020-07-02",
          "2020-07-03",
          "2020-07-04",
          "2020-07-05",
          "2020-07-06",
          "2020-07-07",
          "2020-07-08",
          "2020-07-09",
          "2020-07-10",
          "2020-07-11",
          "2020-07-12",
          "2020-07-13",
          "2020-07-14",
          "2020-07-15",
          "2020-07-16",
          "2020-07-17",
          "2020-07-18",
          "2020-07-19",
          "2020-07-20",
          "2020-07-21",
          "2020-07-22",
          "2020-07-23",
          "2020-07-24",
          "2020-07-25",
          "2020-07-26",
          "2020-07-27",
          "2020-07-28",
          "2020-07-29",
          "2020-07-30",
          "2020-07-31",
          "2020-08-01",
          "2020-08-02",
          "2020-08-03",
          "2020-08-04",
          "2020-08-05",
          "2020-08-06",
          "2020-08-07",
          "2020-08-08",
          "2020-08-09",
          "2020-08-10",
          "2020-08-11",
          "2020-08-12",
          "2020-08-13",
          "2020-08-14",
          "2020-08-15",
          "2020-08-16",
          "2020-08-17",
          "2020-08-18",
          "2020-08-19",
          "2020-08-20",
          "2020-08-21",
          "2020-08-22",
          "2020-08-23",
          "2020-08-24",
          "2020-08-25",
          "2020-08-26",
          "2020-08-27",
          "2020-08-28",
          "2020-08-29",
          "2020-08-30",
          "2020-08-31",
          "2020-09-01",
          "2020-09-02",
          "2020-09-03",
          "2020-09-04",
          "2020-09-05",
          "2020-09-06",
          "2020-09-07",
          "2020-09-08",
          "2020-09-09",
          "2020-09-10",
          "2020-09-11",
          "2020-09-12",
          "2020-09-13",
          "2020-09-14",
          "2020-09-15",
          "2020-09-16",
          "2020-09-17",
          "2020-09-18",
          "2020-09-19",
          "2020-09-20",
          "2020-09-21",
          "2020-09-22",
          "2020-09-23",
          "2020-09-24",
          "2020-09-25",
          "2020-09-26",
          "2020-09-27",
          "2020-09-28",
          "2020-09-29",
          "2020-09-30",
          "2020-10-01",
          "2020-10-02",
          "2020-10-03",
          "2020-10-04",
          "2020-10-05",
          "2020-10-06",
          "2020-10-07",
          "2020-10-08",
          "2020-10-09",
          "2020-10-10",
          "2020-10-11",
          "2020-10-12",
          "2020-10-13",
          "2020-10-14",
          "2020-10-15",
          "2020-10-16",
          "2020-10-17",
          "2020-10-18",
          "2020-10-19",
          "2020-10-20",
          "2020-10-21",
          "2020-10-22",
          "2020-10-23",
          "2020-10-24",
          "2020-10-25",
          "2020-10-26",
          "2020-10-27",
          "2020-10-28",
          "2020-10-29",
          "2020-10-30",
          "2020-10-31",
          "2020-11-01",
          "2020-11-02",
          "2020-11-03"
         ],
         "y": [
          0.02,
          0.07,
          0.1,
          0.15,
          0.18,
          0.21,
          0.23,
          0.27,
          0.29,
          0.3,
          0.35,
          0.38,
          0.43,
          0.5,
          0.53,
          0.55,
          0.57,
          0.61,
          0.64,
          0.65,
          0.77,
          0.87,
          0.98,
          1.13,
          1.32,
          1.6,
          1.9,
          2.25,
          2.92,
          3.39,
          4.84,
          6.5,
          8.14,
          10.14,
          12.73,
          16.07,
          19.84,
          24.37,
          31.34,
          40.93,
          50.72,
          63.03,
          79.06,
          94.4,
          109.9,
          128.64,
          145.77,
          162.85,
          178.6,
          198.01,
          209.99,
          219.9,
          230.57,
          236.13,
          241.08,
          241.9,
          238.16,
          233.76,
          225.88,
          216.71,
          207.39,
          200.29,
          191.54,
          178.37,
          170.82,
          163.64,
          153.83,
          145.94,
          139.03,
          133.35,
          128.09,
          123.24,
          119.34,
          113.61,
          109.94,
          103.88,
          99.56,
          94.57,
          90.5,
          85.86,
          81.2,
          77.66,
          73.69,
          69.51,
          65.43,
          60.81,
          57.03,
          53.31,
          50.48,
          47.3,
          44.6,
          42.61,
          40.89,
          39.38,
          37.26,
          34.38,
          30.97,
          28.09,
          25.15,
          23.75,
          22.85,
          22.1,
          20.16,
          18.56,
          16.92,
          15.33,
          13.47,
          12.74,
          12.5,
          12.49,
          12.62,
          12.84,
          13.23,
          13.27,
          13.27,
          13.25,
          13.3,
          12.93,
          12.89,
          12.72,
          12.61,
          12.51,
          12.26,
          11.88,
          11.83,
          11.56,
          11.37,
          11.22,
          11.08,
          10.76,
          10.27,
          10.11,
          9.68,
          9.38,
          9.05,
          8.92,
          8.75,
          8.54,
          8.25,
          8.09,
          7.7,
          7.74,
          7.78,
          7.59,
          7.64,
          7.78,
          7.91,
          8.02,
          8.37,
          8.6,
          8.76,
          9.1,
          9.63,
          9.92,
          10.5,
          10.85,
          11.3,
          12.16,
          13.12,
          14.2,
          15.38,
          16.92,
          18.12,
          19.35,
          21.41,
          23.64,
          26.29,
          28.9,
          31.95,
          34.75,
          37.14,
          40.46,
          43.57,
          46.63,
          49.4,
          52.29,
          54.72,
          56.8,
          60.24,
          63.67,
          66.56,
          69.57,
          72.93,
          76.74,
          79.2,
          82.96,
          87.81,
          92.39,
          97.11,
          102.87,
          107.34,
          111.74,
          118,
          124.58,
          131.38,
          137.92,
          145.17,
          149.09,
          153.61,
          159.89,
          167.74,
          175.88,
          184.14,
          193.32,
          198.46,
          202.42,
          206.75,
          214.73,
          221.37,
          227.95,
          235.83,
          239.38,
          242.35,
          244.84,
          250.84,
          254.87,
          258.44,
          261.81,
          265.92,
          269.14,
          271.5,
          273.72,
          277.97,
          282.44,
          284.66,
          288.73,
          291.94,
          296.13,
          298.16,
          301.38,
          304.24,
          310.36,
          309.9,
          309.22,
          310.59,
          312.8,
          312.67,
          311.37,
          310.65,
          307.34,
          303.83,
          300.97,
          297.52,
          293.36,
          289.96,
          282.43,
          280.79,
          280.92,
          283.22,
          283.52,
          284.42,
          287.1,
          290.06,
          295.4,
          299.95,
          302.67,
          309.39,
          321.44,
          333.77,
          346.55,
          359.05,
          369.15,
          385.89,
          403.57,
          421.65,
          437.26,
          452.56,
          463.27,
          472.46,
          488.62,
          501.04,
          506.66,
          508.97,
          506.97,
          493.97,
          477.65,
          442.09,
          398.59
         ]
        },
        {
         "mode": "lines",
         "name": "IA 7 días",
         "type": "scatter",
         "x": [
          "2020-01-31",
          "2020-02-01",
          "2020-02-02",
          "2020-02-03",
          "2020-02-04",
          "2020-02-05",
          "2020-02-06",
          "2020-02-07",
          "2020-02-08",
          "2020-02-09",
          "2020-02-10",
          "2020-02-11",
          "2020-02-12",
          "2020-02-13",
          "2020-02-14",
          "2020-02-15",
          "2020-02-16",
          "2020-02-17",
          "2020-02-18",
          "2020-02-19",
          "2020-02-20",
          "2020-02-21",
          "2020-02-22",
          "2020-02-23",
          "2020-02-24",
          "2020-02-25",
          "2020-02-26",
          "2020-02-27",
          "2020-02-28",
          "2020-02-29",
          "2020-03-01",
          "2020-03-02",
          "2020-03-03",
          "2020-03-04",
          "2020-03-05",
          "2020-03-06",
          "2020-03-07",
          "2020-03-08",
          "2020-03-09",
          "2020-03-10",
          "2020-03-11",
          "2020-03-12",
          "2020-03-13",
          "2020-03-14",
          "2020-03-15",
          "2020-03-16",
          "2020-03-17",
          "2020-03-18",
          "2020-03-19",
          "2020-03-20",
          "2020-03-21",
          "2020-03-22",
          "2020-03-23",
          "2020-03-24",
          "2020-03-25",
          "2020-03-26",
          "2020-03-27",
          "2020-03-28",
          "2020-03-29",
          "2020-03-30",
          "2020-03-31",
          "2020-04-01",
          "2020-04-02",
          "2020-04-03",
          "2020-04-04",
          "2020-04-05",
          "2020-04-06",
          "2020-04-07",
          "2020-04-08",
          "2020-04-09",
          "2020-04-10",
          "2020-04-11",
          "2020-04-12",
          "2020-04-13",
          "2020-04-14",
          "2020-04-15",
          "2020-04-16",
          "2020-04-17",
          "2020-04-18",
          "2020-04-19",
          "2020-04-20",
          "2020-04-21",
          "2020-04-22",
          "2020-04-23",
          "2020-04-24",
          "2020-04-25",
          "2020-04-26",
          "2020-04-27",
          "2020-04-28",
          "2020-04-29",
          "2020-04-30",
          "2020-05-01",
          "2020-05-02",
          "2020-05-03",
          "2020-05-04",
          "2020-05-05",
          "2020-05-06",
          "2020-05-07",
          "2020-05-08",
          "2020-05-09",
          "2020-05-10",
          "2020-05-11",
          "2020-05-12",
          "2020-05-13",
          "2020-05-14",
          "2020-05-15",
          "2020-05-16",
          "2020-05-17",
          "2020-05-18",
          "2020-05-19",
          "2020-05-20",
          "2020-05-21",
          "2020-05-22",
          "2020-05-23",
          "2020-05-24",
          "2020-05-25",
          "2020-05-26",
          "2020-05-27",
          "2020-05-28",
          "2020-05-29",
          "2020-05-30",
          "2020-05-31",
          "2020-06-01",
          "2020-06-02",
          "2020-06-03",
          "2020-06-04",
          "2020-06-05",
          "2020-06-06",
          "2020-06-07",
          "2020-06-08",
          "2020-06-09",
          "2020-06-10",
          "2020-06-11",
          "2020-06-12",
          "2020-06-13",
          "2020-06-14",
          "2020-06-15",
          "2020-06-16",
          "2020-06-17",
          "2020-06-18",
          "2020-06-19",
          "2020-06-20",
          "2020-06-21",
          "2020-06-22",
          "2020-06-23",
          "2020-06-24",
          "2020-06-25",
          "2020-06-26",
          "2020-06-27",
          "2020-06-28",
          "2020-06-29",
          "2020-06-30",
          "2020-07-01",
          "2020-07-02",
          "2020-07-03",
          "2020-07-04",
          "2020-07-05",
          "2020-07-06",
          "2020-07-07",
          "2020-07-08",
          "2020-07-09",
          "2020-07-10",
          "2020-07-11",
          "2020-07-12",
          "2020-07-13",
          "2020-07-14",
          "2020-07-15",
          "2020-07-16",
          "2020-07-17",
          "2020-07-18",
          "2020-07-19",
          "2020-07-20",
          "2020-07-21",
          "2020-07-22",
          "2020-07-23",
          "2020-07-24",
          "2020-07-25",
          "2020-07-26",
          "2020-07-27",
          "2020-07-28",
          "2020-07-29",
          "2020-07-30",
          "2020-07-31",
          "2020-08-01",
          "2020-08-02",
          "2020-08-03",
          "2020-08-04",
          "2020-08-05",
          "2020-08-06",
          "2020-08-07",
          "2020-08-08",
          "2020-08-09",
          "2020-08-10",
          "2020-08-11",
          "2020-08-12",
          "2020-08-13",
          "2020-08-14",
          "2020-08-15",
          "2020-08-16",
          "2020-08-17",
          "2020-08-18",
          "2020-08-19",
          "2020-08-20",
          "2020-08-21",
          "2020-08-22",
          "2020-08-23",
          "2020-08-24",
          "2020-08-25",
          "2020-08-26",
          "2020-08-27",
          "2020-08-28",
          "2020-08-29",
          "2020-08-30",
          "2020-08-31",
          "2020-09-01",
          "2020-09-02",
          "2020-09-03",
          "2020-09-04",
          "2020-09-05",
          "2020-09-06",
          "2020-09-07",
          "2020-09-08",
          "2020-09-09",
          "2020-09-10",
          "2020-09-11",
          "2020-09-12",
          "2020-09-13",
          "2020-09-14",
          "2020-09-15",
          "2020-09-16",
          "2020-09-17",
          "2020-09-18",
          "2020-09-19",
          "2020-09-20",
          "2020-09-21",
          "2020-09-22",
          "2020-09-23",
          "2020-09-24",
          "2020-09-25",
          "2020-09-26",
          "2020-09-27",
          "2020-09-28",
          "2020-09-29",
          "2020-09-30",
          "2020-10-01",
          "2020-10-02",
          "2020-10-03",
          "2020-10-04",
          "2020-10-05",
          "2020-10-06",
          "2020-10-07",
          "2020-10-08",
          "2020-10-09",
          "2020-10-10",
          "2020-10-11",
          "2020-10-12",
          "2020-10-13",
          "2020-10-14",
          "2020-10-15",
          "2020-10-16",
          "2020-10-17",
          "2020-10-18",
          "2020-10-19",
          "2020-10-20",
          "2020-10-21",
          "2020-10-22",
          "2020-10-23",
          "2020-10-24",
          "2020-10-25",
          "2020-10-26",
          "2020-10-27",
          "2020-10-28",
          "2020-10-29",
          "2020-10-30",
          "2020-10-31",
          "2020-11-01",
          "2020-11-02",
          "2020-11-03"
         ],
         "y": [
          0.02,
          0.07,
          0.1,
          0.15,
          0.18,
          0.21,
          0.23,
          0.25,
          0.22,
          0.19,
          0.2,
          0.2,
          0.22,
          0.27,
          0.28,
          0.33,
          0.38,
          0.4,
          0.43,
          0.43,
          0.5,
          0.59,
          0.65,
          0.75,
          0.92,
          1.16,
          1.47,
          1.76,
          2.32,
          2.74,
          4.09,
          5.58,
          6.98,
          8.67,
          10.97,
          13.75,
          17.1,
          20.28,
          25.77,
          33.95,
          42.06,
          52.05,
          65.31,
          77.29,
          89.61,
          102.88,
          111.83,
          120.79,
          126.54,
          132.7,
          132.7,
          130.29,
          127.7,
          124.3,
          120.29,
          115.35,
          105.47,
          101.06,
          95.59,
          89.02,
          83.09,
          80,
          76.19,
          72.91,
          69.76,
          68.05,
          64.81,
          62.86,
          59.03,
          57.16,
          55.19,
          53.47,
          51.29,
          48.8,
          47.08,
          44.85,
          42.4,
          39.39,
          37.03,
          34.57,
          32.4,
          30.58,
          28.84,
          27.11,
          26.04,
          23.78,
          22.46,
          20.91,
          19.9,
          18.46,
          17.48,
          16.57,
          17.11,
          16.92,
          16.35,
          14.48,
          12.51,
          10.61,
          8.59,
          6.63,
          5.93,
          5.75,
          5.67,
          6.06,
          6.31,
          6.74,
          6.84,
          6.81,
          6.75,
          6.82,
          6.57,
          6.53,
          6.49,
          6.43,
          6.45,
          6.5,
          6.48,
          6.37,
          6.37,
          6.23,
          6.18,
          6.06,
          5.76,
          5.4,
          5.47,
          5.19,
          5.15,
          5.04,
          5.02,
          4.99,
          4.87,
          4.65,
          4.48,
          4.24,
          4.01,
          3.9,
          3.76,
          3.67,
          3.61,
          3.61,
          3.46,
          3.72,
          3.88,
          3.83,
          3.96,
          4.17,
          4.31,
          4.55,
          4.65,
          4.73,
          4.93,
          5.13,
          5.45,
          5.61,
          5.95,
          6.2,
          6.57,
          7.23,
          7.99,
          8.74,
          9.77,
          10.98,
          11.91,
          12.78,
          14.18,
          15.66,
          17.55,
          19.13,
          20.97,
          22.84,
          24.36,
          26.28,
          27.91,
          29.08,
          30.28,
          31.32,
          31.88,
          32.44,
          33.96,
          35.76,
          37.48,
          39.3,
          41.61,
          44.86,
          46.76,
          49,
          52.05,
          54.91,
          57.81,
          61.26,
          62.48,
          64.98,
          69,
          72.53,
          76.47,
          80.11,
          83.9,
          86.61,
          88.62,
          90.89,
          95.21,
          99.41,
          104.03,
          109.42,
          111.84,
          113.8,
          115.87,
          119.52,
          121.96,
          123.92,
          126.42,
          127.54,
          128.55,
          128.98,
          131.32,
          132.91,
          134.51,
          135.4,
          138.38,
          140.59,
          142.53,
          142.4,
          145.07,
          147.93,
          149.26,
          150.35,
          151.35,
          153.6,
          155.76,
          156.32,
          156.31,
          161.1,
          159.55,
          157.87,
          156.99,
          157.04,
          156.35,
          155.06,
          149.54,
          147.78,
          145.96,
          143.98,
          140.48,
          137.01,
          134.9,
          132.88,
          133,
          134.96,
          139.24,
          143.04,
          147.41,
          152.21,
          157.17,
          162.4,
          164.99,
          163.44,
          166.36,
          174.03,
          181.56,
          189.37,
          196.65,
          204.16,
          222.46,
          237.22,
          247.62,
          255.7,
          263.19,
          266.62,
          268.3,
          266.16,
          263.83,
          259.04,
          253.27,
          243.78,
          227.34,
          209.35,
          175.93,
          134.77
         ]
        }
       ],
       "layout": {
        "annotations": [
         {
          "hovertext": "Periodo de declaración del primer Estado de Alarma de la pandémia",
          "showarrow": false,
          "text": "Primer Estado Alarma",
          "x": "2020-04-24",
          "y": 530
         }
        ],
        "legend": {
         "bgcolor": "LightSteelBlue",
         "orientation": "h"
        },
        "shapes": [
         {
          "fillcolor": "grey",
          "line": {
           "width": 0
          },
          "opacity": 0.2,
          "type": "rect",
          "x0": "2020-03-14",
          "x1": "2020-06-21",
          "xref": "x",
          "y0": 0,
          "y1": 580,
          "yref": "y domain"
         }
        ],
        "template": {
         "data": {
          "bar": [
           {
            "error_x": {
             "color": "#2a3f5f"
            },
            "error_y": {
             "color": "#2a3f5f"
            },
            "marker": {
             "line": {
              "color": "#E5ECF6",
              "width": 0.5
             }
            },
            "type": "bar"
           }
          ],
          "barpolar": [
           {
            "marker": {
             "line": {
              "color": "#E5ECF6",
              "width": 0.5
             }
            },
            "type": "barpolar"
           }
          ],
          "carpet": [
           {
            "aaxis": {
             "endlinecolor": "#2a3f5f",
             "gridcolor": "white",
             "linecolor": "white",
             "minorgridcolor": "white",
             "startlinecolor": "#2a3f5f"
            },
            "baxis": {
             "endlinecolor": "#2a3f5f",
             "gridcolor": "white",
             "linecolor": "white",
             "minorgridcolor": "white",
             "startlinecolor": "#2a3f5f"
            },
            "type": "carpet"
           }
          ],
          "choropleth": [
           {
            "colorbar": {
             "outlinewidth": 0,
             "ticks": ""
            },
            "type": "choropleth"
           }
          ],
          "contour": [
           {
            "colorbar": {
             "outlinewidth": 0,
             "ticks": ""
            },
            "colorscale": [
             [
              0,
              "#0d0887"
             ],
             [
              0.1111111111111111,
              "#46039f"
             ],
             [
              0.2222222222222222,
              "#7201a8"
             ],
             [
              0.3333333333333333,
              "#9c179e"
             ],
             [
              0.4444444444444444,
              "#bd3786"
             ],
             [
              0.5555555555555556,
              "#d8576b"
             ],
             [
              0.6666666666666666,
              "#ed7953"
             ],
             [
              0.7777777777777778,
              "#fb9f3a"
             ],
             [
              0.8888888888888888,
              "#fdca26"
             ],
             [
              1,
              "#f0f921"
             ]
            ],
            "type": "contour"
           }
          ],
          "contourcarpet": [
           {
            "colorbar": {
             "outlinewidth": 0,
             "ticks": ""
            },
            "type": "contourcarpet"
           }
          ],
          "heatmap": [
           {
            "colorbar": {
             "outlinewidth": 0,
             "ticks": ""
            },
            "colorscale": [
             [
              0,
              "#0d0887"
             ],
             [
              0.1111111111111111,
              "#46039f"
             ],
             [
              0.2222222222222222,
              "#7201a8"
             ],
             [
              0.3333333333333333,
              "#9c179e"
             ],
             [
              0.4444444444444444,
              "#bd3786"
             ],
             [
              0.5555555555555556,
              "#d8576b"
             ],
             [
              0.6666666666666666,
              "#ed7953"
             ],
             [
              0.7777777777777778,
              "#fb9f3a"
             ],
             [
              0.8888888888888888,
              "#fdca26"
             ],
             [
              1,
              "#f0f921"
             ]
            ],
            "type": "heatmap"
           }
          ],
          "heatmapgl": [
           {
            "colorbar": {
             "outlinewidth": 0,
             "ticks": ""
            },
            "colorscale": [
             [
              0,
              "#0d0887"
             ],
             [
              0.1111111111111111,
              "#46039f"
             ],
             [
              0.2222222222222222,
              "#7201a8"
             ],
             [
              0.3333333333333333,
              "#9c179e"
             ],
             [
              0.4444444444444444,
              "#bd3786"
             ],
             [
              0.5555555555555556,
              "#d8576b"
             ],
             [
              0.6666666666666666,
              "#ed7953"
             ],
             [
              0.7777777777777778,
              "#fb9f3a"
             ],
             [
              0.8888888888888888,
              "#fdca26"
             ],
             [
              1,
              "#f0f921"
             ]
            ],
            "type": "heatmapgl"
           }
          ],
          "histogram": [
           {
            "marker": {
             "colorbar": {
              "outlinewidth": 0,
              "ticks": ""
             }
            },
            "type": "histogram"
           }
          ],
          "histogram2d": [
           {
            "colorbar": {
             "outlinewidth": 0,
             "ticks": ""
            },
            "colorscale": [
             [
              0,
              "#0d0887"
             ],
             [
              0.1111111111111111,
              "#46039f"
             ],
             [
              0.2222222222222222,
              "#7201a8"
             ],
             [
              0.3333333333333333,
              "#9c179e"
             ],
             [
              0.4444444444444444,
              "#bd3786"
             ],
             [
              0.5555555555555556,
              "#d8576b"
             ],
             [
              0.6666666666666666,
              "#ed7953"
             ],
             [
              0.7777777777777778,
              "#fb9f3a"
             ],
             [
              0.8888888888888888,
              "#fdca26"
             ],
             [
              1,
              "#f0f921"
             ]
            ],
            "type": "histogram2d"
           }
          ],
          "histogram2dcontour": [
           {
            "colorbar": {
             "outlinewidth": 0,
             "ticks": ""
            },
            "colorscale": [
             [
              0,
              "#0d0887"
             ],
             [
              0.1111111111111111,
              "#46039f"
             ],
             [
              0.2222222222222222,
              "#7201a8"
             ],
             [
              0.3333333333333333,
              "#9c179e"
             ],
             [
              0.4444444444444444,
              "#bd3786"
             ],
             [
              0.5555555555555556,
              "#d8576b"
             ],
             [
              0.6666666666666666,
              "#ed7953"
             ],
             [
              0.7777777777777778,
              "#fb9f3a"
             ],
             [
              0.8888888888888888,
              "#fdca26"
             ],
             [
              1,
              "#f0f921"
             ]
            ],
            "type": "histogram2dcontour"
           }
          ],
          "mesh3d": [
           {
            "colorbar": {
             "outlinewidth": 0,
             "ticks": ""
            },
            "type": "mesh3d"
           }
          ],
          "parcoords": [
           {
            "line": {
             "colorbar": {
              "outlinewidth": 0,
              "ticks": ""
             }
            },
            "type": "parcoords"
           }
          ],
          "pie": [
           {
            "automargin": true,
            "type": "pie"
           }
          ],
          "scatter": [
           {
            "marker": {
             "colorbar": {
              "outlinewidth": 0,
              "ticks": ""
             }
            },
            "type": "scatter"
           }
          ],
          "scatter3d": [
           {
            "line": {
             "colorbar": {
              "outlinewidth": 0,
              "ticks": ""
             }
            },
            "marker": {
             "colorbar": {
              "outlinewidth": 0,
              "ticks": ""
             }
            },
            "type": "scatter3d"
           }
          ],
          "scattercarpet": [
           {
            "marker": {
             "colorbar": {
              "outlinewidth": 0,
              "ticks": ""
             }
            },
            "type": "scattercarpet"
           }
          ],
          "scattergeo": [
           {
            "marker": {
             "colorbar": {
              "outlinewidth": 0,
              "ticks": ""
             }
            },
            "type": "scattergeo"
           }
          ],
          "scattergl": [
           {
            "marker": {
             "colorbar": {
              "outlinewidth": 0,
              "ticks": ""
             }
            },
            "type": "scattergl"
           }
          ],
          "scattermapbox": [
           {
            "marker": {
             "colorbar": {
              "outlinewidth": 0,
              "ticks": ""
             }
            },
            "type": "scattermapbox"
           }
          ],
          "scatterpolar": [
           {
            "marker": {
             "colorbar": {
              "outlinewidth": 0,
              "ticks": ""
             }
            },
            "type": "scatterpolar"
           }
          ],
          "scatterpolargl": [
           {
            "marker": {
             "colorbar": {
              "outlinewidth": 0,
              "ticks": ""
             }
            },
            "type": "scatterpolargl"
           }
          ],
          "scatterternary": [
           {
            "marker": {
             "colorbar": {
              "outlinewidth": 0,
              "ticks": ""
             }
            },
            "type": "scatterternary"
           }
          ],
          "surface": [
           {
            "colorbar": {
             "outlinewidth": 0,
             "ticks": ""
            },
            "colorscale": [
             [
              0,
              "#0d0887"
             ],
             [
              0.1111111111111111,
              "#46039f"
             ],
             [
              0.2222222222222222,
              "#7201a8"
             ],
             [
              0.3333333333333333,
              "#9c179e"
             ],
             [
              0.4444444444444444,
              "#bd3786"
             ],
             [
              0.5555555555555556,
              "#d8576b"
             ],
             [
              0.6666666666666666,
              "#ed7953"
             ],
             [
              0.7777777777777778,
              "#fb9f3a"
             ],
             [
              0.8888888888888888,
              "#fdca26"
             ],
             [
              1,
              "#f0f921"
             ]
            ],
            "type": "surface"
           }
          ],
          "table": [
           {
            "cells": {
             "fill": {
              "color": "#EBF0F8"
             },
             "line": {
              "color": "white"
             }
            },
            "header": {
             "fill": {
              "color": "#C8D4E3"
             },
             "line": {
              "color": "white"
             }
            },
            "type": "table"
           }
          ]
         },
         "layout": {
          "annotationdefaults": {
           "arrowcolor": "#2a3f5f",
           "arrowhead": 0,
           "arrowwidth": 1
          },
          "coloraxis": {
           "colorbar": {
            "outlinewidth": 0,
            "ticks": ""
           }
          },
          "colorscale": {
           "diverging": [
            [
             0,
             "#8e0152"
            ],
            [
             0.1,
             "#c51b7d"
            ],
            [
             0.2,
             "#de77ae"
            ],
            [
             0.3,
             "#f1b6da"
            ],
            [
             0.4,
             "#fde0ef"
            ],
            [
             0.5,
             "#f7f7f7"
            ],
            [
             0.6,
             "#e6f5d0"
            ],
            [
             0.7,
             "#b8e186"
            ],
            [
             0.8,
             "#7fbc41"
            ],
            [
             0.9,
             "#4d9221"
            ],
            [
             1,
             "#276419"
            ]
           ],
           "sequential": [
            [
             0,
             "#0d0887"
            ],
            [
             0.1111111111111111,
             "#46039f"
            ],
            [
             0.2222222222222222,
             "#7201a8"
            ],
            [
             0.3333333333333333,
             "#9c179e"
            ],
            [
             0.4444444444444444,
             "#bd3786"
            ],
            [
             0.5555555555555556,
             "#d8576b"
            ],
            [
             0.6666666666666666,
             "#ed7953"
            ],
            [
             0.7777777777777778,
             "#fb9f3a"
            ],
            [
             0.8888888888888888,
             "#fdca26"
            ],
            [
             1,
             "#f0f921"
            ]
           ],
           "sequentialminus": [
            [
             0,
             "#0d0887"
            ],
            [
             0.1111111111111111,
             "#46039f"
            ],
            [
             0.2222222222222222,
             "#7201a8"
            ],
            [
             0.3333333333333333,
             "#9c179e"
            ],
            [
             0.4444444444444444,
             "#bd3786"
            ],
            [
             0.5555555555555556,
             "#d8576b"
            ],
            [
             0.6666666666666666,
             "#ed7953"
            ],
            [
             0.7777777777777778,
             "#fb9f3a"
            ],
            [
             0.8888888888888888,
             "#fdca26"
            ],
            [
             1,
             "#f0f921"
            ]
           ]
          },
          "colorway": [
           "#636efa",
           "#EF553B",
           "#00cc96",
           "#ab63fa",
           "#FFA15A",
           "#19d3f3",
           "#FF6692",
           "#B6E880",
           "#FF97FF",
           "#FECB52"
          ],
          "font": {
           "color": "#2a3f5f"
          },
          "geo": {
           "bgcolor": "white",
           "lakecolor": "white",
           "landcolor": "#E5ECF6",
           "showlakes": true,
           "showland": true,
           "subunitcolor": "white"
          },
          "hoverlabel": {
           "align": "left"
          },
          "hovermode": "closest",
          "mapbox": {
           "style": "light"
          },
          "paper_bgcolor": "white",
          "plot_bgcolor": "#E5ECF6",
          "polar": {
           "angularaxis": {
            "gridcolor": "white",
            "linecolor": "white",
            "ticks": ""
           },
           "bgcolor": "#E5ECF6",
           "radialaxis": {
            "gridcolor": "white",
            "linecolor": "white",
            "ticks": ""
           }
          },
          "scene": {
           "xaxis": {
            "backgroundcolor": "#E5ECF6",
            "gridcolor": "white",
            "gridwidth": 2,
            "linecolor": "white",
            "showbackground": true,
            "ticks": "",
            "zerolinecolor": "white"
           },
           "yaxis": {
            "backgroundcolor": "#E5ECF6",
            "gridcolor": "white",
            "gridwidth": 2,
            "linecolor": "white",
            "showbackground": true,
            "ticks": "",
            "zerolinecolor": "white"
           },
           "zaxis": {
            "backgroundcolor": "#E5ECF6",
            "gridcolor": "white",
            "gridwidth": 2,
            "linecolor": "white",
            "showbackground": true,
            "ticks": "",
            "zerolinecolor": "white"
           }
          },
          "shapedefaults": {
           "line": {
            "color": "#2a3f5f"
           }
          },
          "ternary": {
           "aaxis": {
            "gridcolor": "white",
            "linecolor": "white",
            "ticks": ""
           },
           "baxis": {
            "gridcolor": "white",
            "linecolor": "white",
            "ticks": ""
           },
           "bgcolor": "#E5ECF6",
           "caxis": {
            "gridcolor": "white",
            "linecolor": "white",
            "ticks": ""
           }
          },
          "title": {
           "x": 0.05
          },
          "xaxis": {
           "automargin": true,
           "gridcolor": "white",
           "linecolor": "white",
           "ticks": "",
           "title": {
            "standoff": 15
           },
           "zerolinecolor": "white",
           "zerolinewidth": 2
          },
          "yaxis": {
           "automargin": true,
           "gridcolor": "white",
           "linecolor": "white",
           "ticks": "",
           "title": {
            "standoff": 15
           },
           "zerolinecolor": "white",
           "zerolinewidth": 2
          }
         }
        },
        "title": {
         "text": "Incidencia acumulada"
        },
        "width": 1200
       }
      }
     },
     "metadata": {}
    }
   ],
   "source": [
    "fig = go.Figure(data=[go.Scatter(x=spain['fecha'], y=spain['ia_100000_2week'], mode='lines', name='IA 14 días')], layout=go.Layout(title=go.layout.Title(text='Incidencia acumulada')))\n",
    "fig.add_trace(go.Scatter(x=spain['fecha'], y=spain['ia_100000_week'], mode='lines', name='IA 7 días'))\n",
    "fig.add_vrect(x0='2020-03-14', x1='2020-06-21', y1=580, line_width=0, fillcolor='grey', opacity=0.2)\n",
    "fig.add_annotation(text='Primer Estado Alarma', hovertext='Periodo de declaración del primer Estado de Alarma de la pandémia', x='2020-04-24', y=530, showarrow=False)\n",
    "fig.update_layout(width=1200, legend=dict(orientation='h', bgcolor='LightSteelBlue'))\n",
    "fig.show()"
   ]
  },
  {
   "source": [
    "Se observa una tendéncia similar a la curva de contágios."
   ],
   "cell_type": "markdown",
   "metadata": {}
  },
  {
   "source": [
    "## Fallecidos"
   ],
   "cell_type": "markdown",
   "metadata": {}
  },
  {
   "source": [
    "El siguiente paso es el número de fallecidos. A continuación se muestra la evolución del número de fallecidos diario diagnosticados con COVID desde el inicio de la pandémia:"
   ],
   "cell_type": "markdown",
   "metadata": {}
  },
  {
   "cell_type": "code",
   "execution_count": 202,
   "metadata": {},
   "outputs": [
    {
     "output_type": "display_data",
     "data": {
      "application/vnd.plotly.v1+json": {
       "config": {
        "plotlyServerURL": "https://plotly.com"
       },
       "data": [
        {
         "type": "bar",
         "x": [
          "2020-01-31",
          "2020-02-01",
          "2020-02-02",
          "2020-02-03",
          "2020-02-04",
          "2020-02-05",
          "2020-02-06",
          "2020-02-07",
          "2020-02-08",
          "2020-02-09",
          "2020-02-10",
          "2020-02-11",
          "2020-02-12",
          "2020-02-13",
          "2020-02-14",
          "2020-02-15",
          "2020-02-16",
          "2020-02-17",
          "2020-02-18",
          "2020-02-19",
          "2020-02-20",
          "2020-02-21",
          "2020-02-22",
          "2020-02-23",
          "2020-02-24",
          "2020-02-25",
          "2020-02-26",
          "2020-02-27",
          "2020-02-28",
          "2020-02-29",
          "2020-03-01",
          "2020-03-02",
          "2020-03-03",
          "2020-03-04",
          "2020-03-05",
          "2020-03-06",
          "2020-03-07",
          "2020-03-08",
          "2020-03-09",
          "2020-03-10",
          "2020-03-11",
          "2020-03-12",
          "2020-03-13",
          "2020-03-14",
          "2020-03-15",
          "2020-03-16",
          "2020-03-17",
          "2020-03-18",
          "2020-03-19",
          "2020-03-20",
          "2020-03-21",
          "2020-03-22",
          "2020-03-23",
          "2020-03-24",
          "2020-03-25",
          "2020-03-26",
          "2020-03-27",
          "2020-03-28",
          "2020-03-29",
          "2020-03-30",
          "2020-03-31",
          "2020-04-01",
          "2020-04-02",
          "2020-04-03",
          "2020-04-04",
          "2020-04-05",
          "2020-04-06",
          "2020-04-07",
          "2020-04-08",
          "2020-04-09",
          "2020-04-10",
          "2020-04-11",
          "2020-04-12",
          "2020-04-13",
          "2020-04-14",
          "2020-04-15",
          "2020-04-16",
          "2020-04-17",
          "2020-04-18",
          "2020-04-19",
          "2020-04-20",
          "2020-04-21",
          "2020-04-22",
          "2020-04-23",
          "2020-04-24",
          "2020-04-25",
          "2020-04-26",
          "2020-04-27",
          "2020-04-28",
          "2020-04-29",
          "2020-04-30",
          "2020-05-01",
          "2020-05-02",
          "2020-05-03",
          "2020-05-04",
          "2020-05-05",
          "2020-05-06",
          "2020-05-07",
          "2020-05-08",
          "2020-05-09",
          "2020-05-10",
          "2020-05-11",
          "2020-05-12",
          "2020-05-13",
          "2020-05-14",
          "2020-05-15",
          "2020-05-16",
          "2020-05-17",
          "2020-05-18",
          "2020-05-19",
          "2020-05-20",
          "2020-05-21",
          "2020-05-22",
          "2020-05-23",
          "2020-05-24",
          "2020-05-25",
          "2020-05-26",
          "2020-05-27",
          "2020-05-28",
          "2020-05-29",
          "2020-05-30",
          "2020-05-31",
          "2020-06-01",
          "2020-06-02",
          "2020-06-03",
          "2020-06-04",
          "2020-06-05",
          "2020-06-06",
          "2020-06-07",
          "2020-06-08",
          "2020-06-09",
          "2020-06-10",
          "2020-06-11",
          "2020-06-12",
          "2020-06-13",
          "2020-06-14",
          "2020-06-15",
          "2020-06-16",
          "2020-06-17",
          "2020-06-18",
          "2020-06-19",
          "2020-06-20",
          "2020-06-21",
          "2020-06-22",
          "2020-06-23",
          "2020-06-24",
          "2020-06-25",
          "2020-06-26",
          "2020-06-27",
          "2020-06-28",
          "2020-06-29",
          "2020-06-30",
          "2020-07-01",
          "2020-07-02",
          "2020-07-03",
          "2020-07-04",
          "2020-07-05",
          "2020-07-06",
          "2020-07-07",
          "2020-07-08",
          "2020-07-09",
          "2020-07-10",
          "2020-07-11",
          "2020-07-12",
          "2020-07-13",
          "2020-07-14",
          "2020-07-15",
          "2020-07-16",
          "2020-07-17",
          "2020-07-18",
          "2020-07-19",
          "2020-07-20",
          "2020-07-21",
          "2020-07-22",
          "2020-07-23",
          "2020-07-24",
          "2020-07-25",
          "2020-07-26",
          "2020-07-27",
          "2020-07-28",
          "2020-07-29",
          "2020-07-30",
          "2020-07-31",
          "2020-08-01",
          "2020-08-02",
          "2020-08-03",
          "2020-08-04",
          "2020-08-05",
          "2020-08-06",
          "2020-08-07",
          "2020-08-08",
          "2020-08-09",
          "2020-08-10",
          "2020-08-11",
          "2020-08-12",
          "2020-08-13",
          "2020-08-14",
          "2020-08-15",
          "2020-08-16",
          "2020-08-17",
          "2020-08-18",
          "2020-08-19",
          "2020-08-20",
          "2020-08-21",
          "2020-08-22",
          "2020-08-23",
          "2020-08-24",
          "2020-08-25",
          "2020-08-26",
          "2020-08-27",
          "2020-08-28",
          "2020-08-29",
          "2020-08-30",
          "2020-08-31",
          "2020-09-01",
          "2020-09-02",
          "2020-09-03",
          "2020-09-04",
          "2020-09-05",
          "2020-09-06",
          "2020-09-07",
          "2020-09-08",
          "2020-09-09",
          "2020-09-10",
          "2020-09-11",
          "2020-09-12",
          "2020-09-13",
          "2020-09-14",
          "2020-09-15",
          "2020-09-16",
          "2020-09-17",
          "2020-09-18",
          "2020-09-19",
          "2020-09-20",
          "2020-09-21",
          "2020-09-22",
          "2020-09-23",
          "2020-09-24",
          "2020-09-25",
          "2020-09-26",
          "2020-09-27",
          "2020-09-28",
          "2020-09-29",
          "2020-09-30",
          "2020-10-01",
          "2020-10-02",
          "2020-10-03",
          "2020-10-04",
          "2020-10-05",
          "2020-10-06",
          "2020-10-07",
          "2020-10-08",
          "2020-10-09",
          "2020-10-10",
          "2020-10-11",
          "2020-10-12",
          "2020-10-13",
          "2020-10-14",
          "2020-10-15",
          "2020-10-16",
          "2020-10-17",
          "2020-10-18",
          "2020-10-19",
          "2020-10-20",
          "2020-10-21",
          "2020-10-22",
          "2020-10-23",
          "2020-10-24",
          "2020-10-25",
          "2020-10-26",
          "2020-10-27",
          "2020-10-28",
          "2020-10-29",
          "2020-10-30",
          "2020-10-31",
          "2020-11-01",
          "2020-11-02",
          "2020-11-03"
         ],
         "y": [
          null,
          null,
          null,
          null,
          null,
          null,
          null,
          null,
          null,
          null,
          null,
          null,
          null,
          1,
          0,
          0,
          0,
          0,
          0,
          0,
          0,
          0,
          0,
          0,
          0,
          0,
          0,
          0,
          0,
          0,
          0,
          0,
          1,
          2,
          1,
          3,
          3,
          14,
          16,
          26,
          35,
          56,
          79,
          104,
          129,
          178,
          186,
          238,
          314,
          428,
          501,
          541,
          679,
          713,
          809,
          853,
          900,
          832,
          800,
          906,
          889,
          887,
          840,
          774,
          732,
          734,
          752,
          730,
          736,
          664,
          669,
          623,
          541,
          585,
          602,
          551,
          482,
          499,
          434,
          398,
          385,
          424,
          339,
          330,
          329,
          294,
          269,
          257,
          259,
          235,
          221,
          175,
          198,
          196,
          185,
          181,
          151,
          164,
          145,
          125,
          110,
          122,
          112,
          87,
          85,
          78,
          63,
          60,
          71,
          67,
          56,
          68,
          71,
          58,
          55,
          65,
          56,
          45,
          40,
          43,
          43,
          39,
          34,
          45,
          38,
          45,
          23,
          30,
          20,
          27,
          13,
          28,
          24,
          19,
          19,
          17,
          20,
          12,
          23,
          11,
          18,
          12,
          15,
          6,
          9,
          12,
          11,
          8,
          3,
          10,
          9,
          10,
          10,
          1,
          5,
          6,
          0,
          4,
          3,
          3,
          2,
          3,
          3,
          2,
          1,
          2,
          5,
          0,
          2,
          2,
          4,
          3,
          4,
          2,
          1,
          5,
          6,
          7,
          7,
          11,
          5,
          8,
          10,
          6,
          11,
          10,
          12,
          9,
          23,
          18,
          29,
          14,
          20,
          26,
          23,
          21,
          31,
          28,
          20,
          30,
          35,
          41,
          33,
          36,
          38,
          47,
          49,
          36,
          45,
          42,
          61,
          43,
          51,
          60,
          63,
          73,
          65,
          68,
          58,
          57,
          72,
          79,
          83,
          81,
          88,
          98,
          97,
          92,
          121,
          101,
          113,
          103,
          109,
          90,
          116,
          118,
          107,
          107,
          118,
          104,
          106,
          138,
          127,
          137,
          114,
          132,
          92,
          79,
          123,
          121,
          127,
          117,
          128,
          106,
          97,
          106,
          127,
          122,
          122,
          115,
          97,
          114,
          134,
          149,
          136,
          161,
          152,
          136,
          141,
          158,
          180,
          145,
          153,
          138,
          125,
          119,
          121,
          70
         ]
        }
       ],
       "layout": {
        "annotations": [
         {
          "hovertext": "Periodo de declaración del primer Estado de Alarma de la pandémia",
          "showarrow": false,
          "text": "Primer Estado Alarma",
          "x": "2020-04-24",
          "y": 900
         }
        ],
        "shapes": [
         {
          "fillcolor": "grey",
          "line": {
           "width": 0
          },
          "opacity": 0.2,
          "type": "rect",
          "x0": "2020-03-14",
          "x1": "2020-06-21",
          "xref": "x",
          "y0": 0,
          "y1": 1000,
          "yref": "y domain"
         }
        ],
        "template": {
         "data": {
          "bar": [
           {
            "error_x": {
             "color": "#2a3f5f"
            },
            "error_y": {
             "color": "#2a3f5f"
            },
            "marker": {
             "line": {
              "color": "#E5ECF6",
              "width": 0.5
             }
            },
            "type": "bar"
           }
          ],
          "barpolar": [
           {
            "marker": {
             "line": {
              "color": "#E5ECF6",
              "width": 0.5
             }
            },
            "type": "barpolar"
           }
          ],
          "carpet": [
           {
            "aaxis": {
             "endlinecolor": "#2a3f5f",
             "gridcolor": "white",
             "linecolor": "white",
             "minorgridcolor": "white",
             "startlinecolor": "#2a3f5f"
            },
            "baxis": {
             "endlinecolor": "#2a3f5f",
             "gridcolor": "white",
             "linecolor": "white",
             "minorgridcolor": "white",
             "startlinecolor": "#2a3f5f"
            },
            "type": "carpet"
           }
          ],
          "choropleth": [
           {
            "colorbar": {
             "outlinewidth": 0,
             "ticks": ""
            },
            "type": "choropleth"
           }
          ],
          "contour": [
           {
            "colorbar": {
             "outlinewidth": 0,
             "ticks": ""
            },
            "colorscale": [
             [
              0,
              "#0d0887"
             ],
             [
              0.1111111111111111,
              "#46039f"
             ],
             [
              0.2222222222222222,
              "#7201a8"
             ],
             [
              0.3333333333333333,
              "#9c179e"
             ],
             [
              0.4444444444444444,
              "#bd3786"
             ],
             [
              0.5555555555555556,
              "#d8576b"
             ],
             [
              0.6666666666666666,
              "#ed7953"
             ],
             [
              0.7777777777777778,
              "#fb9f3a"
             ],
             [
              0.8888888888888888,
              "#fdca26"
             ],
             [
              1,
              "#f0f921"
             ]
            ],
            "type": "contour"
           }
          ],
          "contourcarpet": [
           {
            "colorbar": {
             "outlinewidth": 0,
             "ticks": ""
            },
            "type": "contourcarpet"
           }
          ],
          "heatmap": [
           {
            "colorbar": {
             "outlinewidth": 0,
             "ticks": ""
            },
            "colorscale": [
             [
              0,
              "#0d0887"
             ],
             [
              0.1111111111111111,
              "#46039f"
             ],
             [
              0.2222222222222222,
              "#7201a8"
             ],
             [
              0.3333333333333333,
              "#9c179e"
             ],
             [
              0.4444444444444444,
              "#bd3786"
             ],
             [
              0.5555555555555556,
              "#d8576b"
             ],
             [
              0.6666666666666666,
              "#ed7953"
             ],
             [
              0.7777777777777778,
              "#fb9f3a"
             ],
             [
              0.8888888888888888,
              "#fdca26"
             ],
             [
              1,
              "#f0f921"
             ]
            ],
            "type": "heatmap"
           }
          ],
          "heatmapgl": [
           {
            "colorbar": {
             "outlinewidth": 0,
             "ticks": ""
            },
            "colorscale": [
             [
              0,
              "#0d0887"
             ],
             [
              0.1111111111111111,
              "#46039f"
             ],
             [
              0.2222222222222222,
              "#7201a8"
             ],
             [
              0.3333333333333333,
              "#9c179e"
             ],
             [
              0.4444444444444444,
              "#bd3786"
             ],
             [
              0.5555555555555556,
              "#d8576b"
             ],
             [
              0.6666666666666666,
              "#ed7953"
             ],
             [
              0.7777777777777778,
              "#fb9f3a"
             ],
             [
              0.8888888888888888,
              "#fdca26"
             ],
             [
              1,
              "#f0f921"
             ]
            ],
            "type": "heatmapgl"
           }
          ],
          "histogram": [
           {
            "marker": {
             "colorbar": {
              "outlinewidth": 0,
              "ticks": ""
             }
            },
            "type": "histogram"
           }
          ],
          "histogram2d": [
           {
            "colorbar": {
             "outlinewidth": 0,
             "ticks": ""
            },
            "colorscale": [
             [
              0,
              "#0d0887"
             ],
             [
              0.1111111111111111,
              "#46039f"
             ],
             [
              0.2222222222222222,
              "#7201a8"
             ],
             [
              0.3333333333333333,
              "#9c179e"
             ],
             [
              0.4444444444444444,
              "#bd3786"
             ],
             [
              0.5555555555555556,
              "#d8576b"
             ],
             [
              0.6666666666666666,
              "#ed7953"
             ],
             [
              0.7777777777777778,
              "#fb9f3a"
             ],
             [
              0.8888888888888888,
              "#fdca26"
             ],
             [
              1,
              "#f0f921"
             ]
            ],
            "type": "histogram2d"
           }
          ],
          "histogram2dcontour": [
           {
            "colorbar": {
             "outlinewidth": 0,
             "ticks": ""
            },
            "colorscale": [
             [
              0,
              "#0d0887"
             ],
             [
              0.1111111111111111,
              "#46039f"
             ],
             [
              0.2222222222222222,
              "#7201a8"
             ],
             [
              0.3333333333333333,
              "#9c179e"
             ],
             [
              0.4444444444444444,
              "#bd3786"
             ],
             [
              0.5555555555555556,
              "#d8576b"
             ],
             [
              0.6666666666666666,
              "#ed7953"
             ],
             [
              0.7777777777777778,
              "#fb9f3a"
             ],
             [
              0.8888888888888888,
              "#fdca26"
             ],
             [
              1,
              "#f0f921"
             ]
            ],
            "type": "histogram2dcontour"
           }
          ],
          "mesh3d": [
           {
            "colorbar": {
             "outlinewidth": 0,
             "ticks": ""
            },
            "type": "mesh3d"
           }
          ],
          "parcoords": [
           {
            "line": {
             "colorbar": {
              "outlinewidth": 0,
              "ticks": ""
             }
            },
            "type": "parcoords"
           }
          ],
          "pie": [
           {
            "automargin": true,
            "type": "pie"
           }
          ],
          "scatter": [
           {
            "marker": {
             "colorbar": {
              "outlinewidth": 0,
              "ticks": ""
             }
            },
            "type": "scatter"
           }
          ],
          "scatter3d": [
           {
            "line": {
             "colorbar": {
              "outlinewidth": 0,
              "ticks": ""
             }
            },
            "marker": {
             "colorbar": {
              "outlinewidth": 0,
              "ticks": ""
             }
            },
            "type": "scatter3d"
           }
          ],
          "scattercarpet": [
           {
            "marker": {
             "colorbar": {
              "outlinewidth": 0,
              "ticks": ""
             }
            },
            "type": "scattercarpet"
           }
          ],
          "scattergeo": [
           {
            "marker": {
             "colorbar": {
              "outlinewidth": 0,
              "ticks": ""
             }
            },
            "type": "scattergeo"
           }
          ],
          "scattergl": [
           {
            "marker": {
             "colorbar": {
              "outlinewidth": 0,
              "ticks": ""
             }
            },
            "type": "scattergl"
           }
          ],
          "scattermapbox": [
           {
            "marker": {
             "colorbar": {
              "outlinewidth": 0,
              "ticks": ""
             }
            },
            "type": "scattermapbox"
           }
          ],
          "scatterpolar": [
           {
            "marker": {
             "colorbar": {
              "outlinewidth": 0,
              "ticks": ""
             }
            },
            "type": "scatterpolar"
           }
          ],
          "scatterpolargl": [
           {
            "marker": {
             "colorbar": {
              "outlinewidth": 0,
              "ticks": ""
             }
            },
            "type": "scatterpolargl"
           }
          ],
          "scatterternary": [
           {
            "marker": {
             "colorbar": {
              "outlinewidth": 0,
              "ticks": ""
             }
            },
            "type": "scatterternary"
           }
          ],
          "surface": [
           {
            "colorbar": {
             "outlinewidth": 0,
             "ticks": ""
            },
            "colorscale": [
             [
              0,
              "#0d0887"
             ],
             [
              0.1111111111111111,
              "#46039f"
             ],
             [
              0.2222222222222222,
              "#7201a8"
             ],
             [
              0.3333333333333333,
              "#9c179e"
             ],
             [
              0.4444444444444444,
              "#bd3786"
             ],
             [
              0.5555555555555556,
              "#d8576b"
             ],
             [
              0.6666666666666666,
              "#ed7953"
             ],
             [
              0.7777777777777778,
              "#fb9f3a"
             ],
             [
              0.8888888888888888,
              "#fdca26"
             ],
             [
              1,
              "#f0f921"
             ]
            ],
            "type": "surface"
           }
          ],
          "table": [
           {
            "cells": {
             "fill": {
              "color": "#EBF0F8"
             },
             "line": {
              "color": "white"
             }
            },
            "header": {
             "fill": {
              "color": "#C8D4E3"
             },
             "line": {
              "color": "white"
             }
            },
            "type": "table"
           }
          ]
         },
         "layout": {
          "annotationdefaults": {
           "arrowcolor": "#2a3f5f",
           "arrowhead": 0,
           "arrowwidth": 1
          },
          "coloraxis": {
           "colorbar": {
            "outlinewidth": 0,
            "ticks": ""
           }
          },
          "colorscale": {
           "diverging": [
            [
             0,
             "#8e0152"
            ],
            [
             0.1,
             "#c51b7d"
            ],
            [
             0.2,
             "#de77ae"
            ],
            [
             0.3,
             "#f1b6da"
            ],
            [
             0.4,
             "#fde0ef"
            ],
            [
             0.5,
             "#f7f7f7"
            ],
            [
             0.6,
             "#e6f5d0"
            ],
            [
             0.7,
             "#b8e186"
            ],
            [
             0.8,
             "#7fbc41"
            ],
            [
             0.9,
             "#4d9221"
            ],
            [
             1,
             "#276419"
            ]
           ],
           "sequential": [
            [
             0,
             "#0d0887"
            ],
            [
             0.1111111111111111,
             "#46039f"
            ],
            [
             0.2222222222222222,
             "#7201a8"
            ],
            [
             0.3333333333333333,
             "#9c179e"
            ],
            [
             0.4444444444444444,
             "#bd3786"
            ],
            [
             0.5555555555555556,
             "#d8576b"
            ],
            [
             0.6666666666666666,
             "#ed7953"
            ],
            [
             0.7777777777777778,
             "#fb9f3a"
            ],
            [
             0.8888888888888888,
             "#fdca26"
            ],
            [
             1,
             "#f0f921"
            ]
           ],
           "sequentialminus": [
            [
             0,
             "#0d0887"
            ],
            [
             0.1111111111111111,
             "#46039f"
            ],
            [
             0.2222222222222222,
             "#7201a8"
            ],
            [
             0.3333333333333333,
             "#9c179e"
            ],
            [
             0.4444444444444444,
             "#bd3786"
            ],
            [
             0.5555555555555556,
             "#d8576b"
            ],
            [
             0.6666666666666666,
             "#ed7953"
            ],
            [
             0.7777777777777778,
             "#fb9f3a"
            ],
            [
             0.8888888888888888,
             "#fdca26"
            ],
            [
             1,
             "#f0f921"
            ]
           ]
          },
          "colorway": [
           "#636efa",
           "#EF553B",
           "#00cc96",
           "#ab63fa",
           "#FFA15A",
           "#19d3f3",
           "#FF6692",
           "#B6E880",
           "#FF97FF",
           "#FECB52"
          ],
          "font": {
           "color": "#2a3f5f"
          },
          "geo": {
           "bgcolor": "white",
           "lakecolor": "white",
           "landcolor": "#E5ECF6",
           "showlakes": true,
           "showland": true,
           "subunitcolor": "white"
          },
          "hoverlabel": {
           "align": "left"
          },
          "hovermode": "closest",
          "mapbox": {
           "style": "light"
          },
          "paper_bgcolor": "white",
          "plot_bgcolor": "#E5ECF6",
          "polar": {
           "angularaxis": {
            "gridcolor": "white",
            "linecolor": "white",
            "ticks": ""
           },
           "bgcolor": "#E5ECF6",
           "radialaxis": {
            "gridcolor": "white",
            "linecolor": "white",
            "ticks": ""
           }
          },
          "scene": {
           "xaxis": {
            "backgroundcolor": "#E5ECF6",
            "gridcolor": "white",
            "gridwidth": 2,
            "linecolor": "white",
            "showbackground": true,
            "ticks": "",
            "zerolinecolor": "white"
           },
           "yaxis": {
            "backgroundcolor": "#E5ECF6",
            "gridcolor": "white",
            "gridwidth": 2,
            "linecolor": "white",
            "showbackground": true,
            "ticks": "",
            "zerolinecolor": "white"
           },
           "zaxis": {
            "backgroundcolor": "#E5ECF6",
            "gridcolor": "white",
            "gridwidth": 2,
            "linecolor": "white",
            "showbackground": true,
            "ticks": "",
            "zerolinecolor": "white"
           }
          },
          "shapedefaults": {
           "line": {
            "color": "#2a3f5f"
           }
          },
          "ternary": {
           "aaxis": {
            "gridcolor": "white",
            "linecolor": "white",
            "ticks": ""
           },
           "baxis": {
            "gridcolor": "white",
            "linecolor": "white",
            "ticks": ""
           },
           "bgcolor": "#E5ECF6",
           "caxis": {
            "gridcolor": "white",
            "linecolor": "white",
            "ticks": ""
           }
          },
          "title": {
           "x": 0.05
          },
          "xaxis": {
           "automargin": true,
           "gridcolor": "white",
           "linecolor": "white",
           "ticks": "",
           "title": {
            "standoff": 15
           },
           "zerolinecolor": "white",
           "zerolinewidth": 2
          },
          "yaxis": {
           "automargin": true,
           "gridcolor": "white",
           "linecolor": "white",
           "ticks": "",
           "title": {
            "standoff": 15
           },
           "zerolinecolor": "white",
           "zerolinewidth": 2
          }
         }
        },
        "title": {
         "text": "Fallecimientos diarios desde el inicio de la pandémia"
        },
        "width": 1200,
        "yaxis": {
         "range": [
          0,
          1000
         ]
        }
       }
      }
     },
     "metadata": {}
    }
   ],
   "source": [
    "fig = go.Figure(data=[go.Bar(x=spain['fecha'], y=spain['deceased'])], layout=go.Layout(title=go.layout.Title(text='Fallecimientos diarios desde el inicio de la pandémia')))\n",
    "fig.update_yaxes(range=[0,1000])\n",
    "fig.add_vrect(x0='2020-03-14', x1='2020-06-21', y1=1000, line_width=0, fillcolor='grey', opacity=0.2)\n",
    "fig.add_annotation(text='Primer Estado Alarma', hovertext='Periodo de declaración del primer Estado de Alarma de la pandémia', x='2020-04-24', y=900, showarrow=False)\n",
    "fig.update_layout(width=1200)\n",
    "fig.show()"
   ]
  },
  {
   "source": [
    "Durante la primera ola, se alcanzaron cifras diarias de más de 1000 muertos diarios positivos por COVID. Gracias al confinamiento, estas cifras fueron dismuyendo lentamente durante mayo y junio, llegando a su mínimo durante el verano. Una vez los contagios e infectados vuelven a incrementarse a finales de agosto, los fallecidos empiezan a aumentar también."
   ],
   "cell_type": "markdown",
   "metadata": {}
  },
  {
   "cell_type": "code",
   "execution_count": 199,
   "metadata": {},
   "outputs": [
    {
     "output_type": "display_data",
     "data": {
      "application/vnd.plotly.v1+json": {
       "config": {
        "plotlyServerURL": "https://plotly.com"
       },
       "data": [
        {
         "type": "bar",
         "x": [
          "2020-01-31",
          "2020-02-01",
          "2020-02-02",
          "2020-02-03",
          "2020-02-04",
          "2020-02-05",
          "2020-02-06",
          "2020-02-07",
          "2020-02-08",
          "2020-02-09",
          "2020-02-10",
          "2020-02-11",
          "2020-02-12",
          "2020-02-13",
          "2020-02-14",
          "2020-02-15",
          "2020-02-16",
          "2020-02-17",
          "2020-02-18",
          "2020-02-19",
          "2020-02-20",
          "2020-02-21",
          "2020-02-22",
          "2020-02-23",
          "2020-02-24",
          "2020-02-25",
          "2020-02-26",
          "2020-02-27",
          "2020-02-28",
          "2020-02-29",
          "2020-03-01",
          "2020-03-02",
          "2020-03-03",
          "2020-03-04",
          "2020-03-05",
          "2020-03-06",
          "2020-03-07",
          "2020-03-08",
          "2020-03-09",
          "2020-03-10",
          "2020-03-11",
          "2020-03-12",
          "2020-03-13",
          "2020-03-14",
          "2020-03-15",
          "2020-03-16",
          "2020-03-17",
          "2020-03-18",
          "2020-03-19",
          "2020-03-20",
          "2020-03-21",
          "2020-03-22",
          "2020-03-23",
          "2020-03-24",
          "2020-03-25",
          "2020-03-26",
          "2020-03-27",
          "2020-03-28",
          "2020-03-29",
          "2020-03-30",
          "2020-03-31",
          "2020-04-01",
          "2020-04-02",
          "2020-04-03",
          "2020-04-04",
          "2020-04-05",
          "2020-04-06",
          "2020-04-07",
          "2020-04-08",
          "2020-04-09",
          "2020-04-10",
          "2020-04-11",
          "2020-04-12",
          "2020-04-13",
          "2020-04-14",
          "2020-04-15",
          "2020-04-16",
          "2020-04-17",
          "2020-04-18",
          "2020-04-19",
          "2020-04-20",
          "2020-04-21",
          "2020-04-22",
          "2020-04-23",
          "2020-04-24",
          "2020-04-25",
          "2020-04-26",
          "2020-04-27",
          "2020-04-28",
          "2020-04-29",
          "2020-04-30",
          "2020-05-01",
          "2020-05-02",
          "2020-05-03",
          "2020-05-04",
          "2020-05-05",
          "2020-05-06",
          "2020-05-07",
          "2020-05-08",
          "2020-05-09",
          "2020-05-10",
          "2020-05-11",
          "2020-05-12",
          "2020-05-13",
          "2020-05-14",
          "2020-05-15",
          "2020-05-16",
          "2020-05-17",
          "2020-05-18",
          "2020-05-19",
          "2020-05-20",
          "2020-05-21",
          "2020-05-22",
          "2020-05-23",
          "2020-05-24",
          "2020-05-25",
          "2020-05-26",
          "2020-05-27",
          "2020-05-28",
          "2020-05-29",
          "2020-05-30",
          "2020-05-31",
          "2020-06-01",
          "2020-06-02",
          "2020-06-03",
          "2020-06-04",
          "2020-06-05",
          "2020-06-06",
          "2020-06-07",
          "2020-06-08",
          "2020-06-09",
          "2020-06-10",
          "2020-06-11",
          "2020-06-12",
          "2020-06-13",
          "2020-06-14",
          "2020-06-15",
          "2020-06-16",
          "2020-06-17",
          "2020-06-18",
          "2020-06-19",
          "2020-06-20",
          "2020-06-21",
          "2020-06-22",
          "2020-06-23",
          "2020-06-24",
          "2020-06-25",
          "2020-06-26",
          "2020-06-27",
          "2020-06-28",
          "2020-06-29",
          "2020-06-30",
          "2020-07-01",
          "2020-07-02",
          "2020-07-03",
          "2020-07-04",
          "2020-07-05",
          "2020-07-06",
          "2020-07-07",
          "2020-07-08",
          "2020-07-09",
          "2020-07-10",
          "2020-07-11",
          "2020-07-12",
          "2020-07-13",
          "2020-07-14",
          "2020-07-15",
          "2020-07-16",
          "2020-07-17",
          "2020-07-18",
          "2020-07-19",
          "2020-07-20",
          "2020-07-21",
          "2020-07-22",
          "2020-07-23",
          "2020-07-24",
          "2020-07-25",
          "2020-07-26",
          "2020-07-27",
          "2020-07-28",
          "2020-07-29",
          "2020-07-30",
          "2020-07-31",
          "2020-08-01",
          "2020-08-02",
          "2020-08-03",
          "2020-08-04",
          "2020-08-05",
          "2020-08-06",
          "2020-08-07",
          "2020-08-08",
          "2020-08-09",
          "2020-08-10",
          "2020-08-11",
          "2020-08-12",
          "2020-08-13",
          "2020-08-14",
          "2020-08-15",
          "2020-08-16",
          "2020-08-17",
          "2020-08-18",
          "2020-08-19",
          "2020-08-20",
          "2020-08-21",
          "2020-08-22",
          "2020-08-23",
          "2020-08-24",
          "2020-08-25",
          "2020-08-26",
          "2020-08-27",
          "2020-08-28",
          "2020-08-29",
          "2020-08-30",
          "2020-08-31",
          "2020-09-01",
          "2020-09-02",
          "2020-09-03",
          "2020-09-04",
          "2020-09-05",
          "2020-09-06",
          "2020-09-07",
          "2020-09-08",
          "2020-09-09",
          "2020-09-10",
          "2020-09-11",
          "2020-09-12",
          "2020-09-13",
          "2020-09-14",
          "2020-09-15",
          "2020-09-16",
          "2020-09-17",
          "2020-09-18",
          "2020-09-19",
          "2020-09-20",
          "2020-09-21",
          "2020-09-22",
          "2020-09-23",
          "2020-09-24",
          "2020-09-25",
          "2020-09-26",
          "2020-09-27",
          "2020-09-28",
          "2020-09-29",
          "2020-09-30",
          "2020-10-01",
          "2020-10-02",
          "2020-10-03",
          "2020-10-04",
          "2020-10-05",
          "2020-10-06",
          "2020-10-07",
          "2020-10-08",
          "2020-10-09",
          "2020-10-10",
          "2020-10-11",
          "2020-10-12",
          "2020-10-13",
          "2020-10-14",
          "2020-10-15",
          "2020-10-16",
          "2020-10-17",
          "2020-10-18",
          "2020-10-19",
          "2020-10-20",
          "2020-10-21",
          "2020-10-22",
          "2020-10-23",
          "2020-10-24",
          "2020-10-25",
          "2020-10-26",
          "2020-10-27",
          "2020-10-28",
          "2020-10-29",
          "2020-10-30",
          "2020-10-31",
          "2020-11-01",
          "2020-11-02",
          "2020-11-03"
         ],
         "y": [
          null,
          null,
          null,
          null,
          null,
          null,
          null,
          null,
          null,
          null,
          null,
          null,
          null,
          1,
          1,
          1,
          1,
          1,
          1,
          1,
          1,
          1,
          1,
          1,
          1,
          1,
          1,
          1,
          1,
          1,
          1,
          1,
          2,
          4,
          5,
          8,
          11,
          25,
          41,
          67,
          102,
          158,
          237,
          341,
          470,
          648,
          834,
          1072,
          1386,
          1814,
          2315,
          2856,
          3535,
          4248,
          5057,
          5910,
          6810,
          7642,
          8442,
          9348,
          10237,
          11124,
          11964,
          12738,
          13470,
          14204,
          14956,
          15686,
          16422,
          17086,
          17755,
          18378,
          18919,
          19504,
          20106,
          20657,
          21139,
          21638,
          22072,
          22470,
          22855,
          23279,
          23618,
          23948,
          24277,
          24571,
          24840,
          25097,
          25356,
          25591,
          25812,
          25987,
          26185,
          26381,
          26566,
          26747,
          26898,
          27062,
          27207,
          27332,
          27442,
          27564,
          27676,
          27763,
          27848,
          27926,
          27989,
          28049,
          28120,
          28187,
          28243,
          28311,
          28382,
          28440,
          28495,
          28560,
          28616,
          28661,
          28701,
          28744,
          28787,
          28826,
          28860,
          28905,
          28943,
          28988,
          29011,
          29041,
          29061,
          29088,
          29101,
          29129,
          29153,
          29172,
          29191,
          29208,
          29228,
          29240,
          29263,
          29274,
          29292,
          29304,
          29319,
          29325,
          29334,
          29346,
          29357,
          29365,
          29368,
          29378,
          29387,
          29397,
          29407,
          29408,
          29413,
          29419,
          29419,
          29423,
          29426,
          29429,
          29431,
          29434,
          29437,
          29439,
          29440,
          29442,
          29447,
          29447,
          29449,
          29451,
          29455,
          29458,
          29462,
          29464,
          29465,
          29470,
          29476,
          29483,
          29490,
          29501,
          29506,
          29514,
          29524,
          29530,
          29541,
          29551,
          29563,
          29572,
          29595,
          29613,
          29642,
          29656,
          29676,
          29702,
          29725,
          29746,
          29777,
          29805,
          29825,
          29855,
          29890,
          29931,
          29964,
          30000,
          30038,
          30085,
          30134,
          30170,
          30215,
          30257,
          30318,
          30361,
          30412,
          30472,
          30535,
          30608,
          30673,
          30741,
          30799,
          30856,
          30928,
          31007,
          31090,
          31171,
          31259,
          31357,
          31454,
          31546,
          31667,
          31768,
          31881,
          31984,
          32093,
          32183,
          32299,
          32417,
          32524,
          32631,
          32749,
          32853,
          32959,
          33097,
          33224,
          33361,
          33475,
          33607,
          33699,
          33778,
          33901,
          34022,
          34149,
          34266,
          34394,
          34500,
          34597,
          34703,
          34830,
          34952,
          35074,
          35189,
          35286,
          35400,
          35534,
          35683,
          35819,
          35980,
          36132,
          36268,
          36409,
          36567,
          36747,
          36892,
          37045,
          37183,
          37308,
          37427,
          37548,
          37618
         ]
        }
       ],
       "layout": {
        "annotations": [
         {
          "hovertext": "Periodo de declaración del primer Estado de Alarma de la pandémia",
          "showarrow": false,
          "text": "Primer Estado Alarma",
          "x": "2020-04-24",
          "y": 35000
         }
        ],
        "shapes": [
         {
          "fillcolor": "grey",
          "line": {
           "width": 0
          },
          "opacity": 0.2,
          "type": "rect",
          "x0": "2020-03-14",
          "x1": "2020-06-21",
          "xref": "x",
          "y0": 0,
          "y1": 40000,
          "yref": "y domain"
         }
        ],
        "template": {
         "data": {
          "bar": [
           {
            "error_x": {
             "color": "#2a3f5f"
            },
            "error_y": {
             "color": "#2a3f5f"
            },
            "marker": {
             "line": {
              "color": "#E5ECF6",
              "width": 0.5
             }
            },
            "type": "bar"
           }
          ],
          "barpolar": [
           {
            "marker": {
             "line": {
              "color": "#E5ECF6",
              "width": 0.5
             }
            },
            "type": "barpolar"
           }
          ],
          "carpet": [
           {
            "aaxis": {
             "endlinecolor": "#2a3f5f",
             "gridcolor": "white",
             "linecolor": "white",
             "minorgridcolor": "white",
             "startlinecolor": "#2a3f5f"
            },
            "baxis": {
             "endlinecolor": "#2a3f5f",
             "gridcolor": "white",
             "linecolor": "white",
             "minorgridcolor": "white",
             "startlinecolor": "#2a3f5f"
            },
            "type": "carpet"
           }
          ],
          "choropleth": [
           {
            "colorbar": {
             "outlinewidth": 0,
             "ticks": ""
            },
            "type": "choropleth"
           }
          ],
          "contour": [
           {
            "colorbar": {
             "outlinewidth": 0,
             "ticks": ""
            },
            "colorscale": [
             [
              0,
              "#0d0887"
             ],
             [
              0.1111111111111111,
              "#46039f"
             ],
             [
              0.2222222222222222,
              "#7201a8"
             ],
             [
              0.3333333333333333,
              "#9c179e"
             ],
             [
              0.4444444444444444,
              "#bd3786"
             ],
             [
              0.5555555555555556,
              "#d8576b"
             ],
             [
              0.6666666666666666,
              "#ed7953"
             ],
             [
              0.7777777777777778,
              "#fb9f3a"
             ],
             [
              0.8888888888888888,
              "#fdca26"
             ],
             [
              1,
              "#f0f921"
             ]
            ],
            "type": "contour"
           }
          ],
          "contourcarpet": [
           {
            "colorbar": {
             "outlinewidth": 0,
             "ticks": ""
            },
            "type": "contourcarpet"
           }
          ],
          "heatmap": [
           {
            "colorbar": {
             "outlinewidth": 0,
             "ticks": ""
            },
            "colorscale": [
             [
              0,
              "#0d0887"
             ],
             [
              0.1111111111111111,
              "#46039f"
             ],
             [
              0.2222222222222222,
              "#7201a8"
             ],
             [
              0.3333333333333333,
              "#9c179e"
             ],
             [
              0.4444444444444444,
              "#bd3786"
             ],
             [
              0.5555555555555556,
              "#d8576b"
             ],
             [
              0.6666666666666666,
              "#ed7953"
             ],
             [
              0.7777777777777778,
              "#fb9f3a"
             ],
             [
              0.8888888888888888,
              "#fdca26"
             ],
             [
              1,
              "#f0f921"
             ]
            ],
            "type": "heatmap"
           }
          ],
          "heatmapgl": [
           {
            "colorbar": {
             "outlinewidth": 0,
             "ticks": ""
            },
            "colorscale": [
             [
              0,
              "#0d0887"
             ],
             [
              0.1111111111111111,
              "#46039f"
             ],
             [
              0.2222222222222222,
              "#7201a8"
             ],
             [
              0.3333333333333333,
              "#9c179e"
             ],
             [
              0.4444444444444444,
              "#bd3786"
             ],
             [
              0.5555555555555556,
              "#d8576b"
             ],
             [
              0.6666666666666666,
              "#ed7953"
             ],
             [
              0.7777777777777778,
              "#fb9f3a"
             ],
             [
              0.8888888888888888,
              "#fdca26"
             ],
             [
              1,
              "#f0f921"
             ]
            ],
            "type": "heatmapgl"
           }
          ],
          "histogram": [
           {
            "marker": {
             "colorbar": {
              "outlinewidth": 0,
              "ticks": ""
             }
            },
            "type": "histogram"
           }
          ],
          "histogram2d": [
           {
            "colorbar": {
             "outlinewidth": 0,
             "ticks": ""
            },
            "colorscale": [
             [
              0,
              "#0d0887"
             ],
             [
              0.1111111111111111,
              "#46039f"
             ],
             [
              0.2222222222222222,
              "#7201a8"
             ],
             [
              0.3333333333333333,
              "#9c179e"
             ],
             [
              0.4444444444444444,
              "#bd3786"
             ],
             [
              0.5555555555555556,
              "#d8576b"
             ],
             [
              0.6666666666666666,
              "#ed7953"
             ],
             [
              0.7777777777777778,
              "#fb9f3a"
             ],
             [
              0.8888888888888888,
              "#fdca26"
             ],
             [
              1,
              "#f0f921"
             ]
            ],
            "type": "histogram2d"
           }
          ],
          "histogram2dcontour": [
           {
            "colorbar": {
             "outlinewidth": 0,
             "ticks": ""
            },
            "colorscale": [
             [
              0,
              "#0d0887"
             ],
             [
              0.1111111111111111,
              "#46039f"
             ],
             [
              0.2222222222222222,
              "#7201a8"
             ],
             [
              0.3333333333333333,
              "#9c179e"
             ],
             [
              0.4444444444444444,
              "#bd3786"
             ],
             [
              0.5555555555555556,
              "#d8576b"
             ],
             [
              0.6666666666666666,
              "#ed7953"
             ],
             [
              0.7777777777777778,
              "#fb9f3a"
             ],
             [
              0.8888888888888888,
              "#fdca26"
             ],
             [
              1,
              "#f0f921"
             ]
            ],
            "type": "histogram2dcontour"
           }
          ],
          "mesh3d": [
           {
            "colorbar": {
             "outlinewidth": 0,
             "ticks": ""
            },
            "type": "mesh3d"
           }
          ],
          "parcoords": [
           {
            "line": {
             "colorbar": {
              "outlinewidth": 0,
              "ticks": ""
             }
            },
            "type": "parcoords"
           }
          ],
          "pie": [
           {
            "automargin": true,
            "type": "pie"
           }
          ],
          "scatter": [
           {
            "marker": {
             "colorbar": {
              "outlinewidth": 0,
              "ticks": ""
             }
            },
            "type": "scatter"
           }
          ],
          "scatter3d": [
           {
            "line": {
             "colorbar": {
              "outlinewidth": 0,
              "ticks": ""
             }
            },
            "marker": {
             "colorbar": {
              "outlinewidth": 0,
              "ticks": ""
             }
            },
            "type": "scatter3d"
           }
          ],
          "scattercarpet": [
           {
            "marker": {
             "colorbar": {
              "outlinewidth": 0,
              "ticks": ""
             }
            },
            "type": "scattercarpet"
           }
          ],
          "scattergeo": [
           {
            "marker": {
             "colorbar": {
              "outlinewidth": 0,
              "ticks": ""
             }
            },
            "type": "scattergeo"
           }
          ],
          "scattergl": [
           {
            "marker": {
             "colorbar": {
              "outlinewidth": 0,
              "ticks": ""
             }
            },
            "type": "scattergl"
           }
          ],
          "scattermapbox": [
           {
            "marker": {
             "colorbar": {
              "outlinewidth": 0,
              "ticks": ""
             }
            },
            "type": "scattermapbox"
           }
          ],
          "scatterpolar": [
           {
            "marker": {
             "colorbar": {
              "outlinewidth": 0,
              "ticks": ""
             }
            },
            "type": "scatterpolar"
           }
          ],
          "scatterpolargl": [
           {
            "marker": {
             "colorbar": {
              "outlinewidth": 0,
              "ticks": ""
             }
            },
            "type": "scatterpolargl"
           }
          ],
          "scatterternary": [
           {
            "marker": {
             "colorbar": {
              "outlinewidth": 0,
              "ticks": ""
             }
            },
            "type": "scatterternary"
           }
          ],
          "surface": [
           {
            "colorbar": {
             "outlinewidth": 0,
             "ticks": ""
            },
            "colorscale": [
             [
              0,
              "#0d0887"
             ],
             [
              0.1111111111111111,
              "#46039f"
             ],
             [
              0.2222222222222222,
              "#7201a8"
             ],
             [
              0.3333333333333333,
              "#9c179e"
             ],
             [
              0.4444444444444444,
              "#bd3786"
             ],
             [
              0.5555555555555556,
              "#d8576b"
             ],
             [
              0.6666666666666666,
              "#ed7953"
             ],
             [
              0.7777777777777778,
              "#fb9f3a"
             ],
             [
              0.8888888888888888,
              "#fdca26"
             ],
             [
              1,
              "#f0f921"
             ]
            ],
            "type": "surface"
           }
          ],
          "table": [
           {
            "cells": {
             "fill": {
              "color": "#EBF0F8"
             },
             "line": {
              "color": "white"
             }
            },
            "header": {
             "fill": {
              "color": "#C8D4E3"
             },
             "line": {
              "color": "white"
             }
            },
            "type": "table"
           }
          ]
         },
         "layout": {
          "annotationdefaults": {
           "arrowcolor": "#2a3f5f",
           "arrowhead": 0,
           "arrowwidth": 1
          },
          "coloraxis": {
           "colorbar": {
            "outlinewidth": 0,
            "ticks": ""
           }
          },
          "colorscale": {
           "diverging": [
            [
             0,
             "#8e0152"
            ],
            [
             0.1,
             "#c51b7d"
            ],
            [
             0.2,
             "#de77ae"
            ],
            [
             0.3,
             "#f1b6da"
            ],
            [
             0.4,
             "#fde0ef"
            ],
            [
             0.5,
             "#f7f7f7"
            ],
            [
             0.6,
             "#e6f5d0"
            ],
            [
             0.7,
             "#b8e186"
            ],
            [
             0.8,
             "#7fbc41"
            ],
            [
             0.9,
             "#4d9221"
            ],
            [
             1,
             "#276419"
            ]
           ],
           "sequential": [
            [
             0,
             "#0d0887"
            ],
            [
             0.1111111111111111,
             "#46039f"
            ],
            [
             0.2222222222222222,
             "#7201a8"
            ],
            [
             0.3333333333333333,
             "#9c179e"
            ],
            [
             0.4444444444444444,
             "#bd3786"
            ],
            [
             0.5555555555555556,
             "#d8576b"
            ],
            [
             0.6666666666666666,
             "#ed7953"
            ],
            [
             0.7777777777777778,
             "#fb9f3a"
            ],
            [
             0.8888888888888888,
             "#fdca26"
            ],
            [
             1,
             "#f0f921"
            ]
           ],
           "sequentialminus": [
            [
             0,
             "#0d0887"
            ],
            [
             0.1111111111111111,
             "#46039f"
            ],
            [
             0.2222222222222222,
             "#7201a8"
            ],
            [
             0.3333333333333333,
             "#9c179e"
            ],
            [
             0.4444444444444444,
             "#bd3786"
            ],
            [
             0.5555555555555556,
             "#d8576b"
            ],
            [
             0.6666666666666666,
             "#ed7953"
            ],
            [
             0.7777777777777778,
             "#fb9f3a"
            ],
            [
             0.8888888888888888,
             "#fdca26"
            ],
            [
             1,
             "#f0f921"
            ]
           ]
          },
          "colorway": [
           "#636efa",
           "#EF553B",
           "#00cc96",
           "#ab63fa",
           "#FFA15A",
           "#19d3f3",
           "#FF6692",
           "#B6E880",
           "#FF97FF",
           "#FECB52"
          ],
          "font": {
           "color": "#2a3f5f"
          },
          "geo": {
           "bgcolor": "white",
           "lakecolor": "white",
           "landcolor": "#E5ECF6",
           "showlakes": true,
           "showland": true,
           "subunitcolor": "white"
          },
          "hoverlabel": {
           "align": "left"
          },
          "hovermode": "closest",
          "mapbox": {
           "style": "light"
          },
          "paper_bgcolor": "white",
          "plot_bgcolor": "#E5ECF6",
          "polar": {
           "angularaxis": {
            "gridcolor": "white",
            "linecolor": "white",
            "ticks": ""
           },
           "bgcolor": "#E5ECF6",
           "radialaxis": {
            "gridcolor": "white",
            "linecolor": "white",
            "ticks": ""
           }
          },
          "scene": {
           "xaxis": {
            "backgroundcolor": "#E5ECF6",
            "gridcolor": "white",
            "gridwidth": 2,
            "linecolor": "white",
            "showbackground": true,
            "ticks": "",
            "zerolinecolor": "white"
           },
           "yaxis": {
            "backgroundcolor": "#E5ECF6",
            "gridcolor": "white",
            "gridwidth": 2,
            "linecolor": "white",
            "showbackground": true,
            "ticks": "",
            "zerolinecolor": "white"
           },
           "zaxis": {
            "backgroundcolor": "#E5ECF6",
            "gridcolor": "white",
            "gridwidth": 2,
            "linecolor": "white",
            "showbackground": true,
            "ticks": "",
            "zerolinecolor": "white"
           }
          },
          "shapedefaults": {
           "line": {
            "color": "#2a3f5f"
           }
          },
          "ternary": {
           "aaxis": {
            "gridcolor": "white",
            "linecolor": "white",
            "ticks": ""
           },
           "baxis": {
            "gridcolor": "white",
            "linecolor": "white",
            "ticks": ""
           },
           "bgcolor": "#E5ECF6",
           "caxis": {
            "gridcolor": "white",
            "linecolor": "white",
            "ticks": ""
           }
          },
          "title": {
           "x": 0.05
          },
          "xaxis": {
           "automargin": true,
           "gridcolor": "white",
           "linecolor": "white",
           "ticks": "",
           "title": {
            "standoff": 15
           },
           "zerolinecolor": "white",
           "zerolinewidth": 2
          },
          "yaxis": {
           "automargin": true,
           "gridcolor": "white",
           "linecolor": "white",
           "ticks": "",
           "title": {
            "standoff": 15
           },
           "zerolinecolor": "white",
           "zerolinewidth": 2
          }
         }
        },
        "title": {
         "text": "Fallecimientos acumulados desde el inicio de la pandémia"
        },
        "width": 1200
       }
      }
     },
     "metadata": {}
    }
   ],
   "source": [
    "fig = go.Figure(data=[go.Bar(x=spain['fecha'], y=spain['deceased_accumulated'])], layout=go.Layout(title=go.layout.Title(text='Fallecimientos acumulados desde el inicio de la pandémia')))\n",
    "fig.add_vrect(x0='2020-03-14', x1='2020-06-21', y1=40000, line_width=0, fillcolor='grey', opacity=0.2)\n",
    "fig.add_annotation(text='Primer Estado Alarma', hovertext='Periodo de declaración del primer Estado de Alarma de la pandémia', x='2020-04-24', y=35000, showarrow=False)\n",
    "fig.update_layout(width=1200)\n",
    "fig.show()"
   ]
  },
  {
   "source": [
    "En el acumulado, se puede observar un estancamiento en el número de fallecidos durante el verano, pero a partir de los últimos días de agosto se observa de nuevo una tendencia al aumento."
   ],
   "cell_type": "markdown",
   "metadata": {}
  },
  {
   "source": [
    "## CCAA"
   ],
   "cell_type": "markdown",
   "metadata": {}
  },
  {
   "source": [
    "A partir de los datos separados por Comunidades Autónomas es posible seguir la evolución de la pandemia en estas."
   ],
   "cell_type": "markdown",
   "metadata": {}
  },
  {
   "cell_type": "code",
   "execution_count": null,
   "metadata": {
    "tags": []
   },
   "outputs": [],
   "source": [
    "ccaa.info(verbose=True)"
   ]
  },
  {
   "source": [
    "Empecemos con una tabla resumen: en ella se muestran los casos acumulados diagnosticados por PCR, el número de nuevos casos (diarios, en 7 y en 14 días) y la IA por 100000 habitantes para cada comunidad autónoma, ordenado por IA:"
   ],
   "cell_type": "markdown",
   "metadata": {}
  },
  {
   "cell_type": "code",
   "execution_count": 142,
   "metadata": {},
   "outputs": [
    {
     "output_type": "display_data",
     "data": {
      "application/vnd.plotly.v1+json": {
       "config": {
        "plotlyServerURL": "https://plotly.com"
       },
       "data": [
        {
         "cells": {
          "align": "center",
          "fill": {
           "color": "rgb(107, 174, 214)"
          },
          "values": [
           [
            "2020-10-25",
            "2020-10-25",
            "2020-10-25",
            "2020-10-25",
            "2020-10-25",
            "2020-10-25",
            "2020-10-25",
            "2020-10-25",
            "2020-10-25",
            "2020-10-25",
            "2020-10-25",
            "2020-10-25",
            "2020-10-25",
            "2020-10-25",
            "2020-10-25",
            "2020-10-25",
            "2020-10-25",
            "2020-10-25",
            "2020-10-25",
            "2020-10-25"
           ],
           [
            "Melilla",
            "Aragón",
            "Castilla y León",
            "Navarra, Comunidad Foral de / Nafarroako Foru Komunitatea",
            "Ceuta",
            "Catalunya",
            "La Rioja",
            "País Vasco / Euskal Herria",
            "Murcia, Región de",
            "Extremadura",
            "Castilla-La Mancha",
            "Andalucía",
            "España",
            "Asturias, Principado de",
            "Cantabria",
            "Madrid, Comunidad de",
            "Galicia",
            "Valenciana, Comunidad / Valenciana, Comunitat",
            "Illes Balears",
            "Canarias"
           ],
           [
            2629,
            51036,
            77514,
            21843,
            1359,
            206856,
            11848,
            63860,
            34098,
            17880,
            50920,
            111526,
            1076474,
            11367,
            9524,
            275634,
            32539,
            61205,
            17937,
            16899
           ],
           [
            44,
            925,
            1426,
            307,
            42,
            2309,
            125,
            1146,
            510,
            422,
            692,
            1686,
            12644,
            410,
            173,
            957,
            624,
            603,
            172,
            71
           ],
           [
            542,
            7303,
            10675,
            2743,
            336,
            30345,
            1233,
            7419,
            4919,
            3193,
            5886,
            23444,
            127258,
            2259,
            1141,
            12615,
            4394,
            6672,
            1362,
            777
           ],
           [
            1061,
            11982,
            18932,
            5364,
            595,
            50710,
            2333,
            12901,
            8989,
            5182,
            10613,
            39862,
            224094,
            3867,
            1986,
            26243,
            7288,
            12308,
            2297,
            1581
           ],
           [
            622.44,
            549.61,
            446.04,
            415.05,
            400.75,
            390.12,
            385.73,
            334.22,
            325.56,
            300.21,
            287.91,
            277.11,
            268.3,
            221.75,
            195.78,
            186.11,
            162.72,
            131.99,
            116.31,
            35.73
           ]
          ]
         },
         "columnwidth": [
          100,
          90,
          90,
          180,
          100,
          120,
          140,
          140,
          100,
          100,
          100
         ],
         "header": {
          "align": "center",
          "fill": {
           "color": "white"
          },
          "values": [
           "Fecha",
           "CCAA",
           "Casos totales",
           "Casos diarios",
           "Casos 7 días",
           "Casos 14 días",
           "IA 7 días"
          ]
         },
         "type": "table"
        }
       ],
       "layout": {
        "height": 800,
        "paper_bgcolor": "LightSteelBlue",
        "template": {
         "data": {
          "bar": [
           {
            "error_x": {
             "color": "#2a3f5f"
            },
            "error_y": {
             "color": "#2a3f5f"
            },
            "marker": {
             "line": {
              "color": "#E5ECF6",
              "width": 0.5
             }
            },
            "type": "bar"
           }
          ],
          "barpolar": [
           {
            "marker": {
             "line": {
              "color": "#E5ECF6",
              "width": 0.5
             }
            },
            "type": "barpolar"
           }
          ],
          "carpet": [
           {
            "aaxis": {
             "endlinecolor": "#2a3f5f",
             "gridcolor": "white",
             "linecolor": "white",
             "minorgridcolor": "white",
             "startlinecolor": "#2a3f5f"
            },
            "baxis": {
             "endlinecolor": "#2a3f5f",
             "gridcolor": "white",
             "linecolor": "white",
             "minorgridcolor": "white",
             "startlinecolor": "#2a3f5f"
            },
            "type": "carpet"
           }
          ],
          "choropleth": [
           {
            "colorbar": {
             "outlinewidth": 0,
             "ticks": ""
            },
            "type": "choropleth"
           }
          ],
          "contour": [
           {
            "colorbar": {
             "outlinewidth": 0,
             "ticks": ""
            },
            "colorscale": [
             [
              0,
              "#0d0887"
             ],
             [
              0.1111111111111111,
              "#46039f"
             ],
             [
              0.2222222222222222,
              "#7201a8"
             ],
             [
              0.3333333333333333,
              "#9c179e"
             ],
             [
              0.4444444444444444,
              "#bd3786"
             ],
             [
              0.5555555555555556,
              "#d8576b"
             ],
             [
              0.6666666666666666,
              "#ed7953"
             ],
             [
              0.7777777777777778,
              "#fb9f3a"
             ],
             [
              0.8888888888888888,
              "#fdca26"
             ],
             [
              1,
              "#f0f921"
             ]
            ],
            "type": "contour"
           }
          ],
          "contourcarpet": [
           {
            "colorbar": {
             "outlinewidth": 0,
             "ticks": ""
            },
            "type": "contourcarpet"
           }
          ],
          "heatmap": [
           {
            "colorbar": {
             "outlinewidth": 0,
             "ticks": ""
            },
            "colorscale": [
             [
              0,
              "#0d0887"
             ],
             [
              0.1111111111111111,
              "#46039f"
             ],
             [
              0.2222222222222222,
              "#7201a8"
             ],
             [
              0.3333333333333333,
              "#9c179e"
             ],
             [
              0.4444444444444444,
              "#bd3786"
             ],
             [
              0.5555555555555556,
              "#d8576b"
             ],
             [
              0.6666666666666666,
              "#ed7953"
             ],
             [
              0.7777777777777778,
              "#fb9f3a"
             ],
             [
              0.8888888888888888,
              "#fdca26"
             ],
             [
              1,
              "#f0f921"
             ]
            ],
            "type": "heatmap"
           }
          ],
          "heatmapgl": [
           {
            "colorbar": {
             "outlinewidth": 0,
             "ticks": ""
            },
            "colorscale": [
             [
              0,
              "#0d0887"
             ],
             [
              0.1111111111111111,
              "#46039f"
             ],
             [
              0.2222222222222222,
              "#7201a8"
             ],
             [
              0.3333333333333333,
              "#9c179e"
             ],
             [
              0.4444444444444444,
              "#bd3786"
             ],
             [
              0.5555555555555556,
              "#d8576b"
             ],
             [
              0.6666666666666666,
              "#ed7953"
             ],
             [
              0.7777777777777778,
              "#fb9f3a"
             ],
             [
              0.8888888888888888,
              "#fdca26"
             ],
             [
              1,
              "#f0f921"
             ]
            ],
            "type": "heatmapgl"
           }
          ],
          "histogram": [
           {
            "marker": {
             "colorbar": {
              "outlinewidth": 0,
              "ticks": ""
             }
            },
            "type": "histogram"
           }
          ],
          "histogram2d": [
           {
            "colorbar": {
             "outlinewidth": 0,
             "ticks": ""
            },
            "colorscale": [
             [
              0,
              "#0d0887"
             ],
             [
              0.1111111111111111,
              "#46039f"
             ],
             [
              0.2222222222222222,
              "#7201a8"
             ],
             [
              0.3333333333333333,
              "#9c179e"
             ],
             [
              0.4444444444444444,
              "#bd3786"
             ],
             [
              0.5555555555555556,
              "#d8576b"
             ],
             [
              0.6666666666666666,
              "#ed7953"
             ],
             [
              0.7777777777777778,
              "#fb9f3a"
             ],
             [
              0.8888888888888888,
              "#fdca26"
             ],
             [
              1,
              "#f0f921"
             ]
            ],
            "type": "histogram2d"
           }
          ],
          "histogram2dcontour": [
           {
            "colorbar": {
             "outlinewidth": 0,
             "ticks": ""
            },
            "colorscale": [
             [
              0,
              "#0d0887"
             ],
             [
              0.1111111111111111,
              "#46039f"
             ],
             [
              0.2222222222222222,
              "#7201a8"
             ],
             [
              0.3333333333333333,
              "#9c179e"
             ],
             [
              0.4444444444444444,
              "#bd3786"
             ],
             [
              0.5555555555555556,
              "#d8576b"
             ],
             [
              0.6666666666666666,
              "#ed7953"
             ],
             [
              0.7777777777777778,
              "#fb9f3a"
             ],
             [
              0.8888888888888888,
              "#fdca26"
             ],
             [
              1,
              "#f0f921"
             ]
            ],
            "type": "histogram2dcontour"
           }
          ],
          "mesh3d": [
           {
            "colorbar": {
             "outlinewidth": 0,
             "ticks": ""
            },
            "type": "mesh3d"
           }
          ],
          "parcoords": [
           {
            "line": {
             "colorbar": {
              "outlinewidth": 0,
              "ticks": ""
             }
            },
            "type": "parcoords"
           }
          ],
          "pie": [
           {
            "automargin": true,
            "type": "pie"
           }
          ],
          "scatter": [
           {
            "marker": {
             "colorbar": {
              "outlinewidth": 0,
              "ticks": ""
             }
            },
            "type": "scatter"
           }
          ],
          "scatter3d": [
           {
            "line": {
             "colorbar": {
              "outlinewidth": 0,
              "ticks": ""
             }
            },
            "marker": {
             "colorbar": {
              "outlinewidth": 0,
              "ticks": ""
             }
            },
            "type": "scatter3d"
           }
          ],
          "scattercarpet": [
           {
            "marker": {
             "colorbar": {
              "outlinewidth": 0,
              "ticks": ""
             }
            },
            "type": "scattercarpet"
           }
          ],
          "scattergeo": [
           {
            "marker": {
             "colorbar": {
              "outlinewidth": 0,
              "ticks": ""
             }
            },
            "type": "scattergeo"
           }
          ],
          "scattergl": [
           {
            "marker": {
             "colorbar": {
              "outlinewidth": 0,
              "ticks": ""
             }
            },
            "type": "scattergl"
           }
          ],
          "scattermapbox": [
           {
            "marker": {
             "colorbar": {
              "outlinewidth": 0,
              "ticks": ""
             }
            },
            "type": "scattermapbox"
           }
          ],
          "scatterpolar": [
           {
            "marker": {
             "colorbar": {
              "outlinewidth": 0,
              "ticks": ""
             }
            },
            "type": "scatterpolar"
           }
          ],
          "scatterpolargl": [
           {
            "marker": {
             "colorbar": {
              "outlinewidth": 0,
              "ticks": ""
             }
            },
            "type": "scatterpolargl"
           }
          ],
          "scatterternary": [
           {
            "marker": {
             "colorbar": {
              "outlinewidth": 0,
              "ticks": ""
             }
            },
            "type": "scatterternary"
           }
          ],
          "surface": [
           {
            "colorbar": {
             "outlinewidth": 0,
             "ticks": ""
            },
            "colorscale": [
             [
              0,
              "#0d0887"
             ],
             [
              0.1111111111111111,
              "#46039f"
             ],
             [
              0.2222222222222222,
              "#7201a8"
             ],
             [
              0.3333333333333333,
              "#9c179e"
             ],
             [
              0.4444444444444444,
              "#bd3786"
             ],
             [
              0.5555555555555556,
              "#d8576b"
             ],
             [
              0.6666666666666666,
              "#ed7953"
             ],
             [
              0.7777777777777778,
              "#fb9f3a"
             ],
             [
              0.8888888888888888,
              "#fdca26"
             ],
             [
              1,
              "#f0f921"
             ]
            ],
            "type": "surface"
           }
          ],
          "table": [
           {
            "cells": {
             "fill": {
              "color": "#EBF0F8"
             },
             "line": {
              "color": "white"
             }
            },
            "header": {
             "fill": {
              "color": "#C8D4E3"
             },
             "line": {
              "color": "white"
             }
            },
            "type": "table"
           }
          ]
         },
         "layout": {
          "annotationdefaults": {
           "arrowcolor": "#2a3f5f",
           "arrowhead": 0,
           "arrowwidth": 1
          },
          "coloraxis": {
           "colorbar": {
            "outlinewidth": 0,
            "ticks": ""
           }
          },
          "colorscale": {
           "diverging": [
            [
             0,
             "#8e0152"
            ],
            [
             0.1,
             "#c51b7d"
            ],
            [
             0.2,
             "#de77ae"
            ],
            [
             0.3,
             "#f1b6da"
            ],
            [
             0.4,
             "#fde0ef"
            ],
            [
             0.5,
             "#f7f7f7"
            ],
            [
             0.6,
             "#e6f5d0"
            ],
            [
             0.7,
             "#b8e186"
            ],
            [
             0.8,
             "#7fbc41"
            ],
            [
             0.9,
             "#4d9221"
            ],
            [
             1,
             "#276419"
            ]
           ],
           "sequential": [
            [
             0,
             "#0d0887"
            ],
            [
             0.1111111111111111,
             "#46039f"
            ],
            [
             0.2222222222222222,
             "#7201a8"
            ],
            [
             0.3333333333333333,
             "#9c179e"
            ],
            [
             0.4444444444444444,
             "#bd3786"
            ],
            [
             0.5555555555555556,
             "#d8576b"
            ],
            [
             0.6666666666666666,
             "#ed7953"
            ],
            [
             0.7777777777777778,
             "#fb9f3a"
            ],
            [
             0.8888888888888888,
             "#fdca26"
            ],
            [
             1,
             "#f0f921"
            ]
           ],
           "sequentialminus": [
            [
             0,
             "#0d0887"
            ],
            [
             0.1111111111111111,
             "#46039f"
            ],
            [
             0.2222222222222222,
             "#7201a8"
            ],
            [
             0.3333333333333333,
             "#9c179e"
            ],
            [
             0.4444444444444444,
             "#bd3786"
            ],
            [
             0.5555555555555556,
             "#d8576b"
            ],
            [
             0.6666666666666666,
             "#ed7953"
            ],
            [
             0.7777777777777778,
             "#fb9f3a"
            ],
            [
             0.8888888888888888,
             "#fdca26"
            ],
            [
             1,
             "#f0f921"
            ]
           ]
          },
          "colorway": [
           "#636efa",
           "#EF553B",
           "#00cc96",
           "#ab63fa",
           "#FFA15A",
           "#19d3f3",
           "#FF6692",
           "#B6E880",
           "#FF97FF",
           "#FECB52"
          ],
          "font": {
           "color": "#2a3f5f"
          },
          "geo": {
           "bgcolor": "white",
           "lakecolor": "white",
           "landcolor": "#E5ECF6",
           "showlakes": true,
           "showland": true,
           "subunitcolor": "white"
          },
          "hoverlabel": {
           "align": "left"
          },
          "hovermode": "closest",
          "mapbox": {
           "style": "light"
          },
          "paper_bgcolor": "white",
          "plot_bgcolor": "#E5ECF6",
          "polar": {
           "angularaxis": {
            "gridcolor": "white",
            "linecolor": "white",
            "ticks": ""
           },
           "bgcolor": "#E5ECF6",
           "radialaxis": {
            "gridcolor": "white",
            "linecolor": "white",
            "ticks": ""
           }
          },
          "scene": {
           "xaxis": {
            "backgroundcolor": "#E5ECF6",
            "gridcolor": "white",
            "gridwidth": 2,
            "linecolor": "white",
            "showbackground": true,
            "ticks": "",
            "zerolinecolor": "white"
           },
           "yaxis": {
            "backgroundcolor": "#E5ECF6",
            "gridcolor": "white",
            "gridwidth": 2,
            "linecolor": "white",
            "showbackground": true,
            "ticks": "",
            "zerolinecolor": "white"
           },
           "zaxis": {
            "backgroundcolor": "#E5ECF6",
            "gridcolor": "white",
            "gridwidth": 2,
            "linecolor": "white",
            "showbackground": true,
            "ticks": "",
            "zerolinecolor": "white"
           }
          },
          "shapedefaults": {
           "line": {
            "color": "#2a3f5f"
           }
          },
          "ternary": {
           "aaxis": {
            "gridcolor": "white",
            "linecolor": "white",
            "ticks": ""
           },
           "baxis": {
            "gridcolor": "white",
            "linecolor": "white",
            "ticks": ""
           },
           "bgcolor": "#E5ECF6",
           "caxis": {
            "gridcolor": "white",
            "linecolor": "white",
            "ticks": ""
           }
          },
          "title": {
           "x": 0.05
          },
          "xaxis": {
           "automargin": true,
           "gridcolor": "white",
           "linecolor": "white",
           "ticks": "",
           "title": {
            "standoff": 15
           },
           "zerolinecolor": "white",
           "zerolinewidth": 2
          },
          "yaxis": {
           "automargin": true,
           "gridcolor": "white",
           "linecolor": "white",
           "ticks": "",
           "title": {
            "standoff": 15
           },
           "zerolinecolor": "white",
           "zerolinewidth": 2
          }
         }
        },
        "width": 1200
       }
      }
     },
     "metadata": {}
    }
   ],
   "source": [
    "fig = go.Figure(data=[go.Table(\n",
    "    columnwidth=[100, 90, 90, 180, 100, 120, 140, 140, 100, 100, 100],\n",
    "    header=dict(values=list(['Fecha', 'CCAA', 'Casos totales', 'Casos diarios', 'Casos 7 días', 'Casos 14 días', 'IA 7 días']),\n",
    "                fill_color='white',\n",
    "                align='center'),\n",
    "    cells=dict(values=ccaa.loc[ccaa['fecha']=='2020-10-25',['fecha', 'ccaa','cases_accumulated_PCR', 'num_casos', 'cases_7_days', 'cases_14_days', 'ia_100000_week']].sort_values(by='ia_100000_week', ascending=False).transpose().values.tolist(),\n",
    "               fill_color='rgb(107, 174, 214)',\n",
    "               align='center'))\n",
    "])\n",
    "fig.update_layout(width=1200, height=800, paper_bgcolor=\"LightSteelBlue\")\n",
    "fig.show()"
   ]
  },
  {
   "source": [
    "En la siguiente tabla se muestran los fallecimientos acumulados, diarios, incrementos respecto al día anterior, en la última semana y por cada 100000 habitantes, ordenados por este último:"
   ],
   "cell_type": "markdown",
   "metadata": {}
  },
  {
   "cell_type": "code",
   "execution_count": 160,
   "metadata": {},
   "outputs": [
    {
     "output_type": "display_data",
     "data": {
      "application/vnd.plotly.v1+json": {
       "config": {
        "plotlyServerURL": "https://plotly.com"
       },
       "data": [
        {
         "cells": {
          "align": "center",
          "fill": {
           "color": "rgb(107, 174, 214)"
          },
          "values": [
           [
            "2020-10-25",
            "2020-10-25",
            "2020-10-25",
            "2020-10-25",
            "2020-10-25",
            "2020-10-25",
            "2020-10-25",
            "2020-10-25",
            "2020-10-25",
            "2020-10-25",
            "2020-10-25",
            "2020-10-25",
            "2020-10-25",
            "2020-10-25",
            "2020-10-25",
            "2020-10-25",
            "2020-10-25",
            "2020-10-25",
            "2020-10-25",
            "2020-10-25"
           ],
           [
            "Castilla-La Mancha",
            "Madrid, Comunidad de",
            "Castilla y León",
            "La Rioja",
            "Aragón",
            "Navarra, Comunidad Foral de / Nafarroako Foru Komunitatea",
            "País Vasco / Euskal Herria",
            "Catalunya",
            "España",
            "Extremadura",
            "Cantabria",
            "Asturias, Principado de",
            "Valenciana, Comunidad / Valenciana, Comunitat",
            "Galicia",
            "Illes Balears",
            "Andalucía",
            "Ceuta",
            "Canarias",
            "Melilla",
            "Murcia, Región de"
           ],
           [
            3267,
            10539,
            3579,
            457,
            1598,
            687,
            2084,
            7029,
            36409,
            690,
            242,
            416,
            1782,
            876,
            363,
            2333,
            21,
            280,
            11,
            155
           ],
           [
            10,
            29,
            15,
            5,
            7,
            3,
            7,
            9,
            141,
            1,
            0,
            3,
            5,
            5,
            0,
            29,
            3,
            0,
            0,
            10
           ],
           [
            0,
            45,
            -50,
            66.67,
            0,
            50,
            -12.5,
            200,
            3.68,
            -66.67,
            null,
            -62.5,
            25,
            -44.44,
            null,
            26.09,
            200,
            -100,
            null,
            233.33
           ],
           [
            53,
            216,
            149,
            15,
            80,
            31,
            45,
            38,
            1009,
            28,
            1,
            40,
            41,
            48,
            5,
            170,
            4,
            12,
            1,
            32
           ],
           [
            159.8,
            155.48,
            149.54,
            142.97,
            120.26,
            103.95,
            93.88,
            90.37,
            76.76,
            64.88,
            41.52,
            40.84,
            35.25,
            32.44,
            31,
            27.58,
            25.05,
            12.88,
            12.63,
            10.26
           ]
          ]
         },
         "columnwidth": [
          50,
          90,
          70,
          70,
          70,
          70,
          120
         ],
         "header": {
          "align": "center",
          "fill": {
           "color": "white"
          },
          "values": [
           "Fecha",
           "CCAA",
           "Fallecidos totales",
           "Fallecidos diarios",
           "Incremento de fallecidos",
           "Fallecidos 7 días",
           "Fallecidos por 100000 habitantes "
          ]
         },
         "type": "table"
        }
       ],
       "layout": {
        "height": 800,
        "paper_bgcolor": "LightSteelBlue",
        "template": {
         "data": {
          "bar": [
           {
            "error_x": {
             "color": "#2a3f5f"
            },
            "error_y": {
             "color": "#2a3f5f"
            },
            "marker": {
             "line": {
              "color": "#E5ECF6",
              "width": 0.5
             }
            },
            "type": "bar"
           }
          ],
          "barpolar": [
           {
            "marker": {
             "line": {
              "color": "#E5ECF6",
              "width": 0.5
             }
            },
            "type": "barpolar"
           }
          ],
          "carpet": [
           {
            "aaxis": {
             "endlinecolor": "#2a3f5f",
             "gridcolor": "white",
             "linecolor": "white",
             "minorgridcolor": "white",
             "startlinecolor": "#2a3f5f"
            },
            "baxis": {
             "endlinecolor": "#2a3f5f",
             "gridcolor": "white",
             "linecolor": "white",
             "minorgridcolor": "white",
             "startlinecolor": "#2a3f5f"
            },
            "type": "carpet"
           }
          ],
          "choropleth": [
           {
            "colorbar": {
             "outlinewidth": 0,
             "ticks": ""
            },
            "type": "choropleth"
           }
          ],
          "contour": [
           {
            "colorbar": {
             "outlinewidth": 0,
             "ticks": ""
            },
            "colorscale": [
             [
              0,
              "#0d0887"
             ],
             [
              0.1111111111111111,
              "#46039f"
             ],
             [
              0.2222222222222222,
              "#7201a8"
             ],
             [
              0.3333333333333333,
              "#9c179e"
             ],
             [
              0.4444444444444444,
              "#bd3786"
             ],
             [
              0.5555555555555556,
              "#d8576b"
             ],
             [
              0.6666666666666666,
              "#ed7953"
             ],
             [
              0.7777777777777778,
              "#fb9f3a"
             ],
             [
              0.8888888888888888,
              "#fdca26"
             ],
             [
              1,
              "#f0f921"
             ]
            ],
            "type": "contour"
           }
          ],
          "contourcarpet": [
           {
            "colorbar": {
             "outlinewidth": 0,
             "ticks": ""
            },
            "type": "contourcarpet"
           }
          ],
          "heatmap": [
           {
            "colorbar": {
             "outlinewidth": 0,
             "ticks": ""
            },
            "colorscale": [
             [
              0,
              "#0d0887"
             ],
             [
              0.1111111111111111,
              "#46039f"
             ],
             [
              0.2222222222222222,
              "#7201a8"
             ],
             [
              0.3333333333333333,
              "#9c179e"
             ],
             [
              0.4444444444444444,
              "#bd3786"
             ],
             [
              0.5555555555555556,
              "#d8576b"
             ],
             [
              0.6666666666666666,
              "#ed7953"
             ],
             [
              0.7777777777777778,
              "#fb9f3a"
             ],
             [
              0.8888888888888888,
              "#fdca26"
             ],
             [
              1,
              "#f0f921"
             ]
            ],
            "type": "heatmap"
           }
          ],
          "heatmapgl": [
           {
            "colorbar": {
             "outlinewidth": 0,
             "ticks": ""
            },
            "colorscale": [
             [
              0,
              "#0d0887"
             ],
             [
              0.1111111111111111,
              "#46039f"
             ],
             [
              0.2222222222222222,
              "#7201a8"
             ],
             [
              0.3333333333333333,
              "#9c179e"
             ],
             [
              0.4444444444444444,
              "#bd3786"
             ],
             [
              0.5555555555555556,
              "#d8576b"
             ],
             [
              0.6666666666666666,
              "#ed7953"
             ],
             [
              0.7777777777777778,
              "#fb9f3a"
             ],
             [
              0.8888888888888888,
              "#fdca26"
             ],
             [
              1,
              "#f0f921"
             ]
            ],
            "type": "heatmapgl"
           }
          ],
          "histogram": [
           {
            "marker": {
             "colorbar": {
              "outlinewidth": 0,
              "ticks": ""
             }
            },
            "type": "histogram"
           }
          ],
          "histogram2d": [
           {
            "colorbar": {
             "outlinewidth": 0,
             "ticks": ""
            },
            "colorscale": [
             [
              0,
              "#0d0887"
             ],
             [
              0.1111111111111111,
              "#46039f"
             ],
             [
              0.2222222222222222,
              "#7201a8"
             ],
             [
              0.3333333333333333,
              "#9c179e"
             ],
             [
              0.4444444444444444,
              "#bd3786"
             ],
             [
              0.5555555555555556,
              "#d8576b"
             ],
             [
              0.6666666666666666,
              "#ed7953"
             ],
             [
              0.7777777777777778,
              "#fb9f3a"
             ],
             [
              0.8888888888888888,
              "#fdca26"
             ],
             [
              1,
              "#f0f921"
             ]
            ],
            "type": "histogram2d"
           }
          ],
          "histogram2dcontour": [
           {
            "colorbar": {
             "outlinewidth": 0,
             "ticks": ""
            },
            "colorscale": [
             [
              0,
              "#0d0887"
             ],
             [
              0.1111111111111111,
              "#46039f"
             ],
             [
              0.2222222222222222,
              "#7201a8"
             ],
             [
              0.3333333333333333,
              "#9c179e"
             ],
             [
              0.4444444444444444,
              "#bd3786"
             ],
             [
              0.5555555555555556,
              "#d8576b"
             ],
             [
              0.6666666666666666,
              "#ed7953"
             ],
             [
              0.7777777777777778,
              "#fb9f3a"
             ],
             [
              0.8888888888888888,
              "#fdca26"
             ],
             [
              1,
              "#f0f921"
             ]
            ],
            "type": "histogram2dcontour"
           }
          ],
          "mesh3d": [
           {
            "colorbar": {
             "outlinewidth": 0,
             "ticks": ""
            },
            "type": "mesh3d"
           }
          ],
          "parcoords": [
           {
            "line": {
             "colorbar": {
              "outlinewidth": 0,
              "ticks": ""
             }
            },
            "type": "parcoords"
           }
          ],
          "pie": [
           {
            "automargin": true,
            "type": "pie"
           }
          ],
          "scatter": [
           {
            "marker": {
             "colorbar": {
              "outlinewidth": 0,
              "ticks": ""
             }
            },
            "type": "scatter"
           }
          ],
          "scatter3d": [
           {
            "line": {
             "colorbar": {
              "outlinewidth": 0,
              "ticks": ""
             }
            },
            "marker": {
             "colorbar": {
              "outlinewidth": 0,
              "ticks": ""
             }
            },
            "type": "scatter3d"
           }
          ],
          "scattercarpet": [
           {
            "marker": {
             "colorbar": {
              "outlinewidth": 0,
              "ticks": ""
             }
            },
            "type": "scattercarpet"
           }
          ],
          "scattergeo": [
           {
            "marker": {
             "colorbar": {
              "outlinewidth": 0,
              "ticks": ""
             }
            },
            "type": "scattergeo"
           }
          ],
          "scattergl": [
           {
            "marker": {
             "colorbar": {
              "outlinewidth": 0,
              "ticks": ""
             }
            },
            "type": "scattergl"
           }
          ],
          "scattermapbox": [
           {
            "marker": {
             "colorbar": {
              "outlinewidth": 0,
              "ticks": ""
             }
            },
            "type": "scattermapbox"
           }
          ],
          "scatterpolar": [
           {
            "marker": {
             "colorbar": {
              "outlinewidth": 0,
              "ticks": ""
             }
            },
            "type": "scatterpolar"
           }
          ],
          "scatterpolargl": [
           {
            "marker": {
             "colorbar": {
              "outlinewidth": 0,
              "ticks": ""
             }
            },
            "type": "scatterpolargl"
           }
          ],
          "scatterternary": [
           {
            "marker": {
             "colorbar": {
              "outlinewidth": 0,
              "ticks": ""
             }
            },
            "type": "scatterternary"
           }
          ],
          "surface": [
           {
            "colorbar": {
             "outlinewidth": 0,
             "ticks": ""
            },
            "colorscale": [
             [
              0,
              "#0d0887"
             ],
             [
              0.1111111111111111,
              "#46039f"
             ],
             [
              0.2222222222222222,
              "#7201a8"
             ],
             [
              0.3333333333333333,
              "#9c179e"
             ],
             [
              0.4444444444444444,
              "#bd3786"
             ],
             [
              0.5555555555555556,
              "#d8576b"
             ],
             [
              0.6666666666666666,
              "#ed7953"
             ],
             [
              0.7777777777777778,
              "#fb9f3a"
             ],
             [
              0.8888888888888888,
              "#fdca26"
             ],
             [
              1,
              "#f0f921"
             ]
            ],
            "type": "surface"
           }
          ],
          "table": [
           {
            "cells": {
             "fill": {
              "color": "#EBF0F8"
             },
             "line": {
              "color": "white"
             }
            },
            "header": {
             "fill": {
              "color": "#C8D4E3"
             },
             "line": {
              "color": "white"
             }
            },
            "type": "table"
           }
          ]
         },
         "layout": {
          "annotationdefaults": {
           "arrowcolor": "#2a3f5f",
           "arrowhead": 0,
           "arrowwidth": 1
          },
          "coloraxis": {
           "colorbar": {
            "outlinewidth": 0,
            "ticks": ""
           }
          },
          "colorscale": {
           "diverging": [
            [
             0,
             "#8e0152"
            ],
            [
             0.1,
             "#c51b7d"
            ],
            [
             0.2,
             "#de77ae"
            ],
            [
             0.3,
             "#f1b6da"
            ],
            [
             0.4,
             "#fde0ef"
            ],
            [
             0.5,
             "#f7f7f7"
            ],
            [
             0.6,
             "#e6f5d0"
            ],
            [
             0.7,
             "#b8e186"
            ],
            [
             0.8,
             "#7fbc41"
            ],
            [
             0.9,
             "#4d9221"
            ],
            [
             1,
             "#276419"
            ]
           ],
           "sequential": [
            [
             0,
             "#0d0887"
            ],
            [
             0.1111111111111111,
             "#46039f"
            ],
            [
             0.2222222222222222,
             "#7201a8"
            ],
            [
             0.3333333333333333,
             "#9c179e"
            ],
            [
             0.4444444444444444,
             "#bd3786"
            ],
            [
             0.5555555555555556,
             "#d8576b"
            ],
            [
             0.6666666666666666,
             "#ed7953"
            ],
            [
             0.7777777777777778,
             "#fb9f3a"
            ],
            [
             0.8888888888888888,
             "#fdca26"
            ],
            [
             1,
             "#f0f921"
            ]
           ],
           "sequentialminus": [
            [
             0,
             "#0d0887"
            ],
            [
             0.1111111111111111,
             "#46039f"
            ],
            [
             0.2222222222222222,
             "#7201a8"
            ],
            [
             0.3333333333333333,
             "#9c179e"
            ],
            [
             0.4444444444444444,
             "#bd3786"
            ],
            [
             0.5555555555555556,
             "#d8576b"
            ],
            [
             0.6666666666666666,
             "#ed7953"
            ],
            [
             0.7777777777777778,
             "#fb9f3a"
            ],
            [
             0.8888888888888888,
             "#fdca26"
            ],
            [
             1,
             "#f0f921"
            ]
           ]
          },
          "colorway": [
           "#636efa",
           "#EF553B",
           "#00cc96",
           "#ab63fa",
           "#FFA15A",
           "#19d3f3",
           "#FF6692",
           "#B6E880",
           "#FF97FF",
           "#FECB52"
          ],
          "font": {
           "color": "#2a3f5f"
          },
          "geo": {
           "bgcolor": "white",
           "lakecolor": "white",
           "landcolor": "#E5ECF6",
           "showlakes": true,
           "showland": true,
           "subunitcolor": "white"
          },
          "hoverlabel": {
           "align": "left"
          },
          "hovermode": "closest",
          "mapbox": {
           "style": "light"
          },
          "paper_bgcolor": "white",
          "plot_bgcolor": "#E5ECF6",
          "polar": {
           "angularaxis": {
            "gridcolor": "white",
            "linecolor": "white",
            "ticks": ""
           },
           "bgcolor": "#E5ECF6",
           "radialaxis": {
            "gridcolor": "white",
            "linecolor": "white",
            "ticks": ""
           }
          },
          "scene": {
           "xaxis": {
            "backgroundcolor": "#E5ECF6",
            "gridcolor": "white",
            "gridwidth": 2,
            "linecolor": "white",
            "showbackground": true,
            "ticks": "",
            "zerolinecolor": "white"
           },
           "yaxis": {
            "backgroundcolor": "#E5ECF6",
            "gridcolor": "white",
            "gridwidth": 2,
            "linecolor": "white",
            "showbackground": true,
            "ticks": "",
            "zerolinecolor": "white"
           },
           "zaxis": {
            "backgroundcolor": "#E5ECF6",
            "gridcolor": "white",
            "gridwidth": 2,
            "linecolor": "white",
            "showbackground": true,
            "ticks": "",
            "zerolinecolor": "white"
           }
          },
          "shapedefaults": {
           "line": {
            "color": "#2a3f5f"
           }
          },
          "ternary": {
           "aaxis": {
            "gridcolor": "white",
            "linecolor": "white",
            "ticks": ""
           },
           "baxis": {
            "gridcolor": "white",
            "linecolor": "white",
            "ticks": ""
           },
           "bgcolor": "#E5ECF6",
           "caxis": {
            "gridcolor": "white",
            "linecolor": "white",
            "ticks": ""
           }
          },
          "title": {
           "x": 0.05
          },
          "xaxis": {
           "automargin": true,
           "gridcolor": "white",
           "linecolor": "white",
           "ticks": "",
           "title": {
            "standoff": 15
           },
           "zerolinecolor": "white",
           "zerolinewidth": 2
          },
          "yaxis": {
           "automargin": true,
           "gridcolor": "white",
           "linecolor": "white",
           "ticks": "",
           "title": {
            "standoff": 15
           },
           "zerolinecolor": "white",
           "zerolinewidth": 2
          }
         }
        },
        "width": 1200
       }
      }
     },
     "metadata": {}
    }
   ],
   "source": [
    "\n",
    "fig = go.Figure(data=[go.Table(\n",
    "    columnwidth=[50, 90, 70, 70, 70, 70, 120],\n",
    "    header=dict(values=list(['Fecha', 'CCAA', 'Fallecidos totales', 'Fallecidos diarios', 'Incremento de fallecidos', 'Fallecidos 7 días', 'Fallecidos por 100000 habitantes ']),\n",
    "                fill_color='white',\n",
    "                align='center'),\n",
    "    cells=dict(values=ccaa.loc[ccaa['fecha']=='2020-10-25',['fecha', 'ccaa', 'deceased_accumulated', 'deceased', 'deceased_inc', 'deaths_7_days', 'deceased_per_100000']].sort_values(by='deceased_per_100000', ascending=False).transpose().values.tolist(),\n",
    "               fill_color='rgb(107, 174, 214)',\n",
    "               align='center'))\n",
    "])\n",
    "fig.update_layout(width=1200, height=800, paper_bgcolor=\"LightSteelBlue\")\n",
    "fig.show()\n"
   ]
  },
  {
   "source": [
    "Aunque una imagen vale más que una tabla. En la siguiente figura se muestra el número de casos diagnosticados por PCR para cada autonomia:"
   ],
   "cell_type": "markdown",
   "metadata": {}
  },
  {
   "cell_type": "code",
   "execution_count": 98,
   "metadata": {},
   "outputs": [
    {
     "output_type": "display_data",
     "data": {
      "application/vnd.plotly.v1+json": {
       "config": {
        "plotlyServerURL": "https://plotly.com"
       },
       "data": [
        {
         "orientation": "h",
         "type": "bar",
         "x": [
          0,
          0,
          0,
          0,
          0,
          0,
          0,
          1,
          0,
          9,
          0,
          0,
          0,
          0,
          4,
          0,
          0,
          0,
          0,
          4,
          2,
          0,
          0,
          0,
          0,
          0,
          0,
          9,
          0,
          30,
          0,
          1,
          0,
          0,
          13,
          0,
          0,
          0,
          0,
          5,
          4,
          0,
          0,
          1,
          0,
          1,
          0,
          12,
          0,
          48,
          2,
          2,
          0,
          0,
          21,
          0,
          0,
          0,
          0,
          5,
          5,
          0,
          0,
          1,
          0,
          2,
          0,
          15,
          0,
          69,
          2,
          3,
          0,
          1,
          30,
          0,
          0,
          0,
          0,
          10,
          6,
          0,
          0,
          2,
          0,
          3,
          0,
          20,
          0,
          83,
          2,
          4,
          0,
          1,
          33,
          0,
          0,
          1,
          0,
          11,
          7,
          0,
          0,
          2,
          0,
          4,
          0,
          22,
          1,
          99,
          2,
          5,
          0,
          1,
          37,
          0,
          2,
          1,
          0,
          15,
          9,
          2,
          0,
          2,
          0,
          4,
          0,
          23,
          1,
          110,
          2,
          5,
          0,
          1,
          41,
          0,
          2,
          1,
          0,
          17,
          11,
          2,
          0,
          2,
          0,
          5,
          0,
          26,
          1,
          126,
          2,
          5,
          0,
          1,
          50,
          0,
          2,
          1,
          0,
          18,
          11,
          2,
          0,
          2,
          0,
          5,
          0,
          26,
          1,
          135,
          3,
          5,
          0,
          1,
          58,
          0,
          2,
          1,
          0,
          18,
          12,
          2,
          0,
          2,
          0,
          5,
          0,
          27,
          1,
          140,
          3,
          5,
          0,
          1,
          60,
          0,
          2,
          1,
          1,
          18,
          13,
          2,
          0,
          2,
          0,
          6,
          0,
          30,
          1,
          164,
          3,
          5,
          2,
          1,
          71,
          0,
          3,
          2,
          1,
          22,
          14,
          3,
          0,
          2,
          0,
          7,
          0,
          33,
          1,
          180,
          3,
          5,
          2,
          1,
          80,
          0,
          3,
          2,
          1,
          23,
          15,
          3,
          0,
          3,
          0,
          9,
          0,
          40,
          1,
          204,
          3,
          5,
          2,
          1,
          90,
          0,
          3,
          2,
          3,
          24,
          17,
          4,
          0,
          3,
          0,
          12,
          0,
          49,
          2,
          238,
          4,
          5,
          2,
          1,
          105,
          0,
          3,
          2,
          3,
          26,
          18,
          4,
          0,
          4,
          0,
          13,
          0,
          50,
          2,
          258,
          5,
          5,
          3,
          1,
          116,
          0,
          4,
          2,
          3,
          28,
          22,
          4,
          0,
          4,
          0,
          13,
          0,
          60,
          2,
          293,
          7,
          5,
          3,
          1,
          128,
          0,
          4,
          2,
          6,
          32,
          22,
          5,
          0,
          6,
          0,
          13,
          0,
          66,
          2,
          320,
          7,
          6,
          3,
          1,
          143,
          0,
          4,
          2,
          7,
          33,
          24,
          7,
          0,
          6,
          0,
          13,
          0,
          68,
          2,
          356,
          8,
          6,
          3,
          1,
          161,
          0,
          7,
          2,
          9,
          39,
          27,
          8,
          0,
          7,
          0,
          14,
          0,
          73,
          2,
          385,
          8,
          7,
          3,
          1,
          175,
          0,
          8,
          2,
          9,
          41,
          29,
          8,
          0,
          8,
          0,
          15,
          0,
          74,
          2,
          408,
          9,
          8,
          3,
          1,
          187,
          0,
          9,
          2,
          10,
          43,
          37,
          8,
          0,
          9,
          0,
          18,
          2,
          88,
          2,
          473,
          10,
          11,
          4,
          1,
          211,
          0,
          9,
          3,
          11,
          49,
          42,
          10,
          0,
          9,
          0,
          23,
          2,
          104,
          2,
          540,
          11,
          11,
          4,
          2,
          240,
          0,
          9,
          5,
          14,
          52,
          44,
          13,
          0,
          9,
          0,
          25,
          2,
          117,
          2,
          601,
          11,
          14,
          4,
          2,
          270,
          0,
          10,
          6,
          18,
          54,
          46,
          14,
          1,
          11,
          1,
          30,
          2,
          125,
          2,
          676,
          11,
          14,
          4,
          3,
          316,
          0,
          11,
          7,
          19,
          59,
          51,
          16,
          1,
          11,
          1,
          35,
          6,
          139,
          2,
          792,
          11,
          15,
          4,
          5,
          373,
          0,
          13,
          10,
          25,
          74,
          60,
          18,
          2,
          13,
          9,
          41,
          10,
          161,
          2,
          937,
          16,
          18,
          4,
          7,
          425,
          0,
          16,
          14,
          37,
          84,
          69,
          20,
          2,
          20,
          9,
          49,
          15,
          192,
          2,
          1106,
          17,
          21,
          5,
          11,
          497,
          0,
          17,
          19,
          48,
          93,
          80,
          20,
          2,
          21,
          9,
          56,
          24,
          209,
          2,
          1306,
          20,
          28,
          9,
          20,
          594,
          0,
          18,
          24,
          62,
          108,
          88,
          23,
          3,
          29,
          9,
          67,
          35,
          246,
          2,
          1642,
          28,
          34,
          13,
          30,
          756,
          0,
          21,
          27,
          95,
          136,
          97,
          29,
          5,
          35,
          10,
          77,
          50,
          273,
          2,
          1898,
          32,
          35,
          15,
          43,
          866,
          0,
          24,
          32,
          120,
          153,
          131,
          37,
          7,
          42,
          11,
          109,
          116,
          363,
          2,
          2613,
          37,
          42,
          19,
          65,
          1194,
          0,
          29,
          45,
          167,
          197,
          164,
          52,
          10,
          54,
          11,
          153,
          177,
          447,
          2,
          3436,
          44,
          61,
          25,
          95,
          1578,
          0,
          37,
          60,
          223,
          243,
          206,
          60,
          12,
          62,
          11,
          183,
          225,
          539,
          4,
          4247,
          53,
          77,
          33,
          123,
          1977,
          0,
          43,
          78,
          281,
          280,
          240,
          74,
          14,
          76,
          11,
          218,
          285,
          691,
          4,
          5216,
          62,
          91,
          38,
          148,
          2442,
          0,
          54,
          100,
          350,
          318,
          301,
          86,
          19,
          92,
          11,
          273,
          361,
          869,
          5,
          6511,
          68,
          110,
          50,
          175,
          3094,
          1,
          68,
          128,
          426,
          374,
          374,
          101,
          31,
          117,
          20,
          331,
          462,
          1138,
          5,
          8164,
          88,
          134,
          60,
          220,
          3887,
          2,
          81,
          154,
          507,
          452,
          451,
          123,
          43,
          136,
          32,
          414,
          602,
          1437,
          5,
          10011,
          103,
          167,
          67,
          259,
          4732,
          5,
          101,
          203,
          599,
          532,
          538,
          159,
          57,
          170,
          49,
          494,
          763,
          1769,
          6,
          12232,
          122,
          205,
          81,
          300,
          5789,
          6,
          120,
          254,
          700,
          650,
          707,
          196,
          89,
          217,
          58,
          661,
          971,
          2340,
          7,
          15656,
          160,
          287,
          98,
          360,
          7313,
          8,
          154,
          351,
          843,
          836,
          928,
          252,
          141,
          272,
          61,
          874,
          1262,
          3147,
          8,
          20347,
          204,
          405,
          134,
          448,
          9306,
          13,
          219,
          460,
          1070,
          1143,
          1191,
          318,
          184,
          331,
          78,
          1132,
          1586,
          3909,
          11,
          25163,
          278,
          536,
          176,
          519,
          11279,
          17,
          293,
          590,
          1298,
          1437,
          1509,
          399,
          241,
          404,
          114,
          1477,
          2040,
          4942,
          12,
          31199,
          365,
          716,
          218,
          593,
          13624,
          20,
          355,
          772,
          1571,
          1827,
          1996,
          518,
          311,
          513,
          168,
          1982,
          2668,
          6309,
          18,
          39138,
          459,
          957,
          279,
          700,
          16462,
          30,
          459,
          983,
          2000,
          2326,
          2417,
          625,
          392,
          610,
          227,
          2504,
          3272,
          7637,
          22,
          46668,
          548,
          1197,
          350,
          838,
          19025,
          34,
          567,
          1160,
          2421,
          2822,
          2867,
          751,
          481,
          701,
          295,
          3043,
          4045,
          9014,
          24,
          54733,
          634,
          1467,
          435,
          949,
          21694,
          37,
          664,
          1422,
          2856,
          3354,
          3440,
          916,
          587,
          834,
          366,
          3824,
          4854,
          10730,
          30,
          64447,
          751,
          1856,
          523,
          1106,
          24651,
          43,
          794,
          1696,
          3456,
          3990,
          4014,
          1077,
          667,
          927,
          442,
          4554,
          5599,
          12302,
          35,
          73385,
          858,
          2183,
          605,
          1228,
          27443,
          46,
          897,
          1963,
          3996,
          4549,
          4544,
          1244,
          758,
          1044,
          531,
          5372,
          6390,
          13987,
          41,
          82451,
          985,
          2492,
          686,
          1371,
          30089,
          52,
          1019,
          2213,
          4549,
          5084,
          5100,
          1412,
          859,
          1122,
          708,
          6240,
          7136,
          15597,
          46,
          91214,
          1111,
          2786,
          791,
          1539,
          32528,
          58,
          1139,
          2446,
          5016,
          5580,
          5896,
          1653,
          942,
          1239,
          852,
          7196,
          8070,
          17498,
          53,
          102073,
          1284,
          3256,
          888,
          1730,
          35636,
          62,
          1261,
          2774,
          5629,
          6154,
          6440,
          1831,
          1010,
          1325,
          951,
          7962,
          8692,
          18960,
          60,
          109607,
          1415,
          3532,
          950,
          1863,
          37559,
          65,
          1344,
          2980,
          6062,
          6606,
          6963,
          1995,
          1085,
          1400,
          1035,
          8673,
          9355,
          20273,
          67,
          116527,
          1546,
          3782,
          1041,
          1971,
          39215,
          70,
          1423,
          3174,
          6455,
          7004,
          7525,
          2262,
          1155,
          1497,
          1123,
          9446,
          10111,
          21788,
          76,
          125009,
          1791,
          4165,
          1123,
          2129,
          41348,
          75,
          1551,
          3416,
          6939,
          7489,
          8017,
          2457,
          1213,
          1560,
          1180,
          10110,
          10757,
          23206,
          84,
          132336,
          1951,
          4460,
          1189,
          2247,
          43342,
          76,
          1629,
          3694,
          7335,
          7829,
          8539,
          2645,
          1270,
          1615,
          1237,
          10804,
          11423,
          24534,
          93,
          139498,
          2104,
          4748,
          1273,
          2380,
          45118,
          80,
          1713,
          3936,
          7746,
          8240,
          9011,
          2811,
          1347,
          1677,
          1276,
          11363,
          12008,
          25923,
          98,
          145922,
          2242,
          5048,
          1346,
          2494,
          46669,
          86,
          1760,
          4103,
          8111,
          8549,
          9434,
          3023,
          1417,
          1748,
          1350,
          11887,
          12515,
          27181,
          100,
          152094,
          2351,
          5354,
          1386,
          2623,
          48164,
          91,
          1812,
          4264,
          8511,
          8883,
          9758,
          3171,
          1470,
          1784,
          1418,
          12410,
          12925,
          28511,
          105,
          157536,
          2447,
          5690,
          1422,
          2723,
          49420,
          95,
          1852,
          4404,
          8802,
          9129,
          10098,
          3307,
          1510,
          1826,
          1457,
          12834,
          13297,
          29556,
          112,
          161861,
          2509,
          5888,
          1459,
          2810,
          50295,
          100,
          1887,
          4500,
          9070,
          9346,
          10439,
          3438,
          1555,
          1877,
          1485,
          13334,
          13819,
          30765,
          117,
          167223,
          2616,
          6170,
          1525,
          2927,
          51386,
          103,
          1928,
          4745,
          9392,
          9602,
          10694,
          3554,
          1597,
          1905,
          1518,
          13735,
          14231,
          31899,
          119,
          171738,
          2677,
          6337,
          1573,
          3035,
          52461,
          106,
          1958,
          4896,
          9660,
          9783,
          11051,
          3711,
          1626,
          1958,
          1590,
          14296,
          14692,
          33190,
          127,
          177439,
          2811,
          6577,
          1657,
          3143,
          53813,
          111,
          1986,
          5129,
          9948,
          10023,
          11314,
          3840,
          1680,
          1992,
          1643,
          14814,
          15058,
          34255,
          129,
          182056,
          2887,
          6843,
          1692,
          3243,
          54818,
          114,
          2016,
          5273,
          10205,
          10240,
          11517,
          3949,
          1718,
          2009,
          1677,
          15382,
          15398,
          35469,
          131,
          186669,
          2991,
          7052,
          1739,
          3322,
          55753,
          118,
          2042,
          5411,
          10535,
          10456,
          11834,
          4045,
          1763,
          2038,
          1739,
          15951,
          15779,
          36442,
          133,
          190620,
          3066,
          7186,
          1764,
          3377,
          56471,
          121,
          2064,
          5499,
          10750,
          10598,
          12111,
          4141,
          1806,
          2055,
          1764,
          16341,
          16241,
          37289,
          135,
          194135,
          3119,
          7304,
          1794,
          3413,
          57108,
          122,
          2093,
          5600,
          10979,
          10720,
          12298,
          4266,
          1847,
          2068,
          1792,
          16936,
          16658,
          38106,
          138,
          197963,
          3197,
          7488,
          1820,
          3454,
          57737,
          122,
          2108,
          5749,
          11279,
          10900,
          12564,
          4374,
          1892,
          2094,
          1805,
          17366,
          17022,
          38851,
          140,
          201550,
          3269,
          7642,
          1839,
          3506,
          58486,
          124,
          2118,
          5867,
          11520,
          11071,
          12816,
          4485,
          1940,
          2110,
          1831,
          17874,
          17387,
          39848,
          141,
          205432,
          3352,
          7792,
          1862,
          3551,
          59171,
          124,
          2158,
          5986,
          11763,
          11241,
          12953,
          4588,
          1983,
          2136,
          1854,
          18411,
          17731,
          40902,
          144,
          209161,
          3428,
          7951,
          1873,
          3595,
          59812,
          124,
          2185,
          6098,
          11979,
          11414,
          13171,
          4671,
          2040,
          2150,
          1883,
          18969,
          18029,
          41917,
          145,
          212841,
          3526,
          8031,
          1894,
          3635,
          60521,
          125,
          2197,
          6204,
          12178,
          11555,
          13333,
          4734,
          2093,
          2164,
          1907,
          19451,
          18184,
          42977,
          147,
          215978,
          3597,
          8097,
          1909,
          3660,
          61097,
          125,
          2209,
          6288,
          12318,
          11688,
          13462,
          4789,
          2116,
          2172,
          1953,
          19777,
          18409,
          43649,
          147,
          218454,
          3644,
          8163,
          1924,
          3682,
          61601,
          126,
          2220,
          6378,
          12471,
          11771,
          13573,
          4873,
          2148,
          2185,
          1988,
          20289,
          18736,
          44252,
          149,
          221101,
          3712,
          8273,
          1939,
          3711,
          61983,
          127,
          2227,
          6465,
          12601,
          11870,
          13782,
          4926,
          2178,
          2198,
          2002,
          20750,
          18969,
          44985,
          149,
          223876,
          3799,
          8372,
          1949,
          3735,
          62483,
          127,
          2234,
          6565,
          12705,
          11968,
          13998,
          5005,
          2218,
          2213,
          2019,
          21092,
          19149,
          45746,
          149,
          226699,
          3896,
          8571,
          1958,
          3751,
          62987,
          127,
          2243,
          6643,
          12815,
          12119,
          14173,
          5071,
          2230,
          2228,
          2037,
          21391,
          19276,
          46463,
          150,
          229267,
          3965,
          8679,
          1972,
          3780,
          63583,
          127,
          2245,
          6704,
          12943,
          12250,
          14314,
          5140,
          2242,
          2236,
          2064,
          21597,
          19421,
          47078,
          151,
          231515,
          4066,
          8777,
          1983,
          3805,
          63974,
          127,
          2251,
          6790,
          13092,
          12407,
          14449,
          5197,
          2251,
          2245,
          2077,
          21768,
          19518,
          47534,
          152,
          233535,
          4156,
          8884,
          1997,
          3822,
          64441,
          127,
          2256,
          6855,
          13200,
          12606,
          14523,
          5241,
          2257,
          2260,
          2092,
          21985,
          19623,
          47802,
          152,
          234849,
          4204,
          8941,
          2007,
          3836,
          64707,
          127,
          2260,
          6901,
          13254,
          12677,
          14602,
          5288,
          2264,
          2276,
          2116,
          22246,
          19765,
          48174,
          153,
          236466,
          4253,
          9030,
          2025,
          3845,
          64989,
          129,
          2262,
          6964,
          13336,
          12749,
          14756,
          5421,
          2280,
          2283,
          2126,
          22525,
          19913,
          48376,
          155,
          238374,
          4322,
          9128,
          2036,
          3851,
          65469,
          129,
          2269,
          6994,
          13414,
          12927,
          14890,
          5521,
          2288,
          2290,
          2152,
          22781,
          20063,
          48703,
          158,
          240369,
          4407,
          9262,
          2044,
          3866,
          65928,
          130,
          2277,
          7047,
          13479,
          13083,
          15058,
          5549,
          2297,
          2295,
          2178,
          22995,
          20151,
          48988,
          161,
          242120,
          4491,
          9387,
          2049,
          3879,
          66301,
          130,
          2289,
          7103,
          13545,
          13274,
          15227,
          5573,
          2314,
          2306,
          2191,
          23287,
          20206,
          49260,
          162,
          243861,
          4603,
          9511,
          2059,
          3884,
          66539,
          131,
          2295,
          7165,
          13644,
          13504,
          15285,
          5606,
          2317,
          2310,
          2203,
          23427,
          20258,
          49438,
          163,
          244809,
          4690,
          9547,
          2070,
          3889,
          66671,
          132,
          2298,
          7204,
          13691,
          13610,
          15321,
          5627,
          2322,
          2312,
          2207,
          23535,
          20353,
          49577,
          163,
          245494,
          4714,
          9573,
          2070,
          3893,
          66795,
          132,
          2304,
          7216,
          13732,
          13648,
          15367,
          5694,
          2327,
          2315,
          2209,
          23668,
          20457,
          49724,
          164,
          246380,
          4734,
          9630,
          2073,
          3897,
          66984,
          132,
          2305,
          7239,
          13762,
          13699,
          15497,
          5821,
          2337,
          2319,
          2214,
          23991,
          20549,
          49886,
          166,
          247810,
          4760,
          9710,
          2078,
          3907,
          67220,
          132,
          2321,
          7271,
          13812,
          13819,
          15659,
          5860,
          2340,
          2323,
          2219,
          24235,
          20618,
          50039,
          170,
          249126,
          4819,
          9823,
          2081,
          3912,
          67435,
          133,
          2331,
          7321,
          13851,
          13957,
          15778,
          5901,
          2350,
          2327,
          2231,
          24471,
          20691,
          50231,
          170,
          250411,
          4905,
          9919,
          2086,
          3914,
          67613,
          134,
          2356,
          7378,
          13885,
          14071,
          15878,
          5918,
          2352,
          2336,
          2247,
          24807,
          20712,
          50402,
          171,
          251716,
          5002,
          10027,
          2096,
          3915,
          67812,
          134,
          2364,
          7450,
          13927,
          14166,
          15973,
          5939,
          2355,
          2341,
          2247,
          25153,
          20728,
          50558,
          173,
          252922,
          5060,
          10111,
          2099,
          3917,
          67980,
          134,
          2381,
          7520,
          13977,
          14276,
          16000,
          5957,
          2358,
          2341,
          2250,
          25266,
          20776,
          50699,
          173,
          253518,
          5071,
          10156,
          2103,
          3919,
          68053,
          134,
          2385,
          7543,
          14012,
          14322,
          16049,
          5993,
          2362,
          2344,
          2251,
          25358,
          20795,
          50831,
          173,
          254130,
          5091,
          10232,
          2104,
          3921,
          68161,
          134,
          2388,
          7563,
          14030,
          14350,
          16122,
          6036,
          2366,
          2346,
          2257,
          25402,
          20806,
          50905,
          173,
          254675,
          5132,
          10365,
          2108,
          3921,
          68223,
          134,
          2390,
          7568,
          14051,
          14370,
          16148,
          6079,
          2370,
          2346,
          2258,
          25430,
          20817,
          50962,
          174,
          255053,
          5168,
          10425,
          2112,
          3921,
          68279,
          134,
          2392,
          7577,
          14076,
          14385,
          16173,
          6113,
          2373,
          2347,
          2258,
          25460,
          20830,
          51030,
          175,
          255438,
          5218,
          10474,
          2114,
          3922,
          68347,
          134,
          2394,
          7579,
          14099,
          14398,
          16189,
          6129,
          2376,
          2348,
          2260,
          25491,
          20837,
          51102,
          175,
          255785,
          5251,
          10517,
          2118,
          3923,
          68417,
          134,
          2395,
          7586,
          14127,
          14410,
          16200,
          6133,
          2379,
          2350,
          2263,
          25505,
          20843,
          51164,
          175,
          256064,
          5303,
          10538,
          2118,
          3923,
          68485,
          134,
          2396,
          7590,
          14147,
          14418,
          16205,
          6141,
          2380,
          2351,
          2265,
          25517,
          20855,
          51256,
          175,
          256322,
          5308,
          10549,
          2125,
          3924,
          68561,
          134,
          2397,
          7595,
          14158,
          14426,
          16227,
          6147,
          2384,
          2354,
          2275,
          25546,
          20886,
          51392,
          176,
          256853,
          5317,
          10561,
          2133,
          3928,
          68760,
          134,
          2399,
          7607,
          14181,
          14446,
          16248,
          6164,
          2384,
          2358,
          2283,
          25580,
          20916,
          51537,
          178,
          257363,
          5356,
          10577,
          2140,
          3931,
          68897,
          134,
          2402,
          7609,
          14204,
          14465,
          16263,
          6183,
          2386,
          2363,
          2285,
          25637,
          20953,
          51705,
          178,
          257927,
          5394,
          10587,
          2150,
          3936,
          69042,
          134,
          2407,
          7618,
          14229,
          14477,
          16279,
          6206,
          2388,
          2365,
          2287,
          25676,
          20981,
          51861,
          178,
          258451,
          5417,
          10592,
          2157,
          3941,
          69202,
          134,
          2409,
          7637,
          14245,
          14496,
          16296,
          6222,
          2392,
          2368,
          2289,
          25711,
          21015,
          52079,
          178,
          259005,
          5441,
          10598,
          2173,
          3944,
          69339,
          134,
          2409,
          7648,
          14260,
          14509,
          16306,
          6230,
          2393,
          2374,
          2293,
          25741,
          21041,
          52208,
          179,
          259335,
          5462,
          10604,
          2173,
          3946,
          69396,
          134,
          2410,
          7652,
          14276,
          14517,
          16311,
          6238,
          2397,
          2375,
          2293,
          25747,
          21052,
          52302,
          179,
          259596,
          5467,
          10605,
          2178,
          3946,
          69481,
          134,
          2411,
          7673,
          14283,
          14524,
          16322,
          6257,
          2397,
          2379,
          2296,
          25780,
          21080,
          52508,
          181,
          260097,
          5471,
          10612,
          2183,
          3951,
          69620,
          135,
          2413,
          7679,
          14299,
          14534,
          16333,
          6280,
          2397,
          2386,
          2298,
          25815,
          21115,
          52728,
          184,
          260644,
          5482,
          10619,
          2195,
          3956,
          69761,
          135,
          2415,
          7688,
          14311,
          14546,
          16346,
          6295,
          2398,
          2390,
          2298,
          25842,
          21141,
          52917,
          185,
          261087,
          5496,
          10625,
          2201,
          3960,
          69870,
          135,
          2415,
          7692,
          14321,
          14560,
          16355,
          6306,
          2399,
          2395,
          2301,
          25881,
          21160,
          53142,
          186,
          261573,
          5505,
          10636,
          2206,
          3964,
          69992,
          135,
          2416,
          7695,
          14331,
          14568,
          16361,
          6319,
          2400,
          2398,
          2302,
          25922,
          21202,
          53426,
          186,
          262107,
          5516,
          10641,
          2209,
          3966,
          70082,
          135,
          2417,
          7701,
          14340,
          14584,
          16368,
          6330,
          2401,
          2399,
          2304,
          25941,
          21234,
          53551,
          191,
          262412,
          5523,
          10647,
          2211,
          3968,
          70139,
          135,
          2419,
          7713,
          14346,
          14592,
          16371,
          6336,
          2403,
          2401,
          2306,
          25954,
          21249,
          53690,
          193,
          262673,
          5528,
          10654,
          2212,
          3968,
          70189,
          135,
          2419,
          7715,
          14349,
          14601,
          16379,
          6348,
          2404,
          2405,
          2307,
          25990,
          21288,
          53923,
          198,
          263195,
          5533,
          10659,
          2215,
          3972,
          70337,
          135,
          2420,
          7720,
          14356,
          14606,
          16387,
          6359,
          2406,
          2408,
          2311,
          26038,
          21326,
          54134,
          199,
          263732,
          5546,
          10662,
          2219,
          3972,
          70501,
          135,
          2420,
          7724,
          14366,
          14619,
          16398,
          6373,
          2406,
          2410,
          2313,
          26064,
          21364,
          54297,
          201,
          264128,
          5554,
          10662,
          2222,
          3973,
          70594,
          135,
          2424,
          7735,
          14368,
          14635,
          16405,
          6379,
          2406,
          2417,
          2314,
          26108,
          21404,
          54512,
          206,
          264623,
          5554,
          10664,
          2236,
          3974,
          70721,
          135,
          2426,
          7744,
          14374,
          14644,
          16418,
          6390,
          2419,
          2424,
          2317,
          26156,
          21432,
          54699,
          208,
          265095,
          5562,
          10668,
          2241,
          3976,
          70842,
          135,
          2427,
          7749,
          14379,
          14653,
          16431,
          6395,
          2423,
          2427,
          2319,
          26193,
          21459,
          54794,
          211,
          265374,
          5570,
          10669,
          2242,
          3977,
          70901,
          135,
          2428,
          7756,
          14386,
          14658,
          16440,
          6402,
          2426,
          2428,
          2320,
          26212,
          21470,
          54850,
          212,
          265577,
          5572,
          10670,
          2244,
          3977,
          70981,
          135,
          2428,
          7759,
          14386,
          14665,
          16458,
          6409,
          2426,
          2432,
          2324,
          26240,
          21494,
          54944,
          216,
          265959,
          5576,
          10672,
          2248,
          3980,
          71139,
          136,
          2432,
          7760,
          14393,
          14680,
          16463,
          6426,
          2426,
          2436,
          2326,
          26259,
          21519,
          55059,
          218,
          266324,
          5586,
          10673,
          2255,
          3981,
          71261,
          136,
          2434,
          7763,
          14404,
          14699,
          16478,
          6433,
          2427,
          2440,
          2326,
          26286,
          21562,
          55191,
          222,
          266743,
          5592,
          10673,
          2258,
          3983,
          71407,
          136,
          2436,
          7769,
          14414,
          14710,
          16483,
          6442,
          2427,
          2441,
          2327,
          26313,
          21599,
          55324,
          222,
          267106,
          5596,
          10675,
          2264,
          3985,
          71517,
          136,
          2438,
          7776,
          14422,
          14719,
          16495,
          6447,
          2429,
          2442,
          2329,
          26349,
          21636,
          55501,
          222,
          267555,
          5596,
          10679,
          2267,
          3987,
          71659,
          136,
          2439,
          7782,
          14433,
          14727,
          16501,
          6452,
          2431,
          2446,
          2329,
          26361,
          21656,
          55574,
          222,
          267778,
          5596,
          10680,
          2269,
          3989,
          71733,
          136,
          2442,
          7783,
          14443,
          14735,
          16503,
          6455,
          2432,
          2447,
          2332,
          26374,
          21667,
          55632,
          222,
          267973,
          5600,
          10682,
          2272,
          3990,
          71797,
          136,
          2442,
          7785,
          14463,
          14742,
          16509,
          6460,
          2432,
          2449,
          2333,
          26408,
          21700,
          55751,
          222,
          268340,
          5601,
          10686,
          2274,
          3990,
          71935,
          136,
          2444,
          7785,
          14478,
          14747,
          16517,
          6470,
          2432,
          2451,
          2333,
          26435,
          21723,
          55839,
          222,
          268644,
          5603,
          10689,
          2275,
          3991,
          72045,
          137,
          2446,
          7790,
          14491,
          14755,
          16523,
          6472,
          2432,
          2452,
          2334,
          26452,
          21747,
          55964,
          222,
          268956,
          5604,
          10689,
          2278,
          3991,
          72160,
          137,
          2447,
          7794,
          14499,
          14759,
          16527,
          6477,
          2435,
          2454,
          2337,
          26469,
          21755,
          56076,
          222,
          269240,
          5604,
          10690,
          2282,
          3992,
          72261,
          137,
          2447,
          7795,
          14510,
          14770,
          16531,
          6480,
          2435,
          2458,
          2339,
          26490,
          21775,
          56187,
          222,
          269567,
          5605,
          10693,
          2289,
          3992,
          72382,
          137,
          2447,
          7796,
          14528,
          14781,
          16535,
          6484,
          2435,
          2460,
          2340,
          26502,
          21782,
          56228,
          222,
          269684,
          5606,
          10693,
          2291,
          3994,
          72408,
          137,
          2448,
          7797,
          14538,
          14784,
          16539,
          6486,
          2435,
          2461,
          2342,
          26509,
          21792,
          56276,
          222,
          269823,
          5606,
          10694,
          2295,
          3995,
          72454,
          137,
          2451,
          7799,
          14545,
          14785,
          16546,
          6492,
          2435,
          2462,
          2343,
          26524,
          21808,
          56361,
          222,
          270123,
          5611,
          10697,
          2298,
          3995,
          72579,
          138,
          2453,
          7803,
          14560,
          14796,
          16556,
          6503,
          2436,
          2465,
          2345,
          26566,
          21830,
          56443,
          222,
          270391,
          5613,
          10698,
          2302,
          3996,
          72633,
          138,
          2454,
          7815,
          14570,
          14806,
          16566,
          6509,
          2436,
          2479,
          2348,
          26584,
          21845,
          56540,
          222,
          270672,
          5620,
          10702,
          2306,
          3996,
          72714,
          138,
          2456,
          7818,
          14579,
          14814,
          16591,
          6525,
          2436,
          2479,
          2353,
          26596,
          21856,
          56646,
          222,
          270956,
          5624,
          10704,
          2311,
          3997,
          72784,
          138,
          2458,
          7824,
          14590,
          14822,
          16602,
          6548,
          2436,
          2480,
          2353,
          26610,
          21870,
          56741,
          222,
          271219,
          5626,
          10706,
          2319,
          3997,
          72843,
          138,
          2461,
          7833,
          14601,
          14833,
          16617,
          6577,
          2436,
          2491,
          2356,
          26628,
          21885,
          56828,
          222,
          271460,
          5627,
          10708,
          2322,
          3998,
          72882,
          138,
          2464,
          7837,
          14606,
          14838,
          16627,
          6615,
          2436,
          2493,
          2358,
          26634,
          21893,
          56905,
          222,
          271684,
          5632,
          10714,
          2324,
          3998,
          72911,
          140,
          2469,
          7852,
          14613,
          14848,
          16644,
          6661,
          2436,
          2493,
          2359,
          26648,
          21906,
          57025,
          222,
          271973,
          5633,
          10714,
          2325,
          3998,
          72949,
          140,
          2473,
          7870,
          14622,
          14855,
          16657,
          6689,
          2436,
          2499,
          2361,
          26677,
          21930,
          57157,
          222,
          272301,
          5639,
          10720,
          2330,
          3999,
          72994,
          140,
          2478,
          7878,
          14628,
          14867,
          16754,
          6747,
          2436,
          2500,
          2363,
          26691,
          21951,
          57256,
          222,
          272682,
          5640,
          10724,
          2333,
          4000,
          73037,
          140,
          2485,
          7889,
          14641,
          14873,
          16776,
          6790,
          2436,
          2501,
          2363,
          26708,
          21973,
          57400,
          222,
          273028,
          5644,
          10735,
          2334,
          4000,
          73093,
          140,
          2490,
          7895,
          14646,
          14882,
          16795,
          6811,
          2436,
          2502,
          2366,
          26723,
          21985,
          57601,
          222,
          273404,
          5644,
          10738,
          2344,
          4000,
          73147,
          140,
          2497,
          7900,
          14656,
          14897,
          16810,
          6860,
          2436,
          2502,
          2368,
          26736,
          22000,
          57724,
          222,
          273691,
          5649,
          10746,
          2349,
          4000,
          73168,
          140,
          2503,
          7907,
          14661,
          14910,
          16837,
          6877,
          2436,
          2502,
          2368,
          26741,
          22015,
          57832,
          222,
          273938,
          5652,
          10755,
          2354,
          4002,
          73198,
          140,
          2506,
          7909,
          14669,
          14923,
          16859,
          6904,
          2437,
          2502,
          2368,
          26752,
          22029,
          58020,
          222,
          274315,
          5658,
          10765,
          2363,
          4003,
          73249,
          140,
          2516,
          7910,
          14677,
          14941,
          16885,
          6939,
          2437,
          2507,
          2369,
          26765,
          22043,
          58212,
          222,
          274736,
          5665,
          10785,
          2366,
          4003,
          73314,
          140,
          2519,
          7913,
          14693,
          14959,
          16908,
          6977,
          2438,
          2515,
          2370,
          26775,
          22062,
          58512,
          222,
          275277,
          5674,
          10809,
          2370,
          4003,
          73376,
          140,
          2524,
          7919,
          14701,
          14982,
          16922,
          6999,
          2438,
          2516,
          2370,
          26784,
          22076,
          58760,
          222,
          275694,
          5678,
          10825,
          2373,
          4003,
          73423,
          140,
          2526,
          7923,
          14710,
          15006,
          16949,
          7044,
          2438,
          2520,
          2373,
          26795,
          22097,
          59038,
          222,
          276231,
          5686,
          10846,
          2377,
          4003,
          73500,
          140,
          2529,
          7930,
          14723,
          15021,
          16974,
          7075,
          2438,
          2524,
          2373,
          26803,
          22107,
          59290,
          222,
          276638,
          5690,
          10862,
          2380,
          4003,
          73530,
          140,
          2535,
          7935,
          14730,
          15027,
          16990,
          7112,
          2438,
          2525,
          2375,
          26806,
          22112,
          59542,
          222,
          277058,
          5696,
          10885,
          2383,
          4004,
          73566,
          140,
          2542,
          7936,
          14746,
          15038,
          17013,
          7189,
          2438,
          2528,
          2375,
          26822,
          22131,
          59923,
          222,
          277752,
          5698,
          10908,
          2387,
          4004,
          73636,
          140,
          2550,
          7948,
          14779,
          15061,
          17045,
          7281,
          2438,
          2532,
          2376,
          26832,
          22146,
          60359,
          222,
          278530,
          5714,
          10929,
          2388,
          4007,
          73699,
          140,
          2564,
          7961,
          14811,
          15086,
          17101,
          7357,
          2440,
          2540,
          2378,
          26845,
          22165,
          60844,
          222,
          279418,
          5720,
          10960,
          2392,
          4012,
          73790,
          140,
          2580,
          7969,
          14848,
          15115,
          17137,
          7447,
          2440,
          2548,
          2379,
          26853,
          22192,
          61354,
          222,
          280335,
          5743,
          10980,
          2398,
          4013,
          73880,
          140,
          2586,
          7998,
          14882,
          15143,
          17197,
          7578,
          2442,
          2551,
          2380,
          26869,
          22216,
          62002,
          222,
          281452,
          5788,
          10987,
          2406,
          4023,
          73956,
          140,
          2595,
          8018,
          14906,
          15176,
          17247,
          7732,
          2445,
          2552,
          2381,
          26882,
          22227,
          62411,
          222,
          282321,
          5806,
          11000,
          2413,
          4026,
          74015,
          140,
          2612,
          8053,
          14946,
          15211,
          17279,
          7862,
          2445,
          2555,
          2383,
          26891,
          22238,
          62874,
          222,
          283160,
          5818,
          11007,
          2417,
          4028,
          74081,
          142,
          2624,
          8076,
          14989,
          15229,
          17327,
          8096,
          2445,
          2561,
          2384,
          26912,
          22255,
          63601,
          222,
          284516,
          5831,
          11015,
          2425,
          4032,
          74195,
          142,
          2637,
          8116,
          15043,
          15277,
          17422,
          8388,
          2447,
          2563,
          2386,
          26932,
          22279,
          64281,
          223,
          285998,
          5834,
          11024,
          2436,
          4038,
          74323,
          142,
          2658,
          8168,
          15122,
          15332,
          17486,
          8747,
          2449,
          2572,
          2390,
          26945,
          22308,
          65170,
          223,
          287800,
          5847,
          11039,
          2450,
          4040,
          74459,
          142,
          2690,
          8211,
          15218,
          15414,
          17561,
          9046,
          2450,
          2576,
          2395,
          26966,
          22334,
          65973,
          223,
          289470,
          5869,
          11054,
          2457,
          4049,
          74572,
          142,
          2714,
          8258,
          15347,
          15484,
          17658,
          9446,
          2451,
          2583,
          2398,
          26984,
          22359,
          66953,
          223,
          291491,
          5874,
          11063,
          2463,
          4060,
          74735,
          142,
          2745,
          8331,
          15448,
          15575,
          17744,
          9783,
          2452,
          2596,
          2410,
          27011,
          22371,
          67711,
          223,
          293265,
          5879,
          11074,
          2470,
          4067,
          74857,
          142,
          2766,
          8409,
          15634,
          15666,
          17858,
          10126,
          2454,
          2649,
          2415,
          27035,
          22379,
          68322,
          223,
          294832,
          5885,
          11088,
          2475,
          4067,
          74985,
          142,
          2792,
          8460,
          15728,
          15749,
          17980,
          10556,
          2455,
          2652,
          2424,
          27070,
          22407,
          69381,
          223,
          297142,
          5894,
          11109,
          2491,
          4072,
          75182,
          142,
          2830,
          8563,
          15841,
          15870,
          18054,
          11013,
          2457,
          2664,
          2429,
          27090,
          22431,
          70384,
          223,
          299469,
          5911,
          11135,
          2504,
          4089,
          75419,
          142,
          2879,
          8681,
          15962,
          16002,
          18132,
          11479,
          2459,
          2672,
          2436,
          27114,
          22473,
          71425,
          224,
          301838,
          5917,
          11153,
          2519,
          4098,
          75651,
          142,
          2938,
          8746,
          16120,
          16140,
          18257,
          11872,
          2463,
          2683,
          2444,
          27159,
          22494,
          72445,
          224,
          304096,
          5921,
          11166,
          2539,
          4103,
          75873,
          142,
          2986,
          8813,
          16246,
          16266,
          18384,
          12323,
          2466,
          2688,
          2450,
          27196,
          22540,
          73477,
          224,
          306595,
          5932,
          11181,
          2564,
          4114,
          76210,
          142,
          3058,
          8869,
          16357,
          16420,
          18494,
          12698,
          2474,
          2701,
          2459,
          27225,
          22566,
          74132,
          224,
          308658,
          5936,
          11197,
          2588,
          4116,
          76497,
          142,
          3142,
          8952,
          16529,
          16586,
          18599,
          13083,
          2481,
          2708,
          2466,
          27256,
          22590,
          74715,
          225,
          310533,
          5943,
          11206,
          2635,
          4117,
          76737,
          146,
          3192,
          9031,
          16693,
          16710,
          18742,
          13655,
          2487,
          2717,
          2472,
          27326,
          22643,
          75743,
          225,
          313534,
          5952,
          11230,
          2675,
          4125,
          77233,
          147,
          3252,
          9083,
          16909,
          16918,
          18890,
          14173,
          2500,
          2726,
          2480,
          27413,
          22700,
          76797,
          225,
          316655,
          5973,
          11266,
          2727,
          4134,
          77811,
          148,
          3326,
          9123,
          17133,
          17110,
          19040,
          14705,
          2515,
          2732,
          2490,
          27489,
          22755,
          77890,
          225,
          319850,
          5990,
          11293,
          2782,
          4138,
          78332,
          149,
          3416,
          9185,
          17338,
          17386,
          19246,
          15197,
          2527,
          2744,
          2516,
          27563,
          22802,
          78913,
          225,
          322959,
          6010,
          11325,
          2859,
          4139,
          78908,
          153,
          3479,
          9237,
          17482,
          17634,
          19505,
          15694,
          2539,
          2760,
          2532,
          27714,
          22872,
          80070,
          225,
          326558,
          6048,
          11358,
          2937,
          4146,
          79624,
          153,
          3534,
          9309,
          17660,
          17878,
          19753,
          16527,
          2556,
          2789,
          2570,
          27805,
          22931,
          80796,
          225,
          330146,
          6066,
          11397,
          3051,
          4150,
          80308,
          161,
          3616,
          9397,
          17888,
          18160,
          19966,
          16970,
          2567,
          2818,
          2593,
          27897,
          22994,
          81278,
          227,
          332903,
          6087,
          11440,
          3148,
          4155,
          80894,
          165,
          3677,
          9481,
          18182,
          18364,
          20256,
          17426,
          2579,
          2856,
          2634,
          28021,
          23073,
          82204,
          227,
          336972,
          6108,
          11516,
          3298,
          4165,
          81853,
          169,
          3751,
          9587,
          18611,
          18638,
          20539,
          17953,
          2598,
          2910,
          2683,
          28226,
          23172,
          83214,
          227,
          341544,
          6124,
          11625,
          3467,
          4173,
          82955,
          174,
          3848,
          9671,
          18992,
          18993,
          20902,
          18379,
          2636,
          2981,
          2715,
          28458,
          23266,
          84222,
          227,
          346088,
          6158,
          11704,
          3627,
          4200,
          84040,
          175,
          3911,
          9753,
          19367,
          19367,
          21274,
          18888,
          2675,
          3058,
          2760,
          28631,
          23385,
          85159,
          228,
          350583,
          6190,
          11778,
          3796,
          4216,
          85138,
          178,
          3972,
          9840,
          19728,
          19689,
          21730,
          19422,
          2703,
          3127,
          2804,
          28886,
          23499,
          86313,
          229,
          355819,
          6236,
          11875,
          3985,
          4237,
          86507,
          183,
          4081,
          9954,
          20005,
          20043,
          22103,
          19912,
          2726,
          3195,
          2847,
          29074,
          23637,
          87010,
          231,
          359982,
          6256,
          11987,
          4173,
          4249,
          87523,
          186,
          4168,
          10045,
          20297,
          20363,
          22429,
          20198,
          2761,
          3285,
          2875,
          29346,
          23758,
          87544,
          232,
          363956,
          6267,
          12099,
          4342,
          4269,
          88482,
          191,
          4262,
          10163,
          20820,
          20633,
          22891,
          20755,
          2787,
          3425,
          2918,
          29584,
          23942,
          88624,
          234,
          369918,
          6294,
          12267,
          4652,
          4323,
          89990,
          205,
          4386,
          10260,
          21324,
          21057,
          23399,
          21116,
          2814,
          3580,
          2992,
          29843,
          24145,
          89612,
          238,
          376204,
          6328,
          12406,
          4908,
          4394,
          91950,
          214,
          4508,
          10383,
          21890,
          21484,
          23981,
          21561,
          2840,
          3764,
          3042,
          30155,
          24350,
          90663,
          240,
          382611,
          6401,
          12550,
          5176,
          4451,
          93692,
          222,
          4650,
          10477,
          22442,
          21954,
          24602,
          21998,
          2857,
          3913,
          3088,
          30481,
          24602,
          91670,
          244,
          388830,
          6466,
          12681,
          5469,
          4508,
          95381,
          223,
          4843,
          10567,
          22828,
          22409,
          25320,
          22428,
          2879,
          4110,
          3147,
          30860,
          24822,
          92792,
          253,
          395865,
          6513,
          12812,
          5766,
          4567,
          97620,
          229,
          5022,
          10654,
          23128,
          22943,
          25946,
          22789,
          2908,
          4320,
          3204,
          31149,
          25023,
          93571,
          261,
          401340,
          6542,
          12966,
          6004,
          4616,
          98807,
          241,
          5199,
          10776,
          23651,
          23367,
          26528,
          23119,
          2932,
          4469,
          3267,
          31449,
          25197,
          94279,
          262,
          406221,
          6580,
          13116,
          6238,
          4671,
          99739,
          245,
          5329,
          10856,
          24208,
          23737,
          27260,
          23505,
          2954,
          4710,
          3329,
          31794,
          25458,
          95414,
          277,
          413269,
          6633,
          13369,
          6620,
          4744,
          101270,
          255,
          5549,
          10947,
          24881,
          24300,
          28067,
          23898,
          2984,
          4943,
          3409,
          32197,
          25735,
          96610,
          284,
          421573,
          6712,
          13614,
          6953,
          4828,
          103971,
          263,
          5736,
          11050,
          25455,
          24864,
          28795,
          24228,
          3013,
          5138,
          3468,
          32606,
          26037,
          97701,
          284,
          429992,
          6811,
          13849,
          7292,
          4916,
          106928,
          270,
          5941,
          11164,
          26105,
          25446,
          29622,
          24571,
          3045,
          5370,
          3535,
          33116,
          26373,
          98951,
          288,
          438409,
          6893,
          14072,
          7634,
          4994,
          109619,
          279,
          6175,
          11266,
          26563,
          26043,
          30517,
          24844,
          3078,
          5617,
          3616,
          33518,
          26755,
          100184,
          295,
          448046,
          6983,
          14267,
          7945,
          5062,
          113543,
          294,
          6454,
          11413,
          26958,
          26703,
          31321,
          25153,
          3114,
          5884,
          3697,
          33797,
          27078,
          100942,
          307,
          454644,
          7073,
          14554,
          8184,
          5150,
          115055,
          301,
          6727,
          11522,
          27490,
          27295,
          32076,
          25368,
          3157,
          6097,
          3757,
          34088,
          27387,
          101631,
          313,
          460475,
          7144,
          14804,
          8391,
          5244,
          116143,
          317,
          6967,
          11644,
          28190,
          27757,
          32933,
          25633,
          3208,
          6387,
          3825,
          34556,
          27788,
          102926,
          323,
          468507,
          7222,
          15068,
          8660,
          5315,
          117942,
          334,
          7228,
          11779,
          28930,
          28450,
          33811,
          25916,
          3247,
          6686,
          3904,
          35068,
          28189,
          104088,
          334,
          478559,
          7332,
          15385,
          8932,
          5404,
          121665,
          349,
          7526,
          11930,
          29751,
          29042,
          34813,
          26178,
          3283,
          6984,
          4040,
          35500,
          28643,
          105351,
          342,
          488323,
          7428,
          15656,
          9218,
          5532,
          124782,
          359,
          7842,
          12207,
          30441,
          29724,
          35798,
          26393,
          3320,
          7288,
          4092,
          36080,
          29139,
          106579,
          348,
          497670,
          7516,
          15930,
          9455,
          5610,
          127953,
          365,
          8239,
          12356,
          30922,
          30287,
          36812,
          26677,
          3365,
          7568,
          4229,
          36605,
          29632,
          107797,
          352,
          508454,
          7655,
          16156,
          9710,
          5696,
          132359,
          381,
          8579,
          12513,
          31406,
          30962,
          37679,
          26940,
          3396,
          7849,
          4353,
          37119,
          30014,
          108461,
          359,
          515642,
          7759,
          16394,
          9945,
          5781,
          134090,
          400,
          8908,
          12671,
          31924,
          31600,
          38473,
          27143,
          3443,
          8123,
          4472,
          37447,
          30359,
          109075,
          369,
          521940,
          7880,
          16647,
          10111,
          5867,
          135649,
          410,
          9227,
          12774,
          32487,
          31984,
          39441,
          27460,
          3480,
          8417,
          4608,
          37779,
          30839,
          110209,
          383,
          530126,
          7980,
          16889,
          10345,
          5927,
          137778,
          424,
          9549,
          12979,
          33159,
          32480,
          40538,
          27753,
          3544,
          8692,
          4728,
          38286,
          31426,
          111470,
          392,
          541213,
          8100,
          17136,
          10573,
          6020,
          142032,
          456,
          9932,
          13193,
          33896,
          33046,
          41524,
          28024,
          3600,
          8948,
          4834,
          38790,
          32076,
          112570,
          400,
          551456,
          8243,
          17396,
          10755,
          6110,
          145851,
          483,
          10320,
          13371,
          34501,
          33660,
          42435,
          28340,
          3688,
          9209,
          4905,
          39405,
          32711,
          113714,
          405,
          561588,
          8417,
          17606,
          10947,
          6222,
          149656,
          503,
          10666,
          13578,
          35001,
          34180,
          43628,
          28657,
          3724,
          9481,
          4984,
          39987,
          33339,
          114989,
          414,
          572844,
          8563,
          17869,
          11094,
          6316,
          154238,
          525,
          11031,
          13791,
          35413,
          34801,
          44603,
          29002,
          3777,
          9721,
          5086,
          40531,
          33907,
          115744,
          420,
          581466,
          8708,
          18126,
          11240,
          6400,
          156856,
          538,
          11410,
          14037,
          36021,
          35339,
          45468,
          29252,
          3807,
          9906,
          5245,
          41067,
          34323,
          116312,
          431,
          588814,
          8835,
          18379,
          11354,
          6449,
          159131,
          556,
          11717,
          14229,
          36631,
          35722,
          46315,
          29583,
          3857,
          10105,
          5393,
          41579,
          34889,
          117309,
          437,
          598026,
          8970,
          18623,
          11534,
          6550,
          162150,
          572,
          12099,
          14551,
          37240,
          36270,
          47337,
          29967,
          3906,
          10306,
          5499,
          42238,
          35514,
          118379,
          452,
          609169,
          9104,
          18849,
          11681,
          6638,
          166590,
          598,
          12526,
          14823,
          37915,
          36847,
          48504,
          30327,
          3974,
          10534,
          5623,
          42872,
          36221,
          119426,
          456,
          620825,
          9320,
          19050,
          11840,
          6738,
          171408,
          640,
          12920,
          15129,
          38439,
          37404,
          49631,
          30662,
          4025,
          10771,
          5736,
          43736,
          37055,
          120659,
          465,
          632360,
          9541,
          19322,
          12011,
          6823,
          175711,
          676,
          13344,
          15441,
          38763,
          37988,
          50934,
          31106,
          4097,
          10968,
          5810,
          44592,
          37765,
          121390,
          484,
          644255,
          9754,
          19520,
          12167,
          6924,
          180858,
          702,
          13800,
          15754,
          39070,
          38560,
          51884,
          31484,
          4161,
          11189,
          5899,
          45241,
          38454,
          122206,
          491,
          653394,
          9954,
          19720,
          12278,
          7064,
          183864,
          729,
          14243,
          16036,
          39500,
          38997,
          52691,
          31839,
          4235,
          11352,
          6032,
          45838,
          38994,
          122815,
          496,
          661302,
          10145,
          19937,
          12399,
          7173,
          186217,
          746,
          14618,
          16357,
          40032,
          39386,
          53609,
          32198,
          4325,
          11516,
          6085,
          46465,
          39708,
          123941,
          508,
          671583,
          10392,
          20173,
          12579,
          7282,
          189673,
          767,
          15170,
          16712,
          40565,
          39915,
          54625,
          32571,
          4414,
          11700,
          6196,
          47295,
          40485,
          125228,
          518,
          683786,
          10643,
          20402,
          12796,
          7430,
          194445,
          778,
          15683,
          17030,
          41165,
          40382,
          55855,
          32916,
          4489,
          11851,
          6268,
          48077,
          41289,
          126553,
          525,
          695691,
          10941,
          20652,
          12995,
          7568,
          198896,
          787,
          16146,
          17356,
          41624,
          40903,
          56989,
          33319,
          4586,
          12019,
          6333,
          48866,
          42077,
          127697,
          535,
          707194,
          11229,
          20888,
          13168,
          7678,
          203376,
          799,
          16590,
          17654,
          42012,
          41379,
          58380,
          33691,
          4667,
          12208,
          6397,
          49740,
          42916,
          129005,
          554,
          721388,
          11521,
          21118,
          13307,
          7755,
          210110,
          808,
          17077,
          17981,
          42323,
          41830,
          59427,
          34047,
          4735,
          12385,
          6453,
          50451,
          43579,
          129779,
          565,
          729744,
          11699,
          21401,
          13429,
          7826,
          212467,
          834,
          17535,
          18205,
          42697,
          42230,
          60211,
          34300,
          4812,
          12533,
          6514,
          51102,
          44068,
          130490,
          574,
          736863,
          11885,
          21617,
          13535,
          7921,
          214368,
          856,
          17859,
          18497,
          43169,
          42552,
          61254,
          34654,
          4931,
          12775,
          6578,
          51735,
          44679,
          131833,
          594,
          746775,
          12121,
          21868,
          13664,
          8000,
          217462,
          888,
          18344,
          18873,
          43541,
          42981,
          62498,
          34961,
          5076,
          12946,
          6631,
          52462,
          45383,
          133003,
          615,
          759046,
          12358,
          22096,
          13782,
          8081,
          222759,
          930,
          18828,
          19228,
          43952,
          43457,
          63787,
          35260,
          5148,
          13073,
          6689,
          53267,
          46113,
          134174,
          629,
          770656,
          12560,
          22289,
          13884,
          8182,
          227481,
          962,
          19262,
          19548,
          44441,
          43907,
          65099,
          35617,
          5215,
          13239,
          6715,
          54135,
          46786,
          135052,
          647,
          781590,
          12803,
          22462,
          13983,
          8293,
          231784,
          997,
          19829,
          19816,
          44803,
          44315,
          66472,
          35959,
          5278,
          13396,
          6781,
          54962,
          47476,
          136198,
          668,
          793185,
          12954,
          22634,
          14091,
          8371,
          236685,
          1027,
          20249,
          20140,
          45090,
          44754,
          67709,
          36260,
          5336,
          13561,
          6815,
          55564,
          48045,
          136914,
          693,
          800784,
          13094,
          22796,
          14178,
          8431,
          238691,
          1052,
          20633,
          20409,
          45486,
          45117,
          68452,
          36568,
          5470,
          13709,
          6858,
          55961,
          48452,
          137552,
          707,
          806987,
          13217,
          22971,
          14253,
          8511,
          240346,
          1084,
          20986,
          20650,
          45863,
          45377,
          69374,
          36888,
          5552,
          13852,
          6898,
          56560,
          49032,
          138849,
          738,
          815947,
          13368,
          23174,
          14337,
          8606,
          243136,
          1116,
          21375,
          21007,
          46288,
          45797,
          70619,
          37229,
          5693,
          14009,
          6948,
          57384,
          49520,
          140249,
          758,
          826498,
          13582,
          23375,
          14415,
          8682,
          246931,
          1152,
          21751,
          21301,
          46705,
          46195,
          71994,
          37538,
          5807,
          14158,
          6990,
          58190,
          50150,
          141629,
          771,
          836416,
          13778,
          23604,
          14470,
          8768,
          249922,
          1193,
          22199,
          21575,
          47028,
          46652,
          73141,
          37904,
          5912,
          14321,
          7053,
          59080,
          50769,
          143216,
          791,
          846287,
          13972,
          23861,
          14647,
          8847,
          252643,
          1231,
          22587,
          21902,
          47305,
          47105,
          74698,
          38308,
          6001,
          14470,
          7084,
          59946,
          51404,
          144917,
          813,
          856835,
          14131,
          24078,
          14803,
          8918,
          255646,
          1269,
          22996,
          22160,
          47647,
          47546,
          75806,
          38639,
          6116,
          14606,
          7124,
          60501,
          51884,
          145893,
          830,
          864417,
          14261,
          24288,
          14938,
          8993,
          257402,
          1304,
          23383,
          22460,
          48055,
          47934,
          76779,
          38978,
          6232,
          14698,
          7160,
          61285,
          52261,
          146755,
          847,
          871531,
          14413,
          24538,
          15029,
          9061,
          258850,
          1338,
          23747,
          22774,
          48490,
          48296,
          78265,
          39391,
          6357,
          14816,
          7191,
          62360,
          52876,
          148565,
          876,
          882491,
          14592,
          24964,
          15150,
          9139,
          261365,
          1393,
          24179,
          23200,
          48944,
          48868,
          80255,
          39886,
          6582,
          14934,
          7252,
          63498,
          53541,
          150619,
          896,
          894802,
          14795,
          25324,
          15267,
          9282,
          263985,
          1435,
          24629,
          23601,
          49525,
          49496,
          82273,
          40387,
          6816,
          15060,
          7317,
          64535,
          54167,
          152703,
          919,
          906804,
          14969,
          25630,
          15375,
          9392,
          266447,
          1483,
          25100,
          24083,
          50086,
          50062,
          84519,
          40874,
          6980,
          15194,
          7363,
          65437,
          54805,
          155157,
          953,
          918983,
          15185,
          25959,
          15486,
          9497,
          268801,
          1543,
          25499,
          24539,
          50457,
          50735,
          86817,
          41418,
          7125,
          15323,
          7426,
          66320,
          55521,
          157885,
          977,
          931905,
          15416,
          26245,
          15610,
          9615,
          271259,
          1591,
          25970,
          25054,
          50989,
          51344,
          88455,
          41931,
          7311,
          15447,
          7485,
          67218,
          56102,
          159669,
          1007,
          941986,
          15619,
          26516,
          15734,
          9722,
          272928,
          1648,
          26360,
          25567,
          51401,
          51866,
          89515,
          42388,
          7500,
          15547,
          7544,
          67873,
          56505,
          161087,
          1029,
          950446,
          15822,
          26762,
          15850,
          9831,
          274321,
          1688,
          26749,
          26069,
          52048,
          52318,
          90611,
          42822,
          7698,
          15646,
          7614,
          68859,
          57002,
          162865,
          1046,
          960554,
          16026,
          27133,
          15972,
          9973,
          275972,
          1758,
          27203,
          26581,
          52861,
          52912,
          92467,
          43372,
          7911,
          15756,
          7731,
          70002,
          57692,
          165792,
          1079,
          974098,
          16309,
          27497,
          16106,
          10128,
          278300,
          1816,
          27688,
          27118,
          53722,
          53612,
          95379,
          44074,
          8188,
          15862,
          7899,
          71197,
          58436,
          169100,
          1121,
          989599,
          16589,
          27934,
          16253,
          10273,
          280511,
          1883,
          28250,
          27677,
          54455,
          54518,
          98556,
          44831,
          8447,
          15973,
          7966,
          72327,
          59233,
          172632,
          1162,
          1005147,
          16890,
          28333,
          16362,
          10435,
          282661,
          1954,
          28750,
          28170,
          55132,
          55333,
          101705,
          45634,
          8656,
          16117,
          8054,
          73564,
          59985,
          176434,
          1197,
          1021460,
          17177,
          28746,
          16519,
          10629,
          285046,
          2039,
          29298,
          28682,
          55780,
          56198,
          104148,
          46314,
          8837,
          16223,
          8192,
          74845,
          60497,
          178939,
          1237,
          1034625,
          17552,
          29215,
          16651,
          10779,
          286563,
          2114,
          29851,
          29122,
          56556,
          56990,
          105525,
          47000,
          9108,
          16341,
          8385,
          76025,
          61059,
          181160,
          1272,
          1046180,
          17877,
          29633,
          16772,
          10921,
          287823,
          2170,
          30280,
          29623,
          57521,
          57685,
          108203,
          47954,
          9433,
          16445,
          8536,
          77656,
          61802,
          185557,
          1327,
          1063723,
          18267,
          30228,
          16973,
          11105,
          290018,
          2244,
          30787,
          30106,
          58477,
          58605,
          111449,
          48996,
          9818,
          16577,
          8715,
          79333,
          62624,
          190595,
          1363,
          1083083,
          18754,
          30936,
          17160,
          11302,
          292216,
          2308,
          31290,
          30564,
          59524,
          59559,
          115241,
          50034,
          10121,
          16692,
          8886,
          80872,
          63461,
          195413,
          1391,
          1101787,
          19193,
          31568,
          17363,
          11488,
          294068,
          2382,
          31768,
          30917,
          60514,
          60415,
          118939,
          51021,
          10369,
          16798,
          9035,
          82245,
          64207,
          200411,
          1427,
          1119638,
          19636,
          32171,
          17552,
          11644,
          295726,
          2437,
          32241,
          31197,
          61447,
          61135,
          122478,
          51958,
          10612,
          16873,
          9171,
          83496,
          64946,
          204843,
          1453,
          1136764,
          20087,
          32670,
          17715,
          11808,
          297877,
          2502,
          32729,
          31391,
          62377,
          61778,
          125157,
          52784,
          10951,
          16970,
          9335,
          84695,
          65414,
          207350,
          1478,
          1149311,
          20549,
          33307,
          17858,
          11925,
          298725,
          2557,
          33056,
          31546,
          63389,
          62265,
          126545,
          53469,
          11347,
          17054,
          9495,
          85103,
          65839,
          209329,
          1503,
          1158452,
          21095,
          33987,
          17971,
          12009,
          299303,
          2583,
          33282,
          31639,
          64326,
          62573,
          127338,
          54079,
          11348,
          17114,
          9506,
          85521,
          66252,
          213004,
          1524,
          1167274,
          21257,
          34173,
          18118,
          12106,
          300813,
          2605,
          33423,
          31705,
          64533,
          62855,
          128142,
          54641,
          11348,
          17148,
          9512,
          85897,
          66562,
          215680,
          1538,
          1174446,
          21356,
          34207,
          18186,
          12178,
          302427,
          2641,
          33578,
          31723,
          64546,
          63136,
          128634,
          55282,
          11348,
          17163,
          9513,
          85907,
          66637,
          217379,
          1549,
          1179265,
          21394,
          34210,
          18206,
          12246,
          304072,
          2664,
          33591,
          31724,
          64548,
          63198,
          128634,
          55282,
          11348,
          17164,
          9513,
          85907,
          66637,
          217379,
          1551,
          1179270,
          21394,
          34210,
          18206,
          12247,
          304072,
          2664,
          33591,
          31724,
          64549,
          63198
         ],
         "y": [
          "Andalucía",
          "Aragón",
          "Asturias, Principado de",
          "Canarias",
          "Cantabria",
          "Castilla y León",
          "Castilla-La Mancha",
          "Catalunya",
          "Ceuta",
          "España",
          "Extremadura",
          "Galicia",
          "Illes Balears",
          "La Rioja",
          "Madrid, Comunidad de",
          "Melilla",
          "Murcia, Región de",
          "Navarra, Comunidad Foral de / Nafarroako Foru Komunitatea",
          "País Vasco / Euskal Herria",
          "Valenciana, Comunidad / Valenciana, Comunitat",
          "Andalucía",
          "Aragón",
          "Asturias, Principado de",
          "Canarias",
          "Cantabria",
          "Castilla y León",
          "Castilla-La Mancha",
          "Catalunya",
          "Ceuta",
          "España",
          "Extremadura",
          "Galicia",
          "Illes Balears",
          "La Rioja",
          "Madrid, Comunidad de",
          "Melilla",
          "Murcia, Región de",
          "Navarra, Comunidad Foral de / Nafarroako Foru Komunitatea",
          "País Vasco / Euskal Herria",
          "Valenciana, Comunidad / Valenciana, Comunitat",
          "Andalucía",
          "Aragón",
          "Asturias, Principado de",
          "Canarias",
          "Cantabria",
          "Castilla y León",
          "Castilla-La Mancha",
          "Catalunya",
          "Ceuta",
          "España",
          "Extremadura",
          "Galicia",
          "Illes Balears",
          "La Rioja",
          "Madrid, Comunidad de",
          "Melilla",
          "Murcia, Región de",
          "Navarra, Comunidad Foral de / Nafarroako Foru Komunitatea",
          "País Vasco / Euskal Herria",
          "Valenciana, Comunidad / Valenciana, Comunitat",
          "Andalucía",
          "Aragón",
          "Asturias, Principado de",
          "Canarias",
          "Cantabria",
          "Castilla y León",
          "Castilla-La Mancha",
          "Catalunya",
          "Ceuta",
          "España",
          "Extremadura",
          "Galicia",
          "Illes Balears",
          "La Rioja",
          "Madrid, Comunidad de",
          "Melilla",
          "Murcia, Región de",
          "Navarra, Comunidad Foral de / Nafarroako Foru Komunitatea",
          "País Vasco / Euskal Herria",
          "Valenciana, Comunidad / Valenciana, Comunitat",
          "Andalucía",
          "Aragón",
          "Asturias, Principado de",
          "Canarias",
          "Cantabria",
          "Castilla y León",
          "Castilla-La Mancha",
          "Catalunya",
          "Ceuta",
          "España",
          "Extremadura",
          "Galicia",
          "Illes Balears",
          "La Rioja",
          "Madrid, Comunidad de",
          "Melilla",
          "Murcia, Región de",
          "Navarra, Comunidad Foral de / Nafarroako Foru Komunitatea",
          "País Vasco / Euskal Herria",
          "Valenciana, Comunidad / Valenciana, Comunitat",
          "Andalucía",
          "Aragón",
          "Asturias, Principado de",
          "Canarias",
          "Cantabria",
          "Castilla y León",
          "Castilla-La Mancha",
          "Catalunya",
          "Ceuta",
          "España",
          "Extremadura",
          "Galicia",
          "Illes Balears",
          "La Rioja",
          "Madrid, Comunidad de",
          "Melilla",
          "Murcia, Región de",
          "Navarra, Comunidad Foral de / Nafarroako Foru Komunitatea",
          "País Vasco / Euskal Herria",
          "Valenciana, Comunidad / Valenciana, Comunitat",
          "Andalucía",
          "Aragón",
          "Asturias, Principado de",
          "Canarias",
          "Cantabria",
          "Castilla y León",
          "Castilla-La Mancha",
          "Catalunya",
          "Ceuta",
          "España",
          "Extremadura",
          "Galicia",
          "Illes Balears",
          "La Rioja",
          "Madrid, Comunidad de",
          "Melilla",
          "Murcia, Región de",
          "Navarra, Comunidad Foral de / Nafarroako Foru Komunitatea",
          "País Vasco / Euskal Herria",
          "Valenciana, Comunidad / Valenciana, Comunitat",
          "Andalucía",
          "Aragón",
          "Asturias, Principado de",
          "Canarias",
          "Cantabria",
          "Castilla y León",
          "Castilla-La Mancha",
          "Catalunya",
          "Ceuta",
          "España",
          "Extremadura",
          "Galicia",
          "Illes Balears",
          "La Rioja",
          "Madrid, Comunidad de",
          "Melilla",
          "Murcia, Región de",
          "Navarra, Comunidad Foral de / Nafarroako Foru Komunitatea",
          "País Vasco / Euskal Herria",
          "Valenciana, Comunidad / Valenciana, Comunitat",
          "Andalucía",
          "Aragón",
          "Asturias, Principado de",
          "Canarias",
          "Cantabria",
          "Castilla y León",
          "Castilla-La Mancha",
          "Catalunya",
          "Ceuta",
          "España",
          "Extremadura",
          "Galicia",
          "Illes Balears",
          "La Rioja",
          "Madrid, Comunidad de",
          "Melilla",
          "Murcia, Región de",
          "Navarra, Comunidad Foral de / Nafarroako Foru Komunitatea",
          "País Vasco / Euskal Herria",
          "Valenciana, Comunidad / Valenciana, Comunitat",
          "Andalucía",
          "Aragón",
          "Asturias, Principado de",
          "Canarias",
          "Cantabria",
          "Castilla y León",
          "Castilla-La Mancha",
          "Catalunya",
          "Ceuta",
          "España",
          "Extremadura",
          "Galicia",
          "Illes Balears",
          "La Rioja",
          "Madrid, Comunidad de",
          "Melilla",
          "Murcia, Región de",
          "Navarra, Comunidad Foral de / Nafarroako Foru Komunitatea",
          "País Vasco / Euskal Herria",
          "Valenciana, Comunidad / Valenciana, Comunitat",
          "Andalucía",
          "Aragón",
          "Asturias, Principado de",
          "Canarias",
          "Cantabria",
          "Castilla y León",
          "Castilla-La Mancha",
          "Catalunya",
          "Ceuta",
          "España",
          "Extremadura",
          "Galicia",
          "Illes Balears",
          "La Rioja",
          "Madrid, Comunidad de",
          "Melilla",
          "Murcia, Región de",
          "Navarra, Comunidad Foral de / Nafarroako Foru Komunitatea",
          "País Vasco / Euskal Herria",
          "Valenciana, Comunidad / Valenciana, Comunitat",
          "Andalucía",
          "Aragón",
          "Asturias, Principado de",
          "Canarias",
          "Cantabria",
          "Castilla y León",
          "Castilla-La Mancha",
          "Catalunya",
          "Ceuta",
          "España",
          "Extremadura",
          "Galicia",
          "Illes Balears",
          "La Rioja",
          "Madrid, Comunidad de",
          "Melilla",
          "Murcia, Región de",
          "Navarra, Comunidad Foral de / Nafarroako Foru Komunitatea",
          "País Vasco / Euskal Herria",
          "Valenciana, Comunidad / Valenciana, Comunitat",
          "Andalucía",
          "Aragón",
          "Asturias, Principado de",
          "Canarias",
          "Cantabria",
          "Castilla y León",
          "Castilla-La Mancha",
          "Catalunya",
          "Ceuta",
          "España",
          "Extremadura",
          "Galicia",
          "Illes Balears",
          "La Rioja",
          "Madrid, Comunidad de",
          "Melilla",
          "Murcia, Región de",
          "Navarra, Comunidad Foral de / Nafarroako Foru Komunitatea",
          "País Vasco / Euskal Herria",
          "Valenciana, Comunidad / Valenciana, Comunitat",
          "Andalucía",
          "Aragón",
          "Asturias, Principado de",
          "Canarias",
          "Cantabria",
          "Castilla y León",
          "Castilla-La Mancha",
          "Catalunya",
          "Ceuta",
          "España",
          "Extremadura",
          "Galicia",
          "Illes Balears",
          "La Rioja",
          "Madrid, Comunidad de",
          "Melilla",
          "Murcia, Región de",
          "Navarra, Comunidad Foral de / Nafarroako Foru Komunitatea",
          "País Vasco / Euskal Herria",
          "Valenciana, Comunidad / Valenciana, Comunitat",
          "Andalucía",
          "Aragón",
          "Asturias, Principado de",
          "Canarias",
          "Cantabria",
          "Castilla y León",
          "Castilla-La Mancha",
          "Catalunya",
          "Ceuta",
          "España",
          "Extremadura",
          "Galicia",
          "Illes Balears",
          "La Rioja",
          "Madrid, Comunidad de",
          "Melilla",
          "Murcia, Región de",
          "Navarra, Comunidad Foral de / Nafarroako Foru Komunitatea",
          "País Vasco / Euskal Herria",
          "Valenciana, Comunidad / Valenciana, Comunitat",
          "Andalucía",
          "Aragón",
          "Asturias, Principado de",
          "Canarias",
          "Cantabria",
          "Castilla y León",
          "Castilla-La Mancha",
          "Catalunya",
          "Ceuta",
          "España",
          "Extremadura",
          "Galicia",
          "Illes Balears",
          "La Rioja",
          "Madrid, Comunidad de",
          "Melilla",
          "Murcia, Región de",
          "Navarra, Comunidad Foral de / Nafarroako Foru Komunitatea",
          "País Vasco / Euskal Herria",
          "Valenciana, Comunidad / Valenciana, Comunitat",
          "Andalucía",
          "Aragón",
          "Asturias, Principado de",
          "Canarias",
          "Cantabria",
          "Castilla y León",
          "Castilla-La Mancha",
          "Catalunya",
          "Ceuta",
          "España",
          "Extremadura",
          "Galicia",
          "Illes Balears",
          "La Rioja",
          "Madrid, Comunidad de",
          "Melilla",
          "Murcia, Región de",
          "Navarra, Comunidad Foral de / Nafarroako Foru Komunitatea",
          "País Vasco / Euskal Herria",
          "Valenciana, Comunidad / Valenciana, Comunitat",
          "Andalucía",
          "Aragón",
          "Asturias, Principado de",
          "Canarias",
          "Cantabria",
          "Castilla y León",
          "Castilla-La Mancha",
          "Catalunya",
          "Ceuta",
          "España",
          "Extremadura",
          "Galicia",
          "Illes Balears",
          "La Rioja",
          "Madrid, Comunidad de",
          "Melilla",
          "Murcia, Región de",
          "Navarra, Comunidad Foral de / Nafarroako Foru Komunitatea",
          "País Vasco / Euskal Herria",
          "Valenciana, Comunidad / Valenciana, Comunitat",
          "Andalucía",
          "Aragón",
          "Asturias, Principado de",
          "Canarias",
          "Cantabria",
          "Castilla y León",
          "Castilla-La Mancha",
          "Catalunya",
          "Ceuta",
          "España",
          "Extremadura",
          "Galicia",
          "Illes Balears",
          "La Rioja",
          "Madrid, Comunidad de",
          "Melilla",
          "Murcia, Región de",
          "Navarra, Comunidad Foral de / Nafarroako Foru Komunitatea",
          "País Vasco / Euskal Herria",
          "Valenciana, Comunidad / Valenciana, Comunitat",
          "Andalucía",
          "Aragón",
          "Asturias, Principado de",
          "Canarias",
          "Cantabria",
          "Castilla y León",
          "Castilla-La Mancha",
          "Catalunya",
          "Ceuta",
          "España",
          "Extremadura",
          "Galicia",
          "Illes Balears",
          "La Rioja",
          "Madrid, Comunidad de",
          "Melilla",
          "Murcia, Región de",
          "Navarra, Comunidad Foral de / Nafarroako Foru Komunitatea",
          "País Vasco / Euskal Herria",
          "Valenciana, Comunidad / Valenciana, Comunitat",
          "Andalucía",
          "Aragón",
          "Asturias, Principado de",
          "Canarias",
          "Cantabria",
          "Castilla y León",
          "Castilla-La Mancha",
          "Catalunya",
          "Ceuta",
          "España",
          "Extremadura",
          "Galicia",
          "Illes Balears",
          "La Rioja",
          "Madrid, Comunidad de",
          "Melilla",
          "Murcia, Región de",
          "Navarra, Comunidad Foral de / Nafarroako Foru Komunitatea",
          "País Vasco / Euskal Herria",
          "Valenciana, Comunidad / Valenciana, Comunitat",
          "Andalucía",
          "Aragón",
          "Asturias, Principado de",
          "Canarias",
          "Cantabria",
          "Castilla y León",
          "Castilla-La Mancha",
          "Catalunya",
          "Ceuta",
          "España",
          "Extremadura",
          "Galicia",
          "Illes Balears",
          "La Rioja",
          "Madrid, Comunidad de",
          "Melilla",
          "Murcia, Región de",
          "Navarra, Comunidad Foral de / Nafarroako Foru Komunitatea",
          "País Vasco / Euskal Herria",
          "Valenciana, Comunidad / Valenciana, Comunitat",
          "Andalucía",
          "Aragón",
          "Asturias, Principado de",
          "Canarias",
          "Cantabria",
          "Castilla y León",
          "Castilla-La Mancha",
          "Catalunya",
          "Ceuta",
          "España",
          "Extremadura",
          "Galicia",
          "Illes Balears",
          "La Rioja",
          "Madrid, Comunidad de",
          "Melilla",
          "Murcia, Región de",
          "Navarra, Comunidad Foral de / Nafarroako Foru Komunitatea",
          "País Vasco / Euskal Herria",
          "Valenciana, Comunidad / Valenciana, Comunitat",
          "Andalucía",
          "Aragón",
          "Asturias, Principado de",
          "Canarias",
          "Cantabria",
          "Castilla y León",
          "Castilla-La Mancha",
          "Catalunya",
          "Ceuta",
          "España",
          "Extremadura",
          "Galicia",
          "Illes Balears",
          "La Rioja",
          "Madrid, Comunidad de",
          "Melilla",
          "Murcia, Región de",
          "Navarra, Comunidad Foral de / Nafarroako Foru Komunitatea",
          "País Vasco / Euskal Herria",
          "Valenciana, Comunidad / Valenciana, Comunitat",
          "Andalucía",
          "Aragón",
          "Asturias, Principado de",
          "Canarias",
          "Cantabria",
          "Castilla y León",
          "Castilla-La Mancha",
          "Catalunya",
          "Ceuta",
          "España",
          "Extremadura",
          "Galicia",
          "Illes Balears",
          "La Rioja",
          "Madrid, Comunidad de",
          "Melilla",
          "Murcia, Región de",
          "Navarra, Comunidad Foral de / Nafarroako Foru Komunitatea",
          "País Vasco / Euskal Herria",
          "Valenciana, Comunidad / Valenciana, Comunitat",
          "Andalucía",
          "Aragón",
          "Asturias, Principado de",
          "Canarias",
          "Cantabria",
          "Castilla y León",
          "Castilla-La Mancha",
          "Catalunya",
          "Ceuta",
          "España",
          "Extremadura",
          "Galicia",
          "Illes Balears",
          "La Rioja",
          "Madrid, Comunidad de",
          "Melilla",
          "Murcia, Región de",
          "Navarra, Comunidad Foral de / Nafarroako Foru Komunitatea",
          "País Vasco / Euskal Herria",
          "Valenciana, Comunidad / Valenciana, Comunitat",
          "Andalucía",
          "Aragón",
          "Asturias, Principado de",
          "Canarias",
          "Cantabria",
          "Castilla y León",
          "Castilla-La Mancha",
          "Catalunya",
          "Ceuta",
          "España",
          "Extremadura",
          "Galicia",
          "Illes Balears",
          "La Rioja",
          "Madrid, Comunidad de",
          "Melilla",
          "Murcia, Región de",
          "Navarra, Comunidad Foral de / Nafarroako Foru Komunitatea",
          "País Vasco / Euskal Herria",
          "Valenciana, Comunidad / Valenciana, Comunitat",
          "Andalucía",
          "Aragón",
          "Asturias, Principado de",
          "Canarias",
          "Cantabria",
          "Castilla y León",
          "Castilla-La Mancha",
          "Catalunya",
          "Ceuta",
          "España",
          "Extremadura",
          "Galicia",
          "Illes Balears",
          "La Rioja",
          "Madrid, Comunidad de",
          "Melilla",
          "Murcia, Región de",
          "Navarra, Comunidad Foral de / Nafarroako Foru Komunitatea",
          "País Vasco / Euskal Herria",
          "Valenciana, Comunidad / Valenciana, Comunitat",
          "Andalucía",
          "Aragón",
          "Asturias, Principado de",
          "Canarias",
          "Cantabria",
          "Castilla y León",
          "Castilla-La Mancha",
          "Catalunya",
          "Ceuta",
          "España",
          "Extremadura",
          "Galicia",
          "Illes Balears",
          "La Rioja",
          "Madrid, Comunidad de",
          "Melilla",
          "Murcia, Región de",
          "Navarra, Comunidad Foral de / Nafarroako Foru Komunitatea",
          "País Vasco / Euskal Herria",
          "Valenciana, Comunidad / Valenciana, Comunitat",
          "Andalucía",
          "Aragón",
          "Asturias, Principado de",
          "Canarias",
          "Cantabria",
          "Castilla y León",
          "Castilla-La Mancha",
          "Catalunya",
          "Ceuta",
          "España",
          "Extremadura",
          "Galicia",
          "Illes Balears",
          "La Rioja",
          "Madrid, Comunidad de",
          "Melilla",
          "Murcia, Región de",
          "Navarra, Comunidad Foral de / Nafarroako Foru Komunitatea",
          "País Vasco / Euskal Herria",
          "Valenciana, Comunidad / Valenciana, Comunitat",
          "Andalucía",
          "Aragón",
          "Asturias, Principado de",
          "Canarias",
          "Cantabria",
          "Castilla y León",
          "Castilla-La Mancha",
          "Catalunya",
          "Ceuta",
          "España",
          "Extremadura",
          "Galicia",
          "Illes Balears",
          "La Rioja",
          "Madrid, Comunidad de",
          "Melilla",
          "Murcia, Región de",
          "Navarra, Comunidad Foral de / Nafarroako Foru Komunitatea",
          "País Vasco / Euskal Herria",
          "Valenciana, Comunidad / Valenciana, Comunitat",
          "Andalucía",
          "Aragón",
          "Asturias, Principado de",
          "Canarias",
          "Cantabria",
          "Castilla y León",
          "Castilla-La Mancha",
          "Catalunya",
          "Ceuta",
          "España",
          "Extremadura",
          "Galicia",
          "Illes Balears",
          "La Rioja",
          "Madrid, Comunidad de",
          "Melilla",
          "Murcia, Región de",
          "Navarra, Comunidad Foral de / Nafarroako Foru Komunitatea",
          "País Vasco / Euskal Herria",
          "Valenciana, Comunidad / Valenciana, Comunitat",
          "Andalucía",
          "Aragón",
          "Asturias, Principado de",
          "Canarias",
          "Cantabria",
          "Castilla y León",
          "Castilla-La Mancha",
          "Catalunya",
          "Ceuta",
          "España",
          "Extremadura",
          "Galicia",
          "Illes Balears",
          "La Rioja",
          "Madrid, Comunidad de",
          "Melilla",
          "Murcia, Región de",
          "Navarra, Comunidad Foral de / Nafarroako Foru Komunitatea",
          "País Vasco / Euskal Herria",
          "Valenciana, Comunidad / Valenciana, Comunitat",
          "Andalucía",
          "Aragón",
          "Asturias, Principado de",
          "Canarias",
          "Cantabria",
          "Castilla y León",
          "Castilla-La Mancha",
          "Catalunya",
          "Ceuta",
          "España",
          "Extremadura",
          "Galicia",
          "Illes Balears",
          "La Rioja",
          "Madrid, Comunidad de",
          "Melilla",
          "Murcia, Región de",
          "Navarra, Comunidad Foral de / Nafarroako Foru Komunitatea",
          "País Vasco / Euskal Herria",
          "Valenciana, Comunidad / Valenciana, Comunitat",
          "Andalucía",
          "Aragón",
          "Asturias, Principado de",
          "Canarias",
          "Cantabria",
          "Castilla y León",
          "Castilla-La Mancha",
          "Catalunya",
          "Ceuta",
          "España",
          "Extremadura",
          "Galicia",
          "Illes Balears",
          "La Rioja",
          "Madrid, Comunidad de",
          "Melilla",
          "Murcia, Región de",
          "Navarra, Comunidad Foral de / Nafarroako Foru Komunitatea",
          "País Vasco / Euskal Herria",
          "Valenciana, Comunidad / Valenciana, Comunitat",
          "Andalucía",
          "Aragón",
          "Asturias, Principado de",
          "Canarias",
          "Cantabria",
          "Castilla y León",
          "Castilla-La Mancha",
          "Catalunya",
          "Ceuta",
          "España",
          "Extremadura",
          "Galicia",
          "Illes Balears",
          "La Rioja",
          "Madrid, Comunidad de",
          "Melilla",
          "Murcia, Región de",
          "Navarra, Comunidad Foral de / Nafarroako Foru Komunitatea",
          "País Vasco / Euskal Herria",
          "Valenciana, Comunidad / Valenciana, Comunitat",
          "Andalucía",
          "Aragón",
          "Asturias, Principado de",
          "Canarias",
          "Cantabria",
          "Castilla y León",
          "Castilla-La Mancha",
          "Catalunya",
          "Ceuta",
          "España",
          "Extremadura",
          "Galicia",
          "Illes Balears",
          "La Rioja",
          "Madrid, Comunidad de",
          "Melilla",
          "Murcia, Región de",
          "Navarra, Comunidad Foral de / Nafarroako Foru Komunitatea",
          "País Vasco / Euskal Herria",
          "Valenciana, Comunidad / Valenciana, Comunitat",
          "Andalucía",
          "Aragón",
          "Asturias, Principado de",
          "Canarias",
          "Cantabria",
          "Castilla y León",
          "Castilla-La Mancha",
          "Catalunya",
          "Ceuta",
          "España",
          "Extremadura",
          "Galicia",
          "Illes Balears",
          "La Rioja",
          "Madrid, Comunidad de",
          "Melilla",
          "Murcia, Región de",
          "Navarra, Comunidad Foral de / Nafarroako Foru Komunitatea",
          "País Vasco / Euskal Herria",
          "Valenciana, Comunidad / Valenciana, Comunitat",
          "Andalucía",
          "Aragón",
          "Asturias, Principado de",
          "Canarias",
          "Cantabria",
          "Castilla y León",
          "Castilla-La Mancha",
          "Catalunya",
          "Ceuta",
          "España",
          "Extremadura",
          "Galicia",
          "Illes Balears",
          "La Rioja",
          "Madrid, Comunidad de",
          "Melilla",
          "Murcia, Región de",
          "Navarra, Comunidad Foral de / Nafarroako Foru Komunitatea",
          "País Vasco / Euskal Herria",
          "Valenciana, Comunidad / Valenciana, Comunitat",
          "Andalucía",
          "Aragón",
          "Asturias, Principado de",
          "Canarias",
          "Cantabria",
          "Castilla y León",
          "Castilla-La Mancha",
          "Catalunya",
          "Ceuta",
          "España",
          "Extremadura",
          "Galicia",
          "Illes Balears",
          "La Rioja",
          "Madrid, Comunidad de",
          "Melilla",
          "Murcia, Región de",
          "Navarra, Comunidad Foral de / Nafarroako Foru Komunitatea",
          "País Vasco / Euskal Herria",
          "Valenciana, Comunidad / Valenciana, Comunitat",
          "Andalucía",
          "Aragón",
          "Asturias, Principado de",
          "Canarias",
          "Cantabria",
          "Castilla y León",
          "Castilla-La Mancha",
          "Catalunya",
          "Ceuta",
          "España",
          "Extremadura",
          "Galicia",
          "Illes Balears",
          "La Rioja",
          "Madrid, Comunidad de",
          "Melilla",
          "Murcia, Región de",
          "Navarra, Comunidad Foral de / Nafarroako Foru Komunitatea",
          "País Vasco / Euskal Herria",
          "Valenciana, Comunidad / Valenciana, Comunitat",
          "Andalucía",
          "Aragón",
          "Asturias, Principado de",
          "Canarias",
          "Cantabria",
          "Castilla y León",
          "Castilla-La Mancha",
          "Catalunya",
          "Ceuta",
          "España",
          "Extremadura",
          "Galicia",
          "Illes Balears",
          "La Rioja",
          "Madrid, Comunidad de",
          "Melilla",
          "Murcia, Región de",
          "Navarra, Comunidad Foral de / Nafarroako Foru Komunitatea",
          "País Vasco / Euskal Herria",
          "Valenciana, Comunidad / Valenciana, Comunitat",
          "Andalucía",
          "Aragón",
          "Asturias, Principado de",
          "Canarias",
          "Cantabria",
          "Castilla y León",
          "Castilla-La Mancha",
          "Catalunya",
          "Ceuta",
          "España",
          "Extremadura",
          "Galicia",
          "Illes Balears",
          "La Rioja",
          "Madrid, Comunidad de",
          "Melilla",
          "Murcia, Región de",
          "Navarra, Comunidad Foral de / Nafarroako Foru Komunitatea",
          "País Vasco / Euskal Herria",
          "Valenciana, Comunidad / Valenciana, Comunitat",
          "Andalucía",
          "Aragón",
          "Asturias, Principado de",
          "Canarias",
          "Cantabria",
          "Castilla y León",
          "Castilla-La Mancha",
          "Catalunya",
          "Ceuta",
          "España",
          "Extremadura",
          "Galicia",
          "Illes Balears",
          "La Rioja",
          "Madrid, Comunidad de",
          "Melilla",
          "Murcia, Región de",
          "Navarra, Comunidad Foral de / Nafarroako Foru Komunitatea",
          "País Vasco / Euskal Herria",
          "Valenciana, Comunidad / Valenciana, Comunitat",
          "Andalucía",
          "Aragón",
          "Asturias, Principado de",
          "Canarias",
          "Cantabria",
          "Castilla y León",
          "Castilla-La Mancha",
          "Catalunya",
          "Ceuta",
          "España",
          "Extremadura",
          "Galicia",
          "Illes Balears",
          "La Rioja",
          "Madrid, Comunidad de",
          "Melilla",
          "Murcia, Región de",
          "Navarra, Comunidad Foral de / Nafarroako Foru Komunitatea",
          "País Vasco / Euskal Herria",
          "Valenciana, Comunidad / Valenciana, Comunitat",
          "Andalucía",
          "Aragón",
          "Asturias, Principado de",
          "Canarias",
          "Cantabria",
          "Castilla y León",
          "Castilla-La Mancha",
          "Catalunya",
          "Ceuta",
          "España",
          "Extremadura",
          "Galicia",
          "Illes Balears",
          "La Rioja",
          "Madrid, Comunidad de",
          "Melilla",
          "Murcia, Región de",
          "Navarra, Comunidad Foral de / Nafarroako Foru Komunitatea",
          "País Vasco / Euskal Herria",
          "Valenciana, Comunidad / Valenciana, Comunitat",
          "Andalucía",
          "Aragón",
          "Asturias, Principado de",
          "Canarias",
          "Cantabria",
          "Castilla y León",
          "Castilla-La Mancha",
          "Catalunya",
          "Ceuta",
          "España",
          "Extremadura",
          "Galicia",
          "Illes Balears",
          "La Rioja",
          "Madrid, Comunidad de",
          "Melilla",
          "Murcia, Región de",
          "Navarra, Comunidad Foral de / Nafarroako Foru Komunitatea",
          "País Vasco / Euskal Herria",
          "Valenciana, Comunidad / Valenciana, Comunitat",
          "Andalucía",
          "Aragón",
          "Asturias, Principado de",
          "Canarias",
          "Cantabria",
          "Castilla y León",
          "Castilla-La Mancha",
          "Catalunya",
          "Ceuta",
          "España",
          "Extremadura",
          "Galicia",
          "Illes Balears",
          "La Rioja",
          "Madrid, Comunidad de",
          "Melilla",
          "Murcia, Región de",
          "Navarra, Comunidad Foral de / Nafarroako Foru Komunitatea",
          "País Vasco / Euskal Herria",
          "Valenciana, Comunidad / Valenciana, Comunitat",
          "Andalucía",
          "Aragón",
          "Asturias, Principado de",
          "Canarias",
          "Cantabria",
          "Castilla y León",
          "Castilla-La Mancha",
          "Catalunya",
          "Ceuta",
          "España",
          "Extremadura",
          "Galicia",
          "Illes Balears",
          "La Rioja",
          "Madrid, Comunidad de",
          "Melilla",
          "Murcia, Región de",
          "Navarra, Comunidad Foral de / Nafarroako Foru Komunitatea",
          "País Vasco / Euskal Herria",
          "Valenciana, Comunidad / Valenciana, Comunitat",
          "Andalucía",
          "Aragón",
          "Asturias, Principado de",
          "Canarias",
          "Cantabria",
          "Castilla y León",
          "Castilla-La Mancha",
          "Catalunya",
          "Ceuta",
          "España",
          "Extremadura",
          "Galicia",
          "Illes Balears",
          "La Rioja",
          "Madrid, Comunidad de",
          "Melilla",
          "Murcia, Región de",
          "Navarra, Comunidad Foral de / Nafarroako Foru Komunitatea",
          "País Vasco / Euskal Herria",
          "Valenciana, Comunidad / Valenciana, Comunitat",
          "Andalucía",
          "Aragón",
          "Asturias, Principado de",
          "Canarias",
          "Cantabria",
          "Castilla y León",
          "Castilla-La Mancha",
          "Catalunya",
          "Ceuta",
          "España",
          "Extremadura",
          "Galicia",
          "Illes Balears",
          "La Rioja",
          "Madrid, Comunidad de",
          "Melilla",
          "Murcia, Región de",
          "Navarra, Comunidad Foral de / Nafarroako Foru Komunitatea",
          "País Vasco / Euskal Herria",
          "Valenciana, Comunidad / Valenciana, Comunitat",
          "Andalucía",
          "Aragón",
          "Asturias, Principado de",
          "Canarias",
          "Cantabria",
          "Castilla y León",
          "Castilla-La Mancha",
          "Catalunya",
          "Ceuta",
          "España",
          "Extremadura",
          "Galicia",
          "Illes Balears",
          "La Rioja",
          "Madrid, Comunidad de",
          "Melilla",
          "Murcia, Región de",
          "Navarra, Comunidad Foral de / Nafarroako Foru Komunitatea",
          "País Vasco / Euskal Herria",
          "Valenciana, Comunidad / Valenciana, Comunitat",
          "Andalucía",
          "Aragón",
          "Asturias, Principado de",
          "Canarias",
          "Cantabria",
          "Castilla y León",
          "Castilla-La Mancha",
          "Catalunya",
          "Ceuta",
          "España",
          "Extremadura",
          "Galicia",
          "Illes Balears",
          "La Rioja",
          "Madrid, Comunidad de",
          "Melilla",
          "Murcia, Región de",
          "Navarra, Comunidad Foral de / Nafarroako Foru Komunitatea",
          "País Vasco / Euskal Herria",
          "Valenciana, Comunidad / Valenciana, Comunitat",
          "Andalucía",
          "Aragón",
          "Asturias, Principado de",
          "Canarias",
          "Cantabria",
          "Castilla y León",
          "Castilla-La Mancha",
          "Catalunya",
          "Ceuta",
          "España",
          "Extremadura",
          "Galicia",
          "Illes Balears",
          "La Rioja",
          "Madrid, Comunidad de",
          "Melilla",
          "Murcia, Región de",
          "Navarra, Comunidad Foral de / Nafarroako Foru Komunitatea",
          "País Vasco / Euskal Herria",
          "Valenciana, Comunidad / Valenciana, Comunitat",
          "Andalucía",
          "Aragón",
          "Asturias, Principado de",
          "Canarias",
          "Cantabria",
          "Castilla y León",
          "Castilla-La Mancha",
          "Catalunya",
          "Ceuta",
          "España",
          "Extremadura",
          "Galicia",
          "Illes Balears",
          "La Rioja",
          "Madrid, Comunidad de",
          "Melilla",
          "Murcia, Región de",
          "Navarra, Comunidad Foral de / Nafarroako Foru Komunitatea",
          "País Vasco / Euskal Herria",
          "Valenciana, Comunidad / Valenciana, Comunitat",
          "Andalucía",
          "Aragón",
          "Asturias, Principado de",
          "Canarias",
          "Cantabria",
          "Castilla y León",
          "Castilla-La Mancha",
          "Catalunya",
          "Ceuta",
          "España",
          "Extremadura",
          "Galicia",
          "Illes Balears",
          "La Rioja",
          "Madrid, Comunidad de",
          "Melilla",
          "Murcia, Región de",
          "Navarra, Comunidad Foral de / Nafarroako Foru Komunitatea",
          "País Vasco / Euskal Herria",
          "Valenciana, Comunidad / Valenciana, Comunitat",
          "Andalucía",
          "Aragón",
          "Asturias, Principado de",
          "Canarias",
          "Cantabria",
          "Castilla y León",
          "Castilla-La Mancha",
          "Catalunya",
          "Ceuta",
          "España",
          "Extremadura",
          "Galicia",
          "Illes Balears",
          "La Rioja",
          "Madrid, Comunidad de",
          "Melilla",
          "Murcia, Región de",
          "Navarra, Comunidad Foral de / Nafarroako Foru Komunitatea",
          "País Vasco / Euskal Herria",
          "Valenciana, Comunidad / Valenciana, Comunitat",
          "Andalucía",
          "Aragón",
          "Asturias, Principado de",
          "Canarias",
          "Cantabria",
          "Castilla y León",
          "Castilla-La Mancha",
          "Catalunya",
          "Ceuta",
          "España",
          "Extremadura",
          "Galicia",
          "Illes Balears",
          "La Rioja",
          "Madrid, Comunidad de",
          "Melilla",
          "Murcia, Región de",
          "Navarra, Comunidad Foral de / Nafarroako Foru Komunitatea",
          "País Vasco / Euskal Herria",
          "Valenciana, Comunidad / Valenciana, Comunitat",
          "Andalucía",
          "Aragón",
          "Asturias, Principado de",
          "Canarias",
          "Cantabria",
          "Castilla y León",
          "Castilla-La Mancha",
          "Catalunya",
          "Ceuta",
          "España",
          "Extremadura",
          "Galicia",
          "Illes Balears",
          "La Rioja",
          "Madrid, Comunidad de",
          "Melilla",
          "Murcia, Región de",
          "Navarra, Comunidad Foral de / Nafarroako Foru Komunitatea",
          "País Vasco / Euskal Herria",
          "Valenciana, Comunidad / Valenciana, Comunitat",
          "Andalucía",
          "Aragón",
          "Asturias, Principado de",
          "Canarias",
          "Cantabria",
          "Castilla y León",
          "Castilla-La Mancha",
          "Catalunya",
          "Ceuta",
          "España",
          "Extremadura",
          "Galicia",
          "Illes Balears",
          "La Rioja",
          "Madrid, Comunidad de",
          "Melilla",
          "Murcia, Región de",
          "Navarra, Comunidad Foral de / Nafarroako Foru Komunitatea",
          "País Vasco / Euskal Herria",
          "Valenciana, Comunidad / Valenciana, Comunitat",
          "Andalucía",
          "Aragón",
          "Asturias, Principado de",
          "Canarias",
          "Cantabria",
          "Castilla y León",
          "Castilla-La Mancha",
          "Catalunya",
          "Ceuta",
          "España",
          "Extremadura",
          "Galicia",
          "Illes Balears",
          "La Rioja",
          "Madrid, Comunidad de",
          "Melilla",
          "Murcia, Región de",
          "Navarra, Comunidad Foral de / Nafarroako Foru Komunitatea",
          "País Vasco / Euskal Herria",
          "Valenciana, Comunidad / Valenciana, Comunitat",
          "Andalucía",
          "Aragón",
          "Asturias, Principado de",
          "Canarias",
          "Cantabria",
          "Castilla y León",
          "Castilla-La Mancha",
          "Catalunya",
          "Ceuta",
          "España",
          "Extremadura",
          "Galicia",
          "Illes Balears",
          "La Rioja",
          "Madrid, Comunidad de",
          "Melilla",
          "Murcia, Región de",
          "Navarra, Comunidad Foral de / Nafarroako Foru Komunitatea",
          "País Vasco / Euskal Herria",
          "Valenciana, Comunidad / Valenciana, Comunitat",
          "Andalucía",
          "Aragón",
          "Asturias, Principado de",
          "Canarias",
          "Cantabria",
          "Castilla y León",
          "Castilla-La Mancha",
          "Catalunya",
          "Ceuta",
          "España",
          "Extremadura",
          "Galicia",
          "Illes Balears",
          "La Rioja",
          "Madrid, Comunidad de",
          "Melilla",
          "Murcia, Región de",
          "Navarra, Comunidad Foral de / Nafarroako Foru Komunitatea",
          "País Vasco / Euskal Herria",
          "Valenciana, Comunidad / Valenciana, Comunitat",
          "Andalucía",
          "Aragón",
          "Asturias, Principado de",
          "Canarias",
          "Cantabria",
          "Castilla y León",
          "Castilla-La Mancha",
          "Catalunya",
          "Ceuta",
          "España",
          "Extremadura",
          "Galicia",
          "Illes Balears",
          "La Rioja",
          "Madrid, Comunidad de",
          "Melilla",
          "Murcia, Región de",
          "Navarra, Comunidad Foral de / Nafarroako Foru Komunitatea",
          "País Vasco / Euskal Herria",
          "Valenciana, Comunidad / Valenciana, Comunitat",
          "Andalucía",
          "Aragón",
          "Asturias, Principado de",
          "Canarias",
          "Cantabria",
          "Castilla y León",
          "Castilla-La Mancha",
          "Catalunya",
          "Ceuta",
          "España",
          "Extremadura",
          "Galicia",
          "Illes Balears",
          "La Rioja",
          "Madrid, Comunidad de",
          "Melilla",
          "Murcia, Región de",
          "Navarra, Comunidad Foral de / Nafarroako Foru Komunitatea",
          "País Vasco / Euskal Herria",
          "Valenciana, Comunidad / Valenciana, Comunitat",
          "Andalucía",
          "Aragón",
          "Asturias, Principado de",
          "Canarias",
          "Cantabria",
          "Castilla y León",
          "Castilla-La Mancha",
          "Catalunya",
          "Ceuta",
          "España",
          "Extremadura",
          "Galicia",
          "Illes Balears",
          "La Rioja",
          "Madrid, Comunidad de",
          "Melilla",
          "Murcia, Región de",
          "Navarra, Comunidad Foral de / Nafarroako Foru Komunitatea",
          "País Vasco / Euskal Herria",
          "Valenciana, Comunidad / Valenciana, Comunitat",
          "Andalucía",
          "Aragón",
          "Asturias, Principado de",
          "Canarias",
          "Cantabria",
          "Castilla y León",
          "Castilla-La Mancha",
          "Catalunya",
          "Ceuta",
          "España",
          "Extremadura",
          "Galicia",
          "Illes Balears",
          "La Rioja",
          "Madrid, Comunidad de",
          "Melilla",
          "Murcia, Región de",
          "Navarra, Comunidad Foral de / Nafarroako Foru Komunitatea",
          "País Vasco / Euskal Herria",
          "Valenciana, Comunidad / Valenciana, Comunitat",
          "Andalucía",
          "Aragón",
          "Asturias, Principado de",
          "Canarias",
          "Cantabria",
          "Castilla y León",
          "Castilla-La Mancha",
          "Catalunya",
          "Ceuta",
          "España",
          "Extremadura",
          "Galicia",
          "Illes Balears",
          "La Rioja",
          "Madrid, Comunidad de",
          "Melilla",
          "Murcia, Región de",
          "Navarra, Comunidad Foral de / Nafarroako Foru Komunitatea",
          "País Vasco / Euskal Herria",
          "Valenciana, Comunidad / Valenciana, Comunitat",
          "Andalucía",
          "Aragón",
          "Asturias, Principado de",
          "Canarias",
          "Cantabria",
          "Castilla y León",
          "Castilla-La Mancha",
          "Catalunya",
          "Ceuta",
          "España",
          "Extremadura",
          "Galicia",
          "Illes Balears",
          "La Rioja",
          "Madrid, Comunidad de",
          "Melilla",
          "Murcia, Región de",
          "Navarra, Comunidad Foral de / Nafarroako Foru Komunitatea",
          "País Vasco / Euskal Herria",
          "Valenciana, Comunidad / Valenciana, Comunitat",
          "Andalucía",
          "Aragón",
          "Asturias, Principado de",
          "Canarias",
          "Cantabria",
          "Castilla y León",
          "Castilla-La Mancha",
          "Catalunya",
          "Ceuta",
          "España",
          "Extremadura",
          "Galicia",
          "Illes Balears",
          "La Rioja",
          "Madrid, Comunidad de",
          "Melilla",
          "Murcia, Región de",
          "Navarra, Comunidad Foral de / Nafarroako Foru Komunitatea",
          "País Vasco / Euskal Herria",
          "Valenciana, Comunidad / Valenciana, Comunitat",
          "Andalucía",
          "Aragón",
          "Asturias, Principado de",
          "Canarias",
          "Cantabria",
          "Castilla y León",
          "Castilla-La Mancha",
          "Catalunya",
          "Ceuta",
          "España",
          "Extremadura",
          "Galicia",
          "Illes Balears",
          "La Rioja",
          "Madrid, Comunidad de",
          "Melilla",
          "Murcia, Región de",
          "Navarra, Comunidad Foral de / Nafarroako Foru Komunitatea",
          "País Vasco / Euskal Herria",
          "Valenciana, Comunidad / Valenciana, Comunitat",
          "Andalucía",
          "Aragón",
          "Asturias, Principado de",
          "Canarias",
          "Cantabria",
          "Castilla y León",
          "Castilla-La Mancha",
          "Catalunya",
          "Ceuta",
          "España",
          "Extremadura",
          "Galicia",
          "Illes Balears",
          "La Rioja",
          "Madrid, Comunidad de",
          "Melilla",
          "Murcia, Región de",
          "Navarra, Comunidad Foral de / Nafarroako Foru Komunitatea",
          "País Vasco / Euskal Herria",
          "Valenciana, Comunidad / Valenciana, Comunitat",
          "Andalucía",
          "Aragón",
          "Asturias, Principado de",
          "Canarias",
          "Cantabria",
          "Castilla y León",
          "Castilla-La Mancha",
          "Catalunya",
          "Ceuta",
          "España",
          "Extremadura",
          "Galicia",
          "Illes Balears",
          "La Rioja",
          "Madrid, Comunidad de",
          "Melilla",
          "Murcia, Región de",
          "Navarra, Comunidad Foral de / Nafarroako Foru Komunitatea",
          "País Vasco / Euskal Herria",
          "Valenciana, Comunidad / Valenciana, Comunitat",
          "Andalucía",
          "Aragón",
          "Asturias, Principado de",
          "Canarias",
          "Cantabria",
          "Castilla y León",
          "Castilla-La Mancha",
          "Catalunya",
          "Ceuta",
          "España",
          "Extremadura",
          "Galicia",
          "Illes Balears",
          "La Rioja",
          "Madrid, Comunidad de",
          "Melilla",
          "Murcia, Región de",
          "Navarra, Comunidad Foral de / Nafarroako Foru Komunitatea",
          "País Vasco / Euskal Herria",
          "Valenciana, Comunidad / Valenciana, Comunitat",
          "Andalucía",
          "Aragón",
          "Asturias, Principado de",
          "Canarias",
          "Cantabria",
          "Castilla y León",
          "Castilla-La Mancha",
          "Catalunya",
          "Ceuta",
          "España",
          "Extremadura",
          "Galicia",
          "Illes Balears",
          "La Rioja",
          "Madrid, Comunidad de",
          "Melilla",
          "Murcia, Región de",
          "Navarra, Comunidad Foral de / Nafarroako Foru Komunitatea",
          "País Vasco / Euskal Herria",
          "Valenciana, Comunidad / Valenciana, Comunitat",
          "Andalucía",
          "Aragón",
          "Asturias, Principado de",
          "Canarias",
          "Cantabria",
          "Castilla y León",
          "Castilla-La Mancha",
          "Catalunya",
          "Ceuta",
          "España",
          "Extremadura",
          "Galicia",
          "Illes Balears",
          "La Rioja",
          "Madrid, Comunidad de",
          "Melilla",
          "Murcia, Región de",
          "Navarra, Comunidad Foral de / Nafarroako Foru Komunitatea",
          "País Vasco / Euskal Herria",
          "Valenciana, Comunidad / Valenciana, Comunitat",
          "Andalucía",
          "Aragón",
          "Asturias, Principado de",
          "Canarias",
          "Cantabria",
          "Castilla y León",
          "Castilla-La Mancha",
          "Catalunya",
          "Ceuta",
          "España",
          "Extremadura",
          "Galicia",
          "Illes Balears",
          "La Rioja",
          "Madrid, Comunidad de",
          "Melilla",
          "Murcia, Región de",
          "Navarra, Comunidad Foral de / Nafarroako Foru Komunitatea",
          "País Vasco / Euskal Herria",
          "Valenciana, Comunidad / Valenciana, Comunitat",
          "Andalucía",
          "Aragón",
          "Asturias, Principado de",
          "Canarias",
          "Cantabria",
          "Castilla y León",
          "Castilla-La Mancha",
          "Catalunya",
          "Ceuta",
          "España",
          "Extremadura",
          "Galicia",
          "Illes Balears",
          "La Rioja",
          "Madrid, Comunidad de",
          "Melilla",
          "Murcia, Región de",
          "Navarra, Comunidad Foral de / Nafarroako Foru Komunitatea",
          "País Vasco / Euskal Herria",
          "Valenciana, Comunidad / Valenciana, Comunitat",
          "Andalucía",
          "Aragón",
          "Asturias, Principado de",
          "Canarias",
          "Cantabria",
          "Castilla y León",
          "Castilla-La Mancha",
          "Catalunya",
          "Ceuta",
          "España",
          "Extremadura",
          "Galicia",
          "Illes Balears",
          "La Rioja",
          "Madrid, Comunidad de",
          "Melilla",
          "Murcia, Región de",
          "Navarra, Comunidad Foral de / Nafarroako Foru Komunitatea",
          "País Vasco / Euskal Herria",
          "Valenciana, Comunidad / Valenciana, Comunitat",
          "Andalucía",
          "Aragón",
          "Asturias, Principado de",
          "Canarias",
          "Cantabria",
          "Castilla y León",
          "Castilla-La Mancha",
          "Catalunya",
          "Ceuta",
          "España",
          "Extremadura",
          "Galicia",
          "Illes Balears",
          "La Rioja",
          "Madrid, Comunidad de",
          "Melilla",
          "Murcia, Región de",
          "Navarra, Comunidad Foral de / Nafarroako Foru Komunitatea",
          "País Vasco / Euskal Herria",
          "Valenciana, Comunidad / Valenciana, Comunitat",
          "Andalucía",
          "Aragón",
          "Asturias, Principado de",
          "Canarias",
          "Cantabria",
          "Castilla y León",
          "Castilla-La Mancha",
          "Catalunya",
          "Ceuta",
          "España",
          "Extremadura",
          "Galicia",
          "Illes Balears",
          "La Rioja",
          "Madrid, Comunidad de",
          "Melilla",
          "Murcia, Región de",
          "Navarra, Comunidad Foral de / Nafarroako Foru Komunitatea",
          "País Vasco / Euskal Herria",
          "Valenciana, Comunidad / Valenciana, Comunitat",
          "Andalucía",
          "Aragón",
          "Asturias, Principado de",
          "Canarias",
          "Cantabria",
          "Castilla y León",
          "Castilla-La Mancha",
          "Catalunya",
          "Ceuta",
          "España",
          "Extremadura",
          "Galicia",
          "Illes Balears",
          "La Rioja",
          "Madrid, Comunidad de",
          "Melilla",
          "Murcia, Región de",
          "Navarra, Comunidad Foral de / Nafarroako Foru Komunitatea",
          "País Vasco / Euskal Herria",
          "Valenciana, Comunidad / Valenciana, Comunitat",
          "Andalucía",
          "Aragón",
          "Asturias, Principado de",
          "Canarias",
          "Cantabria",
          "Castilla y León",
          "Castilla-La Mancha",
          "Catalunya",
          "Ceuta",
          "España",
          "Extremadura",
          "Galicia",
          "Illes Balears",
          "La Rioja",
          "Madrid, Comunidad de",
          "Melilla",
          "Murcia, Región de",
          "Navarra, Comunidad Foral de / Nafarroako Foru Komunitatea",
          "País Vasco / Euskal Herria",
          "Valenciana, Comunidad / Valenciana, Comunitat",
          "Andalucía",
          "Aragón",
          "Asturias, Principado de",
          "Canarias",
          "Cantabria",
          "Castilla y León",
          "Castilla-La Mancha",
          "Catalunya",
          "Ceuta",
          "España",
          "Extremadura",
          "Galicia",
          "Illes Balears",
          "La Rioja",
          "Madrid, Comunidad de",
          "Melilla",
          "Murcia, Región de",
          "Navarra, Comunidad Foral de / Nafarroako Foru Komunitatea",
          "País Vasco / Euskal Herria",
          "Valenciana, Comunidad / Valenciana, Comunitat",
          "Andalucía",
          "Aragón",
          "Asturias, Principado de",
          "Canarias",
          "Cantabria",
          "Castilla y León",
          "Castilla-La Mancha",
          "Catalunya",
          "Ceuta",
          "España",
          "Extremadura",
          "Galicia",
          "Illes Balears",
          "La Rioja",
          "Madrid, Comunidad de",
          "Melilla",
          "Murcia, Región de",
          "Navarra, Comunidad Foral de / Nafarroako Foru Komunitatea",
          "País Vasco / Euskal Herria",
          "Valenciana, Comunidad / Valenciana, Comunitat",
          "Andalucía",
          "Aragón",
          "Asturias, Principado de",
          "Canarias",
          "Cantabria",
          "Castilla y León",
          "Castilla-La Mancha",
          "Catalunya",
          "Ceuta",
          "España",
          "Extremadura",
          "Galicia",
          "Illes Balears",
          "La Rioja",
          "Madrid, Comunidad de",
          "Melilla",
          "Murcia, Región de",
          "Navarra, Comunidad Foral de / Nafarroako Foru Komunitatea",
          "País Vasco / Euskal Herria",
          "Valenciana, Comunidad / Valenciana, Comunitat",
          "Andalucía",
          "Aragón",
          "Asturias, Principado de",
          "Canarias",
          "Cantabria",
          "Castilla y León",
          "Castilla-La Mancha",
          "Catalunya",
          "Ceuta",
          "España",
          "Extremadura",
          "Galicia",
          "Illes Balears",
          "La Rioja",
          "Madrid, Comunidad de",
          "Melilla",
          "Murcia, Región de",
          "Navarra, Comunidad Foral de / Nafarroako Foru Komunitatea",
          "País Vasco / Euskal Herria",
          "Valenciana, Comunidad / Valenciana, Comunitat",
          "Andalucía",
          "Aragón",
          "Asturias, Principado de",
          "Canarias",
          "Cantabria",
          "Castilla y León",
          "Castilla-La Mancha",
          "Catalunya",
          "Ceuta",
          "España",
          "Extremadura",
          "Galicia",
          "Illes Balears",
          "La Rioja",
          "Madrid, Comunidad de",
          "Melilla",
          "Murcia, Región de",
          "Navarra, Comunidad Foral de / Nafarroako Foru Komunitatea",
          "País Vasco / Euskal Herria",
          "Valenciana, Comunidad / Valenciana, Comunitat",
          "Andalucía",
          "Aragón",
          "Asturias, Principado de",
          "Canarias",
          "Cantabria",
          "Castilla y León",
          "Castilla-La Mancha",
          "Catalunya",
          "Ceuta",
          "España",
          "Extremadura",
          "Galicia",
          "Illes Balears",
          "La Rioja",
          "Madrid, Comunidad de",
          "Melilla",
          "Murcia, Región de",
          "Navarra, Comunidad Foral de / Nafarroako Foru Komunitatea",
          "País Vasco / Euskal Herria",
          "Valenciana, Comunidad / Valenciana, Comunitat",
          "Andalucía",
          "Aragón",
          "Asturias, Principado de",
          "Canarias",
          "Cantabria",
          "Castilla y León",
          "Castilla-La Mancha",
          "Catalunya",
          "Ceuta",
          "España",
          "Extremadura",
          "Galicia",
          "Illes Balears",
          "La Rioja",
          "Madrid, Comunidad de",
          "Melilla",
          "Murcia, Región de",
          "Navarra, Comunidad Foral de / Nafarroako Foru Komunitatea",
          "País Vasco / Euskal Herria",
          "Valenciana, Comunidad / Valenciana, Comunitat",
          "Andalucía",
          "Aragón",
          "Asturias, Principado de",
          "Canarias",
          "Cantabria",
          "Castilla y León",
          "Castilla-La Mancha",
          "Catalunya",
          "Ceuta",
          "España",
          "Extremadura",
          "Galicia",
          "Illes Balears",
          "La Rioja",
          "Madrid, Comunidad de",
          "Melilla",
          "Murcia, Región de",
          "Navarra, Comunidad Foral de / Nafarroako Foru Komunitatea",
          "País Vasco / Euskal Herria",
          "Valenciana, Comunidad / Valenciana, Comunitat",
          "Andalucía",
          "Aragón",
          "Asturias, Principado de",
          "Canarias",
          "Cantabria",
          "Castilla y León",
          "Castilla-La Mancha",
          "Catalunya",
          "Ceuta",
          "España",
          "Extremadura",
          "Galicia",
          "Illes Balears",
          "La Rioja",
          "Madrid, Comunidad de",
          "Melilla",
          "Murcia, Región de",
          "Navarra, Comunidad Foral de / Nafarroako Foru Komunitatea",
          "País Vasco / Euskal Herria",
          "Valenciana, Comunidad / Valenciana, Comunitat",
          "Andalucía",
          "Aragón",
          "Asturias, Principado de",
          "Canarias",
          "Cantabria",
          "Castilla y León",
          "Castilla-La Mancha",
          "Catalunya",
          "Ceuta",
          "España",
          "Extremadura",
          "Galicia",
          "Illes Balears",
          "La Rioja",
          "Madrid, Comunidad de",
          "Melilla",
          "Murcia, Región de",
          "Navarra, Comunidad Foral de / Nafarroako Foru Komunitatea",
          "País Vasco / Euskal Herria",
          "Valenciana, Comunidad / Valenciana, Comunitat",
          "Andalucía",
          "Aragón",
          "Asturias, Principado de",
          "Canarias",
          "Cantabria",
          "Castilla y León",
          "Castilla-La Mancha",
          "Catalunya",
          "Ceuta",
          "España",
          "Extremadura",
          "Galicia",
          "Illes Balears",
          "La Rioja",
          "Madrid, Comunidad de",
          "Melilla",
          "Murcia, Región de",
          "Navarra, Comunidad Foral de / Nafarroako Foru Komunitatea",
          "País Vasco / Euskal Herria",
          "Valenciana, Comunidad / Valenciana, Comunitat",
          "Andalucía",
          "Aragón",
          "Asturias, Principado de",
          "Canarias",
          "Cantabria",
          "Castilla y León",
          "Castilla-La Mancha",
          "Catalunya",
          "Ceuta",
          "España",
          "Extremadura",
          "Galicia",
          "Illes Balears",
          "La Rioja",
          "Madrid, Comunidad de",
          "Melilla",
          "Murcia, Región de",
          "Navarra, Comunidad Foral de / Nafarroako Foru Komunitatea",
          "País Vasco / Euskal Herria",
          "Valenciana, Comunidad / Valenciana, Comunitat",
          "Andalucía",
          "Aragón",
          "Asturias, Principado de",
          "Canarias",
          "Cantabria",
          "Castilla y León",
          "Castilla-La Mancha",
          "Catalunya",
          "Ceuta",
          "España",
          "Extremadura",
          "Galicia",
          "Illes Balears",
          "La Rioja",
          "Madrid, Comunidad de",
          "Melilla",
          "Murcia, Región de",
          "Navarra, Comunidad Foral de / Nafarroako Foru Komunitatea",
          "País Vasco / Euskal Herria",
          "Valenciana, Comunidad / Valenciana, Comunitat",
          "Andalucía",
          "Aragón",
          "Asturias, Principado de",
          "Canarias",
          "Cantabria",
          "Castilla y León",
          "Castilla-La Mancha",
          "Catalunya",
          "Ceuta",
          "España",
          "Extremadura",
          "Galicia",
          "Illes Balears",
          "La Rioja",
          "Madrid, Comunidad de",
          "Melilla",
          "Murcia, Región de",
          "Navarra, Comunidad Foral de / Nafarroako Foru Komunitatea",
          "País Vasco / Euskal Herria",
          "Valenciana, Comunidad / Valenciana, Comunitat",
          "Andalucía",
          "Aragón",
          "Asturias, Principado de",
          "Canarias",
          "Cantabria",
          "Castilla y León",
          "Castilla-La Mancha",
          "Catalunya",
          "Ceuta",
          "España",
          "Extremadura",
          "Galicia",
          "Illes Balears",
          "La Rioja",
          "Madrid, Comunidad de",
          "Melilla",
          "Murcia, Región de",
          "Navarra, Comunidad Foral de / Nafarroako Foru Komunitatea",
          "País Vasco / Euskal Herria",
          "Valenciana, Comunidad / Valenciana, Comunitat",
          "Andalucía",
          "Aragón",
          "Asturias, Principado de",
          "Canarias",
          "Cantabria",
          "Castilla y León",
          "Castilla-La Mancha",
          "Catalunya",
          "Ceuta",
          "España",
          "Extremadura",
          "Galicia",
          "Illes Balears",
          "La Rioja",
          "Madrid, Comunidad de",
          "Melilla",
          "Murcia, Región de",
          "Navarra, Comunidad Foral de / Nafarroako Foru Komunitatea",
          "País Vasco / Euskal Herria",
          "Valenciana, Comunidad / Valenciana, Comunitat",
          "Andalucía",
          "Aragón",
          "Asturias, Principado de",
          "Canarias",
          "Cantabria",
          "Castilla y León",
          "Castilla-La Mancha",
          "Catalunya",
          "Ceuta",
          "España",
          "Extremadura",
          "Galicia",
          "Illes Balears",
          "La Rioja",
          "Madrid, Comunidad de",
          "Melilla",
          "Murcia, Región de",
          "Navarra, Comunidad Foral de / Nafarroako Foru Komunitatea",
          "País Vasco / Euskal Herria",
          "Valenciana, Comunidad / Valenciana, Comunitat",
          "Andalucía",
          "Aragón",
          "Asturias, Principado de",
          "Canarias",
          "Cantabria",
          "Castilla y León",
          "Castilla-La Mancha",
          "Catalunya",
          "Ceuta",
          "España",
          "Extremadura",
          "Galicia",
          "Illes Balears",
          "La Rioja",
          "Madrid, Comunidad de",
          "Melilla",
          "Murcia, Región de",
          "Navarra, Comunidad Foral de / Nafarroako Foru Komunitatea",
          "País Vasco / Euskal Herria",
          "Valenciana, Comunidad / Valenciana, Comunitat",
          "Andalucía",
          "Aragón",
          "Asturias, Principado de",
          "Canarias",
          "Cantabria",
          "Castilla y León",
          "Castilla-La Mancha",
          "Catalunya",
          "Ceuta",
          "España",
          "Extremadura",
          "Galicia",
          "Illes Balears",
          "La Rioja",
          "Madrid, Comunidad de",
          "Melilla",
          "Murcia, Región de",
          "Navarra, Comunidad Foral de / Nafarroako Foru Komunitatea",
          "País Vasco / Euskal Herria",
          "Valenciana, Comunidad / Valenciana, Comunitat",
          "Andalucía",
          "Aragón",
          "Asturias, Principado de",
          "Canarias",
          "Cantabria",
          "Castilla y León",
          "Castilla-La Mancha",
          "Catalunya",
          "Ceuta",
          "España",
          "Extremadura",
          "Galicia",
          "Illes Balears",
          "La Rioja",
          "Madrid, Comunidad de",
          "Melilla",
          "Murcia, Región de",
          "Navarra, Comunidad Foral de / Nafarroako Foru Komunitatea",
          "País Vasco / Euskal Herria",
          "Valenciana, Comunidad / Valenciana, Comunitat",
          "Andalucía",
          "Aragón",
          "Asturias, Principado de",
          "Canarias",
          "Cantabria",
          "Castilla y León",
          "Castilla-La Mancha",
          "Catalunya",
          "Ceuta",
          "España",
          "Extremadura",
          "Galicia",
          "Illes Balears",
          "La Rioja",
          "Madrid, Comunidad de",
          "Melilla",
          "Murcia, Región de",
          "Navarra, Comunidad Foral de / Nafarroako Foru Komunitatea",
          "País Vasco / Euskal Herria",
          "Valenciana, Comunidad / Valenciana, Comunitat",
          "Andalucía",
          "Aragón",
          "Asturias, Principado de",
          "Canarias",
          "Cantabria",
          "Castilla y León",
          "Castilla-La Mancha",
          "Catalunya",
          "Ceuta",
          "España",
          "Extremadura",
          "Galicia",
          "Illes Balears",
          "La Rioja",
          "Madrid, Comunidad de",
          "Melilla",
          "Murcia, Región de",
          "Navarra, Comunidad Foral de / Nafarroako Foru Komunitatea",
          "País Vasco / Euskal Herria",
          "Valenciana, Comunidad / Valenciana, Comunitat",
          "Andalucía",
          "Aragón",
          "Asturias, Principado de",
          "Canarias",
          "Cantabria",
          "Castilla y León",
          "Castilla-La Mancha",
          "Catalunya",
          "Ceuta",
          "España",
          "Extremadura",
          "Galicia",
          "Illes Balears",
          "La Rioja",
          "Madrid, Comunidad de",
          "Melilla",
          "Murcia, Región de",
          "Navarra, Comunidad Foral de / Nafarroako Foru Komunitatea",
          "País Vasco / Euskal Herria",
          "Valenciana, Comunidad / Valenciana, Comunitat",
          "Andalucía",
          "Aragón",
          "Asturias, Principado de",
          "Canarias",
          "Cantabria",
          "Castilla y León",
          "Castilla-La Mancha",
          "Catalunya",
          "Ceuta",
          "España",
          "Extremadura",
          "Galicia",
          "Illes Balears",
          "La Rioja",
          "Madrid, Comunidad de",
          "Melilla",
          "Murcia, Región de",
          "Navarra, Comunidad Foral de / Nafarroako Foru Komunitatea",
          "País Vasco / Euskal Herria",
          "Valenciana, Comunidad / Valenciana, Comunitat",
          "Andalucía",
          "Aragón",
          "Asturias, Principado de",
          "Canarias",
          "Cantabria",
          "Castilla y León",
          "Castilla-La Mancha",
          "Catalunya",
          "Ceuta",
          "España",
          "Extremadura",
          "Galicia",
          "Illes Balears",
          "La Rioja",
          "Madrid, Comunidad de",
          "Melilla",
          "Murcia, Región de",
          "Navarra, Comunidad Foral de / Nafarroako Foru Komunitatea",
          "País Vasco / Euskal Herria",
          "Valenciana, Comunidad / Valenciana, Comunitat",
          "Andalucía",
          "Aragón",
          "Asturias, Principado de",
          "Canarias",
          "Cantabria",
          "Castilla y León",
          "Castilla-La Mancha",
          "Catalunya",
          "Ceuta",
          "España",
          "Extremadura",
          "Galicia",
          "Illes Balears",
          "La Rioja",
          "Madrid, Comunidad de",
          "Melilla",
          "Murcia, Región de",
          "Navarra, Comunidad Foral de / Nafarroako Foru Komunitatea",
          "País Vasco / Euskal Herria",
          "Valenciana, Comunidad / Valenciana, Comunitat",
          "Andalucía",
          "Aragón",
          "Asturias, Principado de",
          "Canarias",
          "Cantabria",
          "Castilla y León",
          "Castilla-La Mancha",
          "Catalunya",
          "Ceuta",
          "España",
          "Extremadura",
          "Galicia",
          "Illes Balears",
          "La Rioja",
          "Madrid, Comunidad de",
          "Melilla",
          "Murcia, Región de",
          "Navarra, Comunidad Foral de / Nafarroako Foru Komunitatea",
          "País Vasco / Euskal Herria",
          "Valenciana, Comunidad / Valenciana, Comunitat",
          "Andalucía",
          "Aragón",
          "Asturias, Principado de",
          "Canarias",
          "Cantabria",
          "Castilla y León",
          "Castilla-La Mancha",
          "Catalunya",
          "Ceuta",
          "España",
          "Extremadura",
          "Galicia",
          "Illes Balears",
          "La Rioja",
          "Madrid, Comunidad de",
          "Melilla",
          "Murcia, Región de",
          "Navarra, Comunidad Foral de / Nafarroako Foru Komunitatea",
          "País Vasco / Euskal Herria",
          "Valenciana, Comunidad / Valenciana, Comunitat",
          "Andalucía",
          "Aragón",
          "Asturias, Principado de",
          "Canarias",
          "Cantabria",
          "Castilla y León",
          "Castilla-La Mancha",
          "Catalunya",
          "Ceuta",
          "España",
          "Extremadura",
          "Galicia",
          "Illes Balears",
          "La Rioja",
          "Madrid, Comunidad de",
          "Melilla",
          "Murcia, Región de",
          "Navarra, Comunidad Foral de / Nafarroako Foru Komunitatea",
          "País Vasco / Euskal Herria",
          "Valenciana, Comunidad / Valenciana, Comunitat",
          "Andalucía",
          "Aragón",
          "Asturias, Principado de",
          "Canarias",
          "Cantabria",
          "Castilla y León",
          "Castilla-La Mancha",
          "Catalunya",
          "Ceuta",
          "España",
          "Extremadura",
          "Galicia",
          "Illes Balears",
          "La Rioja",
          "Madrid, Comunidad de",
          "Melilla",
          "Murcia, Región de",
          "Navarra, Comunidad Foral de / Nafarroako Foru Komunitatea",
          "País Vasco / Euskal Herria",
          "Valenciana, Comunidad / Valenciana, Comunitat",
          "Andalucía",
          "Aragón",
          "Asturias, Principado de",
          "Canarias",
          "Cantabria",
          "Castilla y León",
          "Castilla-La Mancha",
          "Catalunya",
          "Ceuta",
          "España",
          "Extremadura",
          "Galicia",
          "Illes Balears",
          "La Rioja",
          "Madrid, Comunidad de",
          "Melilla",
          "Murcia, Región de",
          "Navarra, Comunidad Foral de / Nafarroako Foru Komunitatea",
          "País Vasco / Euskal Herria",
          "Valenciana, Comunidad / Valenciana, Comunitat",
          "Andalucía",
          "Aragón",
          "Asturias, Principado de",
          "Canarias",
          "Cantabria",
          "Castilla y León",
          "Castilla-La Mancha",
          "Catalunya",
          "Ceuta",
          "España",
          "Extremadura",
          "Galicia",
          "Illes Balears",
          "La Rioja",
          "Madrid, Comunidad de",
          "Melilla",
          "Murcia, Región de",
          "Navarra, Comunidad Foral de / Nafarroako Foru Komunitatea",
          "País Vasco / Euskal Herria",
          "Valenciana, Comunidad / Valenciana, Comunitat",
          "Andalucía",
          "Aragón",
          "Asturias, Principado de",
          "Canarias",
          "Cantabria",
          "Castilla y León",
          "Castilla-La Mancha",
          "Catalunya",
          "Ceuta",
          "España",
          "Extremadura",
          "Galicia",
          "Illes Balears",
          "La Rioja",
          "Madrid, Comunidad de",
          "Melilla",
          "Murcia, Región de",
          "Navarra, Comunidad Foral de / Nafarroako Foru Komunitatea",
          "País Vasco / Euskal Herria",
          "Valenciana, Comunidad / Valenciana, Comunitat",
          "Andalucía",
          "Aragón",
          "Asturias, Principado de",
          "Canarias",
          "Cantabria",
          "Castilla y León",
          "Castilla-La Mancha",
          "Catalunya",
          "Ceuta",
          "España",
          "Extremadura",
          "Galicia",
          "Illes Balears",
          "La Rioja",
          "Madrid, Comunidad de",
          "Melilla",
          "Murcia, Región de",
          "Navarra, Comunidad Foral de / Nafarroako Foru Komunitatea",
          "País Vasco / Euskal Herria",
          "Valenciana, Comunidad / Valenciana, Comunitat",
          "Andalucía",
          "Aragón",
          "Asturias, Principado de",
          "Canarias",
          "Cantabria",
          "Castilla y León",
          "Castilla-La Mancha",
          "Catalunya",
          "Ceuta",
          "España",
          "Extremadura",
          "Galicia",
          "Illes Balears",
          "La Rioja",
          "Madrid, Comunidad de",
          "Melilla",
          "Murcia, Región de",
          "Navarra, Comunidad Foral de / Nafarroako Foru Komunitatea",
          "País Vasco / Euskal Herria",
          "Valenciana, Comunidad / Valenciana, Comunitat",
          "Andalucía",
          "Aragón",
          "Asturias, Principado de",
          "Canarias",
          "Cantabria",
          "Castilla y León",
          "Castilla-La Mancha",
          "Catalunya",
          "Ceuta",
          "España",
          "Extremadura",
          "Galicia",
          "Illes Balears",
          "La Rioja",
          "Madrid, Comunidad de",
          "Melilla",
          "Murcia, Región de",
          "Navarra, Comunidad Foral de / Nafarroako Foru Komunitatea",
          "País Vasco / Euskal Herria",
          "Valenciana, Comunidad / Valenciana, Comunitat",
          "Andalucía",
          "Aragón",
          "Asturias, Principado de",
          "Canarias",
          "Cantabria",
          "Castilla y León",
          "Castilla-La Mancha",
          "Catalunya",
          "Ceuta",
          "España",
          "Extremadura",
          "Galicia",
          "Illes Balears",
          "La Rioja",
          "Madrid, Comunidad de",
          "Melilla",
          "Murcia, Región de",
          "Navarra, Comunidad Foral de / Nafarroako Foru Komunitatea",
          "País Vasco / Euskal Herria",
          "Valenciana, Comunidad / Valenciana, Comunitat",
          "Andalucía",
          "Aragón",
          "Asturias, Principado de",
          "Canarias",
          "Cantabria",
          "Castilla y León",
          "Castilla-La Mancha",
          "Catalunya",
          "Ceuta",
          "España",
          "Extremadura",
          "Galicia",
          "Illes Balears",
          "La Rioja",
          "Madrid, Comunidad de",
          "Melilla",
          "Murcia, Región de",
          "Navarra, Comunidad Foral de / Nafarroako Foru Komunitatea",
          "País Vasco / Euskal Herria",
          "Valenciana, Comunidad / Valenciana, Comunitat",
          "Andalucía",
          "Aragón",
          "Asturias, Principado de",
          "Canarias",
          "Cantabria",
          "Castilla y León",
          "Castilla-La Mancha",
          "Catalunya",
          "Ceuta",
          "España",
          "Extremadura",
          "Galicia",
          "Illes Balears",
          "La Rioja",
          "Madrid, Comunidad de",
          "Melilla",
          "Murcia, Región de",
          "Navarra, Comunidad Foral de / Nafarroako Foru Komunitatea",
          "País Vasco / Euskal Herria",
          "Valenciana, Comunidad / Valenciana, Comunitat",
          "Andalucía",
          "Aragón",
          "Asturias, Principado de",
          "Canarias",
          "Cantabria",
          "Castilla y León",
          "Castilla-La Mancha",
          "Catalunya",
          "Ceuta",
          "España",
          "Extremadura",
          "Galicia",
          "Illes Balears",
          "La Rioja",
          "Madrid, Comunidad de",
          "Melilla",
          "Murcia, Región de",
          "Navarra, Comunidad Foral de / Nafarroako Foru Komunitatea",
          "País Vasco / Euskal Herria",
          "Valenciana, Comunidad / Valenciana, Comunitat",
          "Andalucía",
          "Aragón",
          "Asturias, Principado de",
          "Canarias",
          "Cantabria",
          "Castilla y León",
          "Castilla-La Mancha",
          "Catalunya",
          "Ceuta",
          "España",
          "Extremadura",
          "Galicia",
          "Illes Balears",
          "La Rioja",
          "Madrid, Comunidad de",
          "Melilla",
          "Murcia, Región de",
          "Navarra, Comunidad Foral de / Nafarroako Foru Komunitatea",
          "País Vasco / Euskal Herria",
          "Valenciana, Comunidad / Valenciana, Comunitat",
          "Andalucía",
          "Aragón",
          "Asturias, Principado de",
          "Canarias",
          "Cantabria",
          "Castilla y León",
          "Castilla-La Mancha",
          "Catalunya",
          "Ceuta",
          "España",
          "Extremadura",
          "Galicia",
          "Illes Balears",
          "La Rioja",
          "Madrid, Comunidad de",
          "Melilla",
          "Murcia, Región de",
          "Navarra, Comunidad Foral de / Nafarroako Foru Komunitatea",
          "País Vasco / Euskal Herria",
          "Valenciana, Comunidad / Valenciana, Comunitat",
          "Andalucía",
          "Aragón",
          "Asturias, Principado de",
          "Canarias",
          "Cantabria",
          "Castilla y León",
          "Castilla-La Mancha",
          "Catalunya",
          "Ceuta",
          "España",
          "Extremadura",
          "Galicia",
          "Illes Balears",
          "La Rioja",
          "Madrid, Comunidad de",
          "Melilla",
          "Murcia, Región de",
          "Navarra, Comunidad Foral de / Nafarroako Foru Komunitatea",
          "País Vasco / Euskal Herria",
          "Valenciana, Comunidad / Valenciana, Comunitat",
          "Andalucía",
          "Aragón",
          "Asturias, Principado de",
          "Canarias",
          "Cantabria",
          "Castilla y León",
          "Castilla-La Mancha",
          "Catalunya",
          "Ceuta",
          "España",
          "Extremadura",
          "Galicia",
          "Illes Balears",
          "La Rioja",
          "Madrid, Comunidad de",
          "Melilla",
          "Murcia, Región de",
          "Navarra, Comunidad Foral de / Nafarroako Foru Komunitatea",
          "País Vasco / Euskal Herria",
          "Valenciana, Comunidad / Valenciana, Comunitat",
          "Andalucía",
          "Aragón",
          "Asturias, Principado de",
          "Canarias",
          "Cantabria",
          "Castilla y León",
          "Castilla-La Mancha",
          "Catalunya",
          "Ceuta",
          "España",
          "Extremadura",
          "Galicia",
          "Illes Balears",
          "La Rioja",
          "Madrid, Comunidad de",
          "Melilla",
          "Murcia, Región de",
          "Navarra, Comunidad Foral de / Nafarroako Foru Komunitatea",
          "País Vasco / Euskal Herria",
          "Valenciana, Comunidad / Valenciana, Comunitat",
          "Andalucía",
          "Aragón",
          "Asturias, Principado de",
          "Canarias",
          "Cantabria",
          "Castilla y León",
          "Castilla-La Mancha",
          "Catalunya",
          "Ceuta",
          "España",
          "Extremadura",
          "Galicia",
          "Illes Balears",
          "La Rioja",
          "Madrid, Comunidad de",
          "Melilla",
          "Murcia, Región de",
          "Navarra, Comunidad Foral de / Nafarroako Foru Komunitatea",
          "País Vasco / Euskal Herria",
          "Valenciana, Comunidad / Valenciana, Comunitat",
          "Andalucía",
          "Aragón",
          "Asturias, Principado de",
          "Canarias",
          "Cantabria",
          "Castilla y León",
          "Castilla-La Mancha",
          "Catalunya",
          "Ceuta",
          "España",
          "Extremadura",
          "Galicia",
          "Illes Balears",
          "La Rioja",
          "Madrid, Comunidad de",
          "Melilla",
          "Murcia, Región de",
          "Navarra, Comunidad Foral de / Nafarroako Foru Komunitatea",
          "País Vasco / Euskal Herria",
          "Valenciana, Comunidad / Valenciana, Comunitat",
          "Andalucía",
          "Aragón",
          "Asturias, Principado de",
          "Canarias",
          "Cantabria",
          "Castilla y León",
          "Castilla-La Mancha",
          "Catalunya",
          "Ceuta",
          "España",
          "Extremadura",
          "Galicia",
          "Illes Balears",
          "La Rioja",
          "Madrid, Comunidad de",
          "Melilla",
          "Murcia, Región de",
          "Navarra, Comunidad Foral de / Nafarroako Foru Komunitatea",
          "País Vasco / Euskal Herria",
          "Valenciana, Comunidad / Valenciana, Comunitat",
          "Andalucía",
          "Aragón",
          "Asturias, Principado de",
          "Canarias",
          "Cantabria",
          "Castilla y León",
          "Castilla-La Mancha",
          "Catalunya",
          "Ceuta",
          "España",
          "Extremadura",
          "Galicia",
          "Illes Balears",
          "La Rioja",
          "Madrid, Comunidad de",
          "Melilla",
          "Murcia, Región de",
          "Navarra, Comunidad Foral de / Nafarroako Foru Komunitatea",
          "País Vasco / Euskal Herria",
          "Valenciana, Comunidad / Valenciana, Comunitat",
          "Andalucía",
          "Aragón",
          "Asturias, Principado de",
          "Canarias",
          "Cantabria",
          "Castilla y León",
          "Castilla-La Mancha",
          "Catalunya",
          "Ceuta",
          "España",
          "Extremadura",
          "Galicia",
          "Illes Balears",
          "La Rioja",
          "Madrid, Comunidad de",
          "Melilla",
          "Murcia, Región de",
          "Navarra, Comunidad Foral de / Nafarroako Foru Komunitatea",
          "País Vasco / Euskal Herria",
          "Valenciana, Comunidad / Valenciana, Comunitat",
          "Andalucía",
          "Aragón",
          "Asturias, Principado de",
          "Canarias",
          "Cantabria",
          "Castilla y León",
          "Castilla-La Mancha",
          "Catalunya",
          "Ceuta",
          "España",
          "Extremadura",
          "Galicia",
          "Illes Balears",
          "La Rioja",
          "Madrid, Comunidad de",
          "Melilla",
          "Murcia, Región de",
          "Navarra, Comunidad Foral de / Nafarroako Foru Komunitatea",
          "País Vasco / Euskal Herria",
          "Valenciana, Comunidad / Valenciana, Comunitat",
          "Andalucía",
          "Aragón",
          "Asturias, Principado de",
          "Canarias",
          "Cantabria",
          "Castilla y León",
          "Castilla-La Mancha",
          "Catalunya",
          "Ceuta",
          "España",
          "Extremadura",
          "Galicia",
          "Illes Balears",
          "La Rioja",
          "Madrid, Comunidad de",
          "Melilla",
          "Murcia, Región de",
          "Navarra, Comunidad Foral de / Nafarroako Foru Komunitatea",
          "País Vasco / Euskal Herria",
          "Valenciana, Comunidad / Valenciana, Comunitat",
          "Andalucía",
          "Aragón",
          "Asturias, Principado de",
          "Canarias",
          "Cantabria",
          "Castilla y León",
          "Castilla-La Mancha",
          "Catalunya",
          "Ceuta",
          "España",
          "Extremadura",
          "Galicia",
          "Illes Balears",
          "La Rioja",
          "Madrid, Comunidad de",
          "Melilla",
          "Murcia, Región de",
          "Navarra, Comunidad Foral de / Nafarroako Foru Komunitatea",
          "País Vasco / Euskal Herria",
          "Valenciana, Comunidad / Valenciana, Comunitat",
          "Andalucía",
          "Aragón",
          "Asturias, Principado de",
          "Canarias",
          "Cantabria",
          "Castilla y León",
          "Castilla-La Mancha",
          "Catalunya",
          "Ceuta",
          "España",
          "Extremadura",
          "Galicia",
          "Illes Balears",
          "La Rioja",
          "Madrid, Comunidad de",
          "Melilla",
          "Murcia, Región de",
          "Navarra, Comunidad Foral de / Nafarroako Foru Komunitatea",
          "País Vasco / Euskal Herria",
          "Valenciana, Comunidad / Valenciana, Comunitat",
          "Andalucía",
          "Aragón",
          "Asturias, Principado de",
          "Canarias",
          "Cantabria",
          "Castilla y León",
          "Castilla-La Mancha",
          "Catalunya",
          "Ceuta",
          "España",
          "Extremadura",
          "Galicia",
          "Illes Balears",
          "La Rioja",
          "Madrid, Comunidad de",
          "Melilla",
          "Murcia, Región de",
          "Navarra, Comunidad Foral de / Nafarroako Foru Komunitatea",
          "País Vasco / Euskal Herria",
          "Valenciana, Comunidad / Valenciana, Comunitat",
          "Andalucía",
          "Aragón",
          "Asturias, Principado de",
          "Canarias",
          "Cantabria",
          "Castilla y León",
          "Castilla-La Mancha",
          "Catalunya",
          "Ceuta",
          "España",
          "Extremadura",
          "Galicia",
          "Illes Balears",
          "La Rioja",
          "Madrid, Comunidad de",
          "Melilla",
          "Murcia, Región de",
          "Navarra, Comunidad Foral de / Nafarroako Foru Komunitatea",
          "País Vasco / Euskal Herria",
          "Valenciana, Comunidad / Valenciana, Comunitat",
          "Andalucía",
          "Aragón",
          "Asturias, Principado de",
          "Canarias",
          "Cantabria",
          "Castilla y León",
          "Castilla-La Mancha",
          "Catalunya",
          "Ceuta",
          "España",
          "Extremadura",
          "Galicia",
          "Illes Balears",
          "La Rioja",
          "Madrid, Comunidad de",
          "Melilla",
          "Murcia, Región de",
          "Navarra, Comunidad Foral de / Nafarroako Foru Komunitatea",
          "País Vasco / Euskal Herria",
          "Valenciana, Comunidad / Valenciana, Comunitat",
          "Andalucía",
          "Aragón",
          "Asturias, Principado de",
          "Canarias",
          "Cantabria",
          "Castilla y León",
          "Castilla-La Mancha",
          "Catalunya",
          "Ceuta",
          "España",
          "Extremadura",
          "Galicia",
          "Illes Balears",
          "La Rioja",
          "Madrid, Comunidad de",
          "Melilla",
          "Murcia, Región de",
          "Navarra, Comunidad Foral de / Nafarroako Foru Komunitatea",
          "País Vasco / Euskal Herria",
          "Valenciana, Comunidad / Valenciana, Comunitat",
          "Andalucía",
          "Aragón",
          "Asturias, Principado de",
          "Canarias",
          "Cantabria",
          "Castilla y León",
          "Castilla-La Mancha",
          "Catalunya",
          "Ceuta",
          "España",
          "Extremadura",
          "Galicia",
          "Illes Balears",
          "La Rioja",
          "Madrid, Comunidad de",
          "Melilla",
          "Murcia, Región de",
          "Navarra, Comunidad Foral de / Nafarroako Foru Komunitatea",
          "País Vasco / Euskal Herria",
          "Valenciana, Comunidad / Valenciana, Comunitat",
          "Andalucía",
          "Aragón",
          "Asturias, Principado de",
          "Canarias",
          "Cantabria",
          "Castilla y León",
          "Castilla-La Mancha",
          "Catalunya",
          "Ceuta",
          "España",
          "Extremadura",
          "Galicia",
          "Illes Balears",
          "La Rioja",
          "Madrid, Comunidad de",
          "Melilla",
          "Murcia, Región de",
          "Navarra, Comunidad Foral de / Nafarroako Foru Komunitatea",
          "País Vasco / Euskal Herria",
          "Valenciana, Comunidad / Valenciana, Comunitat",
          "Andalucía",
          "Aragón",
          "Asturias, Principado de",
          "Canarias",
          "Cantabria",
          "Castilla y León",
          "Castilla-La Mancha",
          "Catalunya",
          "Ceuta",
          "España",
          "Extremadura",
          "Galicia",
          "Illes Balears",
          "La Rioja",
          "Madrid, Comunidad de",
          "Melilla",
          "Murcia, Región de",
          "Navarra, Comunidad Foral de / Nafarroako Foru Komunitatea",
          "País Vasco / Euskal Herria",
          "Valenciana, Comunidad / Valenciana, Comunitat",
          "Andalucía",
          "Aragón",
          "Asturias, Principado de",
          "Canarias",
          "Cantabria",
          "Castilla y León",
          "Castilla-La Mancha",
          "Catalunya",
          "Ceuta",
          "España",
          "Extremadura",
          "Galicia",
          "Illes Balears",
          "La Rioja",
          "Madrid, Comunidad de",
          "Melilla",
          "Murcia, Región de",
          "Navarra, Comunidad Foral de / Nafarroako Foru Komunitatea",
          "País Vasco / Euskal Herria",
          "Valenciana, Comunidad / Valenciana, Comunitat",
          "Andalucía",
          "Aragón",
          "Asturias, Principado de",
          "Canarias",
          "Cantabria",
          "Castilla y León",
          "Castilla-La Mancha",
          "Catalunya",
          "Ceuta",
          "España",
          "Extremadura",
          "Galicia",
          "Illes Balears",
          "La Rioja",
          "Madrid, Comunidad de",
          "Melilla",
          "Murcia, Región de",
          "Navarra, Comunidad Foral de / Nafarroako Foru Komunitatea",
          "País Vasco / Euskal Herria",
          "Valenciana, Comunidad / Valenciana, Comunitat",
          "Andalucía",
          "Aragón",
          "Asturias, Principado de",
          "Canarias",
          "Cantabria",
          "Castilla y León",
          "Castilla-La Mancha",
          "Catalunya",
          "Ceuta",
          "España",
          "Extremadura",
          "Galicia",
          "Illes Balears",
          "La Rioja",
          "Madrid, Comunidad de",
          "Melilla",
          "Murcia, Región de",
          "Navarra, Comunidad Foral de / Nafarroako Foru Komunitatea",
          "País Vasco / Euskal Herria",
          "Valenciana, Comunidad / Valenciana, Comunitat",
          "Andalucía",
          "Aragón",
          "Asturias, Principado de",
          "Canarias",
          "Cantabria",
          "Castilla y León",
          "Castilla-La Mancha",
          "Catalunya",
          "Ceuta",
          "España",
          "Extremadura",
          "Galicia",
          "Illes Balears",
          "La Rioja",
          "Madrid, Comunidad de",
          "Melilla",
          "Murcia, Región de",
          "Navarra, Comunidad Foral de / Nafarroako Foru Komunitatea",
          "País Vasco / Euskal Herria",
          "Valenciana, Comunidad / Valenciana, Comunitat",
          "Andalucía",
          "Aragón",
          "Asturias, Principado de",
          "Canarias",
          "Cantabria",
          "Castilla y León",
          "Castilla-La Mancha",
          "Catalunya",
          "Ceuta",
          "España",
          "Extremadura",
          "Galicia",
          "Illes Balears",
          "La Rioja",
          "Madrid, Comunidad de",
          "Melilla",
          "Murcia, Región de",
          "Navarra, Comunidad Foral de / Nafarroako Foru Komunitatea",
          "País Vasco / Euskal Herria",
          "Valenciana, Comunidad / Valenciana, Comunitat",
          "Andalucía",
          "Aragón",
          "Asturias, Principado de",
          "Canarias",
          "Cantabria",
          "Castilla y León",
          "Castilla-La Mancha",
          "Catalunya",
          "Ceuta",
          "España",
          "Extremadura",
          "Galicia",
          "Illes Balears",
          "La Rioja",
          "Madrid, Comunidad de",
          "Melilla",
          "Murcia, Región de",
          "Navarra, Comunidad Foral de / Nafarroako Foru Komunitatea",
          "País Vasco / Euskal Herria",
          "Valenciana, Comunidad / Valenciana, Comunitat",
          "Andalucía",
          "Aragón",
          "Asturias, Principado de",
          "Canarias",
          "Cantabria",
          "Castilla y León",
          "Castilla-La Mancha",
          "Catalunya",
          "Ceuta",
          "España",
          "Extremadura",
          "Galicia",
          "Illes Balears",
          "La Rioja",
          "Madrid, Comunidad de",
          "Melilla",
          "Murcia, Región de",
          "Navarra, Comunidad Foral de / Nafarroako Foru Komunitatea",
          "País Vasco / Euskal Herria",
          "Valenciana, Comunidad / Valenciana, Comunitat",
          "Andalucía",
          "Aragón",
          "Asturias, Principado de",
          "Canarias",
          "Cantabria",
          "Castilla y León",
          "Castilla-La Mancha",
          "Catalunya",
          "Ceuta",
          "España",
          "Extremadura",
          "Galicia",
          "Illes Balears",
          "La Rioja",
          "Madrid, Comunidad de",
          "Melilla",
          "Murcia, Región de",
          "Navarra, Comunidad Foral de / Nafarroako Foru Komunitatea",
          "País Vasco / Euskal Herria",
          "Valenciana, Comunidad / Valenciana, Comunitat",
          "Andalucía",
          "Aragón",
          "Asturias, Principado de",
          "Canarias",
          "Cantabria",
          "Castilla y León",
          "Castilla-La Mancha",
          "Catalunya",
          "Ceuta",
          "España",
          "Extremadura",
          "Galicia",
          "Illes Balears",
          "La Rioja",
          "Madrid, Comunidad de",
          "Melilla",
          "Murcia, Región de",
          "Navarra, Comunidad Foral de / Nafarroako Foru Komunitatea",
          "País Vasco / Euskal Herria",
          "Valenciana, Comunidad / Valenciana, Comunitat",
          "Andalucía",
          "Aragón",
          "Asturias, Principado de",
          "Canarias",
          "Cantabria",
          "Castilla y León",
          "Castilla-La Mancha",
          "Catalunya",
          "Ceuta",
          "España",
          "Extremadura",
          "Galicia",
          "Illes Balears",
          "La Rioja",
          "Madrid, Comunidad de",
          "Melilla",
          "Murcia, Región de",
          "Navarra, Comunidad Foral de / Nafarroako Foru Komunitatea",
          "País Vasco / Euskal Herria",
          "Valenciana, Comunidad / Valenciana, Comunitat",
          "Andalucía",
          "Aragón",
          "Asturias, Principado de",
          "Canarias",
          "Cantabria",
          "Castilla y León",
          "Castilla-La Mancha",
          "Catalunya",
          "Ceuta",
          "España",
          "Extremadura",
          "Galicia",
          "Illes Balears",
          "La Rioja",
          "Madrid, Comunidad de",
          "Melilla",
          "Murcia, Región de",
          "Navarra, Comunidad Foral de / Nafarroako Foru Komunitatea",
          "País Vasco / Euskal Herria",
          "Valenciana, Comunidad / Valenciana, Comunitat",
          "Andalucía",
          "Aragón",
          "Asturias, Principado de",
          "Canarias",
          "Cantabria",
          "Castilla y León",
          "Castilla-La Mancha",
          "Catalunya",
          "Ceuta",
          "España",
          "Extremadura",
          "Galicia",
          "Illes Balears",
          "La Rioja",
          "Madrid, Comunidad de",
          "Melilla",
          "Murcia, Región de",
          "Navarra, Comunidad Foral de / Nafarroako Foru Komunitatea",
          "País Vasco / Euskal Herria",
          "Valenciana, Comunidad / Valenciana, Comunitat",
          "Andalucía",
          "Aragón",
          "Asturias, Principado de",
          "Canarias",
          "Cantabria",
          "Castilla y León",
          "Castilla-La Mancha",
          "Catalunya",
          "Ceuta",
          "España",
          "Extremadura",
          "Galicia",
          "Illes Balears",
          "La Rioja",
          "Madrid, Comunidad de",
          "Melilla",
          "Murcia, Región de",
          "Navarra, Comunidad Foral de / Nafarroako Foru Komunitatea",
          "País Vasco / Euskal Herria",
          "Valenciana, Comunidad / Valenciana, Comunitat",
          "Andalucía",
          "Aragón",
          "Asturias, Principado de",
          "Canarias",
          "Cantabria",
          "Castilla y León",
          "Castilla-La Mancha",
          "Catalunya",
          "Ceuta",
          "España",
          "Extremadura",
          "Galicia",
          "Illes Balears",
          "La Rioja",
          "Madrid, Comunidad de",
          "Melilla",
          "Murcia, Región de",
          "Navarra, Comunidad Foral de / Nafarroako Foru Komunitatea",
          "País Vasco / Euskal Herria",
          "Valenciana, Comunidad / Valenciana, Comunitat",
          "Andalucía",
          "Aragón",
          "Asturias, Principado de",
          "Canarias",
          "Cantabria",
          "Castilla y León",
          "Castilla-La Mancha",
          "Catalunya",
          "Ceuta",
          "España",
          "Extremadura",
          "Galicia",
          "Illes Balears",
          "La Rioja",
          "Madrid, Comunidad de",
          "Melilla",
          "Murcia, Región de",
          "Navarra, Comunidad Foral de / Nafarroako Foru Komunitatea",
          "País Vasco / Euskal Herria",
          "Valenciana, Comunidad / Valenciana, Comunitat",
          "Andalucía",
          "Aragón",
          "Asturias, Principado de",
          "Canarias",
          "Cantabria",
          "Castilla y León",
          "Castilla-La Mancha",
          "Catalunya",
          "Ceuta",
          "España",
          "Extremadura",
          "Galicia",
          "Illes Balears",
          "La Rioja",
          "Madrid, Comunidad de",
          "Melilla",
          "Murcia, Región de",
          "Navarra, Comunidad Foral de / Nafarroako Foru Komunitatea",
          "País Vasco / Euskal Herria",
          "Valenciana, Comunidad / Valenciana, Comunitat",
          "Andalucía",
          "Aragón",
          "Asturias, Principado de",
          "Canarias",
          "Cantabria",
          "Castilla y León",
          "Castilla-La Mancha",
          "Catalunya",
          "Ceuta",
          "España",
          "Extremadura",
          "Galicia",
          "Illes Balears",
          "La Rioja",
          "Madrid, Comunidad de",
          "Melilla",
          "Murcia, Región de",
          "Navarra, Comunidad Foral de / Nafarroako Foru Komunitatea",
          "País Vasco / Euskal Herria",
          "Valenciana, Comunidad / Valenciana, Comunitat",
          "Andalucía",
          "Aragón",
          "Asturias, Principado de",
          "Canarias",
          "Cantabria",
          "Castilla y León",
          "Castilla-La Mancha",
          "Catalunya",
          "Ceuta",
          "España",
          "Extremadura",
          "Galicia",
          "Illes Balears",
          "La Rioja",
          "Madrid, Comunidad de",
          "Melilla",
          "Murcia, Región de",
          "Navarra, Comunidad Foral de / Nafarroako Foru Komunitatea",
          "País Vasco / Euskal Herria",
          "Valenciana, Comunidad / Valenciana, Comunitat",
          "Andalucía",
          "Aragón",
          "Asturias, Principado de",
          "Canarias",
          "Cantabria",
          "Castilla y León",
          "Castilla-La Mancha",
          "Catalunya",
          "Ceuta",
          "España",
          "Extremadura",
          "Galicia",
          "Illes Balears",
          "La Rioja",
          "Madrid, Comunidad de",
          "Melilla",
          "Murcia, Región de",
          "Navarra, Comunidad Foral de / Nafarroako Foru Komunitatea",
          "País Vasco / Euskal Herria",
          "Valenciana, Comunidad / Valenciana, Comunitat",
          "Andalucía",
          "Aragón",
          "Asturias, Principado de",
          "Canarias",
          "Cantabria",
          "Castilla y León",
          "Castilla-La Mancha",
          "Catalunya",
          "Ceuta",
          "España",
          "Extremadura",
          "Galicia",
          "Illes Balears",
          "La Rioja",
          "Madrid, Comunidad de",
          "Melilla",
          "Murcia, Región de",
          "Navarra, Comunidad Foral de / Nafarroako Foru Komunitatea",
          "País Vasco / Euskal Herria",
          "Valenciana, Comunidad / Valenciana, Comunitat",
          "Andalucía",
          "Aragón",
          "Asturias, Principado de",
          "Canarias",
          "Cantabria",
          "Castilla y León",
          "Castilla-La Mancha",
          "Catalunya",
          "Ceuta",
          "España",
          "Extremadura",
          "Galicia",
          "Illes Balears",
          "La Rioja",
          "Madrid, Comunidad de",
          "Melilla",
          "Murcia, Región de",
          "Navarra, Comunidad Foral de / Nafarroako Foru Komunitatea",
          "País Vasco / Euskal Herria",
          "Valenciana, Comunidad / Valenciana, Comunitat",
          "Andalucía",
          "Aragón",
          "Asturias, Principado de",
          "Canarias",
          "Cantabria",
          "Castilla y León",
          "Castilla-La Mancha",
          "Catalunya",
          "Ceuta",
          "España",
          "Extremadura",
          "Galicia",
          "Illes Balears",
          "La Rioja",
          "Madrid, Comunidad de",
          "Melilla",
          "Murcia, Región de",
          "Navarra, Comunidad Foral de / Nafarroako Foru Komunitatea",
          "País Vasco / Euskal Herria",
          "Valenciana, Comunidad / Valenciana, Comunitat",
          "Andalucía",
          "Aragón",
          "Asturias, Principado de",
          "Canarias",
          "Cantabria",
          "Castilla y León",
          "Castilla-La Mancha",
          "Catalunya",
          "Ceuta",
          "España",
          "Extremadura",
          "Galicia",
          "Illes Balears",
          "La Rioja",
          "Madrid, Comunidad de",
          "Melilla",
          "Murcia, Región de",
          "Navarra, Comunidad Foral de / Nafarroako Foru Komunitatea",
          "País Vasco / Euskal Herria",
          "Valenciana, Comunidad / Valenciana, Comunitat",
          "Andalucía",
          "Aragón",
          "Asturias, Principado de",
          "Canarias",
          "Cantabria",
          "Castilla y León",
          "Castilla-La Mancha",
          "Catalunya",
          "Ceuta",
          "España",
          "Extremadura",
          "Galicia",
          "Illes Balears",
          "La Rioja",
          "Madrid, Comunidad de",
          "Melilla",
          "Murcia, Región de",
          "Navarra, Comunidad Foral de / Nafarroako Foru Komunitatea",
          "País Vasco / Euskal Herria",
          "Valenciana, Comunidad / Valenciana, Comunitat",
          "Andalucía",
          "Aragón",
          "Asturias, Principado de",
          "Canarias",
          "Cantabria",
          "Castilla y León",
          "Castilla-La Mancha",
          "Catalunya",
          "Ceuta",
          "España",
          "Extremadura",
          "Galicia",
          "Illes Balears",
          "La Rioja",
          "Madrid, Comunidad de",
          "Melilla",
          "Murcia, Región de",
          "Navarra, Comunidad Foral de / Nafarroako Foru Komunitatea",
          "País Vasco / Euskal Herria",
          "Valenciana, Comunidad / Valenciana, Comunitat",
          "Andalucía",
          "Aragón",
          "Asturias, Principado de",
          "Canarias",
          "Cantabria",
          "Castilla y León",
          "Castilla-La Mancha",
          "Catalunya",
          "Ceuta",
          "España",
          "Extremadura",
          "Galicia",
          "Illes Balears",
          "La Rioja",
          "Madrid, Comunidad de",
          "Melilla",
          "Murcia, Región de",
          "Navarra, Comunidad Foral de / Nafarroako Foru Komunitatea",
          "País Vasco / Euskal Herria",
          "Valenciana, Comunidad / Valenciana, Comunitat",
          "Andalucía",
          "Aragón",
          "Asturias, Principado de",
          "Canarias",
          "Cantabria",
          "Castilla y León",
          "Castilla-La Mancha",
          "Catalunya",
          "Ceuta",
          "España",
          "Extremadura",
          "Galicia",
          "Illes Balears",
          "La Rioja",
          "Madrid, Comunidad de",
          "Melilla",
          "Murcia, Región de",
          "Navarra, Comunidad Foral de / Nafarroako Foru Komunitatea",
          "País Vasco / Euskal Herria",
          "Valenciana, Comunidad / Valenciana, Comunitat",
          "Andalucía",
          "Aragón",
          "Asturias, Principado de",
          "Canarias",
          "Cantabria",
          "Castilla y León",
          "Castilla-La Mancha",
          "Catalunya",
          "Ceuta",
          "España",
          "Extremadura",
          "Galicia",
          "Illes Balears",
          "La Rioja",
          "Madrid, Comunidad de",
          "Melilla",
          "Murcia, Región de",
          "Navarra, Comunidad Foral de / Nafarroako Foru Komunitatea",
          "País Vasco / Euskal Herria",
          "Valenciana, Comunidad / Valenciana, Comunitat",
          "Andalucía",
          "Aragón",
          "Asturias, Principado de",
          "Canarias",
          "Cantabria",
          "Castilla y León",
          "Castilla-La Mancha",
          "Catalunya",
          "Ceuta",
          "España",
          "Extremadura",
          "Galicia",
          "Illes Balears",
          "La Rioja",
          "Madrid, Comunidad de",
          "Melilla",
          "Murcia, Región de",
          "Navarra, Comunidad Foral de / Nafarroako Foru Komunitatea",
          "País Vasco / Euskal Herria",
          "Valenciana, Comunidad / Valenciana, Comunitat",
          "Andalucía",
          "Aragón",
          "Asturias, Principado de",
          "Canarias",
          "Cantabria",
          "Castilla y León",
          "Castilla-La Mancha",
          "Catalunya",
          "Ceuta",
          "España",
          "Extremadura",
          "Galicia",
          "Illes Balears",
          "La Rioja",
          "Madrid, Comunidad de",
          "Melilla",
          "Murcia, Región de",
          "Navarra, Comunidad Foral de / Nafarroako Foru Komunitatea",
          "País Vasco / Euskal Herria",
          "Valenciana, Comunidad / Valenciana, Comunitat",
          "Andalucía",
          "Aragón",
          "Asturias, Principado de",
          "Canarias",
          "Cantabria",
          "Castilla y León",
          "Castilla-La Mancha",
          "Catalunya",
          "Ceuta",
          "España",
          "Extremadura",
          "Galicia",
          "Illes Balears",
          "La Rioja",
          "Madrid, Comunidad de",
          "Melilla",
          "Murcia, Región de",
          "Navarra, Comunidad Foral de / Nafarroako Foru Komunitatea",
          "País Vasco / Euskal Herria",
          "Valenciana, Comunidad / Valenciana, Comunitat",
          "Andalucía",
          "Aragón",
          "Asturias, Principado de",
          "Canarias",
          "Cantabria",
          "Castilla y León",
          "Castilla-La Mancha",
          "Catalunya",
          "Ceuta",
          "España",
          "Extremadura",
          "Galicia",
          "Illes Balears",
          "La Rioja",
          "Madrid, Comunidad de",
          "Melilla",
          "Murcia, Región de",
          "Navarra, Comunidad Foral de / Nafarroako Foru Komunitatea",
          "País Vasco / Euskal Herria",
          "Valenciana, Comunidad / Valenciana, Comunitat",
          "Andalucía",
          "Aragón",
          "Asturias, Principado de",
          "Canarias",
          "Cantabria",
          "Castilla y León",
          "Castilla-La Mancha",
          "Catalunya",
          "Ceuta",
          "España",
          "Extremadura",
          "Galicia",
          "Illes Balears",
          "La Rioja",
          "Madrid, Comunidad de",
          "Melilla",
          "Murcia, Región de",
          "Navarra, Comunidad Foral de / Nafarroako Foru Komunitatea",
          "País Vasco / Euskal Herria",
          "Valenciana, Comunidad / Valenciana, Comunitat",
          "Andalucía",
          "Aragón",
          "Asturias, Principado de",
          "Canarias",
          "Cantabria",
          "Castilla y León",
          "Castilla-La Mancha",
          "Catalunya",
          "Ceuta",
          "España",
          "Extremadura",
          "Galicia",
          "Illes Balears",
          "La Rioja",
          "Madrid, Comunidad de",
          "Melilla",
          "Murcia, Región de",
          "Navarra, Comunidad Foral de / Nafarroako Foru Komunitatea",
          "País Vasco / Euskal Herria",
          "Valenciana, Comunidad / Valenciana, Comunitat",
          "Andalucía",
          "Aragón",
          "Asturias, Principado de",
          "Canarias",
          "Cantabria",
          "Castilla y León",
          "Castilla-La Mancha",
          "Catalunya",
          "Ceuta",
          "España",
          "Extremadura",
          "Galicia",
          "Illes Balears",
          "La Rioja",
          "Madrid, Comunidad de",
          "Melilla",
          "Murcia, Región de",
          "Navarra, Comunidad Foral de / Nafarroako Foru Komunitatea",
          "País Vasco / Euskal Herria",
          "Valenciana, Comunidad / Valenciana, Comunitat",
          "Andalucía",
          "Aragón",
          "Asturias, Principado de",
          "Canarias",
          "Cantabria",
          "Castilla y León",
          "Castilla-La Mancha",
          "Catalunya",
          "Ceuta",
          "España",
          "Extremadura",
          "Galicia",
          "Illes Balears",
          "La Rioja",
          "Madrid, Comunidad de",
          "Melilla",
          "Murcia, Región de",
          "Navarra, Comunidad Foral de / Nafarroako Foru Komunitatea",
          "País Vasco / Euskal Herria",
          "Valenciana, Comunidad / Valenciana, Comunitat",
          "Andalucía",
          "Aragón",
          "Asturias, Principado de",
          "Canarias",
          "Cantabria",
          "Castilla y León",
          "Castilla-La Mancha",
          "Catalunya",
          "Ceuta",
          "España",
          "Extremadura",
          "Galicia",
          "Illes Balears",
          "La Rioja",
          "Madrid, Comunidad de",
          "Melilla",
          "Murcia, Región de",
          "Navarra, Comunidad Foral de / Nafarroako Foru Komunitatea",
          "País Vasco / Euskal Herria",
          "Valenciana, Comunidad / Valenciana, Comunitat",
          "Andalucía",
          "Aragón",
          "Asturias, Principado de",
          "Canarias",
          "Cantabria",
          "Castilla y León",
          "Castilla-La Mancha",
          "Catalunya",
          "Ceuta",
          "España",
          "Extremadura",
          "Galicia",
          "Illes Balears",
          "La Rioja",
          "Madrid, Comunidad de",
          "Melilla",
          "Murcia, Región de",
          "Navarra, Comunidad Foral de / Nafarroako Foru Komunitatea",
          "País Vasco / Euskal Herria",
          "Valenciana, Comunidad / Valenciana, Comunitat",
          "Andalucía",
          "Aragón",
          "Asturias, Principado de",
          "Canarias",
          "Cantabria",
          "Castilla y León",
          "Castilla-La Mancha",
          "Catalunya",
          "Ceuta",
          "España",
          "Extremadura",
          "Galicia",
          "Illes Balears",
          "La Rioja",
          "Madrid, Comunidad de",
          "Melilla",
          "Murcia, Región de",
          "Navarra, Comunidad Foral de / Nafarroako Foru Komunitatea",
          "País Vasco / Euskal Herria",
          "Valenciana, Comunidad / Valenciana, Comunitat",
          "Andalucía",
          "Aragón",
          "Asturias, Principado de",
          "Canarias",
          "Cantabria",
          "Castilla y León",
          "Castilla-La Mancha",
          "Catalunya",
          "Ceuta",
          "España",
          "Extremadura",
          "Galicia",
          "Illes Balears",
          "La Rioja",
          "Madrid, Comunidad de",
          "Melilla",
          "Murcia, Región de",
          "Navarra, Comunidad Foral de / Nafarroako Foru Komunitatea",
          "País Vasco / Euskal Herria",
          "Valenciana, Comunidad / Valenciana, Comunitat",
          "Andalucía",
          "Aragón",
          "Asturias, Principado de",
          "Canarias",
          "Cantabria",
          "Castilla y León",
          "Castilla-La Mancha",
          "Catalunya",
          "Ceuta",
          "España",
          "Extremadura",
          "Galicia",
          "Illes Balears",
          "La Rioja",
          "Madrid, Comunidad de",
          "Melilla",
          "Murcia, Región de",
          "Navarra, Comunidad Foral de / Nafarroako Foru Komunitatea",
          "País Vasco / Euskal Herria",
          "Valenciana, Comunidad / Valenciana, Comunitat",
          "Andalucía",
          "Aragón",
          "Asturias, Principado de",
          "Canarias",
          "Cantabria",
          "Castilla y León",
          "Castilla-La Mancha",
          "Catalunya",
          "Ceuta",
          "España",
          "Extremadura",
          "Galicia",
          "Illes Balears",
          "La Rioja",
          "Madrid, Comunidad de",
          "Melilla",
          "Murcia, Región de",
          "Navarra, Comunidad Foral de / Nafarroako Foru Komunitatea",
          "País Vasco / Euskal Herria",
          "Valenciana, Comunidad / Valenciana, Comunitat",
          "Andalucía",
          "Aragón",
          "Asturias, Principado de",
          "Canarias",
          "Cantabria",
          "Castilla y León",
          "Castilla-La Mancha",
          "Catalunya",
          "Ceuta",
          "España",
          "Extremadura",
          "Galicia",
          "Illes Balears",
          "La Rioja",
          "Madrid, Comunidad de",
          "Melilla",
          "Murcia, Región de",
          "Navarra, Comunidad Foral de / Nafarroako Foru Komunitatea",
          "País Vasco / Euskal Herria",
          "Valenciana, Comunidad / Valenciana, Comunitat",
          "Andalucía",
          "Aragón",
          "Asturias, Principado de",
          "Canarias",
          "Cantabria",
          "Castilla y León",
          "Castilla-La Mancha",
          "Catalunya",
          "Ceuta",
          "España",
          "Extremadura",
          "Galicia",
          "Illes Balears",
          "La Rioja",
          "Madrid, Comunidad de",
          "Melilla",
          "Murcia, Región de",
          "Navarra, Comunidad Foral de / Nafarroako Foru Komunitatea",
          "País Vasco / Euskal Herria",
          "Valenciana, Comunidad / Valenciana, Comunitat",
          "Andalucía",
          "Aragón",
          "Asturias, Principado de",
          "Canarias",
          "Cantabria",
          "Castilla y León",
          "Castilla-La Mancha",
          "Catalunya",
          "Ceuta",
          "España",
          "Extremadura",
          "Galicia",
          "Illes Balears",
          "La Rioja",
          "Madrid, Comunidad de",
          "Melilla",
          "Murcia, Región de",
          "Navarra, Comunidad Foral de / Nafarroako Foru Komunitatea",
          "País Vasco / Euskal Herria",
          "Valenciana, Comunidad / Valenciana, Comunitat",
          "Andalucía",
          "Aragón",
          "Asturias, Principado de",
          "Canarias",
          "Cantabria",
          "Castilla y León",
          "Castilla-La Mancha",
          "Catalunya",
          "Ceuta",
          "España",
          "Extremadura",
          "Galicia",
          "Illes Balears",
          "La Rioja",
          "Madrid, Comunidad de",
          "Melilla",
          "Murcia, Región de",
          "Navarra, Comunidad Foral de / Nafarroako Foru Komunitatea",
          "País Vasco / Euskal Herria",
          "Valenciana, Comunidad / Valenciana, Comunitat",
          "Andalucía",
          "Aragón",
          "Asturias, Principado de",
          "Canarias",
          "Cantabria",
          "Castilla y León",
          "Castilla-La Mancha",
          "Catalunya",
          "Ceuta",
          "España",
          "Extremadura",
          "Galicia",
          "Illes Balears",
          "La Rioja",
          "Madrid, Comunidad de",
          "Melilla",
          "Murcia, Región de",
          "Navarra, Comunidad Foral de / Nafarroako Foru Komunitatea",
          "País Vasco / Euskal Herria",
          "Valenciana, Comunidad / Valenciana, Comunitat",
          "Andalucía",
          "Aragón",
          "Asturias, Principado de",
          "Canarias",
          "Cantabria",
          "Castilla y León",
          "Castilla-La Mancha",
          "Catalunya",
          "Ceuta",
          "España",
          "Extremadura",
          "Galicia",
          "Illes Balears",
          "La Rioja",
          "Madrid, Comunidad de",
          "Melilla",
          "Murcia, Región de",
          "Navarra, Comunidad Foral de / Nafarroako Foru Komunitatea",
          "País Vasco / Euskal Herria",
          "Valenciana, Comunidad / Valenciana, Comunitat",
          "Andalucía",
          "Aragón",
          "Asturias, Principado de",
          "Canarias",
          "Cantabria",
          "Castilla y León",
          "Castilla-La Mancha",
          "Catalunya",
          "Ceuta",
          "España",
          "Extremadura",
          "Galicia",
          "Illes Balears",
          "La Rioja",
          "Madrid, Comunidad de",
          "Melilla",
          "Murcia, Región de",
          "Navarra, Comunidad Foral de / Nafarroako Foru Komunitatea",
          "País Vasco / Euskal Herria",
          "Valenciana, Comunidad / Valenciana, Comunitat",
          "Andalucía",
          "Aragón",
          "Asturias, Principado de",
          "Canarias",
          "Cantabria",
          "Castilla y León",
          "Castilla-La Mancha",
          "Catalunya",
          "Ceuta",
          "España",
          "Extremadura",
          "Galicia",
          "Illes Balears",
          "La Rioja",
          "Madrid, Comunidad de",
          "Melilla",
          "Murcia, Región de",
          "Navarra, Comunidad Foral de / Nafarroako Foru Komunitatea",
          "País Vasco / Euskal Herria",
          "Valenciana, Comunidad / Valenciana, Comunitat",
          "Andalucía",
          "Aragón",
          "Asturias, Principado de",
          "Canarias",
          "Cantabria",
          "Castilla y León",
          "Castilla-La Mancha",
          "Catalunya",
          "Ceuta",
          "España",
          "Extremadura",
          "Galicia",
          "Illes Balears",
          "La Rioja",
          "Madrid, Comunidad de",
          "Melilla",
          "Murcia, Región de",
          "Navarra, Comunidad Foral de / Nafarroako Foru Komunitatea",
          "País Vasco / Euskal Herria",
          "Valenciana, Comunidad / Valenciana, Comunitat",
          "Andalucía",
          "Aragón",
          "Asturias, Principado de",
          "Canarias",
          "Cantabria",
          "Castilla y León",
          "Castilla-La Mancha",
          "Catalunya",
          "Ceuta",
          "España",
          "Extremadura",
          "Galicia",
          "Illes Balears",
          "La Rioja",
          "Madrid, Comunidad de",
          "Melilla",
          "Murcia, Región de",
          "Navarra, Comunidad Foral de / Nafarroako Foru Komunitatea",
          "País Vasco / Euskal Herria",
          "Valenciana, Comunidad / Valenciana, Comunitat",
          "Andalucía",
          "Aragón",
          "Asturias, Principado de",
          "Canarias",
          "Cantabria",
          "Castilla y León",
          "Castilla-La Mancha",
          "Catalunya",
          "Ceuta",
          "España",
          "Extremadura",
          "Galicia",
          "Illes Balears",
          "La Rioja",
          "Madrid, Comunidad de",
          "Melilla",
          "Murcia, Región de",
          "Navarra, Comunidad Foral de / Nafarroako Foru Komunitatea",
          "País Vasco / Euskal Herria",
          "Valenciana, Comunidad / Valenciana, Comunitat",
          "Andalucía",
          "Aragón",
          "Asturias, Principado de",
          "Canarias",
          "Cantabria",
          "Castilla y León",
          "Castilla-La Mancha",
          "Catalunya",
          "Ceuta",
          "España",
          "Extremadura",
          "Galicia",
          "Illes Balears",
          "La Rioja",
          "Madrid, Comunidad de",
          "Melilla",
          "Murcia, Región de",
          "Navarra, Comunidad Foral de / Nafarroako Foru Komunitatea",
          "País Vasco / Euskal Herria",
          "Valenciana, Comunidad / Valenciana, Comunitat",
          "Andalucía",
          "Aragón",
          "Asturias, Principado de",
          "Canarias",
          "Cantabria",
          "Castilla y León",
          "Castilla-La Mancha",
          "Catalunya",
          "Ceuta",
          "España",
          "Extremadura",
          "Galicia",
          "Illes Balears",
          "La Rioja",
          "Madrid, Comunidad de",
          "Melilla",
          "Murcia, Región de",
          "Navarra, Comunidad Foral de / Nafarroako Foru Komunitatea",
          "País Vasco / Euskal Herria",
          "Valenciana, Comunidad / Valenciana, Comunitat",
          "Andalucía",
          "Aragón",
          "Asturias, Principado de",
          "Canarias",
          "Cantabria",
          "Castilla y León",
          "Castilla-La Mancha",
          "Catalunya",
          "Ceuta",
          "España",
          "Extremadura",
          "Galicia",
          "Illes Balears",
          "La Rioja",
          "Madrid, Comunidad de",
          "Melilla",
          "Murcia, Región de",
          "Navarra, Comunidad Foral de / Nafarroako Foru Komunitatea",
          "País Vasco / Euskal Herria",
          "Valenciana, Comunidad / Valenciana, Comunitat",
          "Andalucía",
          "Aragón",
          "Asturias, Principado de",
          "Canarias",
          "Cantabria",
          "Castilla y León",
          "Castilla-La Mancha",
          "Catalunya",
          "Ceuta",
          "España",
          "Extremadura",
          "Galicia",
          "Illes Balears",
          "La Rioja",
          "Madrid, Comunidad de",
          "Melilla",
          "Murcia, Región de",
          "Navarra, Comunidad Foral de / Nafarroako Foru Komunitatea",
          "País Vasco / Euskal Herria",
          "Valenciana, Comunidad / Valenciana, Comunitat",
          "Andalucía",
          "Aragón",
          "Asturias, Principado de",
          "Canarias",
          "Cantabria",
          "Castilla y León",
          "Castilla-La Mancha",
          "Catalunya",
          "Ceuta",
          "España",
          "Extremadura",
          "Galicia",
          "Illes Balears",
          "La Rioja",
          "Madrid, Comunidad de",
          "Melilla",
          "Murcia, Región de",
          "Navarra, Comunidad Foral de / Nafarroako Foru Komunitatea",
          "País Vasco / Euskal Herria",
          "Valenciana, Comunidad / Valenciana, Comunitat",
          "Andalucía",
          "Aragón",
          "Asturias, Principado de",
          "Canarias",
          "Cantabria",
          "Castilla y León",
          "Castilla-La Mancha",
          "Catalunya",
          "Ceuta",
          "España",
          "Extremadura",
          "Galicia",
          "Illes Balears",
          "La Rioja",
          "Madrid, Comunidad de",
          "Melilla",
          "Murcia, Región de",
          "Navarra, Comunidad Foral de / Nafarroako Foru Komunitatea",
          "País Vasco / Euskal Herria",
          "Valenciana, Comunidad / Valenciana, Comunitat",
          "Andalucía",
          "Aragón",
          "Asturias, Principado de",
          "Canarias",
          "Cantabria",
          "Castilla y León",
          "Castilla-La Mancha",
          "Catalunya",
          "Ceuta",
          "España",
          "Extremadura",
          "Galicia",
          "Illes Balears",
          "La Rioja",
          "Madrid, Comunidad de",
          "Melilla",
          "Murcia, Región de",
          "Navarra, Comunidad Foral de / Nafarroako Foru Komunitatea",
          "País Vasco / Euskal Herria",
          "Valenciana, Comunidad / Valenciana, Comunitat",
          "Andalucía",
          "Aragón",
          "Asturias, Principado de",
          "Canarias",
          "Cantabria",
          "Castilla y León",
          "Castilla-La Mancha",
          "Catalunya",
          "Ceuta",
          "España",
          "Extremadura",
          "Galicia",
          "Illes Balears",
          "La Rioja",
          "Madrid, Comunidad de",
          "Melilla",
          "Murcia, Región de",
          "Navarra, Comunidad Foral de / Nafarroako Foru Komunitatea",
          "País Vasco / Euskal Herria",
          "Valenciana, Comunidad / Valenciana, Comunitat",
          "Andalucía",
          "Aragón",
          "Asturias, Principado de",
          "Canarias",
          "Cantabria",
          "Castilla y León",
          "Castilla-La Mancha",
          "Catalunya",
          "Ceuta",
          "España",
          "Extremadura",
          "Galicia",
          "Illes Balears",
          "La Rioja",
          "Madrid, Comunidad de",
          "Melilla",
          "Murcia, Región de",
          "Navarra, Comunidad Foral de / Nafarroako Foru Komunitatea",
          "País Vasco / Euskal Herria",
          "Valenciana, Comunidad / Valenciana, Comunitat",
          "Andalucía",
          "Aragón",
          "Asturias, Principado de",
          "Canarias",
          "Cantabria",
          "Castilla y León",
          "Castilla-La Mancha",
          "Catalunya",
          "Ceuta",
          "España",
          "Extremadura",
          "Galicia",
          "Illes Balears",
          "La Rioja",
          "Madrid, Comunidad de",
          "Melilla",
          "Murcia, Región de",
          "Navarra, Comunidad Foral de / Nafarroako Foru Komunitatea",
          "País Vasco / Euskal Herria",
          "Valenciana, Comunidad / Valenciana, Comunitat",
          "Andalucía",
          "Aragón",
          "Asturias, Principado de",
          "Canarias",
          "Cantabria",
          "Castilla y León",
          "Castilla-La Mancha",
          "Catalunya",
          "Ceuta",
          "España",
          "Extremadura",
          "Galicia",
          "Illes Balears",
          "La Rioja",
          "Madrid, Comunidad de",
          "Melilla",
          "Murcia, Región de",
          "Navarra, Comunidad Foral de / Nafarroako Foru Komunitatea",
          "País Vasco / Euskal Herria",
          "Valenciana, Comunidad / Valenciana, Comunitat",
          "Andalucía",
          "Aragón",
          "Asturias, Principado de",
          "Canarias",
          "Cantabria",
          "Castilla y León",
          "Castilla-La Mancha",
          "Catalunya",
          "Ceuta",
          "España",
          "Extremadura",
          "Galicia",
          "Illes Balears",
          "La Rioja",
          "Madrid, Comunidad de",
          "Melilla",
          "Murcia, Región de",
          "Navarra, Comunidad Foral de / Nafarroako Foru Komunitatea",
          "País Vasco / Euskal Herria",
          "Valenciana, Comunidad / Valenciana, Comunitat",
          "Andalucía",
          "Aragón",
          "Asturias, Principado de",
          "Canarias",
          "Cantabria",
          "Castilla y León",
          "Castilla-La Mancha",
          "Catalunya",
          "Ceuta",
          "España",
          "Extremadura",
          "Galicia",
          "Illes Balears",
          "La Rioja",
          "Madrid, Comunidad de",
          "Melilla",
          "Murcia, Región de",
          "Navarra, Comunidad Foral de / Nafarroako Foru Komunitatea",
          "País Vasco / Euskal Herria",
          "Valenciana, Comunidad / Valenciana, Comunitat",
          "Andalucía",
          "Aragón",
          "Asturias, Principado de",
          "Canarias",
          "Cantabria",
          "Castilla y León",
          "Castilla-La Mancha",
          "Catalunya",
          "Ceuta",
          "España",
          "Extremadura",
          "Galicia",
          "Illes Balears",
          "La Rioja",
          "Madrid, Comunidad de",
          "Melilla",
          "Murcia, Región de",
          "Navarra, Comunidad Foral de / Nafarroako Foru Komunitatea",
          "País Vasco / Euskal Herria",
          "Valenciana, Comunidad / Valenciana, Comunitat",
          "Andalucía",
          "Aragón",
          "Asturias, Principado de",
          "Canarias",
          "Cantabria",
          "Castilla y León",
          "Castilla-La Mancha",
          "Catalunya",
          "Ceuta",
          "España",
          "Extremadura",
          "Galicia",
          "Illes Balears",
          "La Rioja",
          "Madrid, Comunidad de",
          "Melilla",
          "Murcia, Región de",
          "Navarra, Comunidad Foral de / Nafarroako Foru Komunitatea",
          "País Vasco / Euskal Herria",
          "Valenciana, Comunidad / Valenciana, Comunitat",
          "Andalucía",
          "Aragón",
          "Asturias, Principado de",
          "Canarias",
          "Cantabria",
          "Castilla y León",
          "Castilla-La Mancha",
          "Catalunya",
          "Ceuta",
          "España",
          "Extremadura",
          "Galicia",
          "Illes Balears",
          "La Rioja",
          "Madrid, Comunidad de",
          "Melilla",
          "Murcia, Región de",
          "Navarra, Comunidad Foral de / Nafarroako Foru Komunitatea",
          "País Vasco / Euskal Herria",
          "Valenciana, Comunidad / Valenciana, Comunitat",
          "Andalucía",
          "Aragón",
          "Asturias, Principado de",
          "Canarias",
          "Cantabria",
          "Castilla y León",
          "Castilla-La Mancha",
          "Catalunya",
          "Ceuta",
          "España",
          "Extremadura",
          "Galicia",
          "Illes Balears",
          "La Rioja",
          "Madrid, Comunidad de",
          "Melilla",
          "Murcia, Región de",
          "Navarra, Comunidad Foral de / Nafarroako Foru Komunitatea",
          "País Vasco / Euskal Herria",
          "Valenciana, Comunidad / Valenciana, Comunitat",
          "Andalucía",
          "Aragón",
          "Asturias, Principado de",
          "Canarias",
          "Cantabria",
          "Castilla y León",
          "Castilla-La Mancha",
          "Catalunya",
          "Ceuta",
          "España",
          "Extremadura",
          "Galicia",
          "Illes Balears",
          "La Rioja",
          "Madrid, Comunidad de",
          "Melilla",
          "Murcia, Región de",
          "Navarra, Comunidad Foral de / Nafarroako Foru Komunitatea",
          "País Vasco / Euskal Herria",
          "Valenciana, Comunidad / Valenciana, Comunitat",
          "Andalucía",
          "Aragón",
          "Asturias, Principado de",
          "Canarias",
          "Cantabria",
          "Castilla y León",
          "Castilla-La Mancha",
          "Catalunya",
          "Ceuta",
          "España",
          "Extremadura",
          "Galicia",
          "Illes Balears",
          "La Rioja",
          "Madrid, Comunidad de",
          "Melilla",
          "Murcia, Región de",
          "Navarra, Comunidad Foral de / Nafarroako Foru Komunitatea",
          "País Vasco / Euskal Herria",
          "Valenciana, Comunidad / Valenciana, Comunitat",
          "Andalucía",
          "Aragón",
          "Asturias, Principado de",
          "Canarias",
          "Cantabria",
          "Castilla y León",
          "Castilla-La Mancha",
          "Catalunya",
          "Ceuta",
          "España",
          "Extremadura",
          "Galicia",
          "Illes Balears",
          "La Rioja",
          "Madrid, Comunidad de",
          "Melilla",
          "Murcia, Región de",
          "Navarra, Comunidad Foral de / Nafarroako Foru Komunitatea",
          "País Vasco / Euskal Herria",
          "Valenciana, Comunidad / Valenciana, Comunitat",
          "Andalucía",
          "Aragón",
          "Asturias, Principado de",
          "Canarias",
          "Cantabria",
          "Castilla y León",
          "Castilla-La Mancha",
          "Catalunya",
          "Ceuta",
          "España",
          "Extremadura",
          "Galicia",
          "Illes Balears",
          "La Rioja",
          "Madrid, Comunidad de",
          "Melilla",
          "Murcia, Región de",
          "Navarra, Comunidad Foral de / Nafarroako Foru Komunitatea",
          "País Vasco / Euskal Herria",
          "Valenciana, Comunidad / Valenciana, Comunitat",
          "Andalucía",
          "Aragón",
          "Asturias, Principado de",
          "Canarias",
          "Cantabria",
          "Castilla y León",
          "Castilla-La Mancha",
          "Catalunya",
          "Ceuta",
          "España",
          "Extremadura",
          "Galicia",
          "Illes Balears",
          "La Rioja",
          "Madrid, Comunidad de",
          "Melilla",
          "Murcia, Región de",
          "Navarra, Comunidad Foral de / Nafarroako Foru Komunitatea",
          "País Vasco / Euskal Herria",
          "Valenciana, Comunidad / Valenciana, Comunitat",
          "Andalucía",
          "Aragón",
          "Asturias, Principado de",
          "Canarias",
          "Cantabria",
          "Castilla y León",
          "Castilla-La Mancha",
          "Catalunya",
          "Ceuta",
          "España",
          "Extremadura",
          "Galicia",
          "Illes Balears",
          "La Rioja",
          "Madrid, Comunidad de",
          "Melilla",
          "Murcia, Región de",
          "Navarra, Comunidad Foral de / Nafarroako Foru Komunitatea",
          "País Vasco / Euskal Herria",
          "Valenciana, Comunidad / Valenciana, Comunitat",
          "Andalucía",
          "Aragón",
          "Asturias, Principado de",
          "Canarias",
          "Cantabria",
          "Castilla y León",
          "Castilla-La Mancha",
          "Catalunya",
          "Ceuta",
          "España",
          "Extremadura",
          "Galicia",
          "Illes Balears",
          "La Rioja",
          "Madrid, Comunidad de",
          "Melilla",
          "Murcia, Región de",
          "Navarra, Comunidad Foral de / Nafarroako Foru Komunitatea",
          "País Vasco / Euskal Herria",
          "Valenciana, Comunidad / Valenciana, Comunitat",
          "Andalucía",
          "Aragón",
          "Asturias, Principado de",
          "Canarias",
          "Cantabria",
          "Castilla y León",
          "Castilla-La Mancha",
          "Catalunya",
          "Ceuta",
          "España",
          "Extremadura",
          "Galicia",
          "Illes Balears",
          "La Rioja",
          "Madrid, Comunidad de",
          "Melilla",
          "Murcia, Región de",
          "Navarra, Comunidad Foral de / Nafarroako Foru Komunitatea",
          "País Vasco / Euskal Herria",
          "Valenciana, Comunidad / Valenciana, Comunitat",
          "Andalucía",
          "Aragón",
          "Asturias, Principado de",
          "Canarias",
          "Cantabria",
          "Castilla y León",
          "Castilla-La Mancha",
          "Catalunya",
          "Ceuta",
          "España",
          "Extremadura",
          "Galicia",
          "Illes Balears",
          "La Rioja",
          "Madrid, Comunidad de",
          "Melilla",
          "Murcia, Región de",
          "Navarra, Comunidad Foral de / Nafarroako Foru Komunitatea",
          "País Vasco / Euskal Herria",
          "Valenciana, Comunidad / Valenciana, Comunitat",
          "Andalucía",
          "Aragón",
          "Asturias, Principado de",
          "Canarias",
          "Cantabria",
          "Castilla y León",
          "Castilla-La Mancha",
          "Catalunya",
          "Ceuta",
          "España",
          "Extremadura",
          "Galicia",
          "Illes Balears",
          "La Rioja",
          "Madrid, Comunidad de",
          "Melilla",
          "Murcia, Región de",
          "Navarra, Comunidad Foral de / Nafarroako Foru Komunitatea",
          "País Vasco / Euskal Herria",
          "Valenciana, Comunidad / Valenciana, Comunitat",
          "Andalucía",
          "Aragón",
          "Asturias, Principado de",
          "Canarias",
          "Cantabria",
          "Castilla y León",
          "Castilla-La Mancha",
          "Catalunya",
          "Ceuta",
          "España",
          "Extremadura",
          "Galicia",
          "Illes Balears",
          "La Rioja",
          "Madrid, Comunidad de",
          "Melilla",
          "Murcia, Región de",
          "Navarra, Comunidad Foral de / Nafarroako Foru Komunitatea",
          "País Vasco / Euskal Herria",
          "Valenciana, Comunidad / Valenciana, Comunitat",
          "Andalucía",
          "Aragón",
          "Asturias, Principado de",
          "Canarias",
          "Cantabria",
          "Castilla y León",
          "Castilla-La Mancha",
          "Catalunya",
          "Ceuta",
          "España",
          "Extremadura",
          "Galicia",
          "Illes Balears",
          "La Rioja",
          "Madrid, Comunidad de",
          "Melilla",
          "Murcia, Región de",
          "Navarra, Comunidad Foral de / Nafarroako Foru Komunitatea",
          "País Vasco / Euskal Herria",
          "Valenciana, Comunidad / Valenciana, Comunitat",
          "Andalucía",
          "Aragón",
          "Asturias, Principado de",
          "Canarias",
          "Cantabria",
          "Castilla y León",
          "Castilla-La Mancha",
          "Catalunya",
          "Ceuta",
          "España",
          "Extremadura",
          "Galicia",
          "Illes Balears",
          "La Rioja",
          "Madrid, Comunidad de",
          "Melilla",
          "Murcia, Región de",
          "Navarra, Comunidad Foral de / Nafarroako Foru Komunitatea",
          "País Vasco / Euskal Herria",
          "Valenciana, Comunidad / Valenciana, Comunitat",
          "Andalucía",
          "Aragón",
          "Asturias, Principado de",
          "Canarias",
          "Cantabria",
          "Castilla y León",
          "Castilla-La Mancha",
          "Catalunya",
          "Ceuta",
          "España",
          "Extremadura",
          "Galicia",
          "Illes Balears",
          "La Rioja",
          "Madrid, Comunidad de",
          "Melilla",
          "Murcia, Región de",
          "Navarra, Comunidad Foral de / Nafarroako Foru Komunitatea",
          "País Vasco / Euskal Herria",
          "Valenciana, Comunidad / Valenciana, Comunitat",
          "Andalucía",
          "Aragón",
          "Asturias, Principado de",
          "Canarias",
          "Cantabria",
          "Castilla y León",
          "Castilla-La Mancha",
          "Catalunya",
          "Ceuta",
          "España",
          "Extremadura",
          "Galicia",
          "Illes Balears",
          "La Rioja",
          "Madrid, Comunidad de",
          "Melilla",
          "Murcia, Región de",
          "Navarra, Comunidad Foral de / Nafarroako Foru Komunitatea",
          "País Vasco / Euskal Herria",
          "Valenciana, Comunidad / Valenciana, Comunitat",
          "Andalucía",
          "Aragón",
          "Asturias, Principado de",
          "Canarias",
          "Cantabria",
          "Castilla y León",
          "Castilla-La Mancha",
          "Catalunya",
          "Ceuta",
          "España",
          "Extremadura",
          "Galicia",
          "Illes Balears",
          "La Rioja",
          "Madrid, Comunidad de",
          "Melilla",
          "Murcia, Región de",
          "Navarra, Comunidad Foral de / Nafarroako Foru Komunitatea",
          "País Vasco / Euskal Herria",
          "Valenciana, Comunidad / Valenciana, Comunitat",
          "Andalucía",
          "Aragón",
          "Asturias, Principado de",
          "Canarias",
          "Cantabria",
          "Castilla y León",
          "Castilla-La Mancha",
          "Catalunya",
          "Ceuta",
          "España",
          "Extremadura",
          "Galicia",
          "Illes Balears",
          "La Rioja",
          "Madrid, Comunidad de",
          "Melilla",
          "Murcia, Región de",
          "Navarra, Comunidad Foral de / Nafarroako Foru Komunitatea",
          "País Vasco / Euskal Herria",
          "Valenciana, Comunidad / Valenciana, Comunitat",
          "Andalucía",
          "Aragón",
          "Asturias, Principado de",
          "Canarias",
          "Cantabria",
          "Castilla y León",
          "Castilla-La Mancha",
          "Catalunya",
          "Ceuta",
          "España",
          "Extremadura",
          "Galicia",
          "Illes Balears",
          "La Rioja",
          "Madrid, Comunidad de",
          "Melilla",
          "Murcia, Región de",
          "Navarra, Comunidad Foral de / Nafarroako Foru Komunitatea",
          "País Vasco / Euskal Herria",
          "Valenciana, Comunidad / Valenciana, Comunitat",
          "Andalucía",
          "Aragón",
          "Asturias, Principado de",
          "Canarias",
          "Cantabria",
          "Castilla y León",
          "Castilla-La Mancha",
          "Catalunya",
          "Ceuta",
          "España",
          "Extremadura",
          "Galicia",
          "Illes Balears",
          "La Rioja",
          "Madrid, Comunidad de",
          "Melilla",
          "Murcia, Región de",
          "Navarra, Comunidad Foral de / Nafarroako Foru Komunitatea",
          "País Vasco / Euskal Herria",
          "Valenciana, Comunidad / Valenciana, Comunitat",
          "Andalucía",
          "Aragón",
          "Asturias, Principado de",
          "Canarias",
          "Cantabria",
          "Castilla y León",
          "Castilla-La Mancha",
          "Catalunya",
          "Ceuta",
          "España",
          "Extremadura",
          "Galicia",
          "Illes Balears",
          "La Rioja",
          "Madrid, Comunidad de",
          "Melilla",
          "Murcia, Región de",
          "Navarra, Comunidad Foral de / Nafarroako Foru Komunitatea",
          "País Vasco / Euskal Herria",
          "Valenciana, Comunidad / Valenciana, Comunitat",
          "Andalucía",
          "Aragón",
          "Asturias, Principado de",
          "Canarias",
          "Cantabria",
          "Castilla y León",
          "Castilla-La Mancha",
          "Catalunya",
          "Ceuta",
          "España",
          "Extremadura",
          "Galicia",
          "Illes Balears",
          "La Rioja",
          "Madrid, Comunidad de",
          "Melilla",
          "Murcia, Región de",
          "Navarra, Comunidad Foral de / Nafarroako Foru Komunitatea",
          "País Vasco / Euskal Herria",
          "Valenciana, Comunidad / Valenciana, Comunitat",
          "Andalucía",
          "Aragón",
          "Asturias, Principado de",
          "Canarias",
          "Cantabria",
          "Castilla y León",
          "Castilla-La Mancha",
          "Catalunya",
          "Ceuta",
          "España",
          "Extremadura",
          "Galicia",
          "Illes Balears",
          "La Rioja",
          "Madrid, Comunidad de",
          "Melilla",
          "Murcia, Región de",
          "Navarra, Comunidad Foral de / Nafarroako Foru Komunitatea",
          "País Vasco / Euskal Herria",
          "Valenciana, Comunidad / Valenciana, Comunitat",
          "Andalucía",
          "Aragón",
          "Asturias, Principado de",
          "Canarias",
          "Cantabria",
          "Castilla y León",
          "Castilla-La Mancha",
          "Catalunya",
          "Ceuta",
          "España",
          "Extremadura",
          "Galicia",
          "Illes Balears",
          "La Rioja",
          "Madrid, Comunidad de",
          "Melilla",
          "Murcia, Región de",
          "Navarra, Comunidad Foral de / Nafarroako Foru Komunitatea",
          "País Vasco / Euskal Herria",
          "Valenciana, Comunidad / Valenciana, Comunitat",
          "Andalucía",
          "Aragón",
          "Asturias, Principado de",
          "Canarias",
          "Cantabria",
          "Castilla y León",
          "Castilla-La Mancha",
          "Catalunya",
          "Ceuta",
          "España",
          "Extremadura",
          "Galicia",
          "Illes Balears",
          "La Rioja",
          "Madrid, Comunidad de",
          "Melilla",
          "Murcia, Región de",
          "Navarra, Comunidad Foral de / Nafarroako Foru Komunitatea",
          "País Vasco / Euskal Herria",
          "Valenciana, Comunidad / Valenciana, Comunitat",
          "Andalucía",
          "Aragón",
          "Asturias, Principado de",
          "Canarias",
          "Cantabria",
          "Castilla y León",
          "Castilla-La Mancha",
          "Catalunya",
          "Ceuta",
          "España",
          "Extremadura",
          "Galicia",
          "Illes Balears",
          "La Rioja",
          "Madrid, Comunidad de",
          "Melilla",
          "Murcia, Región de",
          "Navarra, Comunidad Foral de / Nafarroako Foru Komunitatea",
          "País Vasco / Euskal Herria",
          "Valenciana, Comunidad / Valenciana, Comunitat",
          "Andalucía",
          "Aragón",
          "Asturias, Principado de",
          "Canarias",
          "Cantabria",
          "Castilla y León",
          "Castilla-La Mancha",
          "Catalunya",
          "Ceuta",
          "España",
          "Extremadura",
          "Galicia",
          "Illes Balears",
          "La Rioja",
          "Madrid, Comunidad de",
          "Melilla",
          "Murcia, Región de",
          "Navarra, Comunidad Foral de / Nafarroako Foru Komunitatea",
          "País Vasco / Euskal Herria",
          "Valenciana, Comunidad / Valenciana, Comunitat",
          "Andalucía",
          "Aragón",
          "Asturias, Principado de",
          "Canarias",
          "Cantabria",
          "Castilla y León",
          "Castilla-La Mancha",
          "Catalunya",
          "Ceuta",
          "España",
          "Extremadura",
          "Galicia",
          "Illes Balears",
          "La Rioja",
          "Madrid, Comunidad de",
          "Melilla",
          "Murcia, Región de",
          "Navarra, Comunidad Foral de / Nafarroako Foru Komunitatea",
          "País Vasco / Euskal Herria",
          "Valenciana, Comunidad / Valenciana, Comunitat",
          "Andalucía",
          "Aragón",
          "Asturias, Principado de",
          "Canarias",
          "Cantabria",
          "Castilla y León",
          "Castilla-La Mancha",
          "Catalunya",
          "Ceuta",
          "España",
          "Extremadura",
          "Galicia",
          "Illes Balears",
          "La Rioja",
          "Madrid, Comunidad de",
          "Melilla",
          "Murcia, Región de",
          "Navarra, Comunidad Foral de / Nafarroako Foru Komunitatea",
          "País Vasco / Euskal Herria",
          "Valenciana, Comunidad / Valenciana, Comunitat",
          "Andalucía",
          "Aragón",
          "Asturias, Principado de",
          "Canarias",
          "Cantabria",
          "Castilla y León",
          "Castilla-La Mancha",
          "Catalunya",
          "Ceuta",
          "España",
          "Extremadura",
          "Galicia",
          "Illes Balears",
          "La Rioja",
          "Madrid, Comunidad de",
          "Melilla",
          "Murcia, Región de",
          "Navarra, Comunidad Foral de / Nafarroako Foru Komunitatea",
          "País Vasco / Euskal Herria",
          "Valenciana, Comunidad / Valenciana, Comunitat",
          "Andalucía",
          "Aragón",
          "Asturias, Principado de",
          "Canarias",
          "Cantabria",
          "Castilla y León",
          "Castilla-La Mancha",
          "Catalunya",
          "Ceuta",
          "España",
          "Extremadura",
          "Galicia",
          "Illes Balears",
          "La Rioja",
          "Madrid, Comunidad de",
          "Melilla",
          "Murcia, Región de",
          "Navarra, Comunidad Foral de / Nafarroako Foru Komunitatea",
          "País Vasco / Euskal Herria",
          "Valenciana, Comunidad / Valenciana, Comunitat",
          "Andalucía",
          "Aragón",
          "Asturias, Principado de",
          "Canarias",
          "Cantabria",
          "Castilla y León",
          "Castilla-La Mancha",
          "Catalunya",
          "Ceuta",
          "España",
          "Extremadura",
          "Galicia",
          "Illes Balears",
          "La Rioja",
          "Madrid, Comunidad de",
          "Melilla",
          "Murcia, Región de",
          "Navarra, Comunidad Foral de / Nafarroako Foru Komunitatea",
          "País Vasco / Euskal Herria",
          "Valenciana, Comunidad / Valenciana, Comunitat",
          "Andalucía",
          "Aragón",
          "Asturias, Principado de",
          "Canarias",
          "Cantabria",
          "Castilla y León",
          "Castilla-La Mancha",
          "Catalunya",
          "Ceuta",
          "España",
          "Extremadura",
          "Galicia",
          "Illes Balears",
          "La Rioja",
          "Madrid, Comunidad de",
          "Melilla",
          "Murcia, Región de",
          "Navarra, Comunidad Foral de / Nafarroako Foru Komunitatea",
          "País Vasco / Euskal Herria",
          "Valenciana, Comunidad / Valenciana, Comunitat",
          "Andalucía",
          "Aragón",
          "Asturias, Principado de",
          "Canarias",
          "Cantabria",
          "Castilla y León",
          "Castilla-La Mancha",
          "Catalunya",
          "Ceuta",
          "España",
          "Extremadura",
          "Galicia",
          "Illes Balears",
          "La Rioja",
          "Madrid, Comunidad de",
          "Melilla",
          "Murcia, Región de",
          "Navarra, Comunidad Foral de / Nafarroako Foru Komunitatea",
          "País Vasco / Euskal Herria",
          "Valenciana, Comunidad / Valenciana, Comunitat",
          "Andalucía",
          "Aragón",
          "Asturias, Principado de",
          "Canarias",
          "Cantabria",
          "Castilla y León",
          "Castilla-La Mancha",
          "Catalunya",
          "Ceuta",
          "España",
          "Extremadura",
          "Galicia",
          "Illes Balears",
          "La Rioja",
          "Madrid, Comunidad de",
          "Melilla",
          "Murcia, Región de",
          "Navarra, Comunidad Foral de / Nafarroako Foru Komunitatea",
          "País Vasco / Euskal Herria",
          "Valenciana, Comunidad / Valenciana, Comunitat",
          "Andalucía",
          "Aragón",
          "Asturias, Principado de",
          "Canarias",
          "Cantabria",
          "Castilla y León",
          "Castilla-La Mancha",
          "Catalunya",
          "Ceuta",
          "España",
          "Extremadura",
          "Galicia",
          "Illes Balears",
          "La Rioja",
          "Madrid, Comunidad de",
          "Melilla",
          "Murcia, Región de",
          "Navarra, Comunidad Foral de / Nafarroako Foru Komunitatea",
          "País Vasco / Euskal Herria",
          "Valenciana, Comunidad / Valenciana, Comunitat",
          "Andalucía",
          "Aragón",
          "Asturias, Principado de",
          "Canarias",
          "Cantabria",
          "Castilla y León",
          "Castilla-La Mancha",
          "Catalunya",
          "Ceuta",
          "España",
          "Extremadura",
          "Galicia",
          "Illes Balears",
          "La Rioja",
          "Madrid, Comunidad de",
          "Melilla",
          "Murcia, Región de",
          "Navarra, Comunidad Foral de / Nafarroako Foru Komunitatea",
          "País Vasco / Euskal Herria",
          "Valenciana, Comunidad / Valenciana, Comunitat",
          "Andalucía",
          "Aragón",
          "Asturias, Principado de",
          "Canarias",
          "Cantabria",
          "Castilla y León",
          "Castilla-La Mancha",
          "Catalunya",
          "Ceuta",
          "España",
          "Extremadura",
          "Galicia",
          "Illes Balears",
          "La Rioja",
          "Madrid, Comunidad de",
          "Melilla",
          "Murcia, Región de",
          "Navarra, Comunidad Foral de / Nafarroako Foru Komunitatea",
          "País Vasco / Euskal Herria",
          "Valenciana, Comunidad / Valenciana, Comunitat",
          "Andalucía",
          "Aragón",
          "Asturias, Principado de",
          "Canarias",
          "Cantabria",
          "Castilla y León",
          "Castilla-La Mancha",
          "Catalunya",
          "Ceuta",
          "España",
          "Extremadura",
          "Galicia",
          "Illes Balears",
          "La Rioja",
          "Madrid, Comunidad de",
          "Melilla",
          "Murcia, Región de",
          "Navarra, Comunidad Foral de / Nafarroako Foru Komunitatea",
          "País Vasco / Euskal Herria",
          "Valenciana, Comunidad / Valenciana, Comunitat",
          "Andalucía",
          "Aragón",
          "Asturias, Principado de",
          "Canarias",
          "Cantabria",
          "Castilla y León",
          "Castilla-La Mancha",
          "Catalunya",
          "Ceuta",
          "España",
          "Extremadura",
          "Galicia",
          "Illes Balears",
          "La Rioja",
          "Madrid, Comunidad de",
          "Melilla",
          "Murcia, Región de",
          "Navarra, Comunidad Foral de / Nafarroako Foru Komunitatea",
          "País Vasco / Euskal Herria",
          "Valenciana, Comunidad / Valenciana, Comunitat",
          "Andalucía",
          "Aragón",
          "Asturias, Principado de",
          "Canarias",
          "Cantabria",
          "Castilla y León",
          "Castilla-La Mancha",
          "Catalunya",
          "Ceuta",
          "España",
          "Extremadura",
          "Galicia",
          "Illes Balears",
          "La Rioja",
          "Madrid, Comunidad de",
          "Melilla",
          "Murcia, Región de",
          "Navarra, Comunidad Foral de / Nafarroako Foru Komunitatea",
          "País Vasco / Euskal Herria",
          "Valenciana, Comunidad / Valenciana, Comunitat",
          "Andalucía",
          "Aragón",
          "Asturias, Principado de",
          "Canarias",
          "Cantabria",
          "Castilla y León",
          "Castilla-La Mancha",
          "Catalunya",
          "Ceuta",
          "España",
          "Extremadura",
          "Galicia",
          "Illes Balears",
          "La Rioja",
          "Madrid, Comunidad de",
          "Melilla",
          "Murcia, Región de",
          "Navarra, Comunidad Foral de / Nafarroako Foru Komunitatea",
          "País Vasco / Euskal Herria",
          "Valenciana, Comunidad / Valenciana, Comunitat",
          "Andalucía",
          "Aragón",
          "Asturias, Principado de",
          "Canarias",
          "Cantabria",
          "Castilla y León",
          "Castilla-La Mancha",
          "Catalunya",
          "Ceuta",
          "España",
          "Extremadura",
          "Galicia",
          "Illes Balears",
          "La Rioja",
          "Madrid, Comunidad de",
          "Melilla",
          "Murcia, Región de",
          "Navarra, Comunidad Foral de / Nafarroako Foru Komunitatea",
          "País Vasco / Euskal Herria",
          "Valenciana, Comunidad / Valenciana, Comunitat",
          "Andalucía",
          "Aragón",
          "Asturias, Principado de",
          "Canarias",
          "Cantabria",
          "Castilla y León",
          "Castilla-La Mancha",
          "Catalunya",
          "Ceuta",
          "España",
          "Extremadura",
          "Galicia",
          "Illes Balears",
          "La Rioja",
          "Madrid, Comunidad de",
          "Melilla",
          "Murcia, Región de",
          "Navarra, Comunidad Foral de / Nafarroako Foru Komunitatea",
          "País Vasco / Euskal Herria",
          "Valenciana, Comunidad / Valenciana, Comunitat",
          "Andalucía",
          "Aragón",
          "Asturias, Principado de",
          "Canarias",
          "Cantabria",
          "Castilla y León",
          "Castilla-La Mancha",
          "Catalunya",
          "Ceuta",
          "España",
          "Extremadura",
          "Galicia",
          "Illes Balears",
          "La Rioja",
          "Madrid, Comunidad de",
          "Melilla",
          "Murcia, Región de",
          "Navarra, Comunidad Foral de / Nafarroako Foru Komunitatea",
          "País Vasco / Euskal Herria",
          "Valenciana, Comunidad / Valenciana, Comunitat",
          "Andalucía",
          "Aragón",
          "Asturias, Principado de",
          "Canarias",
          "Cantabria",
          "Castilla y León",
          "Castilla-La Mancha",
          "Catalunya",
          "Ceuta",
          "España",
          "Extremadura",
          "Galicia",
          "Illes Balears",
          "La Rioja",
          "Madrid, Comunidad de",
          "Melilla",
          "Murcia, Región de",
          "Navarra, Comunidad Foral de / Nafarroako Foru Komunitatea",
          "País Vasco / Euskal Herria",
          "Valenciana, Comunidad / Valenciana, Comunitat",
          "Andalucía",
          "Aragón",
          "Asturias, Principado de",
          "Canarias",
          "Cantabria",
          "Castilla y León",
          "Castilla-La Mancha",
          "Catalunya",
          "Ceuta",
          "España",
          "Extremadura",
          "Galicia",
          "Illes Balears",
          "La Rioja",
          "Madrid, Comunidad de",
          "Melilla",
          "Murcia, Región de",
          "Navarra, Comunidad Foral de / Nafarroako Foru Komunitatea",
          "País Vasco / Euskal Herria",
          "Valenciana, Comunidad / Valenciana, Comunitat",
          "Andalucía",
          "Aragón",
          "Asturias, Principado de",
          "Canarias",
          "Cantabria",
          "Castilla y León",
          "Castilla-La Mancha",
          "Catalunya",
          "Ceuta",
          "España",
          "Extremadura",
          "Galicia",
          "Illes Balears",
          "La Rioja",
          "Madrid, Comunidad de",
          "Melilla",
          "Murcia, Región de",
          "Navarra, Comunidad Foral de / Nafarroako Foru Komunitatea",
          "País Vasco / Euskal Herria",
          "Valenciana, Comunidad / Valenciana, Comunitat",
          "Andalucía",
          "Aragón",
          "Asturias, Principado de",
          "Canarias",
          "Cantabria",
          "Castilla y León",
          "Castilla-La Mancha",
          "Catalunya",
          "Ceuta",
          "España",
          "Extremadura",
          "Galicia",
          "Illes Balears",
          "La Rioja",
          "Madrid, Comunidad de",
          "Melilla",
          "Murcia, Región de",
          "Navarra, Comunidad Foral de / Nafarroako Foru Komunitatea",
          "País Vasco / Euskal Herria",
          "Valenciana, Comunidad / Valenciana, Comunitat",
          "Andalucía",
          "Aragón",
          "Asturias, Principado de",
          "Canarias",
          "Cantabria",
          "Castilla y León",
          "Castilla-La Mancha",
          "Catalunya",
          "Ceuta",
          "España",
          "Extremadura",
          "Galicia",
          "Illes Balears",
          "La Rioja",
          "Madrid, Comunidad de",
          "Melilla",
          "Murcia, Región de",
          "Navarra, Comunidad Foral de / Nafarroako Foru Komunitatea",
          "País Vasco / Euskal Herria",
          "Valenciana, Comunidad / Valenciana, Comunitat",
          "Andalucía",
          "Aragón",
          "Asturias, Principado de",
          "Canarias",
          "Cantabria",
          "Castilla y León",
          "Castilla-La Mancha",
          "Catalunya",
          "Ceuta",
          "España",
          "Extremadura",
          "Galicia",
          "Illes Balears",
          "La Rioja",
          "Madrid, Comunidad de",
          "Melilla",
          "Murcia, Región de",
          "Navarra, Comunidad Foral de / Nafarroako Foru Komunitatea",
          "País Vasco / Euskal Herria",
          "Valenciana, Comunidad / Valenciana, Comunitat",
          "Andalucía",
          "Aragón",
          "Asturias, Principado de",
          "Canarias",
          "Cantabria",
          "Castilla y León",
          "Castilla-La Mancha",
          "Catalunya",
          "Ceuta",
          "España",
          "Extremadura",
          "Galicia",
          "Illes Balears",
          "La Rioja",
          "Madrid, Comunidad de",
          "Melilla",
          "Murcia, Región de",
          "Navarra, Comunidad Foral de / Nafarroako Foru Komunitatea",
          "País Vasco / Euskal Herria",
          "Valenciana, Comunidad / Valenciana, Comunitat",
          "Andalucía",
          "Aragón",
          "Asturias, Principado de",
          "Canarias",
          "Cantabria",
          "Castilla y León",
          "Castilla-La Mancha",
          "Catalunya",
          "Ceuta",
          "España",
          "Extremadura",
          "Galicia",
          "Illes Balears",
          "La Rioja",
          "Madrid, Comunidad de",
          "Melilla",
          "Murcia, Región de",
          "Navarra, Comunidad Foral de / Nafarroako Foru Komunitatea",
          "País Vasco / Euskal Herria",
          "Valenciana, Comunidad / Valenciana, Comunitat",
          "Andalucía",
          "Aragón",
          "Asturias, Principado de",
          "Canarias",
          "Cantabria",
          "Castilla y León",
          "Castilla-La Mancha",
          "Catalunya",
          "Ceuta",
          "España",
          "Extremadura",
          "Galicia",
          "Illes Balears",
          "La Rioja",
          "Madrid, Comunidad de",
          "Melilla",
          "Murcia, Región de",
          "Navarra, Comunidad Foral de / Nafarroako Foru Komunitatea",
          "País Vasco / Euskal Herria",
          "Valenciana, Comunidad / Valenciana, Comunitat",
          "Andalucía",
          "Aragón",
          "Asturias, Principado de",
          "Canarias",
          "Cantabria",
          "Castilla y León",
          "Castilla-La Mancha",
          "Catalunya",
          "Ceuta",
          "España",
          "Extremadura",
          "Galicia",
          "Illes Balears",
          "La Rioja",
          "Madrid, Comunidad de",
          "Melilla",
          "Murcia, Región de",
          "Navarra, Comunidad Foral de / Nafarroako Foru Komunitatea",
          "País Vasco / Euskal Herria",
          "Valenciana, Comunidad / Valenciana, Comunitat",
          "Andalucía",
          "Aragón",
          "Asturias, Principado de",
          "Canarias",
          "Cantabria",
          "Castilla y León",
          "Castilla-La Mancha",
          "Catalunya",
          "Ceuta",
          "España",
          "Extremadura",
          "Galicia",
          "Illes Balears",
          "La Rioja",
          "Madrid, Comunidad de",
          "Melilla",
          "Murcia, Región de",
          "Navarra, Comunidad Foral de / Nafarroako Foru Komunitatea",
          "País Vasco / Euskal Herria",
          "Valenciana, Comunidad / Valenciana, Comunitat",
          "Andalucía",
          "Aragón",
          "Asturias, Principado de",
          "Canarias",
          "Cantabria",
          "Castilla y León",
          "Castilla-La Mancha",
          "Catalunya",
          "Ceuta",
          "España",
          "Extremadura",
          "Galicia",
          "Illes Balears",
          "La Rioja",
          "Madrid, Comunidad de",
          "Melilla",
          "Murcia, Región de",
          "Navarra, Comunidad Foral de / Nafarroako Foru Komunitatea",
          "País Vasco / Euskal Herria",
          "Valenciana, Comunidad / Valenciana, Comunitat",
          "Andalucía",
          "Aragón",
          "Asturias, Principado de",
          "Canarias",
          "Cantabria",
          "Castilla y León",
          "Castilla-La Mancha",
          "Catalunya",
          "Ceuta",
          "España",
          "Extremadura",
          "Galicia",
          "Illes Balears",
          "La Rioja",
          "Madrid, Comunidad de",
          "Melilla",
          "Murcia, Región de",
          "Navarra, Comunidad Foral de / Nafarroako Foru Komunitatea",
          "País Vasco / Euskal Herria",
          "Valenciana, Comunidad / Valenciana, Comunitat",
          "Andalucía",
          "Aragón",
          "Asturias, Principado de",
          "Canarias",
          "Cantabria",
          "Castilla y León",
          "Castilla-La Mancha",
          "Catalunya",
          "Ceuta",
          "España",
          "Extremadura",
          "Galicia",
          "Illes Balears",
          "La Rioja",
          "Madrid, Comunidad de",
          "Melilla",
          "Murcia, Región de",
          "Navarra, Comunidad Foral de / Nafarroako Foru Komunitatea",
          "País Vasco / Euskal Herria",
          "Valenciana, Comunidad / Valenciana, Comunitat",
          "Andalucía",
          "Aragón",
          "Asturias, Principado de",
          "Canarias",
          "Cantabria",
          "Castilla y León",
          "Castilla-La Mancha",
          "Catalunya",
          "Ceuta",
          "España",
          "Extremadura",
          "Galicia",
          "Illes Balears",
          "La Rioja",
          "Madrid, Comunidad de",
          "Melilla",
          "Murcia, Región de",
          "Navarra, Comunidad Foral de / Nafarroako Foru Komunitatea",
          "País Vasco / Euskal Herria",
          "Valenciana, Comunidad / Valenciana, Comunitat"
         ]
        }
       ],
       "layout": {
        "barmode": "stack",
        "height": 600,
        "template": {
         "data": {
          "bar": [
           {
            "error_x": {
             "color": "#2a3f5f"
            },
            "error_y": {
             "color": "#2a3f5f"
            },
            "marker": {
             "line": {
              "color": "#E5ECF6",
              "width": 0.5
             }
            },
            "type": "bar"
           }
          ],
          "barpolar": [
           {
            "marker": {
             "line": {
              "color": "#E5ECF6",
              "width": 0.5
             }
            },
            "type": "barpolar"
           }
          ],
          "carpet": [
           {
            "aaxis": {
             "endlinecolor": "#2a3f5f",
             "gridcolor": "white",
             "linecolor": "white",
             "minorgridcolor": "white",
             "startlinecolor": "#2a3f5f"
            },
            "baxis": {
             "endlinecolor": "#2a3f5f",
             "gridcolor": "white",
             "linecolor": "white",
             "minorgridcolor": "white",
             "startlinecolor": "#2a3f5f"
            },
            "type": "carpet"
           }
          ],
          "choropleth": [
           {
            "colorbar": {
             "outlinewidth": 0,
             "ticks": ""
            },
            "type": "choropleth"
           }
          ],
          "contour": [
           {
            "colorbar": {
             "outlinewidth": 0,
             "ticks": ""
            },
            "colorscale": [
             [
              0,
              "#0d0887"
             ],
             [
              0.1111111111111111,
              "#46039f"
             ],
             [
              0.2222222222222222,
              "#7201a8"
             ],
             [
              0.3333333333333333,
              "#9c179e"
             ],
             [
              0.4444444444444444,
              "#bd3786"
             ],
             [
              0.5555555555555556,
              "#d8576b"
             ],
             [
              0.6666666666666666,
              "#ed7953"
             ],
             [
              0.7777777777777778,
              "#fb9f3a"
             ],
             [
              0.8888888888888888,
              "#fdca26"
             ],
             [
              1,
              "#f0f921"
             ]
            ],
            "type": "contour"
           }
          ],
          "contourcarpet": [
           {
            "colorbar": {
             "outlinewidth": 0,
             "ticks": ""
            },
            "type": "contourcarpet"
           }
          ],
          "heatmap": [
           {
            "colorbar": {
             "outlinewidth": 0,
             "ticks": ""
            },
            "colorscale": [
             [
              0,
              "#0d0887"
             ],
             [
              0.1111111111111111,
              "#46039f"
             ],
             [
              0.2222222222222222,
              "#7201a8"
             ],
             [
              0.3333333333333333,
              "#9c179e"
             ],
             [
              0.4444444444444444,
              "#bd3786"
             ],
             [
              0.5555555555555556,
              "#d8576b"
             ],
             [
              0.6666666666666666,
              "#ed7953"
             ],
             [
              0.7777777777777778,
              "#fb9f3a"
             ],
             [
              0.8888888888888888,
              "#fdca26"
             ],
             [
              1,
              "#f0f921"
             ]
            ],
            "type": "heatmap"
           }
          ],
          "heatmapgl": [
           {
            "colorbar": {
             "outlinewidth": 0,
             "ticks": ""
            },
            "colorscale": [
             [
              0,
              "#0d0887"
             ],
             [
              0.1111111111111111,
              "#46039f"
             ],
             [
              0.2222222222222222,
              "#7201a8"
             ],
             [
              0.3333333333333333,
              "#9c179e"
             ],
             [
              0.4444444444444444,
              "#bd3786"
             ],
             [
              0.5555555555555556,
              "#d8576b"
             ],
             [
              0.6666666666666666,
              "#ed7953"
             ],
             [
              0.7777777777777778,
              "#fb9f3a"
             ],
             [
              0.8888888888888888,
              "#fdca26"
             ],
             [
              1,
              "#f0f921"
             ]
            ],
            "type": "heatmapgl"
           }
          ],
          "histogram": [
           {
            "marker": {
             "colorbar": {
              "outlinewidth": 0,
              "ticks": ""
             }
            },
            "type": "histogram"
           }
          ],
          "histogram2d": [
           {
            "colorbar": {
             "outlinewidth": 0,
             "ticks": ""
            },
            "colorscale": [
             [
              0,
              "#0d0887"
             ],
             [
              0.1111111111111111,
              "#46039f"
             ],
             [
              0.2222222222222222,
              "#7201a8"
             ],
             [
              0.3333333333333333,
              "#9c179e"
             ],
             [
              0.4444444444444444,
              "#bd3786"
             ],
             [
              0.5555555555555556,
              "#d8576b"
             ],
             [
              0.6666666666666666,
              "#ed7953"
             ],
             [
              0.7777777777777778,
              "#fb9f3a"
             ],
             [
              0.8888888888888888,
              "#fdca26"
             ],
             [
              1,
              "#f0f921"
             ]
            ],
            "type": "histogram2d"
           }
          ],
          "histogram2dcontour": [
           {
            "colorbar": {
             "outlinewidth": 0,
             "ticks": ""
            },
            "colorscale": [
             [
              0,
              "#0d0887"
             ],
             [
              0.1111111111111111,
              "#46039f"
             ],
             [
              0.2222222222222222,
              "#7201a8"
             ],
             [
              0.3333333333333333,
              "#9c179e"
             ],
             [
              0.4444444444444444,
              "#bd3786"
             ],
             [
              0.5555555555555556,
              "#d8576b"
             ],
             [
              0.6666666666666666,
              "#ed7953"
             ],
             [
              0.7777777777777778,
              "#fb9f3a"
             ],
             [
              0.8888888888888888,
              "#fdca26"
             ],
             [
              1,
              "#f0f921"
             ]
            ],
            "type": "histogram2dcontour"
           }
          ],
          "mesh3d": [
           {
            "colorbar": {
             "outlinewidth": 0,
             "ticks": ""
            },
            "type": "mesh3d"
           }
          ],
          "parcoords": [
           {
            "line": {
             "colorbar": {
              "outlinewidth": 0,
              "ticks": ""
             }
            },
            "type": "parcoords"
           }
          ],
          "pie": [
           {
            "automargin": true,
            "type": "pie"
           }
          ],
          "scatter": [
           {
            "marker": {
             "colorbar": {
              "outlinewidth": 0,
              "ticks": ""
             }
            },
            "type": "scatter"
           }
          ],
          "scatter3d": [
           {
            "line": {
             "colorbar": {
              "outlinewidth": 0,
              "ticks": ""
             }
            },
            "marker": {
             "colorbar": {
              "outlinewidth": 0,
              "ticks": ""
             }
            },
            "type": "scatter3d"
           }
          ],
          "scattercarpet": [
           {
            "marker": {
             "colorbar": {
              "outlinewidth": 0,
              "ticks": ""
             }
            },
            "type": "scattercarpet"
           }
          ],
          "scattergeo": [
           {
            "marker": {
             "colorbar": {
              "outlinewidth": 0,
              "ticks": ""
             }
            },
            "type": "scattergeo"
           }
          ],
          "scattergl": [
           {
            "marker": {
             "colorbar": {
              "outlinewidth": 0,
              "ticks": ""
             }
            },
            "type": "scattergl"
           }
          ],
          "scattermapbox": [
           {
            "marker": {
             "colorbar": {
              "outlinewidth": 0,
              "ticks": ""
             }
            },
            "type": "scattermapbox"
           }
          ],
          "scatterpolar": [
           {
            "marker": {
             "colorbar": {
              "outlinewidth": 0,
              "ticks": ""
             }
            },
            "type": "scatterpolar"
           }
          ],
          "scatterpolargl": [
           {
            "marker": {
             "colorbar": {
              "outlinewidth": 0,
              "ticks": ""
             }
            },
            "type": "scatterpolargl"
           }
          ],
          "scatterternary": [
           {
            "marker": {
             "colorbar": {
              "outlinewidth": 0,
              "ticks": ""
             }
            },
            "type": "scatterternary"
           }
          ],
          "surface": [
           {
            "colorbar": {
             "outlinewidth": 0,
             "ticks": ""
            },
            "colorscale": [
             [
              0,
              "#0d0887"
             ],
             [
              0.1111111111111111,
              "#46039f"
             ],
             [
              0.2222222222222222,
              "#7201a8"
             ],
             [
              0.3333333333333333,
              "#9c179e"
             ],
             [
              0.4444444444444444,
              "#bd3786"
             ],
             [
              0.5555555555555556,
              "#d8576b"
             ],
             [
              0.6666666666666666,
              "#ed7953"
             ],
             [
              0.7777777777777778,
              "#fb9f3a"
             ],
             [
              0.8888888888888888,
              "#fdca26"
             ],
             [
              1,
              "#f0f921"
             ]
            ],
            "type": "surface"
           }
          ],
          "table": [
           {
            "cells": {
             "fill": {
              "color": "#EBF0F8"
             },
             "line": {
              "color": "white"
             }
            },
            "header": {
             "fill": {
              "color": "#C8D4E3"
             },
             "line": {
              "color": "white"
             }
            },
            "type": "table"
           }
          ]
         },
         "layout": {
          "annotationdefaults": {
           "arrowcolor": "#2a3f5f",
           "arrowhead": 0,
           "arrowwidth": 1
          },
          "coloraxis": {
           "colorbar": {
            "outlinewidth": 0,
            "ticks": ""
           }
          },
          "colorscale": {
           "diverging": [
            [
             0,
             "#8e0152"
            ],
            [
             0.1,
             "#c51b7d"
            ],
            [
             0.2,
             "#de77ae"
            ],
            [
             0.3,
             "#f1b6da"
            ],
            [
             0.4,
             "#fde0ef"
            ],
            [
             0.5,
             "#f7f7f7"
            ],
            [
             0.6,
             "#e6f5d0"
            ],
            [
             0.7,
             "#b8e186"
            ],
            [
             0.8,
             "#7fbc41"
            ],
            [
             0.9,
             "#4d9221"
            ],
            [
             1,
             "#276419"
            ]
           ],
           "sequential": [
            [
             0,
             "#0d0887"
            ],
            [
             0.1111111111111111,
             "#46039f"
            ],
            [
             0.2222222222222222,
             "#7201a8"
            ],
            [
             0.3333333333333333,
             "#9c179e"
            ],
            [
             0.4444444444444444,
             "#bd3786"
            ],
            [
             0.5555555555555556,
             "#d8576b"
            ],
            [
             0.6666666666666666,
             "#ed7953"
            ],
            [
             0.7777777777777778,
             "#fb9f3a"
            ],
            [
             0.8888888888888888,
             "#fdca26"
            ],
            [
             1,
             "#f0f921"
            ]
           ],
           "sequentialminus": [
            [
             0,
             "#0d0887"
            ],
            [
             0.1111111111111111,
             "#46039f"
            ],
            [
             0.2222222222222222,
             "#7201a8"
            ],
            [
             0.3333333333333333,
             "#9c179e"
            ],
            [
             0.4444444444444444,
             "#bd3786"
            ],
            [
             0.5555555555555556,
             "#d8576b"
            ],
            [
             0.6666666666666666,
             "#ed7953"
            ],
            [
             0.7777777777777778,
             "#fb9f3a"
            ],
            [
             0.8888888888888888,
             "#fdca26"
            ],
            [
             1,
             "#f0f921"
            ]
           ]
          },
          "colorway": [
           "#636efa",
           "#EF553B",
           "#00cc96",
           "#ab63fa",
           "#FFA15A",
           "#19d3f3",
           "#FF6692",
           "#B6E880",
           "#FF97FF",
           "#FECB52"
          ],
          "font": {
           "color": "#2a3f5f"
          },
          "geo": {
           "bgcolor": "white",
           "lakecolor": "white",
           "landcolor": "#E5ECF6",
           "showlakes": true,
           "showland": true,
           "subunitcolor": "white"
          },
          "hoverlabel": {
           "align": "left"
          },
          "hovermode": "closest",
          "mapbox": {
           "style": "light"
          },
          "paper_bgcolor": "white",
          "plot_bgcolor": "#E5ECF6",
          "polar": {
           "angularaxis": {
            "gridcolor": "white",
            "linecolor": "white",
            "ticks": ""
           },
           "bgcolor": "#E5ECF6",
           "radialaxis": {
            "gridcolor": "white",
            "linecolor": "white",
            "ticks": ""
           }
          },
          "scene": {
           "xaxis": {
            "backgroundcolor": "#E5ECF6",
            "gridcolor": "white",
            "gridwidth": 2,
            "linecolor": "white",
            "showbackground": true,
            "ticks": "",
            "zerolinecolor": "white"
           },
           "yaxis": {
            "backgroundcolor": "#E5ECF6",
            "gridcolor": "white",
            "gridwidth": 2,
            "linecolor": "white",
            "showbackground": true,
            "ticks": "",
            "zerolinecolor": "white"
           },
           "zaxis": {
            "backgroundcolor": "#E5ECF6",
            "gridcolor": "white",
            "gridwidth": 2,
            "linecolor": "white",
            "showbackground": true,
            "ticks": "",
            "zerolinecolor": "white"
           }
          },
          "shapedefaults": {
           "line": {
            "color": "#2a3f5f"
           }
          },
          "ternary": {
           "aaxis": {
            "gridcolor": "white",
            "linecolor": "white",
            "ticks": ""
           },
           "baxis": {
            "gridcolor": "white",
            "linecolor": "white",
            "ticks": ""
           },
           "bgcolor": "#E5ECF6",
           "caxis": {
            "gridcolor": "white",
            "linecolor": "white",
            "ticks": ""
           }
          },
          "title": {
           "x": 0.05
          },
          "xaxis": {
           "automargin": true,
           "gridcolor": "white",
           "linecolor": "white",
           "ticks": "",
           "title": {
            "standoff": 15
           },
           "zerolinecolor": "white",
           "zerolinewidth": 2
          },
          "yaxis": {
           "automargin": true,
           "gridcolor": "white",
           "linecolor": "white",
           "ticks": "",
           "title": {
            "standoff": 15
           },
           "zerolinecolor": "white",
           "zerolinewidth": 2
          }
         }
        },
        "title": {
         "text": "Casos de PCR acumulados"
        },
        "width": 800,
        "yaxis": {
         "categoryorder": "total ascending"
        }
       }
      }
     },
     "metadata": {}
    }
   ],
   "source": [
    "fig = go.Figure(layout=go.Layout(title=go.layout.Title(text='Casos de PCR acumulados')))\n",
    "fig.add_trace(go.Bar(y=ccaa['ccaa'], x=ccaa['cases_accumulated'], orientation='h'), )\n",
    "fig.update_layout(barmode='stack', yaxis={'categoryorder':'total ascending'}, height=600, width=800)\n",
    "fig.show()"
   ]
  },
  {
   "cell_type": "code",
   "execution_count": 161,
   "metadata": {},
   "outputs": [],
   "source": [
    "def create_interactive_plot(df, ccaa_series, dates, traces, title_text):\n",
    "    widget = widgets.Dropdown(\n",
    "    options=ccaa_series.unique().tolist(),\n",
    "    description='CCAA'\n",
    "    )\n",
    "    g = go.FigureWidget(layout=go.Layout(\n",
    "                        title=dict(\n",
    "                            text=title_text\n",
    "                        ), legend=dict(orientation='h', bgcolor='LightSteelBlue'),\n",
    "                        barmode='overlay'\n",
    "                    ))\n",
    "    for trace, trace_name in traces:\n",
    "        g.add_trace(go.Bar(x=dates, y=df[trace], name=trace_name))\n",
    "\n",
    "    def validate():\n",
    "        if widget.value in ccaa_series.unique():\n",
    "            return True\n",
    "        else:\n",
    "            return False\n",
    "\n",
    "    def response(change):\n",
    "        if validate():\n",
    "            filter_list = [i for i in ccaa_series == widget.value]\n",
    "            temp_df = df[filter_list]\n",
    "            x = temp_df['fecha']\n",
    "            i=0\n",
    "        with g.batch_update():\n",
    "            for trace, trace_name in traces:\n",
    "                g.data[i].x = x\n",
    "                g.data[i].y = temp_df[trace]\n",
    "                i+=1\n",
    "            g.layout.barmode = 'overlay'\n",
    "            g.layout.xaxis.title = ''\n",
    "            g.layout.yaxis.title = ''\n",
    "    widget.observe(response, names='value')\n",
    "    return widgets.VBox([widget, g])"
   ]
  },
  {
   "cell_type": "code",
   "execution_count": 162,
   "metadata": {},
   "outputs": [
    {
     "output_type": "display_data",
     "data": {
      "text/plain": "VBox(children=(Dropdown(description='CCAA', options=('Andalucía', 'Aragón', 'Asturias, Principado de', 'Canari…",
      "application/vnd.jupyter.widget-view+json": {
       "version_major": 2,
       "version_minor": 0,
       "model_id": "e7cd7ceb41d14a46928aab5750b2965a"
      }
     },
     "metadata": {}
    }
   ],
   "source": [
    "create_interactive_plot(ccaa, ccaa['ccaa'], ccaa['fecha'], [['num_casos', '# casos'], ['num_casos_prueba_pcr', '# casos PCR']], 'Casos PCR por CCAA')"
   ]
  },
  {
   "cell_type": "code",
   "execution_count": 163,
   "metadata": {},
   "outputs": [
    {
     "output_type": "error",
     "ename": "KeyError",
     "evalue": "'activos'",
     "traceback": [
      "\u001b[0;31m---------------------------------------------------------------------------\u001b[0m",
      "\u001b[0;31mKeyError\u001b[0m                                  Traceback (most recent call last)",
      "\u001b[0;32m~/miniconda3/envs/myenv/lib/python3.7/site-packages/pandas/core/indexes/base.py\u001b[0m in \u001b[0;36mget_loc\u001b[0;34m(self, key, method, tolerance)\u001b[0m\n\u001b[1;32m   2894\u001b[0m             \u001b[0;32mtry\u001b[0m\u001b[0;34m:\u001b[0m\u001b[0;34m\u001b[0m\u001b[0;34m\u001b[0m\u001b[0m\n\u001b[0;32m-> 2895\u001b[0;31m                 \u001b[0;32mreturn\u001b[0m \u001b[0mself\u001b[0m\u001b[0;34m.\u001b[0m\u001b[0m_engine\u001b[0m\u001b[0;34m.\u001b[0m\u001b[0mget_loc\u001b[0m\u001b[0;34m(\u001b[0m\u001b[0mcasted_key\u001b[0m\u001b[0;34m)\u001b[0m\u001b[0;34m\u001b[0m\u001b[0;34m\u001b[0m\u001b[0m\n\u001b[0m\u001b[1;32m   2896\u001b[0m             \u001b[0;32mexcept\u001b[0m \u001b[0mKeyError\u001b[0m \u001b[0;32mas\u001b[0m \u001b[0merr\u001b[0m\u001b[0;34m:\u001b[0m\u001b[0;34m\u001b[0m\u001b[0;34m\u001b[0m\u001b[0m\n",
      "\u001b[0;32mpandas/_libs/index.pyx\u001b[0m in \u001b[0;36mpandas._libs.index.IndexEngine.get_loc\u001b[0;34m()\u001b[0m\n",
      "\u001b[0;32mpandas/_libs/index.pyx\u001b[0m in \u001b[0;36mpandas._libs.index.IndexEngine.get_loc\u001b[0;34m()\u001b[0m\n",
      "\u001b[0;32mpandas/_libs/hashtable_class_helper.pxi\u001b[0m in \u001b[0;36mpandas._libs.hashtable.PyObjectHashTable.get_item\u001b[0;34m()\u001b[0m\n",
      "\u001b[0;32mpandas/_libs/hashtable_class_helper.pxi\u001b[0m in \u001b[0;36mpandas._libs.hashtable.PyObjectHashTable.get_item\u001b[0;34m()\u001b[0m\n",
      "\u001b[0;31mKeyError\u001b[0m: 'activos'",
      "\nThe above exception was the direct cause of the following exception:\n",
      "\u001b[0;31mKeyError\u001b[0m                                  Traceback (most recent call last)",
      "\u001b[0;32m<ipython-input-163-879577b59b2b>\u001b[0m in \u001b[0;36m<module>\u001b[0;34m\u001b[0m\n\u001b[0;32m----> 1\u001b[0;31m \u001b[0mcreate_interactive_plot\u001b[0m\u001b[0;34m(\u001b[0m\u001b[0mccaa\u001b[0m\u001b[0;34m,\u001b[0m \u001b[0mccaa\u001b[0m\u001b[0;34m[\u001b[0m\u001b[0;34m'ccaa'\u001b[0m\u001b[0;34m]\u001b[0m\u001b[0;34m,\u001b[0m \u001b[0mccaa\u001b[0m\u001b[0;34m[\u001b[0m\u001b[0;34m'fecha'\u001b[0m\u001b[0;34m]\u001b[0m\u001b[0;34m,\u001b[0m \u001b[0;34m[\u001b[0m\u001b[0;34m[\u001b[0m\u001b[0;34m'activos'\u001b[0m\u001b[0;34m,\u001b[0m \u001b[0;34m'Activos'\u001b[0m\u001b[0;34m]\u001b[0m\u001b[0;34m,\u001b[0m \u001b[0;34m[\u001b[0m\u001b[0;34m'hospitalized'\u001b[0m\u001b[0;34m,\u001b[0m \u001b[0;34m'Hospitalizados'\u001b[0m\u001b[0;34m]\u001b[0m\u001b[0;34m,\u001b[0m \u001b[0;34m[\u001b[0m\u001b[0;34m'daily_deaths'\u001b[0m\u001b[0;34m,\u001b[0m \u001b[0;34m'Fallecidos'\u001b[0m\u001b[0;34m]\u001b[0m\u001b[0;34m]\u001b[0m\u001b[0;34m,\u001b[0m \u001b[0;34m'Casos activos, hospitalizados y fallecidos por CCAA'\u001b[0m \u001b[0;34m)\u001b[0m\u001b[0;34m\u001b[0m\u001b[0;34m\u001b[0m\u001b[0m\n\u001b[0m",
      "\u001b[0;32m<ipython-input-161-ec32fa604dd7>\u001b[0m in \u001b[0;36mcreate_interactive_plot\u001b[0;34m(df, ccaa_series, dates, traces, title_text)\u001b[0m\n\u001b[1;32m     11\u001b[0m                     ))\n\u001b[1;32m     12\u001b[0m     \u001b[0;32mfor\u001b[0m \u001b[0mtrace\u001b[0m\u001b[0;34m,\u001b[0m \u001b[0mtrace_name\u001b[0m \u001b[0;32min\u001b[0m \u001b[0mtraces\u001b[0m\u001b[0;34m:\u001b[0m\u001b[0;34m\u001b[0m\u001b[0;34m\u001b[0m\u001b[0m\n\u001b[0;32m---> 13\u001b[0;31m         \u001b[0mg\u001b[0m\u001b[0;34m.\u001b[0m\u001b[0madd_trace\u001b[0m\u001b[0;34m(\u001b[0m\u001b[0mgo\u001b[0m\u001b[0;34m.\u001b[0m\u001b[0mBar\u001b[0m\u001b[0;34m(\u001b[0m\u001b[0mx\u001b[0m\u001b[0;34m=\u001b[0m\u001b[0mdates\u001b[0m\u001b[0;34m,\u001b[0m \u001b[0my\u001b[0m\u001b[0;34m=\u001b[0m\u001b[0mdf\u001b[0m\u001b[0;34m[\u001b[0m\u001b[0mtrace\u001b[0m\u001b[0;34m]\u001b[0m\u001b[0;34m,\u001b[0m \u001b[0mname\u001b[0m\u001b[0;34m=\u001b[0m\u001b[0mtrace_name\u001b[0m\u001b[0;34m)\u001b[0m\u001b[0;34m)\u001b[0m\u001b[0;34m\u001b[0m\u001b[0;34m\u001b[0m\u001b[0m\n\u001b[0m\u001b[1;32m     14\u001b[0m \u001b[0;34m\u001b[0m\u001b[0m\n\u001b[1;32m     15\u001b[0m     \u001b[0;32mdef\u001b[0m \u001b[0mvalidate\u001b[0m\u001b[0;34m(\u001b[0m\u001b[0;34m)\u001b[0m\u001b[0;34m:\u001b[0m\u001b[0;34m\u001b[0m\u001b[0;34m\u001b[0m\u001b[0m\n",
      "\u001b[0;32m~/miniconda3/envs/myenv/lib/python3.7/site-packages/pandas/core/frame.py\u001b[0m in \u001b[0;36m__getitem__\u001b[0;34m(self, key)\u001b[0m\n\u001b[1;32m   2904\u001b[0m             \u001b[0;32mif\u001b[0m \u001b[0mself\u001b[0m\u001b[0;34m.\u001b[0m\u001b[0mcolumns\u001b[0m\u001b[0;34m.\u001b[0m\u001b[0mnlevels\u001b[0m \u001b[0;34m>\u001b[0m \u001b[0;36m1\u001b[0m\u001b[0;34m:\u001b[0m\u001b[0;34m\u001b[0m\u001b[0;34m\u001b[0m\u001b[0m\n\u001b[1;32m   2905\u001b[0m                 \u001b[0;32mreturn\u001b[0m \u001b[0mself\u001b[0m\u001b[0;34m.\u001b[0m\u001b[0m_getitem_multilevel\u001b[0m\u001b[0;34m(\u001b[0m\u001b[0mkey\u001b[0m\u001b[0;34m)\u001b[0m\u001b[0;34m\u001b[0m\u001b[0;34m\u001b[0m\u001b[0m\n\u001b[0;32m-> 2906\u001b[0;31m             \u001b[0mindexer\u001b[0m \u001b[0;34m=\u001b[0m \u001b[0mself\u001b[0m\u001b[0;34m.\u001b[0m\u001b[0mcolumns\u001b[0m\u001b[0;34m.\u001b[0m\u001b[0mget_loc\u001b[0m\u001b[0;34m(\u001b[0m\u001b[0mkey\u001b[0m\u001b[0;34m)\u001b[0m\u001b[0;34m\u001b[0m\u001b[0;34m\u001b[0m\u001b[0m\n\u001b[0m\u001b[1;32m   2907\u001b[0m             \u001b[0;32mif\u001b[0m \u001b[0mis_integer\u001b[0m\u001b[0;34m(\u001b[0m\u001b[0mindexer\u001b[0m\u001b[0;34m)\u001b[0m\u001b[0;34m:\u001b[0m\u001b[0;34m\u001b[0m\u001b[0;34m\u001b[0m\u001b[0m\n\u001b[1;32m   2908\u001b[0m                 \u001b[0mindexer\u001b[0m \u001b[0;34m=\u001b[0m \u001b[0;34m[\u001b[0m\u001b[0mindexer\u001b[0m\u001b[0;34m]\u001b[0m\u001b[0;34m\u001b[0m\u001b[0;34m\u001b[0m\u001b[0m\n",
      "\u001b[0;32m~/miniconda3/envs/myenv/lib/python3.7/site-packages/pandas/core/indexes/base.py\u001b[0m in \u001b[0;36mget_loc\u001b[0;34m(self, key, method, tolerance)\u001b[0m\n\u001b[1;32m   2895\u001b[0m                 \u001b[0;32mreturn\u001b[0m \u001b[0mself\u001b[0m\u001b[0;34m.\u001b[0m\u001b[0m_engine\u001b[0m\u001b[0;34m.\u001b[0m\u001b[0mget_loc\u001b[0m\u001b[0;34m(\u001b[0m\u001b[0mcasted_key\u001b[0m\u001b[0;34m)\u001b[0m\u001b[0;34m\u001b[0m\u001b[0;34m\u001b[0m\u001b[0m\n\u001b[1;32m   2896\u001b[0m             \u001b[0;32mexcept\u001b[0m \u001b[0mKeyError\u001b[0m \u001b[0;32mas\u001b[0m \u001b[0merr\u001b[0m\u001b[0;34m:\u001b[0m\u001b[0;34m\u001b[0m\u001b[0;34m\u001b[0m\u001b[0m\n\u001b[0;32m-> 2897\u001b[0;31m                 \u001b[0;32mraise\u001b[0m \u001b[0mKeyError\u001b[0m\u001b[0;34m(\u001b[0m\u001b[0mkey\u001b[0m\u001b[0;34m)\u001b[0m \u001b[0;32mfrom\u001b[0m \u001b[0merr\u001b[0m\u001b[0;34m\u001b[0m\u001b[0;34m\u001b[0m\u001b[0m\n\u001b[0m\u001b[1;32m   2898\u001b[0m \u001b[0;34m\u001b[0m\u001b[0m\n\u001b[1;32m   2899\u001b[0m         \u001b[0;32mif\u001b[0m \u001b[0mtolerance\u001b[0m \u001b[0;32mis\u001b[0m \u001b[0;32mnot\u001b[0m \u001b[0;32mNone\u001b[0m\u001b[0;34m:\u001b[0m\u001b[0;34m\u001b[0m\u001b[0;34m\u001b[0m\u001b[0m\n",
      "\u001b[0;31mKeyError\u001b[0m: 'activos'"
     ]
    }
   ],
   "source": [
    "create_interactive_plot(ccaa, ccaa['ccaa'], ccaa['fecha'], [['activos', 'Activos'], ['hospitalized', 'Hospitalizados'], ['daily_deaths', 'Fallecidos']], 'Casos activos, hospitalizados y fallecidos por CCAA' )"
   ]
  },
  {
   "source": [
    "## Provincias"
   ],
   "cell_type": "markdown",
   "metadata": {}
  },
  {
   "cell_type": "code",
   "execution_count": null,
   "metadata": {},
   "outputs": [],
   "source": [
    "create_interactive_plot(provincias, provincias['province'], provincias['date'], [['num_casos', '# casos'], ['num_casos_prueba_pcr', '# casos PCR']], 'Casos PCR por provincia')"
   ]
  },
  {
   "cell_type": "code",
   "execution_count": null,
   "metadata": {},
   "outputs": [],
   "source": []
  }
 ]
}