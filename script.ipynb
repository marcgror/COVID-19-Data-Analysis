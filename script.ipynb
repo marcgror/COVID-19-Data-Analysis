{
 "metadata": {
  "language_info": {
   "codemirror_mode": {
    "name": "ipython",
    "version": 3
   },
   "file_extension": ".py",
   "mimetype": "text/x-python",
   "name": "python",
   "nbconvert_exporter": "python",
   "pygments_lexer": "ipython3",
   "version": "3.7.9-final"
  },
  "orig_nbformat": 2,
  "kernelspec": {
   "name": "Python 3.7.9 64-bit",
   "display_name": "Python 3.7.9 64-bit",
   "metadata": {
    "interpreter": {
     "hash": "4e1261cb8974fdfe155a95fc762812d151b498ee4986e3d0d8946f10e7fa2dfe"
    }
   }
  }
 },
 "nbformat": 4,
 "nbformat_minor": 2,
 "cells": [
  {
   "cell_type": "code",
   "execution_count": 2,
   "metadata": {},
   "outputs": [],
   "source": [
    "# Import required packages\n",
    "import pandas as pd \n",
    "import numpy as np\n",
    "import pycountry\n",
    "import xlrd"
   ]
  },
  {
   "cell_type": "code",
   "execution_count": 5,
   "metadata": {},
   "outputs": [],
   "source": [
    "# Load data\n",
    "ccaa = pd.read_csv('https://cnecovid.isciii.es/covid19/resources/datos_ccaas.csv', index_col='fecha', parse_dates=True)\n",
    "ccaa_poblation = pd.read_csv('población_ccaa.csv', delimiter=';')\n",
    "ccaa_deaths = pd.read_excel('https://www.mscbs.gob.es/profesionales/saludPublica/ccayes/alertasActual/nCov-China/documentos/Fallecidos_COVID19.xlsx', parse_dates=True, index_col='Fecha / CCAA', skipfooter=1)\n",
    "# Transform iso code to ccaa name\n",
    "def iso_to_ccaa(df):\n",
    "    return pycountry.subdivisions.get(code='ES-' + df['ccaa_iso']).name\n",
    "ccaa['ccaa']=ccaa.apply(iso_to_ccaa, axis=1)\n",
    "# Drop iso code column\n",
    "ccaa = ccaa.drop('ccaa_iso', axis=1)\n",
    "# Match CCAA names\n",
    "ccaa_deaths.columns = ['Andalucía', 'Aragón', 'Asturias, Principado de', 'Illes Balears', 'Canarias', 'Cantabria', 'Castilla-La Mancha', 'Castilla y León',  \n",
    "       'Catalunya', 'Ceuta', 'Valenciana, Comunidad / Valenciana, Comunitat', 'Extremadura', 'Galicia', 'Madrid, Comunidad de', 'Melilla', 'Murcia, Región de',\n",
    "       'Navarra, Comunidad Foral de / Nafarroako Foru Komunitatea', 'País Vasco / Euskal Herria', 'La Rioja', 'España']"
   ]
  },
  {
   "cell_type": "code",
   "execution_count": 6,
   "metadata": {},
   "outputs": [],
   "source": [
    "# Melt dataframe\n",
    "ccaa_deaths.index.rename('fecha', inplace=True)\n",
    "ccaa_deaths = ccaa_deaths.melt(var_name='ccaa', value_name='deceased', ignore_index=False)"
   ]
  },
  {
   "cell_type": "code",
   "execution_count": 7,
   "metadata": {},
   "outputs": [],
   "source": [
    "# Compute national stats\n",
    "total = ccaa.groupby(ccaa.index).sum()\n",
    "total['ccaa'] = 'España'\n",
    "# Append national stats to ccaa\n",
    "ccaa = ccaa.append(total, ignore_index = False).sort_values(by=['fecha', 'ccaa'])\n",
    "# Append poblations\n",
    "ccaa = ccaa.join(ccaa_poblation.set_index('ccaa'), on='ccaa')"
   ]
  },
  {
   "cell_type": "code",
   "execution_count": 8,
   "metadata": {},
   "outputs": [],
   "source": [
    "# Set MultiIndex\n",
    "ccaa_deaths.set_index([ccaa_deaths.index, 'ccaa'], inplace=True)\n",
    "ccaa.set_index([ccaa.index, 'ccaa'], inplace=True)"
   ]
  },
  {
   "cell_type": "code",
   "execution_count": 9,
   "metadata": {},
   "outputs": [],
   "source": [
    "# Append deceased\n",
    "ccaa = ccaa.join(ccaa_deaths)"
   ]
  },
  {
   "cell_type": "code",
   "execution_count": 21,
   "metadata": {},
   "outputs": [],
   "source": [
    "# Compute cumulative stats\n",
    "ccaa['cases_accumulated'] = ccaa.groupby('ccaa')['num_casos'].cumsum()\n",
    "ccaa['cases_accumulated_PCR'] = ccaa.groupby('ccaa')['num_casos_prueba_pcr'].cumsum()\n",
    "ccaa['cases_inc'] = ccaa.groupby('ccaa')['num_casos'].diff() / ccaa.groupby('ccaa')['num_casos'].shift() * 100\n",
    "ccaa['deceased_accumulated'] = ccaa.groupby('ccaa')['deceased'].cumsum()\n",
    "ccaa['deceased_per_100000'] = ccaa['deceased_accumulated'] * 100000 / ccaa['Población']\n",
    "ccaa['deceased_inc'] = ccaa.groupby('ccaa')['deceased'].diff() / ccaa.groupby('ccaa')['deceased'].shift() * 100"
   ]
  },
  {
   "cell_type": "code",
   "execution_count": 16,
   "metadata": {},
   "outputs": [],
   "source": [
    "# Compute rolling stats\n",
    "ccaa['cases_7_days'] = ccaa.groupby('ccaa')['num_casos'].transform(lambda x: x.rolling(7, min_periods=1).sum())\n",
    "ccaa['cases_14_days'] = ccaa.groupby('ccaa')['num_casos'].transform(lambda x: x.rolling(14, min_periods=1).sum())\n",
    "ccaa['deaths_7_days'] = ccaa.groupby('ccaa')['deceased'].transform(lambda x: x.rolling(7, min_periods=1).sum())\n",
    "ccaa['deaths_14_days'] = ccaa.groupby('ccaa')['deceased'].transform(lambda x: x.rolling(14, min_periods=1).sum())\n",
    "ccaa['deaths_7_days_1M'] = ccaa['deaths_7_days'] * 1000000 / ccaa['Población']\n",
    "ccaa['avg_cases_7_days'] = ccaa.groupby('ccaa')['num_casos'].transform(lambda x: x.rolling(7, min_periods=1).mean())\n",
    "ccaa['avg_cases_14_days'] = ccaa.groupby('ccaa')['num_casos'].transform(lambda x: x.rolling(14, min_periods=1).mean())\n",
    "ccaa['avg_deaths_3_days'] = ccaa.groupby('ccaa')['deceased'].transform(lambda x: x.rolling(3, min_periods=1).mean())\n",
    "ccaa['avg_deaths_7_days'] = ccaa.groupby('ccaa')['deceased'].transform(lambda x: x.rolling(7, min_periods=1).mean())"
   ]
  },
  {
   "cell_type": "code",
   "execution_count": 14,
   "metadata": {},
   "outputs": [],
   "source": [
    "# Compute IA\n",
    "ccaa['ia_100000_week'] = ccaa['cases_7_days'] * 100000 / ccaa['Población']\n",
    "ccaa['ia_100000_2week'] = ccaa['cases_14_days'] * 100000 / ccaa['Población']\n",
    "ccaa['ia_accumulated'] = ccaa['cases_accumulated'] * 100000 / ccaa['Población']"
   ]
  },
  {
   "cell_type": "code",
   "execution_count": 10,
   "metadata": {},
   "outputs": [],
   "source": [
    "# Save national data in separated csv\n",
    "total = ccaa.reset_index().set_index('fecha')\n",
    "total = total.loc[total['ccaa'] == 'España']\n",
    "total = total.drop(['ccaa', 'Población'], axis=1)\n",
    "total.to_csv('spain.csv')"
   ]
  },
  {
   "cell_type": "code",
   "execution_count": 11,
   "metadata": {},
   "outputs": [],
   "source": [
    "# Save ccaa data \n",
    "ccaa.to_csv('ccaa.csv')"
   ]
  }
 ]
}